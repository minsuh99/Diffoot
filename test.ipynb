{
 "cells": [
  {
   "cell_type": "code",
   "execution_count": 1,
   "metadata": {},
   "outputs": [],
   "source": [
    "import multiprocessing as mp\n",
    "mp.set_start_method('spawn', force=True)"
   ]
  },
  {
   "cell_type": "code",
   "execution_count": 2,
   "metadata": {},
   "outputs": [
    {
     "name": "stdout",
     "output_type": "stream",
     "text": [
      "---Data Loading---\n",
      "Skip organize_and_process\n"
     ]
    },
    {
     "name": "stderr",
     "output_type": "stream",
     "text": [
      "Loading Matches: 100%|██████████| 6/6 [00:38<00:00,  6.49s/it]\n"
     ]
    },
    {
     "name": "stdout",
     "output_type": "stream",
     "text": [
      "---Data Load!---\n"
     ]
    },
    {
     "name": "stderr",
     "output_type": "stream",
     "text": [
      "/home/park/anaconda3/envs/SoccerTraj/lib/python3.10/site-packages/torch/nn/modules/transformer.py:307: UserWarning: enable_nested_tensor is True, but self.use_nested_tensor is False because encoder_layer.self_attn.batch_first was not True(use batch_first for better inference performance)\n",
      "  warnings.warn(f\"enable_nested_tensor is True, but self.use_nested_tensor is False because {why_not_sparsity_fast_path}\")\n"
     ]
    },
    {
     "data": {
      "application/vnd.jupyter.widget-view+json": {
       "model_id": "b39f76f23d944acfbc212c25bffd533e",
       "version_major": 2,
       "version_minor": 0
      },
      "text/plain": [
       "Training...:   0%|          | 0/1 [00:00<?, ?it/s]"
      ]
     },
     "metadata": {},
     "output_type": "display_data"
    },
    {
     "data": {
      "application/vnd.jupyter.widget-view+json": {
       "model_id": "a765765c37d249779134e398e95888d5",
       "version_major": 2,
       "version_minor": 0
      },
      "text/plain": [
       "Batch Training...:   0%|          | 0/132 [00:53<?, ?it/s]"
      ]
     },
     "metadata": {},
     "output_type": "display_data"
    },
    {
     "data": {
      "application/vnd.jupyter.widget-view+json": {
       "model_id": "56673ef512884d1fb97ac8f72e8d83c8",
       "version_major": 2,
       "version_minor": 0
      },
      "text/plain": [
       "Validation:   0%|          | 0/39 [01:04<?, ?it/s]"
      ]
     },
     "metadata": {},
     "output_type": "display_data"
    },
    {
     "name": "stdout",
     "output_type": "stream",
     "text": [
      "[Epoch 1]\n",
      "Cost: 4.565098 |[Train] Noise Loss: 0.245261 | MSE Loss: 0.576125 | Frechet Loss: 3.743712 | LR: 0.000200\n",
      "[Validation] Val Loss: 1.484988 | Noise: 0.097140 | MSE: 0.058340 | Frechet: 1.329509\n"
     ]
    },
    {
     "data": {
      "image/png": "[encoded data removed]",
      "text/plain": [
       "<Figure size 800x600 with 1 Axes>"
      ]
     },
     "metadata": {},
     "output_type": "display_data"
    }
   ],
   "source": [
    "import os\n",
    "os.environ[\"CUBLAS_WORKSPACE_CONFIG\"] = \":4096:8\"\n",
    "# os.environ[\"CUDA_LAUNCH_BLOCKING\"] = \"1\"\n",
    "import torch\n",
    "import numpy as np\n",
    "import matplotlib.pyplot as plt\n",
    "from tqdm.auto import tqdm\n",
    "\n",
    "from torch.utils.data import DataLoader, Subset\n",
    "from torch.optim.lr_scheduler import ReduceLROnPlateau\n",
    "from models.diff_modules import diff_CSDI\n",
    "from models.diff_model import DiffusionTrajectoryModel\n",
    "from models.encoder import InteractionGraphEncoder, TargetTrajectoryEncoder\n",
    "from make_dataset import MultiMatchSoccerDataset, organize_and_process\n",
    "from utils.utils import set_evertyhing, worker_init_fn, generator, plot_trajectories_on_pitch\n",
    "from utils.data_utils import split_dataset_indices, custom_collate_fn\n",
    "from utils.graph_utils import build_graph_sequence_from_condition\n",
    "\n",
    "# 1. Hyperparameter Setting\n",
    "# raw_data_path = \"Download raw file path\"\n",
    "raw_data_path = \"idsse-data\"\n",
    "data_save_path = \"match_data\"\n",
    "batch_size = 32\n",
    "num_workers = 8\n",
    "epochs = 1\n",
    "learning_rate = 2e-4\n",
    "num_samples = 1\n",
    "SEED = 42\n",
    "os.environ[\"CUBLAS_WORKSPACE_CONFIG\"] = \":4096:8\"\n",
    "os.environ[\"CUDA_LAUNCH_BLOCKING\"]   = \"1\"\n",
    "\n",
    "set_evertyhing(SEED)\n",
    "device = torch.device(\"cuda\" if torch.cuda.is_available() else \"cpu\")\n",
    "\n",
    "csdi_config = {\n",
    "    \"num_steps\": 500,\n",
    "    \"channels\": 256,\n",
    "    \"diffusion_embedding_dim\": 128,\n",
    "    \"nheads\": 4,\n",
    "    \"layers\": 10,\n",
    "    # \"side_dim\": 128\n",
    "    \"side_dim\": 256\n",
    "}\n",
    "\n",
    "# 2. Data Loading\n",
    "print(\"---Data Loading---\")\n",
    "if not os.path.exists(data_save_path) or len(os.listdir(data_save_path)) == 0:\n",
    "    organize_and_process(raw_data_path, data_save_path)\n",
    "else:\n",
    "    print(\"Skip organize_and_process\")\n",
    "\n",
    "dataset = MultiMatchSoccerDataset(data_root=data_save_path)\n",
    "train_idx, val_idx, test_idx = split_dataset_indices(dataset, val_ratio=1/6, test_ratio=1/6, random_seed=SEED)\n",
    "\n",
    "train_dataloader = DataLoader(\n",
    "    Subset(dataset, train_idx),\n",
    "    batch_size=batch_size,\n",
    "    shuffle=True,\n",
    "    num_workers=num_workers,\n",
    "    pin_memory=True,\n",
    "    persistent_workers=False,\n",
    "    collate_fn=custom_collate_fn,\n",
    "    worker_init_fn=worker_init_fn,\n",
    "    generator=generator(SEED)\n",
    ")\n",
    "\n",
    "val_dataloader = DataLoader(\n",
    "    Subset(dataset, val_idx),\n",
    "    batch_size=batch_size,\n",
    "    shuffle=False,\n",
    "    num_workers=num_workers,\n",
    "    pin_memory=True,\n",
    "    persistent_workers=False,\n",
    "    collate_fn=custom_collate_fn,\n",
    "    worker_init_fn=worker_init_fn,\n",
    ")\n",
    "\n",
    "test_dataloader = DataLoader(\n",
    "    Subset(dataset, test_idx),\n",
    "    batch_size=16,\n",
    "    shuffle=False,\n",
    "    num_workers=num_workers,\n",
    "    pin_memory=True,\n",
    "    persistent_workers=False,\n",
    "    collate_fn=custom_collate_fn,\n",
    "    worker_init_fn=worker_init_fn\n",
    ")\n",
    "\n",
    "print(\"---Data Load!---\")\n",
    "\n",
    "# 3. Model Define\n",
    "# Extract node feature dimension\n",
    "sample = dataset[0]\n",
    "graph = build_graph_sequence_from_condition({\n",
    "    \"condition\": sample[\"condition\"],\n",
    "    \"condition_columns\": sample[\"condition_columns\"],\n",
    "    \"pitch_scale\": sample[\"pitch_scale\"]\n",
    "}).to(device)\n",
    "in_dim = graph['Node'].x.size(1)\n",
    "\n",
    "# Extract target's history trajectories from condition\n",
    "condition_columns = sample[\"condition_columns\"]\n",
    "target_columns = sample[\"target_columns\"]\n",
    "target_idx = [condition_columns.index(col) for col in target_columns if col in condition_columns]\n",
    "\n",
    "graph_encoder = InteractionGraphEncoder(in_dim=in_dim, hidden_dim=128, out_dim=128, heads = 2).to(device)\n",
    "history_encoder = TargetTrajectoryEncoder(num_layers=5).to(device)\n",
    "denoiser = diff_CSDI(csdi_config)\n",
    "model = DiffusionTrajectoryModel(denoiser, num_steps=csdi_config[\"num_steps\"]).to(device)\n",
    "optimizer = torch.optim.Adam(model.parameters(), lr=learning_rate)\n",
    "scheduler = ReduceLROnPlateau(optimizer, mode='min', factor=0.5, patience=2, threshold=1e-4)\n",
    "# 4. Train\n",
    "best_state_dict = None\n",
    "best_val_loss = float(\"inf\")\n",
    "\n",
    "train_losses = []\n",
    "val_losses   = []\n",
    "\n",
    "for epoch in tqdm(range(1, epochs + 1), desc=\"Training...\"):\n",
    "    model.train()\n",
    "    train_noise_loss = 0\n",
    "    train_mse_loss = 0\n",
    "    train_frechet_loss = 0\n",
    "    train_loss = 0\n",
    "\n",
    "    for batch in tqdm(train_dataloader, desc = \"Batch Training...\"):\n",
    "        cond = batch[\"condition\"].to(device)\n",
    "        B, T, _ = cond.shape\n",
    "        target = batch[\"target\"].to(device).view(-1, T, 11, 2)  # [B, T, 11, 2]\n",
    "        graph_batch = batch[\"graph\"].to(device)                              # HeteroData batch\n",
    "\n",
    "        # graph → H\n",
    "        H = graph_encoder(graph_batch)                                       # [B, 128]\n",
    "        cond_H = H.unsqueeze(-1).unsqueeze(-1).expand(-1, H.size(1), 11, T)\n",
    "        \n",
    "        # Target's history trajectories\n",
    "        hist = cond[:, :, target_idx].to(device) \n",
    "        hist_rep = history_encoder(hist)  # [B, 128]\n",
    "        cond_hist = hist_rep.unsqueeze(-1).unsqueeze(-1).expand(-1, 128, 11, T)\n",
    "        \n",
    "        # Concat conditions\n",
    "        cond_info = torch.cat([cond_H, cond_hist], dim=1)\n",
    "        # Preparing Self-conditioning data\n",
    "        if torch.rand(1, device=device) < 0.5:\n",
    "            s = torch.zeros_like(target)\n",
    "        else:\n",
    "            with torch.no_grad():\n",
    "                t = torch.randint(0, model.num_steps, (target.size(0),), device=device)\n",
    "                x_t, noise = model.q_sample(target, t)\n",
    "                x_t = x_t.permute(0,3,2,1)\n",
    "                eps_pred1 = model.model(x_t, t, cond_info, self_cond=None)\n",
    "                a_hat = model.alpha_hat.to(device)[t].view(-1,1,1,1)\n",
    "                x0_hat = (x_t - (1 - a_hat).sqrt() * eps_pred1) / a_hat.sqrt()\n",
    "                x0_hat = x0_hat.permute(0,3,2,1)\n",
    "            s = x0_hat\n",
    "        \n",
    "        noise_loss, player_loss_mse, player_loss_frechet = model(target, cond_info=cond_info, self_cond=s)\n",
    "        loss = noise_loss + player_loss_mse + player_loss_frechet * 2\n",
    "        \n",
    "        optimizer.zero_grad()\n",
    "        loss.backward()\n",
    "        optimizer.step()\n",
    "\n",
    "        train_noise_loss += noise_loss.item()\n",
    "        train_mse_loss += player_loss_mse.item()\n",
    "        train_frechet_loss += (player_loss_frechet * 2).item()\n",
    "        train_loss += loss.item()\n",
    "\n",
    "    num_batches = len(train_dataloader)\n",
    "    \n",
    "    avg_noise_loss = train_noise_loss / num_batches\n",
    "    avg_mse_loss = train_mse_loss / num_batches\n",
    "    avg_frechet_loss = train_frechet_loss / num_batches\n",
    "    avg_train_loss = train_loss / num_batches\n",
    "\n",
    "    # --- Validation ---\n",
    "    model.eval()\n",
    "    val_noise_loss = 0\n",
    "    val_mse_loss = 0\n",
    "    val_frechet_loss = 0\n",
    "    val_total_loss = 0\n",
    "\n",
    "    with torch.no_grad():\n",
    "        for batch in tqdm(val_dataloader, desc=\"Validation\"):\n",
    "            cond = batch[\"condition\"].to(device)\n",
    "            B, T, _ = cond.shape\n",
    "            target = batch[\"target\"].to(device).view(-1, T, 11, 2)  # [B, T, 11, 2]\n",
    "            graph_batch = batch[\"graph\"].to(device)                              # HeteroData batch\n",
    "\n",
    "            # graph → H\n",
    "            H = graph_encoder(graph_batch)                                       # [B, 128]\n",
    "            cond_H = H.unsqueeze(-1).unsqueeze(-1).expand(-1, H.size(1), 11, T)\n",
    "            \n",
    "            # Target's history trajectories\n",
    "            hist = cond[:, :, target_idx].to(device)  # [B,128,11,T]\n",
    "            hist_rep = history_encoder(hist)  # [B, 128]\n",
    "            cond_hist = hist_rep.unsqueeze(-1).unsqueeze(-1).expand(-1, 128, 11, T)\n",
    "            \n",
    "            # Concat conditions\n",
    "            cond_info = torch.cat([cond_H, cond_hist], dim=1)\n",
    "            \n",
    "            s = torch.zeros_like(target)\n",
    "            \n",
    "            noise_loss, player_loss_mse, player_loss_frechet = model(target, cond_info=cond_info, self_cond=s)\n",
    "            val_loss = noise_loss + player_loss_mse + player_loss_frechet * 2\n",
    "            \n",
    "            val_noise_loss += noise_loss.item()\n",
    "            val_mse_loss += player_loss_mse.item()\n",
    "            val_frechet_loss += (player_loss_frechet * 2).item()\n",
    "            val_total_loss += val_loss.item()\n",
    "\n",
    "    avg_val_noise_loss = val_noise_loss / len(val_dataloader)\n",
    "    avg_val_mse_loss = val_mse_loss / len(val_dataloader)\n",
    "    avg_val_frechet_loss = val_frechet_loss / len(val_dataloader)\n",
    "    avg_val_loss = val_total_loss / len(val_dataloader)\n",
    "  \n",
    "    train_losses.append(avg_train_loss)\n",
    "    val_losses.append(avg_val_loss)\n",
    "    \n",
    "    tqdm.write(f\"[Epoch {epoch}]\\nCost: {avg_train_loss:.6f} |\"\n",
    "               f\"[Train] Noise Loss: {avg_noise_loss:.6f} | MSE Loss: {avg_mse_loss:.6f} | Frechet Loss: {avg_frechet_loss:.6f} | LR: {scheduler.get_last_lr()[0]:.6f}\\n\"\n",
    "               f\"[Validation] Val Loss: {avg_val_loss:.6f} | Noise: {avg_val_noise_loss:.6f} | MSE: {avg_val_mse_loss:.6f} | Frechet: {avg_val_frechet_loss:.6f}\")\n",
    "    scheduler.step(avg_val_loss)\n",
    "    if avg_val_loss < best_val_loss:\n",
    "        best_val_loss = avg_val_loss\n",
    "        best_state_dict = model.state_dict()\n",
    "        \n",
    "# 4-1. Plot learning_curve\n",
    "plt.figure(figsize=(8, 6))\n",
    "plt.plot(range(1, epochs+1), train_losses, label='Train Loss')\n",
    "plt.plot(range(1, epochs+1), val_losses, label='Val Loss')\n",
    "plt.xlabel('Epoch')\n",
    "plt.ylabel('Loss')\n",
    "plt.title(f\"Train & Validation Loss, {csdi_config['num_steps']} steps, {csdi_config['channels']} channels, \"\n",
    "          f\"{csdi_config['diffusion_embedding_dim']} embedding dim, {csdi_config['nheads']} heads, {csdi_config['layers']} layers\")\n",
    "plt.legend()\n",
    "plt.tight_layout()\n",
    "\n",
    "plt.savefig('results/0424_diffusion_lr_curve.png')\n",
    "\n",
    "plt.show()"
   ]
  },
  {
   "cell_type": "code",
   "execution_count": null,
   "metadata": {},
   "outputs": [
    {
     "data": {
      "application/vnd.jupyter.widget-view+json": {
       "model_id": "6b0c374902ce4b27b8aaa2c21ab40d67",
       "version_major": 2,
       "version_minor": 0
      },
      "text/plain": [
       "Val Streaming Inference:   0%|          | 0/39 [00:52<?, ?it/s]"
      ]
     },
     "metadata": {},
     "output_type": "display_data"
    },
    {
     "data": {
      "application/vnd.jupyter.widget-view+json": {
       "model_id": "2dbbb4e0381249c1847f30e5e48bb77d",
       "version_major": 2,
       "version_minor": 0
      },
      "text/plain": [
       "Generating...:   0%|          | 0/1 [00:00<?, ?it/s]"
      ]
     },
     "metadata": {},
     "output_type": "display_data"
    },
    {
     "data": {
      "application/vnd.jupyter.widget-view+json": {
       "model_id": "3fba3d840d244f2595101291cd86cab5",
       "version_major": 2,
       "version_minor": 0
      },
      "text/plain": [
       "Generating...:   0%|          | 0/1 [00:00<?, ?it/s]"
      ]
     },
     "metadata": {},
     "output_type": "display_data"
    },
    {
     "data": {
      "application/vnd.jupyter.widget-view+json": {
       "model_id": "ac1493306e874a569a4fecb92efb1a81",
       "version_major": 2,
       "version_minor": 0
      },
      "text/plain": [
       "Generating...:   0%|          | 0/1 [00:00<?, ?it/s]"
      ]
     },
     "metadata": {},
     "output_type": "display_data"
    }
   ],
   "source": [
    "\n",
    "# 5. Validation Inference (Best-of-N Sampling) & Visualization\n",
    "model.load_state_dict(best_state_dict)\n",
    "model.eval()\n",
    "all_best_ades = []\n",
    "all_best_fdes = []\n",
    "visualize_samples = 5\n",
    "visualized = False\n",
    "\n",
    "with torch.no_grad():\n",
    "    for batch in tqdm(val_dataloader, desc=\"Val Streaming Inference\"):\n",
    "        cond = batch[\"condition\"].to(device)\n",
    "        B, T, _ = cond.shape\n",
    "        target = batch[\"target\"].to(device).view(B, T, 11, 2)\n",
    "\n",
    "        # Graph → H\n",
    "        graph_batch = batch[\"graph\"].to(device)\n",
    "        H = graph_encoder(graph_batch)\n",
    "        cond_H = H.unsqueeze(-1).unsqueeze(-1).expand(-1, H.size(1), 11, T)\n",
    "\n",
    "        # History → cond_hist\n",
    "        hist = cond[:, :, target_idx].to(device)\n",
    "        hist_rep  = history_encoder(hist)\n",
    "        cond_hist = hist_rep.unsqueeze(-1).unsqueeze(-1).expand(-1, 128, 11, T)\n",
    "\n",
    "        cond_info = torch.cat([cond_H, cond_hist], dim=1)\n",
    "        best_ade_batch = torch.full((B,), float(\"inf\"), device=device)\n",
    "        best_pred_batch= torch.zeros_like(target)\n",
    "        best_fde_batch = torch.full((B,), float(\"inf\"), device=device)\n",
    "        \n",
    "        scales = torch.tensor(batch[\"pitch_scale\"], device=device, dtype=torch.float32)  \n",
    "        scales = scales.view(B, 1, 1, 2)\n",
    "\n",
    "        for _ in tqdm(range(num_samples), desc=\"Generating...\"):  # num_samples = 10\n",
    "            pred_i = model.generate(shape=target.shape, cond_info=cond_info, num_samples=1)[0]  # (B, T, 11, 2)\n",
    "            \n",
    "            pred_i_den = pred_i * scales\n",
    "            target_den = target * scales\n",
    "            \n",
    "            # ADE/FDE 계산\n",
    "            ade_i = ((pred_i_den - target_den)**2).sum(-1).sqrt().mean((1,2))\n",
    "            fde_i = ((pred_i_den[:,-1] - target_den[:,-1])**2).sum(-1).sqrt().mean(1)\n",
    "\n",
    "            better = ade_i < best_ade_batch\n",
    "            \n",
    "            best_pred_batch[better] = pred_i_den[better]\n",
    "            best_ade_batch[better] = ade_i[better]\n",
    "            best_fde_batch[better] = fde_i[better]\n",
    "\n",
    "        all_best_ades.extend(best_ade_batch.cpu().tolist())\n",
    "        all_best_fdes.extend(best_fde_batch.cpu().tolist())\n",
    "\n",
    "        # Visualization\n",
    "        if not visualized:\n",
    "            base_dir = \"results/val_trajs\"\n",
    "            os.makedirs(base_dir, exist_ok=True)\n",
    "            for i in range(min(B, visualize_samples)):\n",
    "                sample_dir = os.path.join(base_dir, f\"sample{i:02d}\")\n",
    "                os.makedirs(sample_dir, exist_ok=True)\n",
    "                \n",
    "                other_cols  = batch[\"other_columns\"][i]\n",
    "                target_cols = batch[\"target_columns\"][i]\n",
    "                defender_nums = [int(col.split('_')[1]) for col in target_cols[::2]]\n",
    "\n",
    "                others_seq = batch[\"other\"][i].view(T, 12, 2).cpu().numpy()\n",
    "                target_traj = target_den[i].cpu().numpy()\n",
    "                pred_traj = best_pred_batch[i].cpu().numpy()\n",
    "\n",
    "                for idx, jersey in enumerate(defender_nums):\n",
    "                    save_path = os.path.join(sample_dir, f\"player_{jersey:02d}.png\")\n",
    "                    plot_trajectories_on_pitch(others_seq, target_traj, pred_traj,\n",
    "                                               other_columns=other_cols, target_columns=target_cols,\n",
    "                                               player_idx=idx, annotate=True, save_path=save_path)\n",
    "\n",
    "            visualized = True\n",
    "\n",
    "# 최종 결과 출력\n",
    "avg_val_ade = np.mean(all_best_ades)\n",
    "avg_val_fde = np.mean(all_best_fdes)\n",
    "print(f\"[Val Best-of-{num_samples}] Average ADE: {avg_val_ade:.4f} | Average FDE: {avg_val_fde:.4f}\")\n",
    "print(f\"[Val Best-of-{num_samples}] Best ADE overall: {min(all_best_ades):.4f} | Best FDE overall: {min(all_best_fdes):.4f}\")"
   ]
  },
  {
   "cell_type": "code",
   "execution_count": null,
   "metadata": {},
   "outputs": [
    {
     "name": "stdout",
     "output_type": "stream",
     "text": [
      "other_cols: ['Away_21_x', 'Away_21_x', 'Away_21_x', 'Away_21_x', 'Away_21_x', 'Away_21_x', 'Away_21_x', 'Away_21_x', 'Away_21_x', 'Away_21_x', 'Away_21_x', 'Away_21_x', 'Away_21_x', 'Away_21_x', 'Away_21_x', 'Away_21_x', 'Away_21_x', 'Away_21_x', 'Away_21_x', 'Away_21_x', 'Away_21_x', 'Away_21_x', 'Away_21_x', 'Away_21_x', 'Away_21_x', 'Away_21_x', 'Away_21_x', 'Away_21_x', 'Away_21_x', 'Away_21_x', 'Away_21_x', 'Away_21_x']\n",
      "defender_cols: ['Home_1_x', 'Home_1_x', 'Home_1_x', 'Home_1_x', 'Home_1_x', 'Home_1_x', 'Home_1_x', 'Home_1_x', 'Home_1_x', 'Home_1_x', 'Home_1_x', 'Home_1_x', 'Home_1_x', 'Home_1_x', 'Home_1_x', 'Home_1_x']\n",
      "0 1\n",
      "1 1\n",
      "2 1\n",
      "3 1\n",
      "4 1\n",
      "5 1\n",
      "6 1\n",
      "7 1\n",
      "8 1\n",
      "9 1\n",
      "10 1\n",
      "11 1\n",
      "12 1\n",
      "13 1\n",
      "14 1\n",
      "15 1\n"
     ]
    }
   ],
   "source": [
    "print(\"other_cols:\", other_cols)\n",
    "print(\"defender_cols:\", target_cols[::2])\n",
    "for idx, jersey in enumerate(defender_nums):\n",
    "    print(idx, jersey)"
   ]
  },
  {
   "cell_type": "code",
   "execution_count": null,
   "metadata": {},
   "outputs": [
    {
     "name": "stderr",
     "output_type": "stream",
     "text": [
      "ERROR:tornado.general:SEND Error: Host unreachable\n"
     ]
    },
    {
     "data": {
      "application/vnd.jupyter.widget-view+json": {
       "model_id": "bf8759839f0d46a5b36c64602580d0d9",
       "version_major": 2,
       "version_minor": 0
      },
      "text/plain": [
       "Test Streaming Inference:   0%|          | 0/98 [01:56<?, ?it/s]"
      ]
     },
     "metadata": {},
     "output_type": "display_data"
    },
    {
     "name": "stderr",
     "output_type": "stream",
     "text": [
      "Exception ignored in: <generator object extract_node_features.<locals>.<listcomp>.<genexpr> at 0x7f52c00bc350>\n",
      "Traceback (most recent call last):\n",
      "  File \"/home/park/workspace/SportsScience/Soccer-Trajectory-Prediction/utils/graph_utils.py\", line 34, in <genexpr>\n",
      "    attk_bases = [base for base in player_bases if \"Attk\" in base or any(f\"{base}_position\" in col for col in condition_columns[:22*7])][:11]\n",
      "  File \"_pydevd_bundle\\\\pydevd_cython.pyx\", line 1697, in _pydevd_bundle.pydevd_cython.SafeCallWrapper.__call__\n",
      "  File \"_pydevd_bundle\\\\pydevd_cython.pyx\", line 2074, in _pydevd_bundle.pydevd_cython.ThreadTracer.__call__\n",
      "  File \"/home/park/anaconda3/envs/SoccerTraj/lib/python3.10/site-packages/debugpy/_vendored/pydevd/pydevd.py\", line 1363, in apply_files_filter\n",
      "    def apply_files_filter(self, frame, original_filename, force_check_project_scope):\n",
      "KeyboardInterrupt: \n"
     ]
    },
    {
     "ename": "KeyboardInterrupt",
     "evalue": "",
     "output_type": "error",
     "traceback": [
      "\u001b[0;31m---------------------------------------------------------------------------\u001b[0m",
      "\u001b[0;31mKeyboardInterrupt\u001b[0m                         Traceback (most recent call last)",
      "Cell \u001b[0;32mIn[4], line 9\u001b[0m\n\u001b[1;32m      6\u001b[0m visualized \u001b[38;5;241m=\u001b[39m \u001b[38;5;28;01mFalse\u001b[39;00m\n\u001b[1;32m      8\u001b[0m \u001b[38;5;28;01mwith\u001b[39;00m torch\u001b[38;5;241m.\u001b[39mno_grad():\n\u001b[0;32m----> 9\u001b[0m     \u001b[38;5;28;01mfor\u001b[39;00m batch \u001b[38;5;129;01min\u001b[39;00m tqdm(test_dataloader, desc\u001b[38;5;241m=\u001b[39m\u001b[38;5;124m\"\u001b[39m\u001b[38;5;124mTest Streaming Inference\u001b[39m\u001b[38;5;124m\"\u001b[39m):\n\u001b[1;32m     10\u001b[0m         cond \u001b[38;5;241m=\u001b[39m batch[\u001b[38;5;124m\"\u001b[39m\u001b[38;5;124mcondition\u001b[39m\u001b[38;5;124m\"\u001b[39m]\u001b[38;5;241m.\u001b[39mto(device)\n\u001b[1;32m     11\u001b[0m         B, T, _ \u001b[38;5;241m=\u001b[39m cond\u001b[38;5;241m.\u001b[39mshape\n",
      "File \u001b[0;32m~/anaconda3/envs/SoccerTraj/lib/python3.10/site-packages/tqdm/notebook.py:250\u001b[0m, in \u001b[0;36mtqdm_notebook.__iter__\u001b[0;34m(self)\u001b[0m\n\u001b[1;32m    248\u001b[0m \u001b[38;5;28;01mtry\u001b[39;00m:\n\u001b[1;32m    249\u001b[0m     it \u001b[38;5;241m=\u001b[39m \u001b[38;5;28msuper\u001b[39m()\u001b[38;5;241m.\u001b[39m\u001b[38;5;21m__iter__\u001b[39m()\n\u001b[0;32m--> 250\u001b[0m     \u001b[38;5;28;01mfor\u001b[39;00m obj \u001b[38;5;129;01min\u001b[39;00m it:\n\u001b[1;32m    251\u001b[0m         \u001b[38;5;66;03m# return super(tqdm...) will not catch exception\u001b[39;00m\n\u001b[1;32m    252\u001b[0m         \u001b[38;5;28;01myield\u001b[39;00m obj\n\u001b[1;32m    253\u001b[0m \u001b[38;5;66;03m# NB: except ... [ as ...] breaks IPython async KeyboardInterrupt\u001b[39;00m\n",
      "File \u001b[0;32m~/anaconda3/envs/SoccerTraj/lib/python3.10/site-packages/tqdm/std.py:1181\u001b[0m, in \u001b[0;36mtqdm.__iter__\u001b[0;34m(self)\u001b[0m\n\u001b[1;32m   1178\u001b[0m time \u001b[38;5;241m=\u001b[39m \u001b[38;5;28mself\u001b[39m\u001b[38;5;241m.\u001b[39m_time\n\u001b[1;32m   1180\u001b[0m \u001b[38;5;28;01mtry\u001b[39;00m:\n\u001b[0;32m-> 1181\u001b[0m     \u001b[38;5;28;01mfor\u001b[39;00m obj \u001b[38;5;129;01min\u001b[39;00m iterable:\n\u001b[1;32m   1182\u001b[0m         \u001b[38;5;28;01myield\u001b[39;00m obj\n\u001b[1;32m   1183\u001b[0m         \u001b[38;5;66;03m# Update and possibly print the progressbar.\u001b[39;00m\n\u001b[1;32m   1184\u001b[0m         \u001b[38;5;66;03m# Note: does not call self.update(1) for speed optimisation.\u001b[39;00m\n",
      "File \u001b[0;32m~/anaconda3/envs/SoccerTraj/lib/python3.10/site-packages/torch/utils/data/dataloader.py:440\u001b[0m, in \u001b[0;36mDataLoader.__iter__\u001b[0;34m(self)\u001b[0m\n\u001b[1;32m    438\u001b[0m     \u001b[38;5;28;01mreturn\u001b[39;00m \u001b[38;5;28mself\u001b[39m\u001b[38;5;241m.\u001b[39m_iterator\n\u001b[1;32m    439\u001b[0m \u001b[38;5;28;01melse\u001b[39;00m:\n\u001b[0;32m--> 440\u001b[0m     \u001b[38;5;28;01mreturn\u001b[39;00m \u001b[38;5;28;43mself\u001b[39;49m\u001b[38;5;241;43m.\u001b[39;49m\u001b[43m_get_iterator\u001b[49m\u001b[43m(\u001b[49m\u001b[43m)\u001b[49m\n",
      "File \u001b[0;32m~/anaconda3/envs/SoccerTraj/lib/python3.10/site-packages/torch/utils/data/dataloader.py:388\u001b[0m, in \u001b[0;36mDataLoader._get_iterator\u001b[0;34m(self)\u001b[0m\n\u001b[1;32m    386\u001b[0m \u001b[38;5;28;01melse\u001b[39;00m:\n\u001b[1;32m    387\u001b[0m     \u001b[38;5;28mself\u001b[39m\u001b[38;5;241m.\u001b[39mcheck_worker_number_rationality()\n\u001b[0;32m--> 388\u001b[0m     \u001b[38;5;28;01mreturn\u001b[39;00m \u001b[43m_MultiProcessingDataLoaderIter\u001b[49m\u001b[43m(\u001b[49m\u001b[38;5;28;43mself\u001b[39;49m\u001b[43m)\u001b[49m\n",
      "File \u001b[0;32m~/anaconda3/envs/SoccerTraj/lib/python3.10/site-packages/torch/utils/data/dataloader.py:1038\u001b[0m, in \u001b[0;36m_MultiProcessingDataLoaderIter.__init__\u001b[0;34m(self, loader)\u001b[0m\n\u001b[1;32m   1031\u001b[0m w\u001b[38;5;241m.\u001b[39mdaemon \u001b[38;5;241m=\u001b[39m \u001b[38;5;28;01mTrue\u001b[39;00m\n\u001b[1;32m   1032\u001b[0m \u001b[38;5;66;03m# NB: Process.start() actually take some time as it needs to\u001b[39;00m\n\u001b[1;32m   1033\u001b[0m \u001b[38;5;66;03m#     start a process and pass the arguments over via a pipe.\u001b[39;00m\n\u001b[1;32m   1034\u001b[0m \u001b[38;5;66;03m#     Therefore, we only add a worker to self._workers list after\u001b[39;00m\n\u001b[1;32m   1035\u001b[0m \u001b[38;5;66;03m#     it started, so that we do not call .join() if program dies\u001b[39;00m\n\u001b[1;32m   1036\u001b[0m \u001b[38;5;66;03m#     before it starts, and __del__ tries to join but will get:\u001b[39;00m\n\u001b[1;32m   1037\u001b[0m \u001b[38;5;66;03m#     AssertionError: can only join a started process.\u001b[39;00m\n\u001b[0;32m-> 1038\u001b[0m \u001b[43mw\u001b[49m\u001b[38;5;241;43m.\u001b[39;49m\u001b[43mstart\u001b[49m\u001b[43m(\u001b[49m\u001b[43m)\u001b[49m\n\u001b[1;32m   1039\u001b[0m \u001b[38;5;28mself\u001b[39m\u001b[38;5;241m.\u001b[39m_index_queues\u001b[38;5;241m.\u001b[39mappend(index_queue)\n\u001b[1;32m   1040\u001b[0m \u001b[38;5;28mself\u001b[39m\u001b[38;5;241m.\u001b[39m_workers\u001b[38;5;241m.\u001b[39mappend(w)\n",
      "File \u001b[0;32m~/anaconda3/envs/SoccerTraj/lib/python3.10/multiprocessing/process.py:121\u001b[0m, in \u001b[0;36mBaseProcess.start\u001b[0;34m(self)\u001b[0m\n\u001b[1;32m    118\u001b[0m \u001b[38;5;28;01massert\u001b[39;00m \u001b[38;5;129;01mnot\u001b[39;00m _current_process\u001b[38;5;241m.\u001b[39m_config\u001b[38;5;241m.\u001b[39mget(\u001b[38;5;124m'\u001b[39m\u001b[38;5;124mdaemon\u001b[39m\u001b[38;5;124m'\u001b[39m), \\\n\u001b[1;32m    119\u001b[0m        \u001b[38;5;124m'\u001b[39m\u001b[38;5;124mdaemonic processes are not allowed to have children\u001b[39m\u001b[38;5;124m'\u001b[39m\n\u001b[1;32m    120\u001b[0m _cleanup()\n\u001b[0;32m--> 121\u001b[0m \u001b[38;5;28mself\u001b[39m\u001b[38;5;241m.\u001b[39m_popen \u001b[38;5;241m=\u001b[39m \u001b[38;5;28;43mself\u001b[39;49m\u001b[38;5;241;43m.\u001b[39;49m\u001b[43m_Popen\u001b[49m\u001b[43m(\u001b[49m\u001b[38;5;28;43mself\u001b[39;49m\u001b[43m)\u001b[49m\n\u001b[1;32m    122\u001b[0m \u001b[38;5;28mself\u001b[39m\u001b[38;5;241m.\u001b[39m_sentinel \u001b[38;5;241m=\u001b[39m \u001b[38;5;28mself\u001b[39m\u001b[38;5;241m.\u001b[39m_popen\u001b[38;5;241m.\u001b[39msentinel\n\u001b[1;32m    123\u001b[0m \u001b[38;5;66;03m# Avoid a refcycle if the target function holds an indirect\u001b[39;00m\n\u001b[1;32m    124\u001b[0m \u001b[38;5;66;03m# reference to the process object (see bpo-30775)\u001b[39;00m\n",
      "File \u001b[0;32m~/anaconda3/envs/SoccerTraj/lib/python3.10/multiprocessing/context.py:224\u001b[0m, in \u001b[0;36mProcess._Popen\u001b[0;34m(process_obj)\u001b[0m\n\u001b[1;32m    222\u001b[0m \u001b[38;5;129m@staticmethod\u001b[39m\n\u001b[1;32m    223\u001b[0m \u001b[38;5;28;01mdef\u001b[39;00m\u001b[38;5;250m \u001b[39m\u001b[38;5;21m_Popen\u001b[39m(process_obj):\n\u001b[0;32m--> 224\u001b[0m     \u001b[38;5;28;01mreturn\u001b[39;00m \u001b[43m_default_context\u001b[49m\u001b[38;5;241;43m.\u001b[39;49m\u001b[43mget_context\u001b[49m\u001b[43m(\u001b[49m\u001b[43m)\u001b[49m\u001b[38;5;241;43m.\u001b[39;49m\u001b[43mProcess\u001b[49m\u001b[38;5;241;43m.\u001b[39;49m\u001b[43m_Popen\u001b[49m\u001b[43m(\u001b[49m\u001b[43mprocess_obj\u001b[49m\u001b[43m)\u001b[49m\n",
      "File \u001b[0;32m~/anaconda3/envs/SoccerTraj/lib/python3.10/multiprocessing/context.py:288\u001b[0m, in \u001b[0;36mSpawnProcess._Popen\u001b[0;34m(process_obj)\u001b[0m\n\u001b[1;32m    285\u001b[0m \u001b[38;5;129m@staticmethod\u001b[39m\n\u001b[1;32m    286\u001b[0m \u001b[38;5;28;01mdef\u001b[39;00m\u001b[38;5;250m \u001b[39m\u001b[38;5;21m_Popen\u001b[39m(process_obj):\n\u001b[1;32m    287\u001b[0m     \u001b[38;5;28;01mfrom\u001b[39;00m\u001b[38;5;250m \u001b[39m\u001b[38;5;21;01m.\u001b[39;00m\u001b[38;5;21;01mpopen_spawn_posix\u001b[39;00m\u001b[38;5;250m \u001b[39m\u001b[38;5;28;01mimport\u001b[39;00m Popen\n\u001b[0;32m--> 288\u001b[0m     \u001b[38;5;28;01mreturn\u001b[39;00m \u001b[43mPopen\u001b[49m\u001b[43m(\u001b[49m\u001b[43mprocess_obj\u001b[49m\u001b[43m)\u001b[49m\n",
      "File \u001b[0;32m~/anaconda3/envs/SoccerTraj/lib/python3.10/multiprocessing/popen_spawn_posix.py:32\u001b[0m, in \u001b[0;36mPopen.__init__\u001b[0;34m(self, process_obj)\u001b[0m\n\u001b[1;32m     30\u001b[0m \u001b[38;5;28;01mdef\u001b[39;00m\u001b[38;5;250m \u001b[39m\u001b[38;5;21m__init__\u001b[39m(\u001b[38;5;28mself\u001b[39m, process_obj):\n\u001b[1;32m     31\u001b[0m     \u001b[38;5;28mself\u001b[39m\u001b[38;5;241m.\u001b[39m_fds \u001b[38;5;241m=\u001b[39m []\n\u001b[0;32m---> 32\u001b[0m     \u001b[38;5;28;43msuper\u001b[39;49m\u001b[43m(\u001b[49m\u001b[43m)\u001b[49m\u001b[38;5;241;43m.\u001b[39;49m\u001b[38;5;21;43m__init__\u001b[39;49m\u001b[43m(\u001b[49m\u001b[43mprocess_obj\u001b[49m\u001b[43m)\u001b[49m\n",
      "File \u001b[0;32m~/anaconda3/envs/SoccerTraj/lib/python3.10/multiprocessing/popen_fork.py:19\u001b[0m, in \u001b[0;36mPopen.__init__\u001b[0;34m(self, process_obj)\u001b[0m\n\u001b[1;32m     17\u001b[0m \u001b[38;5;28mself\u001b[39m\u001b[38;5;241m.\u001b[39mreturncode \u001b[38;5;241m=\u001b[39m \u001b[38;5;28;01mNone\u001b[39;00m\n\u001b[1;32m     18\u001b[0m \u001b[38;5;28mself\u001b[39m\u001b[38;5;241m.\u001b[39mfinalizer \u001b[38;5;241m=\u001b[39m \u001b[38;5;28;01mNone\u001b[39;00m\n\u001b[0;32m---> 19\u001b[0m \u001b[38;5;28;43mself\u001b[39;49m\u001b[38;5;241;43m.\u001b[39;49m\u001b[43m_launch\u001b[49m\u001b[43m(\u001b[49m\u001b[43mprocess_obj\u001b[49m\u001b[43m)\u001b[49m\n",
      "File \u001b[0;32m~/anaconda3/envs/SoccerTraj/lib/python3.10/multiprocessing/popen_spawn_posix.py:47\u001b[0m, in \u001b[0;36mPopen._launch\u001b[0;34m(self, process_obj)\u001b[0m\n\u001b[1;32m     45\u001b[0m \u001b[38;5;28;01mtry\u001b[39;00m:\n\u001b[1;32m     46\u001b[0m     reduction\u001b[38;5;241m.\u001b[39mdump(prep_data, fp)\n\u001b[0;32m---> 47\u001b[0m     \u001b[43mreduction\u001b[49m\u001b[38;5;241;43m.\u001b[39;49m\u001b[43mdump\u001b[49m\u001b[43m(\u001b[49m\u001b[43mprocess_obj\u001b[49m\u001b[43m,\u001b[49m\u001b[43m \u001b[49m\u001b[43mfp\u001b[49m\u001b[43m)\u001b[49m\n\u001b[1;32m     48\u001b[0m \u001b[38;5;28;01mfinally\u001b[39;00m:\n\u001b[1;32m     49\u001b[0m     set_spawning_popen(\u001b[38;5;28;01mNone\u001b[39;00m)\n",
      "File \u001b[0;32m~/anaconda3/envs/SoccerTraj/lib/python3.10/multiprocessing/reduction.py:60\u001b[0m, in \u001b[0;36mdump\u001b[0;34m(obj, file, protocol)\u001b[0m\n\u001b[1;32m     58\u001b[0m \u001b[38;5;28;01mdef\u001b[39;00m\u001b[38;5;250m \u001b[39m\u001b[38;5;21mdump\u001b[39m(obj, file, protocol\u001b[38;5;241m=\u001b[39m\u001b[38;5;28;01mNone\u001b[39;00m):\n\u001b[1;32m     59\u001b[0m \u001b[38;5;250m    \u001b[39m\u001b[38;5;124;03m'''Replacement for pickle.dump() using ForkingPickler.'''\u001b[39;00m\n\u001b[0;32m---> 60\u001b[0m     \u001b[43mForkingPickler\u001b[49m\u001b[43m(\u001b[49m\u001b[43mfile\u001b[49m\u001b[43m,\u001b[49m\u001b[43m \u001b[49m\u001b[43mprotocol\u001b[49m\u001b[43m)\u001b[49m\u001b[38;5;241;43m.\u001b[39;49m\u001b[43mdump\u001b[49m\u001b[43m(\u001b[49m\u001b[43mobj\u001b[49m\u001b[43m)\u001b[49m\n",
      "File \u001b[0;32minternals.pyx:685\u001b[0m, in \u001b[0;36mpandas._libs.internals.Block.__reduce__\u001b[0;34m()\u001b[0m\n",
      "File \u001b[0;32minternals.pyx:686\u001b[0m, in \u001b[0;36mpandas._libs.internals.Block.__reduce__\u001b[0;34m()\u001b[0m\n",
      "File \u001b[0;32m~/anaconda3/envs/SoccerTraj/lib/python3.10/site-packages/pandas/core/internals/blocks.py:266\u001b[0m, in \u001b[0;36mBlock.mgr_locs\u001b[0;34m(self)\u001b[0m\n\u001b[1;32m    263\u001b[0m         value \u001b[38;5;241m=\u001b[39m \u001b[38;5;28mself\u001b[39m\u001b[38;5;241m.\u001b[39mfill_value\n\u001b[1;32m    264\u001b[0m     \u001b[38;5;28;01mreturn\u001b[39;00m value\n\u001b[0;32m--> 266\u001b[0m \u001b[38;5;129m@property\u001b[39m\n\u001b[1;32m    267\u001b[0m \u001b[38;5;28;01mdef\u001b[39;00m\u001b[38;5;250m \u001b[39m\u001b[38;5;21mmgr_locs\u001b[39m(\u001b[38;5;28mself\u001b[39m) \u001b[38;5;241m-\u001b[39m\u001b[38;5;241m>\u001b[39m BlockPlacement:\n\u001b[1;32m    268\u001b[0m     \u001b[38;5;28;01mreturn\u001b[39;00m \u001b[38;5;28mself\u001b[39m\u001b[38;5;241m.\u001b[39m_mgr_locs\n\u001b[1;32m    270\u001b[0m \u001b[38;5;129m@mgr_locs\u001b[39m\u001b[38;5;241m.\u001b[39msetter\n\u001b[1;32m    271\u001b[0m \u001b[38;5;28;01mdef\u001b[39;00m\u001b[38;5;250m \u001b[39m\u001b[38;5;21mmgr_locs\u001b[39m(\u001b[38;5;28mself\u001b[39m, new_mgr_locs: BlockPlacement) \u001b[38;5;241m-\u001b[39m\u001b[38;5;241m>\u001b[39m \u001b[38;5;28;01mNone\u001b[39;00m:\n",
      "File \u001b[0;32m_pydevd_bundle\\\\pydevd_cython.pyx:1697\u001b[0m, in \u001b[0;36m_pydevd_bundle.pydevd_cython.SafeCallWrapper.__call__\u001b[0;34m()\u001b[0m\n",
      "File \u001b[0;32m_pydevd_bundle\\\\pydevd_cython.pyx:2017\u001b[0m, in \u001b[0;36m_pydevd_bundle.pydevd_cython.ThreadTracer.__call__\u001b[0;34m()\u001b[0m\n",
      "File \u001b[0;32m~/anaconda3/envs/SoccerTraj/lib/python3.10/site-packages/debugpy/_vendored/pydevd/_pydev_bundle/pydev_is_thread_alive.py:16\u001b[0m, in \u001b[0;36mis_thread_alive\u001b[0;34m(t)\u001b[0m\n\u001b[1;32m     11\u001b[0m         \u001b[38;5;28;01mreturn\u001b[39;00m \u001b[38;5;129;01mnot\u001b[39;00m t\u001b[38;5;241m.\u001b[39m_handle\u001b[38;5;241m.\u001b[39mis_done()\n\u001b[1;32m     14\u001b[0m \u001b[38;5;28;01melif\u001b[39;00m \u001b[38;5;28mhasattr\u001b[39m(_temp, \u001b[38;5;124m\"\u001b[39m\u001b[38;5;124m_is_stopped\u001b[39m\u001b[38;5;124m\"\u001b[39m):  \u001b[38;5;66;03m# Python 3.12 and earlier has this\u001b[39;00m\n\u001b[0;32m---> 16\u001b[0m     \u001b[38;5;28;01mdef\u001b[39;00m\u001b[38;5;250m \u001b[39m\u001b[38;5;21mis_thread_alive\u001b[39m(t):\n\u001b[1;32m     17\u001b[0m         \u001b[38;5;28;01mreturn\u001b[39;00m \u001b[38;5;129;01mnot\u001b[39;00m t\u001b[38;5;241m.\u001b[39m_is_stopped\n\u001b[1;32m     19\u001b[0m \u001b[38;5;28;01melif\u001b[39;00m \u001b[38;5;28mhasattr\u001b[39m(_temp, \u001b[38;5;124m\"\u001b[39m\u001b[38;5;124m_Thread__stopped\u001b[39m\u001b[38;5;124m\"\u001b[39m):  \u001b[38;5;66;03m# Python 2.x has this\u001b[39;00m\n",
      "\u001b[0;31mKeyboardInterrupt\u001b[0m: "
     ]
    }
   ],
   "source": [
    "\n",
    "# 5. Inference (Best-of-N Sampling) & Visualization\n",
    "model.eval()\n",
    "all_best_ades_test = []\n",
    "all_best_fdes_test = []\n",
    "visualized = False\n",
    "\n",
    "with torch.no_grad():\n",
    "    for batch in tqdm(test_dataloader, desc=\"Test Streaming Inference\"):\n",
    "        cond = batch[\"condition\"].to(device)\n",
    "        B, T, _ = cond.shape\n",
    "        target = batch[\"target\"].to(device).view(B, T, 11, 2)\n",
    "\n",
    "        graph_batch  = batch[\"graph\"].to(device)\n",
    "        H = graph_encoder(graph_batch)\n",
    "        cond_H = H.unsqueeze(-1).unsqueeze(-1).expand(-1, H.size(1), 11, T)\n",
    "        \n",
    "        hist = cond[:, :, target_idx].to(device)\n",
    "        hist_rep = history_encoder(hist)\n",
    "        cond_hist = hist_rep.unsqueeze(-1).unsqueeze(-1).expand(-1, 128, 11, T)\n",
    "        cond_info = torch.cat([cond_H, cond_hist], dim=1)\n",
    "\n",
    "        best_ade_t = torch.full((B,), float(\"inf\"), device=device)\n",
    "        best_pred_t = torch.zeros_like(target)\n",
    "        best_fde_t = torch.full((B,), float(\"inf\"), device=device)\n",
    "                    \n",
    "        scales = torch.tensor(batch[\"pitch_scale\"], device=device, dtype=torch.float32)  \n",
    "        scales = scales.view(B, 1, 1, 2)\n",
    "\n",
    "        for _ in tqdm(range(num_samples), desc=\"Generating...\"):\n",
    "            pred_i = model.generate(shape=target.shape, cond_info=cond_info, num_samples=1)[0]\n",
    "\n",
    "            pred_i_den = pred_i * scales\n",
    "            target_den = target * scales\n",
    "            \n",
    "            ade_i = ((pred_i_den - target_den)**2).sum(-1).sqrt().mean((1,2))\n",
    "            fde_i = ((pred_i_den[:,-1] - target_den[:,-1])**2).sum(-1).sqrt().mean(1)\n",
    "            \n",
    "            better = ade_i < best_ade_t\n",
    "            \n",
    "            best_pred_t[better] = pred_i_den[better]\n",
    "            best_ade_t[better] = ade_i[better]\n",
    "            best_fde_t[better] = fde_i[better]\n",
    "\n",
    "        all_best_ades_test.extend(best_ade_t.cpu().tolist())\n",
    "        all_best_fdes_test.extend(best_fde_t.cpu().tolist())\n",
    "\n",
    "        # Visualization\n",
    "        if not visualized:\n",
    "            base_dir = \"results/test_trajs\"\n",
    "            os.makedirs(base_dir, exist_ok=True)\n",
    "            for i in range(min(B, visualize_samples)):\n",
    "                sample_dir = os.path.join(base_dir, f\"sample{i:02d}\")\n",
    "                os.makedirs(sample_dir, exist_ok=True)\n",
    "                \n",
    "                other_cols  = batch[\"other_columns\"][i]\n",
    "                target_cols = batch[\"target_columns\"][i]\n",
    "                defender_nums = [int(col.split('_')[1]) for col in target_cols[::2]]\n",
    "\n",
    "                others_seq = batch[\"other\"][i].view(T, 12, 2).cpu().numpy()\n",
    "                target_traj = target_den[i].cpu().numpy()\n",
    "                pred_traj = best_pred_batch[i].cpu().numpy()\n",
    "\n",
    "                for idx, jersey in enumerate(defender_nums):\n",
    "                    save_path = os.path.join(sample_dir, f\"player_{jersey:02d}.png\")\n",
    "                    plot_trajectories_on_pitch(others_seq, target_traj, pred_traj,\n",
    "                                               other_columns=other_cols, target_columns=target_cols,\n",
    "                                               player_idx=idx, annotate=True, save_path=save_path)\n",
    "\n",
    "            visualized = True\n",
    "\n",
    "avg_test_ade = np.mean(all_best_ades_test)\n",
    "avg_test_fde = np.mean(all_best_fdes_test)\n",
    "print(f\"[Test Best-of-{num_samples}] Average ADE: {avg_test_ade:.4f} | Average FDE: {avg_test_fde:.4f}\")\n",
    "print(f\"[Test Best-of-{num_samples}] Best ADE overall: {min(all_best_ades_test):.4f} | Best FDE overall: {min(all_best_fdes_test):.4f}\")"
   ]
  }
 ],
 "metadata": {
  "kernelspec": {
   "display_name": "SoccerTraj",
   "language": "python",
   "name": "python3"
  },
  "language_info": {
   "codemirror_mode": {
    "name": "ipython",
    "version": 3
   },
   "file_extension": ".py",
   "mimetype": "text/x-python",
   "name": "python",
   "nbconvert_exporter": "python",
   "pygments_lexer": "ipython3",
   "version": "3.10.16"
  }
 },
 "nbformat": 4,
 "nbformat_minor": 2
}
