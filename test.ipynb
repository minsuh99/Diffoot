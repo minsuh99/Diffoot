{
 "cells": [
  {
   "cell_type": "code",
   "execution_count": 1,
   "metadata": {},
   "outputs": [],
   "source": [
    "from make_dataset import MultiMatchSoccerDataset"
   ]
  },
  {
   "cell_type": "code",
   "execution_count": 2,
   "metadata": {},
   "outputs": [
    {
     "name": "stderr",
     "output_type": "stream",
     "text": [
      "Loading Matches: 100%|██████████| 6/6 [00:41<00:00,  6.91s/it]\n"
     ]
    }
   ],
   "source": [
    "dataset = MultiMatchSoccerDataset(data_root=\"match_data\")"
   ]
  },
  {
   "cell_type": "code",
   "execution_count": 3,
   "metadata": {},
   "outputs": [
    {
     "data": {
      "text/plain": [
       "HeteroData(\n",
       "  Node={ x=[2875, 10] },\n",
       "  (Node, attk_and_attk, Node)={\n",
       "    edge_index=[2, 7782],\n",
       "    edge_attr=[7782, 1],\n",
       "  },\n",
       "  (Node, attk_and_def, Node)={\n",
       "    edge_index=[2, 13848],\n",
       "    edge_attr=[13848, 1],\n",
       "  },\n",
       "  (Node, def_and_def, Node)={\n",
       "    edge_index=[2, 3682],\n",
       "    edge_attr=[3682, 1],\n",
       "  },\n",
       "  (Node, attk_and_ball, Node)={\n",
       "    edge_index=[2, 1362],\n",
       "    edge_attr=[1362, 1],\n",
       "  },\n",
       "  (Node, def_and_ball, Node)={\n",
       "    edge_index=[2, 1252],\n",
       "    edge_attr=[1252, 1],\n",
       "  },\n",
       "  (Node, temporal, Node)={\n",
       "    edge_index=[2, 2852],\n",
       "    edge_attr=[2852, 1],\n",
       "  }\n",
       ")"
      ]
     },
     "execution_count": 3,
     "metadata": {},
     "output_type": "execute_result"
    }
   ],
   "source": [
    "sample = dataset[156]\n",
    "sample[\"graph\"]"
   ]
  },
  {
   "cell_type": "code",
   "execution_count": 4,
   "metadata": {},
   "outputs": [],
   "source": [
    "import torch\n",
    "graph = sample[\"graph\"]"
   ]
  },
  {
   "cell_type": "code",
   "execution_count": 5,
   "metadata": {},
   "outputs": [
    {
     "name": "stdout",
     "output_type": "stream",
     "text": [
      "tensor(-1.) tensor(22.)\n",
      "('Node', 'attk_and_attk', 'Node') tensor(0.1000) tensor(2.0000)\n",
      "('Node', 'attk_and_def', 'Node') tensor(1.0000e-06) tensor(4.0366)\n",
      "('Node', 'def_and_def', 'Node') tensor(0.1001) tensor(1.0000)\n",
      "('Node', 'attk_and_ball', 'Node') tensor(1.0000e-06) tensor(4.3898)\n",
      "('Node', 'def_and_ball', 'Node') tensor(1.0000e-06) tensor(3.4072)\n",
      "('Node', 'temporal', 'Node') tensor(1.) tensor(1.)\n"
     ]
    }
   ],
   "source": [
    "x = graph['Node'].x\n",
    "print(x.min(), x.max())\n",
    "for rel in graph.edge_index_dict:\n",
    "    w = graph.edge_attr_dict[rel].view(-1)\n",
    "    print(rel, w.min(), w.max())"
   ]
  },
  {
   "cell_type": "code",
   "execution_count": null,
   "metadata": {},
   "outputs": [
    {
     "name": "stdout",
     "output_type": "stream",
     "text": [
      "tensor([ 1.2305e-01,  2.2853e-01,  1.7007e-02, -4.4118e-02,  6.7407e+01,\n",
      "         1.1000e+01,  1.0000e+00,  0.0000e+00,  0.0000e+00,  0.0000e+00])\n"
     ]
    }
   ],
   "source": [
    "# 1) Node feature 전체 꺼내기\n",
    "node_feats = sample[\"graph\"][\"Node\"].x    # shape: [총노드수, 특성차원]\n",
    "\n",
    "# 2) 보고 싶은 노드의 인덱스(index) 지정\n",
    "# 예를 들어, 첫 번째 프레임의 0번 공격수 노드를 보고 싶다면\n",
    "nodes_per_frame = 23   # 공격수11 + 수비수11 + 볼1\n",
    "frame_idx = 10          # 0번째 프레임\n",
    "player_idx = 9      # 프레임 내에서 0번 노드\n",
    "node_idx = frame_idx * nodes_per_frame + player_idx\n",
    "\n",
    "# 3) 해당 노드만 출력\n",
    "single = node_feats[node_idx]              # tensor of shape [특성차원]\n",
    "print(single)\n"
   ]
  },
  {
   "cell_type": "code",
   "execution_count": null,
   "metadata": {},
   "outputs": [
    {
     "data": {
      "text/plain": [
       "torch.Size([125, 202])"
      ]
     },
     "execution_count": 7,
     "metadata": {},
     "output_type": "execute_result"
    }
   ],
   "source": [
    "sample[\"condition\"].shape"
   ]
  },
  {
   "cell_type": "code",
   "execution_count": null,
   "metadata": {},
   "outputs": [
    {
     "data": {
      "text/plain": [
       "['Away_22_x',\n",
       " 'Away_22_y',\n",
       " 'Away_22_vx',\n",
       " 'Away_22_vy',\n",
       " 'Away_22_dist',\n",
       " 'Away_22_position',\n",
       " 'Away_22_starter',\n",
       " 'Away_22_possession_duration',\n",
       " 'Away_22_neighbor_count']"
      ]
     },
     "execution_count": 8,
     "metadata": {},
     "output_type": "execute_result"
    }
   ],
   "source": [
    "sample[\"condition_columns\"][:9]"
   ]
  },
  {
   "cell_type": "code",
   "execution_count": null,
   "metadata": {},
   "outputs": [],
   "source": [
    "bases = []\n",
    "for col in sample[\"condition_columns\"]:\n",
    "    if col.startswith(\"ball_\"):\n",
    "        continue\n",
    "    parts = col.split(\"_\", 2)\n",
    "    base = \"_\".join(parts[:2])\n",
    "    if base not in bases:\n",
    "        bases.append(base)"
   ]
  },
  {
   "cell_type": "code",
   "execution_count": null,
   "metadata": {},
   "outputs": [
    {
     "data": {
      "text/plain": [
       "['Away_22',\n",
       " 'Away_25',\n",
       " 'Away_26',\n",
       " 'Away_29',\n",
       " 'Away_31',\n",
       " 'Away_33',\n",
       " 'Away_34',\n",
       " 'Away_35',\n",
       " 'Away_36',\n",
       " 'Away_37',\n",
       " 'Away_39',\n",
       " 'Home_2',\n",
       " 'Home_3',\n",
       " 'Home_5',\n",
       " 'Home_6',\n",
       " 'Home_8',\n",
       " 'Home_9',\n",
       " 'Home_11',\n",
       " 'Home_12',\n",
       " 'Home_13',\n",
       " 'Home_14',\n",
       " 'Home_17']"
      ]
     },
     "execution_count": 10,
     "metadata": {},
     "output_type": "execute_result"
    }
   ],
   "source": [
    "bases"
   ]
  },
  {
   "cell_type": "code",
   "execution_count": null,
   "metadata": {},
   "outputs": [],
   "source": []
  }
 ],
 "metadata": {
  "kernelspec": {
   "display_name": "SoccerTraj",
   "language": "python",
   "name": "python3"
  },
  "language_info": {
   "codemirror_mode": {
    "name": "ipython",
    "version": 3
   },
   "file_extension": ".py",
   "mimetype": "text/x-python",
   "name": "python",
   "nbconvert_exporter": "python",
   "pygments_lexer": "ipython3",
   "version": "3.10.16"
  }
 },
 "nbformat": 4,
 "nbformat_minor": 2
}
