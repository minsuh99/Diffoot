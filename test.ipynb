{
 "cells": [
  {
   "cell_type": "code",
   "execution_count": 1,
   "metadata": {},
   "outputs": [],
   "source": [
    "import multiprocessing as mp\n",
    "mp.set_start_method('spawn', force=True)"
   ]
  },
  {
   "cell_type": "code",
   "execution_count": null,
   "metadata": {},
   "outputs": [
    {
     "name": "stdout",
     "output_type": "stream",
     "text": [
      "---Data Loading---\n",
      "Skip organize_and_process\n"
     ]
    },
    {
     "name": "stderr",
     "output_type": "stream",
     "text": [
      "Loading Matches: 100%|██████████| 6/6 [00:40<00:00,  6.70s/it]\n"
     ]
    },
    {
     "name": "stdout",
     "output_type": "stream",
     "text": [
      "---Data Load!---\n"
     ]
    },
    {
     "ename": "",
     "evalue": "",
     "output_type": "error",
     "traceback": [
      "\u001b[1;31mThe Kernel crashed while executing code in the current cell or a previous cell. \n",
      "\u001b[1;31mPlease review the code in the cell(s) to identify a possible cause of the failure. \n",
      "\u001b[1;31mClick <a href='https://aka.ms/vscodeJupyterKernelCrash'>here</a> for more info. \n",
      "\u001b[1;31mView Jupyter <a href='command:jupyter.viewOutput'>log</a> for further details."
     ]
    }
   ],
   "source": [
    "import os\n",
    "os.environ[\"CUBLAS_WORKSPACE_CONFIG\"] = \":4096:8\"\n",
    "# os.environ[\"CUDA_LAUNCH_BLOCKING\"] = \"1\"\n",
    "import logging\n",
    "import torch\n",
    "import numpy as np\n",
    "import matplotlib.pyplot as plt\n",
    "from tqdm.auto import tqdm\n",
    "\n",
    "from torch.utils.data import DataLoader, Subset\n",
    "from torch.optim.lr_scheduler import ReduceLROnPlateau\n",
    "from torch.amp import autocast, GradScaler\n",
    "from models.diff_modules import diff_CSDI\n",
    "from models.diff_model import DiffusionTrajectoryModel\n",
    "from models.encoder import InteractionGraphEncoder, TargetTrajectoryEncoder\n",
    "from make_dataset import MultiMatchSoccerDataset, organize_and_process\n",
    "from utils.utils import set_evertyhing, worker_init_fn, generator, plot_trajectories_on_pitch, log_graph_stats\n",
    "from utils.data_utils import split_dataset_indices, custom_collate_fn\n",
    "from utils.graph_utils import build_graph_sequence_from_condition\n",
    "\n",
    "# SEED Fix\n",
    "SEED = 42\n",
    "set_evertyhing(SEED)\n",
    "\n",
    "\n",
    "# Save Log / Logger Setting\n",
    "model_save_path = './results/logs/'\n",
    "os.makedirs(model_save_path, exist_ok=True)\n",
    "logging.basicConfig(\n",
    "    level=logging.INFO,\n",
    "    format='%(asctime)s %(levelname)s %(message)s',\n",
    "    filename=os.path.join(model_save_path, 'train.log'),\n",
    "    filemode='w'\n",
    ")\n",
    "logger = logging.getLogger()\n",
    "\n",
    "# 1. Model Config & Hyperparameter Setting\n",
    "csdi_config = {\n",
    "    \"num_steps\": 1000,\n",
    "    \"channels\": 256,\n",
    "    \"diffusion_embedding_dim\": 256,\n",
    "    \"nheads\": 4,\n",
    "    \"layers\": 5,\n",
    "    # \"side_dim\": 128\n",
    "    \"side_dim\": 512\n",
    "}\n",
    "hyperparams = {\n",
    "    'raw_data_path': \"idsse-data\", # raw_data_path = \"Download raw file path\"\n",
    "    'data_save_path': \"match_data\",\n",
    "    'train_batch_size': 16,\n",
    "    'val_batch_size': 16,\n",
    "    'test_batch_size': 16,\n",
    "    'num_workers': 8,\n",
    "    'epochs': 50,\n",
    "    'learning_rate': 1e-4,\n",
    "    'self_conditioning_ratio': 0.5,\n",
    "    'num_samples': 10,\n",
    "    'device': 'cuda' if torch.cuda.is_available() else 'cpu',\n",
    "\n",
    "    'ddim_step': 200,\n",
    "    'eta': 0.1,\n",
    "    **csdi_config\n",
    "}\n",
    "raw_data_path = hyperparams['raw_data_path']\n",
    "data_save_path = hyperparams['data_save_path']\n",
    "train_batch_size = hyperparams['train_batch_size']\n",
    "val_batch_size = hyperparams['val_batch_size']\n",
    "test_batch_size = hyperparams['test_batch_size']\n",
    "num_workers = hyperparams['num_workers']\n",
    "epochs = hyperparams['epochs']\n",
    "learning_rate = hyperparams['learning_rate']\n",
    "self_conditioning_ratio = hyperparams['self_conditioning_ratio']\n",
    "num_samples = hyperparams['num_samples']\n",
    "device = hyperparams['device']\n",
    "ddim_step = hyperparams['ddim_step']\n",
    "eta = hyperparams['eta']\n",
    "side_dim = hyperparams['side_dim']\n",
    "\n",
    "logger.info(f\"Hyperparameters: {hyperparams}\")\n",
    "\n",
    "# 2. Data Loading\n",
    "print(\"---Data Loading---\")\n",
    "if not os.path.exists(data_save_path) or len(os.listdir(data_save_path)) == 0:\n",
    "    organize_and_process(raw_data_path, data_save_path)\n",
    "else:\n",
    "    print(\"Skip organize_and_process\")\n",
    "\n",
    "dataset = MultiMatchSoccerDataset(data_root=data_save_path)\n",
    "train_idx, val_idx, test_idx = split_dataset_indices(dataset, val_ratio=1/6, test_ratio=1/6, random_seed=SEED)\n",
    "\n",
    "train_dataloader = DataLoader(\n",
    "    Subset(dataset, train_idx),\n",
    "    batch_size=train_batch_size,\n",
    "    shuffle=True,\n",
    "    num_workers=num_workers,\n",
    "    pin_memory=True,\n",
    "    persistent_workers=False,\n",
    "    collate_fn=custom_collate_fn,\n",
    "    worker_init_fn=worker_init_fn,\n",
    "    generator=generator(SEED)\n",
    ")\n",
    "\n",
    "val_dataloader = DataLoader(\n",
    "    Subset(dataset, val_idx),\n",
    "    batch_size=val_batch_size,\n",
    "    shuffle=False,\n",
    "    num_workers=num_workers,\n",
    "    pin_memory=True,\n",
    "    persistent_workers=False,\n",
    "    collate_fn=custom_collate_fn,\n",
    "    worker_init_fn=worker_init_fn,\n",
    ")\n",
    "\n",
    "test_dataloader = DataLoader(\n",
    "    Subset(dataset, test_idx),\n",
    "    batch_size=test_batch_size,\n",
    "    shuffle=False,\n",
    "    num_workers=num_workers,\n",
    "    pin_memory=True,\n",
    "    persistent_workers=False,\n",
    "    collate_fn=custom_collate_fn,\n",
    "    worker_init_fn=worker_init_fn\n",
    ")\n",
    "\n",
    "print(\"---Data Load!---\")\n",
    "\n",
    "# 3. Model Define\n",
    "# Extract node feature dimension\n",
    "sample = dataset[0]\n",
    "graph = build_graph_sequence_from_condition({\n",
    "    \"condition\": sample[\"condition\"],\n",
    "    \"condition_columns\": sample[\"condition_columns\"],\n",
    "    \"pitch_scale\": sample[\"pitch_scale\"]\n",
    "}).to(device)\n",
    "\n",
    "log_graph_stats(graph, logger, prefix=\"InitGraphSample\")\n",
    "\n",
    "in_dim = graph['Node'].x.size(1)\n",
    "\n",
    "# Extract target's history trajectories from condition\n",
    "condition_columns = sample[\"condition_columns\"]\n",
    "target_columns = sample[\"target_columns\"]\n",
    "target_idx = [condition_columns.index(col) for col in target_columns if col in condition_columns]\n",
    "\n",
    "# graph_encoder = InteractionGraphEncoder(in_dim=in_dim, hidden_dim=128, out_dim=128, heads = 2).to(device)\n",
    "graph_encoder = InteractionGraphEncoder(in_dim=in_dim, hidden_dim=side_dim // 2, out_dim=side_dim // 2).to(device)\n",
    "history_encoder = TargetTrajectoryEncoder(num_layers=5, hidden_dim = side_dim // 4, bidirectional=True).to(device)\n",
    "denoiser = diff_CSDI(csdi_config)\n",
    "model = DiffusionTrajectoryModel(denoiser, num_steps=csdi_config[\"num_steps\"]).to(device)\n",
    "optimizer = torch.optim.Adam(model.parameters(), lr=learning_rate)\n",
    "scheduler = ReduceLROnPlateau(optimizer, mode='min', factor=0.5, patience=2, threshold=1e-4)\n",
    "scaler = GradScaler()\n",
    "\n",
    "logger.info(f\"Device: {device}\")\n",
    "logger.info(f\"GraphEncoder: {graph_encoder}\")\n",
    "logger.info(f\"HistoryEncoder: {history_encoder}\")\n",
    "logger.info(f\"Denoiser (diff_CSDI): {denoiser}\")\n",
    "logger.info(f\"DiffusionTrajectoryModel: {model}\")"
   ]
  },
  {
   "cell_type": "code",
   "execution_count": null,
   "metadata": {},
   "outputs": [
    {
     "data": {
      "application/vnd.jupyter.widget-view+json": {
       "model_id": "29c932dfaead46fa9b735c2a09de2602",
       "version_major": 2,
       "version_minor": 0
      },
      "text/plain": [
       "Training...:   0%|          | 0/50 [00:00<?, ?it/s]"
      ]
     },
     "metadata": {},
     "output_type": "display_data"
    }
   ],
   "source": [
    "\n",
    "# 4. Train\n",
    "best_state_dict = None\n",
    "best_val_loss = float(\"inf\")\n",
    "\n",
    "train_losses = []\n",
    "val_losses   = []\n",
    "\n",
    "for epoch in tqdm(range(1, epochs + 1), desc=\"Training...\"):\n",
    "    model.train()\n",
    "    train_noise_mse = 0\n",
    "    train_noise_nll = 0\n",
    "    # train_mse_loss = 0\n",
    "    # train_dtw_loss = 0\n",
    "    # train_fde_loss = 0\n",
    "    train_loss = 0\n",
    "\n",
    "    for batch in tqdm(train_dataloader, desc = \"Batch Training...\"):\n",
    "        cond = batch[\"condition\"].to(device)\n",
    "        B, T, _ = cond.shape\n",
    "        target = batch[\"target\"].to(device).view(-1, T, 11, 2)  # [B, T, 11, 2]\n",
    "        graph_batch = batch[\"graph\"].to(device)                              # HeteroData batch\n",
    "\n",
    "        # graph → H\n",
    "        H = graph_encoder(graph_batch)                                       # [B, 128]\n",
    "        cond_H = H.unsqueeze(-1).unsqueeze(-1).expand(-1, H.size(1), 11, T)\n",
    "        \n",
    "        # Target's history trajectories\n",
    "        hist = cond[:, :, target_idx].to(device) \n",
    "        hist_rep = history_encoder(hist)  # [B, 128]\n",
    "        cond_hist = hist_rep.unsqueeze(-1).unsqueeze(-1).expand(-1, H.size(1), 11, T)\n",
    "        \n",
    "        # Concat conditions\n",
    "        cond_info = torch.cat([cond_H, cond_hist], dim=1)\n",
    "        # Preparing Self-conditioning data\n",
    "        # timestep (consistency)\n",
    "        t = torch.randint(0, model.num_steps, (target.size(0),), device=device)\n",
    "        if torch.rand(1, device=device) < self_conditioning_ratio:\n",
    "            with torch.no_grad():\n",
    "                x_t, noise = model.q_sample(target, t)\n",
    "                x_t = x_t.permute(0,3,2,1)\n",
    "                \n",
    "                z1 = model.model(x_t, t, cond_info, self_cond=None)\n",
    "                \n",
    "                eps_pred1 = z1[:, :2, :, :]\n",
    "                a_hat = model.alpha_hat.to(device)[t].view(-1,1,1,1)\n",
    "                x0_hat = (x_t - (1 - a_hat).sqrt() * eps_pred1) / a_hat.sqrt()\n",
    "                x0_hat = x0_hat.permute(0,3,2,1)\n",
    "                                \n",
    "            s = x0_hat\n",
    "        else:\n",
    "            s = torch.zeros_like(target)\n",
    "\n",
    "        \n",
    "        # noise_loss, player_loss_mse, player_loss_frechet = model(target, cond_info=cond_info, self_cond=s)\n",
    "        # loss = noise_loss + player_loss_mse + player_loss_frechet * 0.2\n",
    "        noise_mse, noise_nll = model(target, t=t, cond_info=cond_info, self_cond=s)\n",
    "        loss = noise_mse + noise_nll * 0.001\n",
    "            \n",
    "        optimizer.zero_grad()\n",
    "        loss.backward()\n",
    "        optimizer.step()\n",
    "\n",
    "        # train_noise_loss += (noise_loss).item()\n",
    "        # # train_mse_loss += (player_loss_mse).item()\n",
    "        # train_dtw_loss += (player_loss_dtw).item()\n",
    "        # train_fde_loss += (player_loss_fde).item()\n",
    "        train_noise_mse += (noise_mse).item()\n",
    "        train_noise_nll += (noise_nll * 0.001).item()\n",
    "        train_loss += loss.item()\n",
    "\n",
    "    num_batches = len(train_dataloader)\n",
    "    \n",
    "    # avg_noise_loss = train_noise_loss / num_batches\n",
    "    # # avg_mse_loss = train_mse_loss / num_batches\n",
    "    # avg_dtw_loss = train_dtw_loss / num_batches\n",
    "    # avg_fde_loss = train_fde_loss / num_batches\n",
    "    avg_train_noise_mse = train_noise_mse / num_batches\n",
    "    avg_train_noise_nll = train_noise_nll / num_batches\n",
    "    avg_train_loss = train_loss / num_batches\n",
    "\n",
    "\n",
    "    # --- Validation ---\n",
    "    model.eval()\n",
    "    # val_noise_loss = 0\n",
    "    # val_mse_loss = 0\n",
    "    # val_dtw_loss = 0\n",
    "    # val_fde_loss = 0\n",
    "    val_noise_mse = 0\n",
    "    val_noise_nll = 0\n",
    "    val_total_loss = 0\n",
    "\n",
    "    with torch.no_grad():\n",
    "        for batch in tqdm(val_dataloader, desc=\"Validation\"):\n",
    "            cond = batch[\"condition\"].to(device)\n",
    "            B, T, _ = cond.shape\n",
    "            target = batch[\"target\"].to(device).view(-1, T, 11, 2)  # [B, T, 11, 2]\n",
    "            graph_batch = batch[\"graph\"].to(device)                              # HeteroData batch\n",
    "\n",
    "            # graph → H\n",
    "            H = graph_encoder(graph_batch)                                       # [B, 128]\n",
    "            cond_H = H.unsqueeze(-1).unsqueeze(-1).expand(-1, H.size(1), 11, T)\n",
    "            \n",
    "            # Target's history trajectories\n",
    "            hist = cond[:, :, target_idx].to(device)  # [B,128,11,T]\n",
    "            hist_rep = history_encoder(hist)  # [B, 128]\n",
    "            cond_hist = hist_rep.unsqueeze(-1).unsqueeze(-1).expand(-1, H.size(1), 11, T)\n",
    "            \n",
    "            # Concat conditions\n",
    "            cond_info = torch.cat([cond_H, cond_hist], dim=1)\n",
    "            \n",
    "            s = torch.zeros_like(target)\n",
    "            \n",
    "            # noise_loss, player_loss_mse, player_loss_frechet = model(target, cond_info=cond_info, self_cond=s)\n",
    "            # val_loss = noise_loss + player_loss_mse + player_loss_frechet * 0.2\n",
    "            noise_mse, noise_nll = model(target, cond_info=cond_info, self_cond=s)\n",
    "            val_loss = noise_mse + noise_nll * 0.001\n",
    "        \n",
    "            # val_noise_loss += (noise_loss).item()\n",
    "            # # val_mse_loss += (player_loss_mse).item()\n",
    "            # val_dtw_loss += (player_loss_dtw).item()\n",
    "            # val_fde_loss += (player_loss_fde).item()\n",
    "            val_noise_mse += (noise_mse).item()\n",
    "            val_noise_nll += (noise_nll * 0.001).item()\n",
    "            val_total_loss += val_loss.item()\n",
    "\n",
    "    # avg_val_noise_loss = val_noise_loss / len(val_dataloader)\n",
    "    # # avg_val_mse_loss = val_mse_loss / len(val_dataloader)\n",
    "    # avg_val_dtw_loss = val_dtw_loss / len(val_dataloader)\n",
    "    # avg_val_fde_loss = val_fde_loss / len(val_dataloader)\n",
    "    # avg_val_loss = val_total_loss / len(val_dataloader)\n",
    "    \n",
    "    num_batches = len(val_dataloader)\n",
    "    \n",
    "    avg_val_noise_mse = val_noise_mse / num_batches\n",
    "    avg_val_noise_nll = val_noise_nll / num_batches\n",
    "    avg_val_loss = val_total_loss / num_batches\n",
    "  \n",
    "    train_losses.append(avg_train_loss)\n",
    "    val_losses.append(avg_val_loss)\n",
    "    \n",
    "    current_lr = scheduler.get_last_lr()[0]\n",
    "    logger.info(f\"[Epoch {epoch}/{epochs}] Train Loss={avg_train_loss:.6f} (Noise simple={avg_train_noise_mse:.6f}, Noise NLL={avg_train_noise_nll:.6f}) | Val Loss={avg_val_loss:.6f} | LR={current_lr:.6e}\")\n",
    "    \n",
    "    tqdm.write(f\"[Epoch {epoch}]\\n\"\n",
    "               f\"[Train] Cost: {avg_train_loss:.6f} | Noise Loss: {avg_train_noise_mse:.6f} | NLL Loss: {avg_train_noise_nll:.6f} | LR: {current_lr:.6f}\\n\"\n",
    "               f\"[Validation] Val Loss: {avg_val_loss:.6f} | Noise Loss: {avg_val_noise_mse:.6f} | NLL Loss: {avg_val_noise_nll:.6f}\")\n",
    "    \n",
    "    scheduler.step(avg_val_loss)\n",
    "    if avg_val_loss < best_val_loss:\n",
    "        best_val_loss = avg_val_loss\n",
    "        best_state_dict = model.state_dict()\n",
    "\n",
    "logger.info(f\"Training complete. Best val loss: {best_val_loss:.6f}\")\n",
    "        \n",
    "# 4-1. Plot learning_curve\n",
    "plt.figure(figsize=(8, 6))\n",
    "plt.plot(range(1, epochs+1), train_losses, label='Train Loss')\n",
    "plt.plot(range(1, epochs+1), val_losses, label='Val Loss')\n",
    "plt.xlabel('Epoch')\n",
    "plt.ylabel('Loss')\n",
    "plt.title(f\"Train & Validation Loss, {csdi_config['num_steps']} steps, {csdi_config['channels']} channels, \"\n",
    "          f\"{csdi_config['diffusion_embedding_dim']} embedding dim, {csdi_config['nheads']} heads, {csdi_config['layers']} layers \"\n",
    "          f\"self-conditioning ratio: {self_conditioning_ratio}\")\n",
    "plt.legend()\n",
    "plt.tight_layout()\n",
    "\n",
    "plt.savefig('results/0512_diffusion_lr_curve.png')\n",
    "\n",
    "plt.show()\n"
   ]
  },
  {
   "cell_type": "code",
   "execution_count": null,
   "metadata": {},
   "outputs": [
    {
     "data": {
      "application/vnd.jupyter.widget-view+json": {
       "model_id": "eb1301f3c8674d54bce5bd77972b4caf",
       "version_major": 2,
       "version_minor": 0
      },
      "text/plain": [
       "Test Streaming Inference:   0%|          | 0/98 [00:56<?, ?it/s]"
      ]
     },
     "metadata": {},
     "output_type": "display_data"
    },
    {
     "data": {
      "application/vnd.jupyter.widget-view+json": {
       "model_id": "2936de2e1fdb42a6a30b6e998c2cad61",
       "version_major": 2,
       "version_minor": 0
      },
      "text/plain": [
       "Generating...:   0%|          | 0/10 [00:00<?, ?it/s]"
      ]
     },
     "metadata": {},
     "output_type": "display_data"
    },
    {
     "name": "stdout",
     "output_type": "stream",
     "text": [
      "[47.12474060058594, 48.35272216796875, 47.058170318603516, 48.267372131347656, 48.18181610107422, 48.32517623901367, 47.882080078125, 47.73262405395508, 48.303955078125, 47.62089538574219, 47.876163482666016, 48.19601058959961, 48.23334503173828, 48.0052490234375, 48.99375915527344, 48.5924072265625]\n",
      "[52.43627166748047, 53.271663665771484, 57.27537536621094, 49.59867858886719, 48.58372116088867, 47.1732292175293, 51.14168167114258, 62.31167984008789, 62.052852630615234, 38.381710052490234, 51.8764762878418, 47.30390167236328, 44.88669967651367, 42.53123092651367, 47.781394958496094, 59.682098388671875]\n"
     ]
    },
    {
     "data": {
      "application/vnd.jupyter.widget-view+json": {
       "model_id": "f2b61d216bfd40a186ff1ba8ba302cde",
       "version_major": 2,
       "version_minor": 0
      },
      "text/plain": [
       "Generating...:   0%|          | 0/10 [00:00<?, ?it/s]"
      ]
     },
     "metadata": {},
     "output_type": "display_data"
    },
    {
     "data": {
      "application/vnd.jupyter.widget-view+json": {
       "model_id": "c1c7a941aae74ae2b616328302b696e1",
       "version_major": 2,
       "version_minor": 0
      },
      "text/plain": [
       "Generating...:   0%|          | 0/10 [00:00<?, ?it/s]"
      ]
     },
     "metadata": {},
     "output_type": "display_data"
    },
    {
     "data": {
      "application/vnd.jupyter.widget-view+json": {
       "model_id": "0f98622c32ef44d985a74fecc13e0c31",
       "version_major": 2,
       "version_minor": 0
      },
      "text/plain": [
       "Generating...:   0%|          | 0/10 [00:00<?, ?it/s]"
      ]
     },
     "metadata": {},
     "output_type": "display_data"
    },
    {
     "data": {
      "application/vnd.jupyter.widget-view+json": {
       "model_id": "6d851b94bd3e4f07bb9634257b5bb6a2",
       "version_major": 2,
       "version_minor": 0
      },
      "text/plain": [
       "Generating...:   0%|          | 0/10 [00:00<?, ?it/s]"
      ]
     },
     "metadata": {},
     "output_type": "display_data"
    },
    {
     "data": {
      "application/vnd.jupyter.widget-view+json": {
       "model_id": "c21720cb4cf240d991dabc8d27c5a8c1",
       "version_major": 2,
       "version_minor": 0
      },
      "text/plain": [
       "Generating...:   0%|          | 0/10 [00:00<?, ?it/s]"
      ]
     },
     "metadata": {},
     "output_type": "display_data"
    },
    {
     "data": {
      "application/vnd.jupyter.widget-view+json": {
       "model_id": "9198b7bd98b4404881b0ffbd1af2c6ab",
       "version_major": 2,
       "version_minor": 0
      },
      "text/plain": [
       "Generating...:   0%|          | 0/10 [00:00<?, ?it/s]"
      ]
     },
     "metadata": {},
     "output_type": "display_data"
    },
    {
     "data": {
      "application/vnd.jupyter.widget-view+json": {
       "model_id": "8a1e69b1f45b431a9f3e3e3d86d57282",
       "version_major": 2,
       "version_minor": 0
      },
      "text/plain": [
       "Generating...:   0%|          | 0/10 [00:00<?, ?it/s]"
      ]
     },
     "metadata": {},
     "output_type": "display_data"
    },
    {
     "data": {
      "application/vnd.jupyter.widget-view+json": {
       "model_id": "abdae63b383c4ac6b55a65f883796141",
       "version_major": 2,
       "version_minor": 0
      },
      "text/plain": [
       "Generating...:   0%|          | 0/10 [00:00<?, ?it/s]"
      ]
     },
     "metadata": {},
     "output_type": "display_data"
    },
    {
     "data": {
      "application/vnd.jupyter.widget-view+json": {
       "model_id": "cd1f2b4e34e34abbb00f3d4cb0da8b18",
       "version_major": 2,
       "version_minor": 0
      },
      "text/plain": [
       "Generating...:   0%|          | 0/10 [00:00<?, ?it/s]"
      ]
     },
     "metadata": {},
     "output_type": "display_data"
    },
    {
     "data": {
      "application/vnd.jupyter.widget-view+json": {
       "model_id": "8098a26caf754fbca629a222f98382fc",
       "version_major": 2,
       "version_minor": 0
      },
      "text/plain": [
       "Generating...:   0%|          | 0/10 [00:00<?, ?it/s]"
      ]
     },
     "metadata": {},
     "output_type": "display_data"
    },
    {
     "data": {
      "application/vnd.jupyter.widget-view+json": {
       "model_id": "8945990db1f54c8cb4f73b7725f70a0a",
       "version_major": 2,
       "version_minor": 0
      },
      "text/plain": [
       "Generating...:   0%|          | 0/10 [00:00<?, ?it/s]"
      ]
     },
     "metadata": {},
     "output_type": "display_data"
    },
    {
     "data": {
      "application/vnd.jupyter.widget-view+json": {
       "model_id": "e1a101527b08452592a9e9008d630af3",
       "version_major": 2,
       "version_minor": 0
      },
      "text/plain": [
       "Generating...:   0%|          | 0/10 [00:00<?, ?it/s]"
      ]
     },
     "metadata": {},
     "output_type": "display_data"
    },
    {
     "data": {
      "application/vnd.jupyter.widget-view+json": {
       "model_id": "118d972a6ce44f05a09fb3a3a2b16b72",
       "version_major": 2,
       "version_minor": 0
      },
      "text/plain": [
       "Generating...:   0%|          | 0/10 [00:00<?, ?it/s]"
      ]
     },
     "metadata": {},
     "output_type": "display_data"
    },
    {
     "data": {
      "application/vnd.jupyter.widget-view+json": {
       "model_id": "a0c00ec1843e4245aac666716b595c67",
       "version_major": 2,
       "version_minor": 0
      },
      "text/plain": [
       "Generating...:   0%|          | 0/10 [00:00<?, ?it/s]"
      ]
     },
     "metadata": {},
     "output_type": "display_data"
    },
    {
     "data": {
      "application/vnd.jupyter.widget-view+json": {
       "model_id": "d59ccddfc075413699e0b9d01f95168a",
       "version_major": 2,
       "version_minor": 0
      },
      "text/plain": [
       "Generating...:   0%|          | 0/10 [00:00<?, ?it/s]"
      ]
     },
     "metadata": {},
     "output_type": "display_data"
    },
    {
     "data": {
      "application/vnd.jupyter.widget-view+json": {
       "model_id": "290348b57b764c8f976750c5e3bcd2c7",
       "version_major": 2,
       "version_minor": 0
      },
      "text/plain": [
       "Generating...:   0%|          | 0/10 [00:00<?, ?it/s]"
      ]
     },
     "metadata": {},
     "output_type": "display_data"
    },
    {
     "data": {
      "application/vnd.jupyter.widget-view+json": {
       "model_id": "f3e191b5faf84a0185a9f74f4dff6f38",
       "version_major": 2,
       "version_minor": 0
      },
      "text/plain": [
       "Generating...:   0%|          | 0/10 [00:00<?, ?it/s]"
      ]
     },
     "metadata": {},
     "output_type": "display_data"
    },
    {
     "data": {
      "application/vnd.jupyter.widget-view+json": {
       "model_id": "d016399f239d462fbecaffde9dc0818f",
       "version_major": 2,
       "version_minor": 0
      },
      "text/plain": [
       "Generating...:   0%|          | 0/10 [00:00<?, ?it/s]"
      ]
     },
     "metadata": {},
     "output_type": "display_data"
    },
    {
     "data": {
      "application/vnd.jupyter.widget-view+json": {
       "model_id": "50d82360013a4eacb2a62931278120f7",
       "version_major": 2,
       "version_minor": 0
      },
      "text/plain": [
       "Generating...:   0%|          | 0/10 [00:00<?, ?it/s]"
      ]
     },
     "metadata": {},
     "output_type": "display_data"
    },
    {
     "data": {
      "application/vnd.jupyter.widget-view+json": {
       "model_id": "5a76828e5d004e84a5fc68f2c888417c",
       "version_major": 2,
       "version_minor": 0
      },
      "text/plain": [
       "Generating...:   0%|          | 0/10 [00:00<?, ?it/s]"
      ]
     },
     "metadata": {},
     "output_type": "display_data"
    },
    {
     "data": {
      "application/vnd.jupyter.widget-view+json": {
       "model_id": "c722ca6e99e2441e8f62aeb9f7c8c44c",
       "version_major": 2,
       "version_minor": 0
      },
      "text/plain": [
       "Generating...:   0%|          | 0/10 [00:00<?, ?it/s]"
      ]
     },
     "metadata": {},
     "output_type": "display_data"
    },
    {
     "data": {
      "application/vnd.jupyter.widget-view+json": {
       "model_id": "5820bdb3af1c4790ad83e0b99b845b50",
       "version_major": 2,
       "version_minor": 0
      },
      "text/plain": [
       "Generating...:   0%|          | 0/10 [00:00<?, ?it/s]"
      ]
     },
     "metadata": {},
     "output_type": "display_data"
    },
    {
     "data": {
      "application/vnd.jupyter.widget-view+json": {
       "model_id": "01431fce7e2e4419a9be3727b32f4785",
       "version_major": 2,
       "version_minor": 0
      },
      "text/plain": [
       "Generating...:   0%|          | 0/10 [00:00<?, ?it/s]"
      ]
     },
     "metadata": {},
     "output_type": "display_data"
    },
    {
     "data": {
      "application/vnd.jupyter.widget-view+json": {
       "model_id": "52b9129121be4c259fd18ebbf5ad2b33",
       "version_major": 2,
       "version_minor": 0
      },
      "text/plain": [
       "Generating...:   0%|          | 0/10 [00:00<?, ?it/s]"
      ]
     },
     "metadata": {},
     "output_type": "display_data"
    },
    {
     "data": {
      "application/vnd.jupyter.widget-view+json": {
       "model_id": "ff9e383c1ae34d9fb3ba0d2e15aea876",
       "version_major": 2,
       "version_minor": 0
      },
      "text/plain": [
       "Generating...:   0%|          | 0/10 [00:00<?, ?it/s]"
      ]
     },
     "metadata": {},
     "output_type": "display_data"
    },
    {
     "data": {
      "application/vnd.jupyter.widget-view+json": {
       "model_id": "8c486d53e8ac40a6aa0a062232c3743d",
       "version_major": 2,
       "version_minor": 0
      },
      "text/plain": [
       "Generating...:   0%|          | 0/10 [00:00<?, ?it/s]"
      ]
     },
     "metadata": {},
     "output_type": "display_data"
    },
    {
     "data": {
      "application/vnd.jupyter.widget-view+json": {
       "model_id": "b9c5297741e74d429cbb6ef6f2edc198",
       "version_major": 2,
       "version_minor": 0
      },
      "text/plain": [
       "Generating...:   0%|          | 0/10 [00:00<?, ?it/s]"
      ]
     },
     "metadata": {},
     "output_type": "display_data"
    },
    {
     "data": {
      "application/vnd.jupyter.widget-view+json": {
       "model_id": "621e58e4b5e84f7b84c1cb59a467293d",
       "version_major": 2,
       "version_minor": 0
      },
      "text/plain": [
       "Generating...:   0%|          | 0/10 [00:00<?, ?it/s]"
      ]
     },
     "metadata": {},
     "output_type": "display_data"
    },
    {
     "data": {
      "application/vnd.jupyter.widget-view+json": {
       "model_id": "e41dcc8db16f44a1ab05dab08ad5b868",
       "version_major": 2,
       "version_minor": 0
      },
      "text/plain": [
       "Generating...:   0%|          | 0/10 [00:00<?, ?it/s]"
      ]
     },
     "metadata": {},
     "output_type": "display_data"
    },
    {
     "data": {
      "application/vnd.jupyter.widget-view+json": {
       "model_id": "5111e72abc36474199ddddcbe48cbff7",
       "version_major": 2,
       "version_minor": 0
      },
      "text/plain": [
       "Generating...:   0%|          | 0/10 [00:00<?, ?it/s]"
      ]
     },
     "metadata": {},
     "output_type": "display_data"
    },
    {
     "data": {
      "application/vnd.jupyter.widget-view+json": {
       "model_id": "56f4d87e4d73460493a627ecd5b77e1a",
       "version_major": 2,
       "version_minor": 0
      },
      "text/plain": [
       "Generating...:   0%|          | 0/10 [00:00<?, ?it/s]"
      ]
     },
     "metadata": {},
     "output_type": "display_data"
    },
    {
     "data": {
      "application/vnd.jupyter.widget-view+json": {
       "model_id": "5d6a1dedfb3441c884910501409b56b0",
       "version_major": 2,
       "version_minor": 0
      },
      "text/plain": [
       "Generating...:   0%|          | 0/10 [00:00<?, ?it/s]"
      ]
     },
     "metadata": {},
     "output_type": "display_data"
    },
    {
     "data": {
      "application/vnd.jupyter.widget-view+json": {
       "model_id": "5483c5efcf0f44a78af43f9c260cf3ad",
       "version_major": 2,
       "version_minor": 0
      },
      "text/plain": [
       "Generating...:   0%|          | 0/10 [00:00<?, ?it/s]"
      ]
     },
     "metadata": {},
     "output_type": "display_data"
    },
    {
     "data": {
      "application/vnd.jupyter.widget-view+json": {
       "model_id": "88bbca21259a4f138fde6aeec2af45d7",
       "version_major": 2,
       "version_minor": 0
      },
      "text/plain": [
       "Generating...:   0%|          | 0/10 [00:00<?, ?it/s]"
      ]
     },
     "metadata": {},
     "output_type": "display_data"
    },
    {
     "data": {
      "application/vnd.jupyter.widget-view+json": {
       "model_id": "7419c014224340eea7b7c38de6153520",
       "version_major": 2,
       "version_minor": 0
      },
      "text/plain": [
       "Generating...:   0%|          | 0/10 [00:00<?, ?it/s]"
      ]
     },
     "metadata": {},
     "output_type": "display_data"
    },
    {
     "data": {
      "application/vnd.jupyter.widget-view+json": {
       "model_id": "32ad40520f0a4d0098923dd37f998431",
       "version_major": 2,
       "version_minor": 0
      },
      "text/plain": [
       "Generating...:   0%|          | 0/10 [00:00<?, ?it/s]"
      ]
     },
     "metadata": {},
     "output_type": "display_data"
    },
    {
     "data": {
      "application/vnd.jupyter.widget-view+json": {
       "model_id": "500c4b81cef54f139944c86b16bc0f8d",
       "version_major": 2,
       "version_minor": 0
      },
      "text/plain": [
       "Generating...:   0%|          | 0/10 [00:00<?, ?it/s]"
      ]
     },
     "metadata": {},
     "output_type": "display_data"
    },
    {
     "data": {
      "application/vnd.jupyter.widget-view+json": {
       "model_id": "1197f599e6db46a790cedae6da88f210",
       "version_major": 2,
       "version_minor": 0
      },
      "text/plain": [
       "Generating...:   0%|          | 0/10 [00:00<?, ?it/s]"
      ]
     },
     "metadata": {},
     "output_type": "display_data"
    },
    {
     "data": {
      "application/vnd.jupyter.widget-view+json": {
       "model_id": "03b91cf9914843e7872436cc9134ec63",
       "version_major": 2,
       "version_minor": 0
      },
      "text/plain": [
       "Generating...:   0%|          | 0/10 [00:00<?, ?it/s]"
      ]
     },
     "metadata": {},
     "output_type": "display_data"
    },
    {
     "data": {
      "application/vnd.jupyter.widget-view+json": {
       "model_id": "9f1f304fc6ec46e097b103c4c443e46a",
       "version_major": 2,
       "version_minor": 0
      },
      "text/plain": [
       "Generating...:   0%|          | 0/10 [00:00<?, ?it/s]"
      ]
     },
     "metadata": {},
     "output_type": "display_data"
    },
    {
     "data": {
      "application/vnd.jupyter.widget-view+json": {
       "model_id": "f0530b7b510b438897e68a4139d61ed3",
       "version_major": 2,
       "version_minor": 0
      },
      "text/plain": [
       "Generating...:   0%|          | 0/10 [00:00<?, ?it/s]"
      ]
     },
     "metadata": {},
     "output_type": "display_data"
    },
    {
     "data": {
      "application/vnd.jupyter.widget-view+json": {
       "model_id": "9bb8d12257504b1f91dd8c6bcb5b3e6b",
       "version_major": 2,
       "version_minor": 0
      },
      "text/plain": [
       "Generating...:   0%|          | 0/10 [00:00<?, ?it/s]"
      ]
     },
     "metadata": {},
     "output_type": "display_data"
    },
    {
     "data": {
      "application/vnd.jupyter.widget-view+json": {
       "model_id": "77e0254fc6584400a81ed0f1a9cf3af4",
       "version_major": 2,
       "version_minor": 0
      },
      "text/plain": [
       "Generating...:   0%|          | 0/10 [00:00<?, ?it/s]"
      ]
     },
     "metadata": {},
     "output_type": "display_data"
    },
    {
     "data": {
      "application/vnd.jupyter.widget-view+json": {
       "model_id": "25df9002f2124e4a8f06ff7a556e3ab9",
       "version_major": 2,
       "version_minor": 0
      },
      "text/plain": [
       "Generating...:   0%|          | 0/10 [00:00<?, ?it/s]"
      ]
     },
     "metadata": {},
     "output_type": "display_data"
    },
    {
     "data": {
      "application/vnd.jupyter.widget-view+json": {
       "model_id": "e3c4b1fdf3ae462481c558200fadcd1c",
       "version_major": 2,
       "version_minor": 0
      },
      "text/plain": [
       "Generating...:   0%|          | 0/10 [00:00<?, ?it/s]"
      ]
     },
     "metadata": {},
     "output_type": "display_data"
    },
    {
     "data": {
      "application/vnd.jupyter.widget-view+json": {
       "model_id": "cf9170ab65b04b87bce74e8a40c9b96a",
       "version_major": 2,
       "version_minor": 0
      },
      "text/plain": [
       "Generating...:   0%|          | 0/10 [00:00<?, ?it/s]"
      ]
     },
     "metadata": {},
     "output_type": "display_data"
    },
    {
     "data": {
      "application/vnd.jupyter.widget-view+json": {
       "model_id": "822c7c55444346b2ae86ec3d248fc610",
       "version_major": 2,
       "version_minor": 0
      },
      "text/plain": [
       "Generating...:   0%|          | 0/10 [00:00<?, ?it/s]"
      ]
     },
     "metadata": {},
     "output_type": "display_data"
    },
    {
     "data": {
      "application/vnd.jupyter.widget-view+json": {
       "model_id": "583048e7f2bc420b9b8a13ceaebe05d1",
       "version_major": 2,
       "version_minor": 0
      },
      "text/plain": [
       "Generating...:   0%|          | 0/10 [00:00<?, ?it/s]"
      ]
     },
     "metadata": {},
     "output_type": "display_data"
    },
    {
     "data": {
      "application/vnd.jupyter.widget-view+json": {
       "model_id": "2e03a82837a543a0bb4c9e633618f783",
       "version_major": 2,
       "version_minor": 0
      },
      "text/plain": [
       "Generating...:   0%|          | 0/10 [00:00<?, ?it/s]"
      ]
     },
     "metadata": {},
     "output_type": "display_data"
    },
    {
     "data": {
      "application/vnd.jupyter.widget-view+json": {
       "model_id": "d962c0786caf458ca75fff6283e56f78",
       "version_major": 2,
       "version_minor": 0
      },
      "text/plain": [
       "Generating...:   0%|          | 0/10 [00:00<?, ?it/s]"
      ]
     },
     "metadata": {},
     "output_type": "display_data"
    },
    {
     "data": {
      "application/vnd.jupyter.widget-view+json": {
       "model_id": "eca5d87b39f74d1890dc72f462264d6e",
       "version_major": 2,
       "version_minor": 0
      },
      "text/plain": [
       "Generating...:   0%|          | 0/10 [00:00<?, ?it/s]"
      ]
     },
     "metadata": {},
     "output_type": "display_data"
    },
    {
     "data": {
      "application/vnd.jupyter.widget-view+json": {
       "model_id": "13a985e0b9d645e9b5db597de0ef7be4",
       "version_major": 2,
       "version_minor": 0
      },
      "text/plain": [
       "Generating...:   0%|          | 0/10 [00:00<?, ?it/s]"
      ]
     },
     "metadata": {},
     "output_type": "display_data"
    },
    {
     "data": {
      "application/vnd.jupyter.widget-view+json": {
       "model_id": "7b71b72946f74297a94a70865c527cac",
       "version_major": 2,
       "version_minor": 0
      },
      "text/plain": [
       "Generating...:   0%|          | 0/10 [00:00<?, ?it/s]"
      ]
     },
     "metadata": {},
     "output_type": "display_data"
    },
    {
     "data": {
      "application/vnd.jupyter.widget-view+json": {
       "model_id": "e479c334fa9f4ff1aaff6ee852f9239b",
       "version_major": 2,
       "version_minor": 0
      },
      "text/plain": [
       "Generating...:   0%|          | 0/10 [00:00<?, ?it/s]"
      ]
     },
     "metadata": {},
     "output_type": "display_data"
    },
    {
     "data": {
      "application/vnd.jupyter.widget-view+json": {
       "model_id": "a45ed505abd649f8a8aeb63c16cc2781",
       "version_major": 2,
       "version_minor": 0
      },
      "text/plain": [
       "Generating...:   0%|          | 0/10 [00:00<?, ?it/s]"
      ]
     },
     "metadata": {},
     "output_type": "display_data"
    },
    {
     "data": {
      "application/vnd.jupyter.widget-view+json": {
       "model_id": "5db08fcfc46a4b3e85480507e28243d9",
       "version_major": 2,
       "version_minor": 0
      },
      "text/plain": [
       "Generating...:   0%|          | 0/10 [00:00<?, ?it/s]"
      ]
     },
     "metadata": {},
     "output_type": "display_data"
    },
    {
     "data": {
      "application/vnd.jupyter.widget-view+json": {
       "model_id": "40e75667751b47b999001081031293be",
       "version_major": 2,
       "version_minor": 0
      },
      "text/plain": [
       "Generating...:   0%|          | 0/10 [00:00<?, ?it/s]"
      ]
     },
     "metadata": {},
     "output_type": "display_data"
    },
    {
     "data": {
      "application/vnd.jupyter.widget-view+json": {
       "model_id": "1f88787604b048dcbd20ce0231bda1f5",
       "version_major": 2,
       "version_minor": 0
      },
      "text/plain": [
       "Generating...:   0%|          | 0/10 [00:00<?, ?it/s]"
      ]
     },
     "metadata": {},
     "output_type": "display_data"
    },
    {
     "data": {
      "application/vnd.jupyter.widget-view+json": {
       "model_id": "c9b9a1c48cc248bcb628549dbc4684cd",
       "version_major": 2,
       "version_minor": 0
      },
      "text/plain": [
       "Generating...:   0%|          | 0/10 [00:00<?, ?it/s]"
      ]
     },
     "metadata": {},
     "output_type": "display_data"
    },
    {
     "data": {
      "application/vnd.jupyter.widget-view+json": {
       "model_id": "058f33cf18ec4a1d85fe9c5f69482a42",
       "version_major": 2,
       "version_minor": 0
      },
      "text/plain": [
       "Generating...:   0%|          | 0/10 [00:00<?, ?it/s]"
      ]
     },
     "metadata": {},
     "output_type": "display_data"
    },
    {
     "data": {
      "application/vnd.jupyter.widget-view+json": {
       "model_id": "5f6b75046f3341be8cad65b7d7a53c6a",
       "version_major": 2,
       "version_minor": 0
      },
      "text/plain": [
       "Generating...:   0%|          | 0/10 [00:00<?, ?it/s]"
      ]
     },
     "metadata": {},
     "output_type": "display_data"
    },
    {
     "data": {
      "application/vnd.jupyter.widget-view+json": {
       "model_id": "0819f45129f04633bec1549e1426d805",
       "version_major": 2,
       "version_minor": 0
      },
      "text/plain": [
       "Generating...:   0%|          | 0/10 [00:00<?, ?it/s]"
      ]
     },
     "metadata": {},
     "output_type": "display_data"
    },
    {
     "data": {
      "application/vnd.jupyter.widget-view+json": {
       "model_id": "ed47f2294d0f4ddf8564c3b0812988c2",
       "version_major": 2,
       "version_minor": 0
      },
      "text/plain": [
       "Generating...:   0%|          | 0/10 [00:00<?, ?it/s]"
      ]
     },
     "metadata": {},
     "output_type": "display_data"
    },
    {
     "data": {
      "application/vnd.jupyter.widget-view+json": {
       "model_id": "3c28f82be0e6476e882953009149175b",
       "version_major": 2,
       "version_minor": 0
      },
      "text/plain": [
       "Generating...:   0%|          | 0/10 [00:00<?, ?it/s]"
      ]
     },
     "metadata": {},
     "output_type": "display_data"
    },
    {
     "data": {
      "application/vnd.jupyter.widget-view+json": {
       "model_id": "e6cad669dfa34931afad5bead256a941",
       "version_major": 2,
       "version_minor": 0
      },
      "text/plain": [
       "Generating...:   0%|          | 0/10 [00:00<?, ?it/s]"
      ]
     },
     "metadata": {},
     "output_type": "display_data"
    },
    {
     "data": {
      "application/vnd.jupyter.widget-view+json": {
       "model_id": "f48c0cdde07b468bae8aed43c7dbecf7",
       "version_major": 2,
       "version_minor": 0
      },
      "text/plain": [
       "Generating...:   0%|          | 0/10 [00:00<?, ?it/s]"
      ]
     },
     "metadata": {},
     "output_type": "display_data"
    },
    {
     "data": {
      "application/vnd.jupyter.widget-view+json": {
       "model_id": "a2ef07c59e114e4fb6277933ad50f5a1",
       "version_major": 2,
       "version_minor": 0
      },
      "text/plain": [
       "Generating...:   0%|          | 0/10 [00:00<?, ?it/s]"
      ]
     },
     "metadata": {},
     "output_type": "display_data"
    },
    {
     "data": {
      "application/vnd.jupyter.widget-view+json": {
       "model_id": "bf833d105b034da68cd29984766cb70b",
       "version_major": 2,
       "version_minor": 0
      },
      "text/plain": [
       "Generating...:   0%|          | 0/10 [00:00<?, ?it/s]"
      ]
     },
     "metadata": {},
     "output_type": "display_data"
    },
    {
     "data": {
      "application/vnd.jupyter.widget-view+json": {
       "model_id": "f666d65e0d5247688d69b089e849607a",
       "version_major": 2,
       "version_minor": 0
      },
      "text/plain": [
       "Generating...:   0%|          | 0/10 [00:00<?, ?it/s]"
      ]
     },
     "metadata": {},
     "output_type": "display_data"
    },
    {
     "data": {
      "application/vnd.jupyter.widget-view+json": {
       "model_id": "e69f256ebd004582a01e8a966603866b",
       "version_major": 2,
       "version_minor": 0
      },
      "text/plain": [
       "Generating...:   0%|          | 0/10 [00:00<?, ?it/s]"
      ]
     },
     "metadata": {},
     "output_type": "display_data"
    },
    {
     "data": {
      "application/vnd.jupyter.widget-view+json": {
       "model_id": "76b99e8c20f94bb8b9c526a484b418fa",
       "version_major": 2,
       "version_minor": 0
      },
      "text/plain": [
       "Generating...:   0%|          | 0/10 [00:00<?, ?it/s]"
      ]
     },
     "metadata": {},
     "output_type": "display_data"
    },
    {
     "data": {
      "application/vnd.jupyter.widget-view+json": {
       "model_id": "487376431346402791cc8d4e5a916e2c",
       "version_major": 2,
       "version_minor": 0
      },
      "text/plain": [
       "Generating...:   0%|          | 0/10 [00:00<?, ?it/s]"
      ]
     },
     "metadata": {},
     "output_type": "display_data"
    },
    {
     "data": {
      "application/vnd.jupyter.widget-view+json": {
       "model_id": "4bf0409f3964469d8702ded661d485f8",
       "version_major": 2,
       "version_minor": 0
      },
      "text/plain": [
       "Generating...:   0%|          | 0/10 [00:00<?, ?it/s]"
      ]
     },
     "metadata": {},
     "output_type": "display_data"
    },
    {
     "data": {
      "application/vnd.jupyter.widget-view+json": {
       "model_id": "fe45ea05ac3945cc8a8d0726d284402c",
       "version_major": 2,
       "version_minor": 0
      },
      "text/plain": [
       "Generating...:   0%|          | 0/10 [00:00<?, ?it/s]"
      ]
     },
     "metadata": {},
     "output_type": "display_data"
    },
    {
     "data": {
      "application/vnd.jupyter.widget-view+json": {
       "model_id": "22b6d65004c04bca8d3cc059c10cdb3b",
       "version_major": 2,
       "version_minor": 0
      },
      "text/plain": [
       "Generating...:   0%|          | 0/10 [00:00<?, ?it/s]"
      ]
     },
     "metadata": {},
     "output_type": "display_data"
    },
    {
     "data": {
      "application/vnd.jupyter.widget-view+json": {
       "model_id": "690062c829fa488e9845cc1cd8f6a126",
       "version_major": 2,
       "version_minor": 0
      },
      "text/plain": [
       "Generating...:   0%|          | 0/10 [00:00<?, ?it/s]"
      ]
     },
     "metadata": {},
     "output_type": "display_data"
    },
    {
     "data": {
      "application/vnd.jupyter.widget-view+json": {
       "model_id": "eda0aec180ed4e28bfb66a87c6d966db",
       "version_major": 2,
       "version_minor": 0
      },
      "text/plain": [
       "Generating...:   0%|          | 0/10 [00:00<?, ?it/s]"
      ]
     },
     "metadata": {},
     "output_type": "display_data"
    },
    {
     "data": {
      "application/vnd.jupyter.widget-view+json": {
       "model_id": "63d07f2ded72473aa5b0d40eb2e5b2e1",
       "version_major": 2,
       "version_minor": 0
      },
      "text/plain": [
       "Generating...:   0%|          | 0/10 [00:00<?, ?it/s]"
      ]
     },
     "metadata": {},
     "output_type": "display_data"
    },
    {
     "data": {
      "application/vnd.jupyter.widget-view+json": {
       "model_id": "baf4ab00d6904ef7b5ecba8a7e713b76",
       "version_major": 2,
       "version_minor": 0
      },
      "text/plain": [
       "Generating...:   0%|          | 0/10 [00:00<?, ?it/s]"
      ]
     },
     "metadata": {},
     "output_type": "display_data"
    },
    {
     "data": {
      "application/vnd.jupyter.widget-view+json": {
       "model_id": "69472b3ceac54886b364a1fce844763c",
       "version_major": 2,
       "version_minor": 0
      },
      "text/plain": [
       "Generating...:   0%|          | 0/10 [00:00<?, ?it/s]"
      ]
     },
     "metadata": {},
     "output_type": "display_data"
    },
    {
     "data": {
      "application/vnd.jupyter.widget-view+json": {
       "model_id": "86d187eaf1614a798dfbe995be9590be",
       "version_major": 2,
       "version_minor": 0
      },
      "text/plain": [
       "Generating...:   0%|          | 0/10 [00:00<?, ?it/s]"
      ]
     },
     "metadata": {},
     "output_type": "display_data"
    },
    {
     "data": {
      "application/vnd.jupyter.widget-view+json": {
       "model_id": "8ef69b03f95145a9b227f917f8d1f66f",
       "version_major": 2,
       "version_minor": 0
      },
      "text/plain": [
       "Generating...:   0%|          | 0/10 [00:00<?, ?it/s]"
      ]
     },
     "metadata": {},
     "output_type": "display_data"
    },
    {
     "data": {
      "application/vnd.jupyter.widget-view+json": {
       "model_id": "d8d9dc2d6a9343f3af29669ad69ba184",
       "version_major": 2,
       "version_minor": 0
      },
      "text/plain": [
       "Generating...:   0%|          | 0/10 [00:00<?, ?it/s]"
      ]
     },
     "metadata": {},
     "output_type": "display_data"
    },
    {
     "data": {
      "application/vnd.jupyter.widget-view+json": {
       "model_id": "6486ac3caba845c9be6675d2167782f3",
       "version_major": 2,
       "version_minor": 0
      },
      "text/plain": [
       "Generating...:   0%|          | 0/10 [00:00<?, ?it/s]"
      ]
     },
     "metadata": {},
     "output_type": "display_data"
    },
    {
     "data": {
      "application/vnd.jupyter.widget-view+json": {
       "model_id": "3fddefc1aeda403188385fe3dfe1ba4b",
       "version_major": 2,
       "version_minor": 0
      },
      "text/plain": [
       "Generating...:   0%|          | 0/10 [00:00<?, ?it/s]"
      ]
     },
     "metadata": {},
     "output_type": "display_data"
    },
    {
     "data": {
      "application/vnd.jupyter.widget-view+json": {
       "model_id": "eee056a1e90d413fa672e1e458319cd3",
       "version_major": 2,
       "version_minor": 0
      },
      "text/plain": [
       "Generating...:   0%|          | 0/10 [00:00<?, ?it/s]"
      ]
     },
     "metadata": {},
     "output_type": "display_data"
    },
    {
     "data": {
      "application/vnd.jupyter.widget-view+json": {
       "model_id": "024198900167493dbb0ad1a2ca4a6c86",
       "version_major": 2,
       "version_minor": 0
      },
      "text/plain": [
       "Generating...:   0%|          | 0/10 [00:00<?, ?it/s]"
      ]
     },
     "metadata": {},
     "output_type": "display_data"
    },
    {
     "data": {
      "application/vnd.jupyter.widget-view+json": {
       "model_id": "70e96fe64b7d4cbd96f20aa66228dfcf",
       "version_major": 2,
       "version_minor": 0
      },
      "text/plain": [
       "Generating...:   0%|          | 0/10 [00:00<?, ?it/s]"
      ]
     },
     "metadata": {},
     "output_type": "display_data"
    },
    {
     "data": {
      "application/vnd.jupyter.widget-view+json": {
       "model_id": "72a848bee414415085d9961b071fcb0a",
       "version_major": 2,
       "version_minor": 0
      },
      "text/plain": [
       "Generating...:   0%|          | 0/10 [00:00<?, ?it/s]"
      ]
     },
     "metadata": {},
     "output_type": "display_data"
    },
    {
     "data": {
      "application/vnd.jupyter.widget-view+json": {
       "model_id": "8aa56060f16f4567bb84a230c1ac3708",
       "version_major": 2,
       "version_minor": 0
      },
      "text/plain": [
       "Generating...:   0%|          | 0/10 [00:00<?, ?it/s]"
      ]
     },
     "metadata": {},
     "output_type": "display_data"
    },
    {
     "data": {
      "application/vnd.jupyter.widget-view+json": {
       "model_id": "6406b5c8fec347eeb4bfa39a1382c6d6",
       "version_major": 2,
       "version_minor": 0
      },
      "text/plain": [
       "Generating...:   0%|          | 0/10 [00:00<?, ?it/s]"
      ]
     },
     "metadata": {},
     "output_type": "display_data"
    },
    {
     "data": {
      "application/vnd.jupyter.widget-view+json": {
       "model_id": "39bd88e693274de39104fc5661652098",
       "version_major": 2,
       "version_minor": 0
      },
      "text/plain": [
       "Generating...:   0%|          | 0/10 [00:00<?, ?it/s]"
      ]
     },
     "metadata": {},
     "output_type": "display_data"
    },
    {
     "data": {
      "application/vnd.jupyter.widget-view+json": {
       "model_id": "dfa834dc93a249329e22ce104779a3bc",
       "version_major": 2,
       "version_minor": 0
      },
      "text/plain": [
       "Generating...:   0%|          | 0/10 [00:00<?, ?it/s]"
      ]
     },
     "metadata": {},
     "output_type": "display_data"
    },
    {
     "data": {
      "application/vnd.jupyter.widget-view+json": {
       "model_id": "981dcd57699d4232b585c76cb2020b5d",
       "version_major": 2,
       "version_minor": 0
      },
      "text/plain": [
       "Generating...:   0%|          | 0/10 [00:00<?, ?it/s]"
      ]
     },
     "metadata": {},
     "output_type": "display_data"
    },
    {
     "data": {
      "application/vnd.jupyter.widget-view+json": {
       "model_id": "99107058e5ab469e8b240693b6e8b7b2",
       "version_major": 2,
       "version_minor": 0
      },
      "text/plain": [
       "Generating...:   0%|          | 0/10 [00:00<?, ?it/s]"
      ]
     },
     "metadata": {},
     "output_type": "display_data"
    },
    {
     "data": {
      "application/vnd.jupyter.widget-view+json": {
       "model_id": "0ae213b01e34456a8e1fae8a4d251f96",
       "version_major": 2,
       "version_minor": 0
      },
      "text/plain": [
       "Generating...:   0%|          | 0/10 [00:00<?, ?it/s]"
      ]
     },
     "metadata": {},
     "output_type": "display_data"
    },
    {
     "data": {
      "application/vnd.jupyter.widget-view+json": {
       "model_id": "1880dbb93eb0407fb1e3381dfa6e79a8",
       "version_major": 2,
       "version_minor": 0
      },
      "text/plain": [
       "Generating...:   0%|          | 0/10 [00:00<?, ?it/s]"
      ]
     },
     "metadata": {},
     "output_type": "display_data"
    },
    {
     "name": "stdout",
     "output_type": "stream",
     "text": [
      "[Test Best-of-10] Average ADE: 46.9732 | Average FDE: 47.3212\n",
      "[Test Best-of-10] Best ADE overall: 42.4612 | Best FDE overall: 22.6125\n"
     ]
    }
   ],
   "source": [
    "\n",
    "# 5. Inference (Best-of-N Sampling) & Visualization\n",
    "model.load_state_dict(best_state_dict)\n",
    "model.eval()\n",
    "all_best_ades_test = []\n",
    "all_best_fdes_test = []\n",
    "visualize_samples = 5\n",
    "visualized = False\n",
    "\n",
    "ddim_step = 50\n",
    "eta = 0.0\n",
    "\n",
    "with torch.no_grad():\n",
    "    for batch in tqdm(test_dataloader, desc=\"Test Streaming Inference\"):\n",
    "        cond = batch[\"condition\"].to(device)\n",
    "        B, T, _ = cond.shape\n",
    "        target = batch[\"target\"].to(device).view(B, T, 11, 2)\n",
    "\n",
    "        graph_batch  = batch[\"graph\"].to(device)\n",
    "        H = graph_encoder(graph_batch)\n",
    "        cond_H = H.unsqueeze(-1).unsqueeze(-1).expand(-1, H.size(1), 11, T)\n",
    "        \n",
    "        hist = cond[:, :, target_idx].to(device)\n",
    "        hist_rep = history_encoder(hist)\n",
    "        cond_hist = hist_rep.unsqueeze(-1).unsqueeze(-1).expand(-1, H.size(1), 11, T)\n",
    "        cond_info = torch.cat([cond_H, cond_hist], dim=1)\n",
    "\n",
    "        best_ade_t = torch.full((B,), float(\"inf\"), device=device)\n",
    "        best_pred_t = torch.zeros_like(target)\n",
    "        best_fde_t = torch.full((B,), float(\"inf\"), device=device)\n",
    "                    \n",
    "        scales = torch.tensor(batch[\"pitch_scale\"], device=device, dtype=torch.float32)  \n",
    "        scales = scales.view(B, 1, 1, 2)\n",
    "\n",
    "        for _ in tqdm(range(num_samples), desc=\"Generating...\"):\n",
    "            pred_i = model.generate(shape=target.shape, cond_info=cond_info, ddim_steps=ddim_step, eta=eta, num_samples=1)[0]\n",
    "\n",
    "            pred_i_den = pred_i * scales\n",
    "            target_den = target * scales\n",
    "            \n",
    "            ade_i = ((pred_i_den - target_den)**2).sum(-1).sqrt().mean((1,2))\n",
    "            fde_i = ((pred_i_den[:,-1] - target_den[:,-1])**2).sum(-1).sqrt().mean(1)\n",
    "            \n",
    "            better = ade_i < best_ade_t\n",
    "            \n",
    "            best_pred_t[better] = pred_i_den[better]\n",
    "            best_ade_t[better] = ade_i[better]\n",
    "            best_fde_t[better] = fde_i[better]\n",
    "\n",
    "        all_best_ades_test.extend(best_ade_t.cpu().tolist())\n",
    "        all_best_fdes_test.extend(best_fde_t.cpu().tolist())\n",
    "\n",
    "        # Visualization\n",
    "        if not visualized:\n",
    "            base_dir = \"results/test_trajs\"\n",
    "            os.makedirs(base_dir, exist_ok=True)\n",
    "            for i in range(min(B, visualize_samples)):\n",
    "                sample_dir = os.path.join(base_dir, f\"sample{i:02d}\")\n",
    "                os.makedirs(sample_dir, exist_ok=True)\n",
    "                \n",
    "                other_cols  = batch[\"other_columns\"][i]\n",
    "                target_cols = batch[\"target_columns\"][i]\n",
    "                defender_nums = [int(col.split('_')[1]) for col in target_cols[::2]]\n",
    "\n",
    "                others_seq = batch[\"other\"][i].view(T, 12, 2).cpu().numpy()\n",
    "                target_traj = target_den[i].cpu().numpy()\n",
    "                pred_traj = best_pred_t[i].cpu().numpy()\n",
    "\n",
    "                for idx, jersey in enumerate(defender_nums):\n",
    "                    save_path = os.path.join(sample_dir, f\"player_{jersey:02d}.png\")\n",
    "                    plot_trajectories_on_pitch(others_seq, target_traj, pred_traj,\n",
    "                                               other_columns=other_cols, target_columns=target_cols,\n",
    "                                               player_idx=idx, annotate=True, save_path=save_path)\n",
    "\n",
    "            visualized = True\n",
    "            print(all_best_ades_test)\n",
    "            print(all_best_fdes_test)\n",
    "avg_test_ade = np.mean(all_best_ades_test)\n",
    "avg_test_fde = np.mean(all_best_fdes_test)\n",
    "print(f\"[Test Best-of-{num_samples}] Average ADE: {avg_test_ade:.4f} | Average FDE: {avg_test_fde:.4f}\")\n",
    "print(f\"[Test Best-of-{num_samples}] Best ADE overall: {min(all_best_ades_test):.4f} | Best FDE overall: {min(all_best_fdes_test):.4f}\")\n"
   ]
  },
  {
   "cell_type": "code",
   "execution_count": null,
   "metadata": {},
   "outputs": [],
   "source": [
    "import os\n",
    "os.environ[\"CUBLAS_WORKSPACE_CONFIG\"] = \":4096:8\"\n",
    "# os.environ[\"CUDA_LAUNCH_BLOCKING\"] = \"1\"\n",
    "import logging\n",
    "import torch\n",
    "import numpy as np\n",
    "import matplotlib.pyplot as plt\n",
    "from tqdm.auto import tqdm\n",
    "\n",
    "from torch.utils.data import DataLoader, Subset\n",
    "from torch.optim.lr_scheduler import ReduceLROnPlateau\n",
    "from torch.amp import autocast, GradScaler\n",
    "from models.diff_modules import diff_CSDI\n",
    "from models.diff_model import DiffusionTrajectoryModel\n",
    "from models.encoder import InteractionGraphEncoder, TargetTrajectoryEncoder\n",
    "from make_dataset import MultiMatchSoccerDataset, organize_and_process\n",
    "from utils.utils import set_evertyhing, worker_init_fn, generator, plot_trajectories_on_pitch, log_graph_stats\n",
    "from utils.data_utils import split_dataset_indices, custom_collate_fn\n",
    "from utils.graph_utils import build_graph_sequence_from_condition\n",
    "\n",
    "# SEED Fix\n",
    "SEED = 42\n",
    "set_evertyhing(SEED)\n",
    "\n",
    "\n",
    "# Save Log / Logger Setting\n",
    "model_save_path = './results/logs/'\n",
    "os.makedirs(model_save_path, exist_ok=True)\n",
    "logging.basicConfig(\n",
    "    level=logging.INFO,\n",
    "    format='%(asctime)s %(levelname)s %(message)s',\n",
    "    filename=os.path.join(model_save_path, 'train.log'),\n",
    "    filemode='w'\n",
    ")\n",
    "logger = logging.getLogger()\n",
    "\n",
    "# 1. Model Config & Hyperparameter Setting\n",
    "csdi_config = {\n",
    "    \"num_steps\": 1000,\n",
    "    \"channels\": 256,\n",
    "    \"diffusion_embedding_dim\": 256,\n",
    "    \"nheads\": 4,\n",
    "    \"layers\": 5,\n",
    "    # \"side_dim\": 128\n",
    "    \"side_dim\": 512\n",
    "}\n",
    "hyperparams = {\n",
    "    'raw_data_path': \"idsse-data\", # raw_data_path = \"Download raw file path\"\n",
    "    'data_save_path': \"match_data\",\n",
    "    'train_batch_size': 16,\n",
    "    'val_batch_size': 16,\n",
    "    'test_batch_size': 16,\n",
    "    'num_workers': 8,\n",
    "    'epochs': 50,\n",
    "    'learning_rate': 1e-4,\n",
    "    'self_conditioning_ratio': 0.5,\n",
    "    'num_samples': 10,\n",
    "    'device': 'cuda' if torch.cuda.is_available() else 'cpu',\n",
    "\n",
    "    'ddim_step': 200,\n",
    "    'eta': 0.1,\n",
    "    **csdi_config\n",
    "}\n",
    "raw_data_path = hyperparams['raw_data_path']\n",
    "data_save_path = hyperparams['data_save_path']\n",
    "train_batch_size = hyperparams['train_batch_size']\n",
    "val_batch_size = hyperparams['val_batch_size']\n",
    "test_batch_size = hyperparams['test_batch_size']\n",
    "num_workers = hyperparams['num_workers']\n",
    "epochs = hyperparams['epochs']\n",
    "learning_rate = hyperparams['learning_rate']\n",
    "self_conditioning_ratio = hyperparams['self_conditioning_ratio']\n",
    "num_samples = hyperparams['num_samples']\n",
    "device = hyperparams['device']\n",
    "ddim_step = hyperparams['ddim_step']\n",
    "eta = hyperparams['eta']\n",
    "side_dim = hyperparams['side_dim']\n",
    "\n",
    "logger.info(f\"Hyperparameters: {hyperparams}\")\n",
    "\n",
    "# 2. Data Loading\n",
    "print(\"---Data Loading---\")\n",
    "if not os.path.exists(data_save_path) or len(os.listdir(data_save_path)) == 0:\n",
    "    organize_and_process(raw_data_path, data_save_path)\n",
    "else:\n",
    "    print(\"Skip organize_and_process\")\n",
    "\n",
    "dataset = MultiMatchSoccerDataset(data_root=data_save_path)\n",
    "train_idx, val_idx, test_idx = split_dataset_indices(dataset, val_ratio=1/6, test_ratio=1/6, random_seed=SEED)\n",
    "\n",
    "train_dataloader = DataLoader(\n",
    "    Subset(dataset, train_idx),\n",
    "    batch_size=train_batch_size,\n",
    "    shuffle=True,\n",
    "    num_workers=num_workers,\n",
    "    pin_memory=True,\n",
    "    persistent_workers=False,\n",
    "    collate_fn=custom_collate_fn,\n",
    "    worker_init_fn=worker_init_fn,\n",
    "    generator=generator(SEED)\n",
    ")\n",
    "\n",
    "val_dataloader = DataLoader(\n",
    "    Subset(dataset, val_idx),\n",
    "    batch_size=val_batch_size,\n",
    "    shuffle=False,\n",
    "    num_workers=num_workers,\n",
    "    pin_memory=True,\n",
    "    persistent_workers=False,\n",
    "    collate_fn=custom_collate_fn,\n",
    "    worker_init_fn=worker_init_fn,\n",
    ")\n",
    "\n",
    "test_dataloader = DataLoader(\n",
    "    Subset(dataset, test_idx),\n",
    "    batch_size=test_batch_size,\n",
    "    shuffle=False,\n",
    "    num_workers=num_workers,\n",
    "    pin_memory=True,\n",
    "    persistent_workers=False,\n",
    "    collate_fn=custom_collate_fn,\n",
    "    worker_init_fn=worker_init_fn\n",
    ")\n",
    "\n",
    "print(\"---Data Load!---\")\n",
    "\n",
    "# 3. Model Define\n",
    "# Extract node feature dimension\n",
    "sample = dataset[0]\n",
    "graph = build_graph_sequence_from_condition({\n",
    "    \"condition\": sample[\"condition\"],\n",
    "    \"condition_columns\": sample[\"condition_columns\"],\n",
    "    \"pitch_scale\": sample[\"pitch_scale\"]\n",
    "}).to(device)\n",
    "\n",
    "log_graph_stats(graph, logger, prefix=\"InitGraphSample\")\n",
    "\n",
    "in_dim = graph['Node'].x.size(1)\n",
    "\n",
    "# Extract target's history trajectories from condition\n",
    "condition_columns = sample[\"condition_columns\"]\n",
    "target_columns = sample[\"target_columns\"]\n",
    "target_idx = [condition_columns.index(col) for col in target_columns if col in condition_columns]\n",
    "\n",
    "# graph_encoder = InteractionGraphEncoder(in_dim=in_dim, hidden_dim=128, out_dim=128, heads = 2).to(device)\n",
    "graph_encoder = InteractionGraphEncoder(in_dim=in_dim, hidden_dim=side_dim // 2, out_dim=side_dim // 2).to(device)\n",
    "history_encoder = TargetTrajectoryEncoder(num_layers=5, hidden_dim = side_dim // 4, bidirectional=True).to(device)\n",
    "denoiser = diff_CSDI(csdi_config)\n",
    "model = DiffusionTrajectoryModel(denoiser, num_steps=csdi_config[\"num_steps\"]).to(device)\n",
    "optimizer = torch.optim.Adam(model.parameters(), lr=learning_rate)\n",
    "scheduler = ReduceLROnPlateau(optimizer, mode='min', factor=0.5, patience=2, threshold=1e-4)\n",
    "scaler = GradScaler()\n",
    "\n",
    "logger.info(f\"Device: {device}\")\n",
    "logger.info(f\"GraphEncoder: {graph_encoder}\")\n",
    "logger.info(f\"HistoryEncoder: {history_encoder}\")\n",
    "logger.info(f\"Denoiser (diff_CSDI): {denoiser}\")\n",
    "logger.info(f\"DiffusionTrajectoryModel: {model}\")\n",
    "\n",
    "# 4. Train\n",
    "best_state_dict = None\n",
    "best_val_loss = float(\"inf\")\n",
    "\n",
    "train_losses = []\n",
    "val_losses   = []\n",
    "\n",
    "for epoch in tqdm(range(1, epochs + 1), desc=\"Training...\"):\n",
    "    model.train()\n",
    "    train_noise_mse = 0\n",
    "    train_noise_nll = 0\n",
    "    train_frechet_loss\n",
    "    # train_mse_loss = 0\n",
    "    # train_dtw_loss = 0\n",
    "    # train_fde_loss = 0\n",
    "    train_loss = 0\n",
    "\n",
    "    for batch in tqdm(train_dataloader, desc = \"Batch Training...\"):\n",
    "        cond = batch[\"condition\"].to(device)\n",
    "        B, T, _ = cond.shape\n",
    "        target = batch[\"target\"].to(device).view(-1, T, 11, 2)  # [B, T, 11, 2]\n",
    "        graph_batch = batch[\"graph\"].to(device)                              # HeteroData batch\n",
    "\n",
    "        # graph → H\n",
    "        H = graph_encoder(graph_batch)                                       # [B, 128]\n",
    "        cond_H = H.unsqueeze(-1).unsqueeze(-1).expand(-1, H.size(1), 11, T)\n",
    "        \n",
    "        # Target's history trajectories\n",
    "        hist = cond[:, :, target_idx].to(device) \n",
    "        hist_rep = history_encoder(hist)  # [B, 128]\n",
    "        cond_hist = hist_rep.unsqueeze(-1).unsqueeze(-1).expand(-1, H.size(1), 11, T)\n",
    "        \n",
    "        # Concat conditions\n",
    "        cond_info = torch.cat([cond_H, cond_hist], dim=1)\n",
    "        # Preparing Self-conditioning data\n",
    "        # timestep (consistency)\n",
    "        t = torch.randint(0, model.num_steps, (target.size(0),), device=device)\n",
    "        if torch.rand(1, device=device) < self_conditioning_ratio:\n",
    "            with torch.no_grad():\n",
    "                x_t, noise = model.q_sample(target, t)\n",
    "                x_t = x_t.permute(0,3,2,1)\n",
    "                \n",
    "                z1 = model.model(x_t, t, cond_info, self_cond=None)\n",
    "                \n",
    "                eps_pred1 = z1[:, :2, :, :]\n",
    "                a_hat = model.alpha_hat.to(device)[t].view(-1,1,1,1)\n",
    "                x0_hat = (x_t - (1 - a_hat).sqrt() * eps_pred1) / a_hat.sqrt()\n",
    "                x0_hat = x0_hat.permute(0,3,2,1)\n",
    "                                \n",
    "            s = x0_hat\n",
    "        else:\n",
    "            s = torch.zeros_like(target)\n",
    "\n",
    "        \n",
    "        # noise_loss, player_loss_mse, player_loss_frechet = model(target, cond_info=cond_info, self_cond=s)\n",
    "        # loss = noise_loss + player_loss_mse + player_loss_frechet * 0.2\n",
    "        noise_mse, noise_nll, player_frechet_loss = model(target, t=t, cond_info=cond_info, self_cond=s)\n",
    "        loss = noise_mse + noise_nll * 0.001 + player_frechet_loss\n",
    "            \n",
    "        optimizer.zero_grad()\n",
    "        loss.backward()\n",
    "        optimizer.step()\n",
    "\n",
    "        # train_noise_loss += (noise_loss).item()\n",
    "        # train_mse_loss += (player_loss_mse).item()\n",
    "        # train_dtw_loss += (player_loss_dtw).item()\n",
    "        # train_fde_loss += (player_loss_fde).item()\n",
    "        train_noise_mse += (noise_mse).item()\n",
    "        train_noise_nll += (noise_nll * 0.001).item()\n",
    "        train_frechet_loss += (player_frechet_loss).item()\n",
    "        train_loss += loss.item()\n",
    "\n",
    "    num_batches = len(train_dataloader)\n",
    "    \n",
    "    # avg_noise_loss = train_noise_loss / num_batches\n",
    "    # # avg_mse_loss = train_mse_loss / num_batches\n",
    "    # avg_dtw_loss = train_dtw_loss / num_batches\n",
    "    # avg_fde_loss = train_fde_loss / num_batches\n",
    "    avg_train_noise_mse = train_noise_mse / num_batches\n",
    "    avg_train_noise_nll = train_noise_nll / num_batches\n",
    "    avg_train_frechet_loss = train_frechet_loss / num_batches\n",
    "    avg_train_loss = train_loss / num_batches\n",
    "\n",
    "\n",
    "    # --- Validation ---\n",
    "    model.eval()\n",
    "    # val_noise_loss = 0\n",
    "    # val_mse_loss = 0\n",
    "    # val_dtw_loss = 0\n",
    "    # val_fde_loss = 0\n",
    "    val_noise_mse = 0\n",
    "    val_noise_nll = 0\n",
    "    val_frechet_loss = 0\n",
    "    val_total_loss = 0\n",
    "\n",
    "    with torch.no_grad():\n",
    "        for batch in tqdm(val_dataloader, desc=\"Validation\"):\n",
    "            cond = batch[\"condition\"].to(device)\n",
    "            B, T, _ = cond.shape\n",
    "            target = batch[\"target\"].to(device).view(-1, T, 11, 2)  # [B, T, 11, 2]\n",
    "            graph_batch = batch[\"graph\"].to(device)                              # HeteroData batch\n",
    "\n",
    "            # graph → H\n",
    "            H = graph_encoder(graph_batch)                                       # [B, 128]\n",
    "            cond_H = H.unsqueeze(-1).unsqueeze(-1).expand(-1, H.size(1), 11, T)\n",
    "            \n",
    "            # Target's history trajectories\n",
    "            hist = cond[:, :, target_idx].to(device)  # [B,128,11,T]\n",
    "            hist_rep = history_encoder(hist)  # [B, 128]\n",
    "            cond_hist = hist_rep.unsqueeze(-1).unsqueeze(-1).expand(-1, H.size(1), 11, T)\n",
    "            \n",
    "            # Concat conditions\n",
    "            cond_info = torch.cat([cond_H, cond_hist], dim=1)\n",
    "            \n",
    "            s = torch.zeros_like(target)\n",
    "            \n",
    "            # noise_loss, player_loss_mse, player_loss_frechet = model(target, cond_info=cond_info, self_cond=s)\n",
    "            # val_loss = noise_loss + player_loss_mse + player_loss_frechet * 0.2\n",
    "            noise_mse, noise_nll, player_frechet_loss = model(target, cond_info=cond_info, self_cond=s)\n",
    "            val_loss = noise_mse + noise_nll * 0.001 + player_frechet_loss\n",
    "        \n",
    "            # val_noise_loss += (noise_loss).item()\n",
    "            # # val_mse_loss += (player_loss_mse).item()\n",
    "            # val_dtw_loss += (player_loss_dtw).item()\n",
    "            # val_fde_loss += (player_loss_fde).item()\n",
    "            val_noise_mse += (noise_mse).item()\n",
    "            val_noise_nll += (noise_nll * 0.001).item()\n",
    "            val_frechet_loss += (player_frechet_loss).item()\n",
    "            val_total_loss += val_loss.item()\n",
    "\n",
    "    # avg_val_noise_loss = val_noise_loss / len(val_dataloader)\n",
    "    # # avg_val_mse_loss = val_mse_loss / len(val_dataloader)\n",
    "    # avg_val_dtw_loss = val_dtw_loss / len(val_dataloader)\n",
    "    # avg_val_fde_loss = val_fde_loss / len(val_dataloader)\n",
    "    # avg_val_loss = val_total_loss / len(val_dataloader)\n",
    "    \n",
    "    num_batches = len(val_dataloader)\n",
    "    \n",
    "    avg_val_noise_mse = val_noise_mse / num_batches\n",
    "    avg_val_noise_nll = val_noise_nll / num_batches\n",
    "    avg_val_frechet_loss = val_frechet_loss / num_batches\n",
    "    avg_val_loss = val_total_loss / num_batches\n",
    "  \n",
    "    train_losses.append(avg_train_loss)\n",
    "    val_losses.append(avg_val_loss)\n",
    "    \n",
    "    current_lr = scheduler.get_last_lr()[0]\n",
    "    logger.info(f\"[Epoch {epoch}/{epochs}] Train Loss={avg_train_loss:.6f} (Noise simple={avg_train_noise_mse:.6f}, Noise NLL={avg_train_noise_nll:.6f}, Frechet={avg_train_frechet_loss:.6f}) |\"\n",
    "                f\"Val Loss={avg_val_loss:.6f} | LR={current_lr:.6e}\")\n",
    "    \n",
    "    tqdm.write(f\"[Epoch {epoch}]\\n\"\n",
    "               f\"[Train] Cost: {avg_train_loss:.6f} | Noise Loss: {avg_train_noise_mse:.6f} | NLL Loss: {avg_train_noise_nll:.6f} | Frechet: {avg_train_frechet_loss:.6f}) | LR: {current_lr:.6f}\\n\"\n",
    "               f\"[Validation] Val Loss: {avg_val_loss:.6f} | Noise Loss: {avg_val_noise_mse:.6f} | NLL Loss: {avg_val_noise_nll:.6f} | Frechet: {avg_val_frechet_loss:.6f}) |\")\n",
    "    \n",
    "    scheduler.step(avg_val_loss)\n",
    "    if avg_val_loss < best_val_loss:\n",
    "        best_val_loss = avg_val_loss\n",
    "        best_state_dict = model.state_dict()\n",
    "\n",
    "logger.info(f\"Training complete. Best val loss: {best_val_loss:.6f}\")\n",
    "        \n",
    "# 4-1. Plot learning_curve\n",
    "plt.figure(figsize=(8, 6))\n",
    "plt.plot(range(1, epochs+1), train_losses, label='Train Loss')\n",
    "plt.plot(range(1, epochs+1), val_losses, label='Val Loss')\n",
    "plt.xlabel('Epoch')\n",
    "plt.ylabel('Loss')\n",
    "plt.title(f\"Train & Validation Loss, {csdi_config['num_steps']} steps, {csdi_config['channels']} channels, \"\n",
    "          f\"{csdi_config['diffusion_embedding_dim']} embedding dim, {csdi_config['nheads']} heads, {csdi_config['layers']} layers \"\n",
    "          f\"self-conditioning ratio: {self_conditioning_ratio}\")\n",
    "plt.legend()\n",
    "plt.tight_layout()\n",
    "\n",
    "plt.savefig('results/0512_diffusion_lr_curve.png')\n",
    "\n",
    "plt.show()\n",
    "\n",
    "\n",
    "# 5. Inference (Best-of-N Sampling) & Visualization\n",
    "model.load_state_dict(best_state_dict)\n",
    "model.eval()\n",
    "all_best_ades_test = []\n",
    "all_best_fdes_test = []\n",
    "visualize_samples = 5\n",
    "visualized = False\n",
    "\n",
    "with torch.no_grad():\n",
    "    for batch in tqdm(test_dataloader, desc=\"Test Streaming Inference\"):\n",
    "        cond = batch[\"condition\"].to(device)\n",
    "        B, T, _ = cond.shape\n",
    "        target = batch[\"target\"].to(device).view(B, T, 11, 2)\n",
    "\n",
    "        graph_batch  = batch[\"graph\"].to(device)\n",
    "        H = graph_encoder(graph_batch)\n",
    "        cond_H = H.unsqueeze(-1).unsqueeze(-1).expand(-1, H.size(1), 11, T)\n",
    "        \n",
    "        hist = cond[:, :, target_idx].to(device)\n",
    "        hist_rep = history_encoder(hist)\n",
    "        cond_hist = hist_rep.unsqueeze(-1).unsqueeze(-1).expand(-1, H.size(1), 11, T)\n",
    "        cond_info = torch.cat([cond_H, cond_hist], dim=1)\n",
    "\n",
    "        best_ade_t = torch.full((B,), float(\"inf\"), device=device)\n",
    "        best_pred_t = torch.zeros_like(target)\n",
    "        best_fde_t = torch.full((B,), float(\"inf\"), device=device)\n",
    "                    \n",
    "        scales = torch.tensor(batch[\"pitch_scale\"], device=device, dtype=torch.float32)  \n",
    "        scales = scales.view(B, 1, 1, 2)\n",
    "\n",
    "        for _ in tqdm(range(num_samples), desc=\"Generating...\"):\n",
    "            pred_i = model.generate(shape=target.shape, cond_info=cond_info, ddim_steps=ddim_step, eta=eta, num_samples=1)[0]\n",
    "\n",
    "            pred_i_den = pred_i * scales\n",
    "            target_den = target * scales\n",
    "            \n",
    "            ade_i = ((pred_i_den - target_den)**2).sum(-1).sqrt().mean((1,2))\n",
    "            fde_i = ((pred_i_den[:,-1] - target_den[:,-1])**2).sum(-1).sqrt().mean(1)\n",
    "            \n",
    "            better = ade_i < best_ade_t\n",
    "            \n",
    "            best_pred_t[better] = pred_i_den[better]\n",
    "            best_ade_t[better] = ade_i[better]\n",
    "            best_fde_t[better] = fde_i[better]\n",
    "\n",
    "        all_best_ades_test.extend(best_ade_t.cpu().tolist())\n",
    "        all_best_fdes_test.extend(best_fde_t.cpu().tolist())\n",
    "\n",
    "        # Visualization\n",
    "        if not visualized:\n",
    "            base_dir = \"results/test_trajs\"\n",
    "            os.makedirs(base_dir, exist_ok=True)\n",
    "            for i in range(min(B, visualize_samples)):\n",
    "                sample_dir = os.path.join(base_dir, f\"sample{i:02d}\")\n",
    "                os.makedirs(sample_dir, exist_ok=True)\n",
    "                \n",
    "                other_cols  = batch[\"other_columns\"][i]\n",
    "                target_cols = batch[\"target_columns\"][i]\n",
    "                defender_nums = [int(col.split('_')[1]) for col in target_cols[::2]]\n",
    "\n",
    "                others_seq = batch[\"other\"][i].view(T, 12, 2).cpu().numpy()\n",
    "                target_traj = target_den[i].cpu().numpy()\n",
    "                pred_traj = best_pred_t[i].cpu().numpy()\n",
    "\n",
    "                for idx, jersey in enumerate(defender_nums):\n",
    "                    save_path = os.path.join(sample_dir, f\"player_{jersey:02d}.png\")\n",
    "                    plot_trajectories_on_pitch(others_seq, target_traj, pred_traj,\n",
    "                                               other_columns=other_cols, target_columns=target_cols,\n",
    "                                               player_idx=idx, annotate=True, save_path=save_path)\n",
    "\n",
    "            visualized = True\n",
    "            print(all_best_ades_test)\n",
    "            print(all_best_fdes_test)\n",
    "avg_test_ade = np.mean(all_best_ades_test)\n",
    "avg_test_fde = np.mean(all_best_fdes_test)\n",
    "print(f\"[Test Best-of-{num_samples}] Average ADE: {avg_test_ade:.4f} | Average FDE: {avg_test_fde:.4f}\")\n",
    "print(f\"[Test Best-of-{num_samples}] Best ADE overall: {min(all_best_ades_test):.4f} | Best FDE overall: {min(all_best_fdes_test):.4f}\")\n"
   ]
  },
  {
   "cell_type": "code",
   "execution_count": null,
   "metadata": {},
   "outputs": [],
   "source": []
  }
 ],
 "metadata": {
  "kernelspec": {
   "display_name": "SoccerTraj",
   "language": "python",
   "name": "python3"
  },
  "language_info": {
   "codemirror_mode": {
    "name": "ipython",
    "version": 3
   },
   "file_extension": ".py",
   "mimetype": "text/x-python",
   "name": "python",
   "nbconvert_exporter": "python",
   "pygments_lexer": "ipython3",
   "version": "3.10.16"
  }
 },
 "nbformat": 4,
 "nbformat_minor": 2
}
