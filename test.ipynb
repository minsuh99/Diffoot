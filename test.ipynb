{
 "cells": [
  {
   "cell_type": "code",
   "execution_count": 1,
   "metadata": {},
   "outputs": [],
   "source": [
    "from make_dataset import MultiMatchSoccerDataset"
   ]
  },
  {
   "cell_type": "code",
   "execution_count": 2,
   "metadata": {},
   "outputs": [
    {
     "name": "stderr",
     "output_type": "stream",
     "text": [
      "Loading Matches: 100%|██████████| 6/6 [00:44<00:00,  7.39s/it]\n"
     ]
    }
   ],
   "source": [
    "dataset = MultiMatchSoccerDataset(data_root=\"match_data\")"
   ]
  },
  {
   "cell_type": "code",
   "execution_count": 3,
   "metadata": {},
   "outputs": [
    {
     "data": {
      "text/plain": [
       "HeteroData(\n",
       "  Node={ x=[2875, 10] },\n",
       "  (Node, attk_and_attk, Node)={\n",
       "    edge_index=[2, 7782],\n",
       "    edge_attr=[7782, 1],\n",
       "  },\n",
       "  (Node, attk_and_def, Node)={\n",
       "    edge_index=[2, 13848],\n",
       "    edge_attr=[13848, 1],\n",
       "  },\n",
       "  (Node, def_and_def, Node)={\n",
       "    edge_index=[2, 3682],\n",
       "    edge_attr=[3682, 1],\n",
       "  },\n",
       "  (Node, attk_and_ball, Node)={\n",
       "    edge_index=[2, 1362],\n",
       "    edge_attr=[1362, 1],\n",
       "  },\n",
       "  (Node, def_and_ball, Node)={\n",
       "    edge_index=[2, 1252],\n",
       "    edge_attr=[1252, 1],\n",
       "  },\n",
       "  (Node, temporal, Node)={\n",
       "    edge_index=[2, 2852],\n",
       "    edge_attr=[2852, 1],\n",
       "  }\n",
       ")"
      ]
     },
     "execution_count": 3,
     "metadata": {},
     "output_type": "execute_result"
    }
   ],
   "source": [
    "sample = dataset[156]\n",
    "sample[\"graph\"]"
   ]
  },
  {
   "cell_type": "code",
   "execution_count": 4,
   "metadata": {},
   "outputs": [],
   "source": [
    "import torch\n"
   ]
  },
  {
   "cell_type": "code",
   "execution_count": 10,
   "metadata": {},
   "outputs": [
    {
     "data": {
      "application/vnd.jupyter.widget-view+json": {
       "model_id": "5b248cc285b040eab6e6f3eb7eccea21",
       "version_major": 2,
       "version_minor": 0
      },
      "text/plain": [
       "Checking samples:   0%|          | 0/7015 [00:00<?, ?it/s]"
      ]
     },
     "metadata": {},
     "output_type": "display_data"
    },
    {
     "name": "stdout",
     "output_type": "stream",
     "text": [
      "모든 샘플에 NaN/Inf 없음\n"
     ]
    }
   ],
   "source": [
    "from multiprocessing import Pool\n",
    "from tqdm.auto import tqdm\n",
    "import torch\n",
    "\n",
    "# 1) 검사 함수 정의\n",
    "def _check_sample(idx):\n",
    "    sample = dataset[idx]\n",
    "    data   = sample[\"graph\"]\n",
    "\n",
    "    bad = []\n",
    "    # 1) Node.x 검사\n",
    "    x = data[\"Node\"].x\n",
    "    n_nan = torch.isnan(x).sum().item()\n",
    "    n_inf = torch.isinf(x).sum().item()\n",
    "    if n_nan or n_inf:\n",
    "        bad.append(f\"Node.x: NaNs={n_nan}, Infs={n_inf}\")\n",
    "\n",
    "    # 2) condition, other, target 검사\n",
    "    for name in (\"condition\", \"other\", \"target\"):\n",
    "        t = sample[name]\n",
    "        n_nan = torch.isnan(t).sum().item()\n",
    "        n_inf = torch.isinf(t).sum().item()\n",
    "        if n_nan or n_inf:\n",
    "            bad.append(f\"{name}: NaNs={n_nan}, Infs={n_inf}\")\n",
    "\n",
    "    # 3) 각 엣지 타입별 edge_attr 검사\n",
    "    for edge_type in data.edge_types:\n",
    "        store = data[edge_type]\n",
    "        e = store.edge_attr\n",
    "        n_nan = torch.isnan(e).sum().item()\n",
    "        n_inf = torch.isinf(e).sum().item()\n",
    "        if n_nan or n_inf:\n",
    "            src, rel, dst = edge_type\n",
    "            bad.append(f\"edge_attr ({src}-{rel}-{dst}): NaNs={n_nan}, Infs={n_inf}\")\n",
    "\n",
    "    return (idx, bad) if bad else None\n",
    "\n",
    "# 2) 병렬 검사 실행\n",
    "def parallel_check(start_idx, count, n_workers=4):\n",
    "    idxs = list(range(start_idx, start_idx + count))\n",
    "    with Pool(n_workers) as pool:\n",
    "        results = list(tqdm(pool.imap(_check_sample, idxs),\n",
    "                            total=len(idxs),\n",
    "                            desc=\"Checking samples\"))\n",
    "    bad = [r for r in results if r is not None]\n",
    "    return bad\n",
    "\n",
    "# 3) 전체 데이터셋 검사\n",
    "bad_samples = parallel_check(start_idx=0, count=len(dataset), n_workers=7)\n",
    "\n",
    "# 4) 결과 출력\n",
    "if not bad_samples:\n",
    "    print(\"모든 샘플에 NaN/Inf 없음\")\n",
    "else:\n",
    "    for idx, infos in bad_samples:\n",
    "        print(f\"[Sample {idx}] 문제가 있는 필드:\")\n",
    "        for info in infos:\n",
    "            print(\"  \", info)\n"
   ]
  },
  {
   "cell_type": "code",
   "execution_count": null,
   "metadata": {},
   "outputs": [
    {
     "name": "stdout",
     "output_type": "stream",
     "text": [
      "tensor([ 1.2305e-01,  2.2853e-01,  1.7007e-02, -4.4118e-02,  6.7407e+01,\n",
      "         1.1000e+01,  1.0000e+00,  0.0000e+00,  0.0000e+00,  0.0000e+00])\n"
     ]
    }
   ],
   "source": [
    "# 1) Node feature 전체 꺼내기\n",
    "node_feats = sample[\"graph\"][\"Node\"].x    # shape: [총노드수, 특성차원]\n",
    "\n",
    "# 2) 보고 싶은 노드의 인덱스(index) 지정\n",
    "# 예를 들어, 첫 번째 프레임의 0번 공격수 노드를 보고 싶다면\n",
    "nodes_per_frame = 23   # 공격수11 + 수비수11 + 볼1\n",
    "frame_idx = 10          # 0번째 프레임\n",
    "player_idx = 9      # 프레임 내에서 0번 노드\n",
    "node_idx = frame_idx * nodes_per_frame + player_idx\n",
    "\n",
    "# 3) 해당 노드만 출력\n",
    "single = node_feats[node_idx]              # tensor of shape [특성차원]\n",
    "print(single)\n"
   ]
  },
  {
   "cell_type": "code",
   "execution_count": null,
   "metadata": {},
   "outputs": [
    {
     "data": {
      "text/plain": [
       "torch.Size([125, 202])"
      ]
     },
     "execution_count": 7,
     "metadata": {},
     "output_type": "execute_result"
    }
   ],
   "source": [
    "sample[\"condition\"].shape"
   ]
  },
  {
   "cell_type": "code",
   "execution_count": null,
   "metadata": {},
   "outputs": [
    {
     "data": {
      "text/plain": [
       "['Away_22_x',\n",
       " 'Away_22_y',\n",
       " 'Away_22_vx',\n",
       " 'Away_22_vy',\n",
       " 'Away_22_dist',\n",
       " 'Away_22_position',\n",
       " 'Away_22_starter',\n",
       " 'Away_22_possession_duration',\n",
       " 'Away_22_neighbor_count']"
      ]
     },
     "execution_count": 8,
     "metadata": {},
     "output_type": "execute_result"
    }
   ],
   "source": [
    "sample[\"condition_columns\"][:9]"
   ]
  },
  {
   "cell_type": "code",
   "execution_count": null,
   "metadata": {},
   "outputs": [],
   "source": [
    "bases = []\n",
    "for col in sample[\"condition_columns\"]:\n",
    "    if col.startswith(\"ball_\"):\n",
    "        continue\n",
    "    parts = col.split(\"_\", 2)\n",
    "    base = \"_\".join(parts[:2])\n",
    "    if base not in bases:\n",
    "        bases.append(base)"
   ]
  },
  {
   "cell_type": "code",
   "execution_count": null,
   "metadata": {},
   "outputs": [
    {
     "data": {
      "text/plain": [
       "['Away_22',\n",
       " 'Away_25',\n",
       " 'Away_26',\n",
       " 'Away_29',\n",
       " 'Away_31',\n",
       " 'Away_33',\n",
       " 'Away_34',\n",
       " 'Away_35',\n",
       " 'Away_36',\n",
       " 'Away_37',\n",
       " 'Away_39',\n",
       " 'Home_2',\n",
       " 'Home_3',\n",
       " 'Home_5',\n",
       " 'Home_6',\n",
       " 'Home_8',\n",
       " 'Home_9',\n",
       " 'Home_11',\n",
       " 'Home_12',\n",
       " 'Home_13',\n",
       " 'Home_14',\n",
       " 'Home_17']"
      ]
     },
     "execution_count": 10,
     "metadata": {},
     "output_type": "execute_result"
    }
   ],
   "source": [
    "bases"
   ]
  },
  {
   "cell_type": "code",
   "execution_count": null,
   "metadata": {},
   "outputs": [],
   "source": []
  }
 ],
 "metadata": {
  "kernelspec": {
   "display_name": "SoccerTraj",
   "language": "python",
   "name": "python3"
  },
  "language_info": {
   "codemirror_mode": {
    "name": "ipython",
    "version": 3
   },
   "file_extension": ".py",
   "mimetype": "text/x-python",
   "name": "python",
   "nbconvert_exporter": "python",
   "pygments_lexer": "ipython3",
   "version": "3.10.16"
  }
 },
 "nbformat": 4,
 "nbformat_minor": 2
}
