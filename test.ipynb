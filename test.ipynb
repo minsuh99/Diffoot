{
 "cells": [
  {
   "cell_type": "code",
   "execution_count": 1,
   "metadata": {},
   "outputs": [],
   "source": [
    "import multiprocessing as mp\n",
    "mp.set_start_method('spawn', force=True)"
   ]
  },
  {
   "cell_type": "code",
   "execution_count": 2,
   "metadata": {},
   "outputs": [
    {
     "name": "stdout",
     "output_type": "stream",
     "text": [
      "---Data Loading---\n",
      "Skip organize_and_process\n"
     ]
    },
    {
     "name": "stderr",
     "output_type": "stream",
     "text": [
      "Loading Matches: 100%|██████████| 6/6 [00:43<00:00,  7.20s/it]\n"
     ]
    },
    {
     "name": "stdout",
     "output_type": "stream",
     "text": [
      "---Data Load!---\n"
     ]
    },
    {
     "data": {
      "application/vnd.jupyter.widget-view+json": {
       "model_id": "042ad0589fc44c42abd10b86444e5fd6",
       "version_major": 2,
       "version_minor": 0
      },
      "text/plain": [
       "Training...:   0%|          | 0/50 [00:00<?, ?it/s]"
      ]
     },
     "metadata": {},
     "output_type": "display_data"
    },
    {
     "data": {
      "application/vnd.jupyter.widget-view+json": {
       "model_id": "05e7f986a0a94cb5b2141fff443ef31f",
       "version_major": 2,
       "version_minor": 0
      },
      "text/plain": [
       "Batch Training...:   0%|          | 0/132 [00:56<?, ?it/s]"
      ]
     },
     "metadata": {},
     "output_type": "display_data"
    },
    {
     "data": {
      "application/vnd.jupyter.widget-view+json": {
       "model_id": "891b7ff835d94db6b47f487451557d99",
       "version_major": 2,
       "version_minor": 0
      },
      "text/plain": [
       "Validation:   0%|          | 0/39 [01:06<?, ?it/s]"
      ]
     },
     "metadata": {},
     "output_type": "display_data"
    },
    {
     "name": "stdout",
     "output_type": "stream",
     "text": [
      "[Epoch 1]\n",
      "[Train] Cost: 2.268486 | Noise Loss: 0.702411 | Frechet Loss: 0.543770 | FDE Loss: 1.022304 LR: 0.000100\n",
      "[Validation] Val Loss: 1.022644 | Noise: 0.345372 | Frechet: 0.238384 | FDE: 0.438889\n"
     ]
    },
    {
     "data": {
      "application/vnd.jupyter.widget-view+json": {
       "model_id": "33b133c288d147109d061a1bc069a9ef",
       "version_major": 2,
       "version_minor": 0
      },
      "text/plain": [
       "Batch Training...:   0%|          | 0/132 [00:57<?, ?it/s]"
      ]
     },
     "metadata": {},
     "output_type": "display_data"
    },
    {
     "data": {
      "application/vnd.jupyter.widget-view+json": {
       "model_id": "327e5b2f13ce40cfbe9d4b2e1f86ba17",
       "version_major": 2,
       "version_minor": 0
      },
      "text/plain": [
       "Validation:   0%|          | 0/39 [01:05<?, ?it/s]"
      ]
     },
     "metadata": {},
     "output_type": "display_data"
    },
    {
     "name": "stdout",
     "output_type": "stream",
     "text": [
      "[Epoch 2]\n",
      "[Train] Cost: 1.285356 | Noise Loss: 0.440040 | Frechet Loss: 0.296548 | FDE Loss: 0.548767 LR: 0.000100\n",
      "[Validation] Val Loss: 0.846466 | Noise: 0.283926 | Frechet: 0.204112 | FDE: 0.358428\n"
     ]
    },
    {
     "data": {
      "application/vnd.jupyter.widget-view+json": {
       "model_id": "a51dfaedbb4e4878af1ac3f04017c0c5",
       "version_major": 2,
       "version_minor": 0
      },
      "text/plain": [
       "Batch Training...:   0%|          | 0/132 [00:56<?, ?it/s]"
      ]
     },
     "metadata": {},
     "output_type": "display_data"
    },
    {
     "data": {
      "application/vnd.jupyter.widget-view+json": {
       "model_id": "36bb291f02964bc2bdb3a8d4561cb8fe",
       "version_major": 2,
       "version_minor": 0
      },
      "text/plain": [
       "Validation:   0%|          | 0/39 [01:03<?, ?it/s]"
      ]
     },
     "metadata": {},
     "output_type": "display_data"
    },
    {
     "name": "stdout",
     "output_type": "stream",
     "text": [
      "[Epoch 3]\n",
      "[Train] Cost: 1.066303 | Noise Loss: 0.360354 | Frechet Loss: 0.256633 | FDE Loss: 0.449316 LR: 0.000100\n",
      "[Validation] Val Loss: 0.721641 | Noise: 0.251300 | Frechet: 0.168496 | FDE: 0.301846\n"
     ]
    },
    {
     "data": {
      "application/vnd.jupyter.widget-view+json": {
       "model_id": "08d55dfbe73d4f35900e5da126357b87",
       "version_major": 2,
       "version_minor": 0
      },
      "text/plain": [
       "Batch Training...:   0%|          | 0/132 [01:11<?, ?it/s]"
      ]
     },
     "metadata": {},
     "output_type": "display_data"
    },
    {
     "data": {
      "application/vnd.jupyter.widget-view+json": {
       "model_id": "6713a5c3d65747538e7e67f7af77ab39",
       "version_major": 2,
       "version_minor": 0
      },
      "text/plain": [
       "Validation:   0%|          | 0/39 [00:56<?, ?it/s]"
      ]
     },
     "metadata": {},
     "output_type": "display_data"
    },
    {
     "name": "stdout",
     "output_type": "stream",
     "text": [
      "[Epoch 4]\n",
      "[Train] Cost: 0.930543 | Noise Loss: 0.304783 | Frechet Loss: 0.229513 | FDE Loss: 0.396246 LR: 0.000100\n",
      "[Validation] Val Loss: 0.643703 | Noise: 0.181252 | Frechet: 0.164974 | FDE: 0.297477\n"
     ]
    },
    {
     "data": {
      "application/vnd.jupyter.widget-view+json": {
       "model_id": "d99d9280d11646f89492294c016baa5b",
       "version_major": 2,
       "version_minor": 0
      },
      "text/plain": [
       "Batch Training...:   0%|          | 0/132 [01:05<?, ?it/s]"
      ]
     },
     "metadata": {},
     "output_type": "display_data"
    },
    {
     "data": {
      "application/vnd.jupyter.widget-view+json": {
       "model_id": "3236cc1b504b44c2b2957520e4e4d8bc",
       "version_major": 2,
       "version_minor": 0
      },
      "text/plain": [
       "Validation:   0%|          | 0/39 [00:57<?, ?it/s]"
      ]
     },
     "metadata": {},
     "output_type": "display_data"
    },
    {
     "name": "stdout",
     "output_type": "stream",
     "text": [
      "[Epoch 5]\n",
      "[Train] Cost: 0.788582 | Noise Loss: 0.238683 | Frechet Loss: 0.199935 | FDE Loss: 0.349964 LR: 0.000100\n",
      "[Validation] Val Loss: 0.564926 | Noise: 0.168712 | Frechet: 0.139852 | FDE: 0.256362\n"
     ]
    },
    {
     "data": {
      "application/vnd.jupyter.widget-view+json": {
       "model_id": "5ba98ba679a142809716ac86078290b8",
       "version_major": 2,
       "version_minor": 0
      },
      "text/plain": [
       "Batch Training...:   0%|          | 0/132 [01:02<?, ?it/s]"
      ]
     },
     "metadata": {},
     "output_type": "display_data"
    },
    {
     "data": {
      "application/vnd.jupyter.widget-view+json": {
       "model_id": "dd99e94d80c84912ba55d46d9e95d925",
       "version_major": 2,
       "version_minor": 0
      },
      "text/plain": [
       "Validation:   0%|          | 0/39 [00:55<?, ?it/s]"
      ]
     },
     "metadata": {},
     "output_type": "display_data"
    },
    {
     "name": "stdout",
     "output_type": "stream",
     "text": [
      "[Epoch 6]\n",
      "[Train] Cost: 0.708500 | Noise Loss: 0.206597 | Frechet Loss: 0.178943 | FDE Loss: 0.322959 LR: 0.000100\n",
      "[Validation] Val Loss: 0.501162 | Noise: 0.146349 | Frechet: 0.122782 | FDE: 0.232031\n"
     ]
    },
    {
     "data": {
      "application/vnd.jupyter.widget-view+json": {
       "model_id": "f8bce9b2873b4160bea7ff8b518f2ecb",
       "version_major": 2,
       "version_minor": 0
      },
      "text/plain": [
       "Batch Training...:   0%|          | 0/132 [00:56<?, ?it/s]"
      ]
     },
     "metadata": {},
     "output_type": "display_data"
    },
    {
     "data": {
      "application/vnd.jupyter.widget-view+json": {
       "model_id": "624d85667dd3454ab459ad7d8e37b61a",
       "version_major": 2,
       "version_minor": 0
      },
      "text/plain": [
       "Validation:   0%|          | 0/39 [00:56<?, ?it/s]"
      ]
     },
     "metadata": {},
     "output_type": "display_data"
    },
    {
     "name": "stdout",
     "output_type": "stream",
     "text": [
      "[Epoch 7]\n",
      "[Train] Cost: 0.665527 | Noise Loss: 0.192915 | Frechet Loss: 0.166209 | FDE Loss: 0.306403 LR: 0.000100\n",
      "[Validation] Val Loss: 0.508245 | Noise: 0.150601 | Frechet: 0.118728 | FDE: 0.238916\n"
     ]
    },
    {
     "data": {
      "application/vnd.jupyter.widget-view+json": {
       "model_id": "257fe91d28964cf48ac0f991d99af092",
       "version_major": 2,
       "version_minor": 0
      },
      "text/plain": [
       "Batch Training...:   0%|          | 0/132 [00:54<?, ?it/s]"
      ]
     },
     "metadata": {},
     "output_type": "display_data"
    },
    {
     "data": {
      "application/vnd.jupyter.widget-view+json": {
       "model_id": "038fca259b844f7ba70272e86346dcd8",
       "version_major": 2,
       "version_minor": 0
      },
      "text/plain": [
       "Validation:   0%|          | 0/39 [00:56<?, ?it/s]"
      ]
     },
     "metadata": {},
     "output_type": "display_data"
    },
    {
     "name": "stdout",
     "output_type": "stream",
     "text": [
      "[Epoch 8]\n",
      "[Train] Cost: 0.619180 | Noise Loss: 0.172662 | Frechet Loss: 0.156031 | FDE Loss: 0.290488 LR: 0.000100\n",
      "[Validation] Val Loss: 0.421023 | Noise: 0.108734 | Frechet: 0.107649 | FDE: 0.204640\n"
     ]
    },
    {
     "data": {
      "application/vnd.jupyter.widget-view+json": {
       "model_id": "f0e0a605abc048ca9c686cf9006328ed",
       "version_major": 2,
       "version_minor": 0
      },
      "text/plain": [
       "Batch Training...:   0%|          | 0/132 [00:53<?, ?it/s]"
      ]
     },
     "metadata": {},
     "output_type": "display_data"
    },
    {
     "data": {
      "application/vnd.jupyter.widget-view+json": {
       "model_id": "9b79452f181c4219b100ba795178aba5",
       "version_major": 2,
       "version_minor": 0
      },
      "text/plain": [
       "Validation:   0%|          | 0/39 [00:55<?, ?it/s]"
      ]
     },
     "metadata": {},
     "output_type": "display_data"
    },
    {
     "name": "stdout",
     "output_type": "stream",
     "text": [
      "[Epoch 9]\n",
      "[Train] Cost: 0.557827 | Noise Loss: 0.156472 | Frechet Loss: 0.139749 | FDE Loss: 0.261606 LR: 0.000100\n",
      "[Validation] Val Loss: 0.400268 | Noise: 0.100342 | Frechet: 0.102045 | FDE: 0.197880\n"
     ]
    },
    {
     "data": {
      "application/vnd.jupyter.widget-view+json": {
       "model_id": "0105f19c3a0d450a8224d6c0976dd7ec",
       "version_major": 2,
       "version_minor": 0
      },
      "text/plain": [
       "Batch Training...:   0%|          | 0/132 [01:01<?, ?it/s]"
      ]
     },
     "metadata": {},
     "output_type": "display_data"
    },
    {
     "data": {
      "application/vnd.jupyter.widget-view+json": {
       "model_id": "07d98eb78b254cf3ad8c881275c831ea",
       "version_major": 2,
       "version_minor": 0
      },
      "text/plain": [
       "Validation:   0%|          | 0/39 [00:56<?, ?it/s]"
      ]
     },
     "metadata": {},
     "output_type": "display_data"
    },
    {
     "name": "stdout",
     "output_type": "stream",
     "text": [
      "[Epoch 10]\n",
      "[Train] Cost: 0.568501 | Noise Loss: 0.151355 | Frechet Loss: 0.143558 | FDE Loss: 0.273588 LR: 0.000100\n",
      "[Validation] Val Loss: 0.395399 | Noise: 0.088900 | Frechet: 0.099519 | FDE: 0.206979\n"
     ]
    },
    {
     "data": {
      "application/vnd.jupyter.widget-view+json": {
       "model_id": "7cf60563acec442ca47d2395c185cb77",
       "version_major": 2,
       "version_minor": 0
      },
      "text/plain": [
       "Batch Training...:   0%|          | 0/132 [00:59<?, ?it/s]"
      ]
     },
     "metadata": {},
     "output_type": "display_data"
    },
    {
     "data": {
      "application/vnd.jupyter.widget-view+json": {
       "model_id": "2b6e85b7e99c4dee952533d2d2dd2811",
       "version_major": 2,
       "version_minor": 0
      },
      "text/plain": [
       "Validation:   0%|          | 0/39 [01:02<?, ?it/s]"
      ]
     },
     "metadata": {},
     "output_type": "display_data"
    },
    {
     "name": "stdout",
     "output_type": "stream",
     "text": [
      "[Epoch 11]\n",
      "[Train] Cost: 0.511836 | Noise Loss: 0.139695 | Frechet Loss: 0.126269 | FDE Loss: 0.245873 LR: 0.000100\n",
      "[Validation] Val Loss: 0.384345 | Noise: 0.096906 | Frechet: 0.092109 | FDE: 0.195331\n"
     ]
    },
    {
     "data": {
      "application/vnd.jupyter.widget-view+json": {
       "model_id": "238bfc0e661949b881b62a3d6247c757",
       "version_major": 2,
       "version_minor": 0
      },
      "text/plain": [
       "Batch Training...:   0%|          | 0/132 [00:58<?, ?it/s]"
      ]
     },
     "metadata": {},
     "output_type": "display_data"
    },
    {
     "data": {
      "application/vnd.jupyter.widget-view+json": {
       "model_id": "3dfc71959b3e49d28c03f8a1fae56b9c",
       "version_major": 2,
       "version_minor": 0
      },
      "text/plain": [
       "Validation:   0%|          | 0/39 [00:59<?, ?it/s]"
      ]
     },
     "metadata": {},
     "output_type": "display_data"
    },
    {
     "name": "stdout",
     "output_type": "stream",
     "text": [
      "[Epoch 12]\n",
      "[Train] Cost: 0.516393 | Noise Loss: 0.134017 | Frechet Loss: 0.128528 | FDE Loss: 0.253849 LR: 0.000100\n",
      "[Validation] Val Loss: 0.363910 | Noise: 0.088226 | Frechet: 0.082526 | FDE: 0.193158\n"
     ]
    },
    {
     "data": {
      "application/vnd.jupyter.widget-view+json": {
       "model_id": "c37f9ceb3b3b4662affdad9bd189be70",
       "version_major": 2,
       "version_minor": 0
      },
      "text/plain": [
       "Batch Training...:   0%|          | 0/132 [01:09<?, ?it/s]"
      ]
     },
     "metadata": {},
     "output_type": "display_data"
    },
    {
     "data": {
      "application/vnd.jupyter.widget-view+json": {
       "model_id": "e212eb7468ed46529012274177478a0a",
       "version_major": 2,
       "version_minor": 0
      },
      "text/plain": [
       "Validation:   0%|          | 0/39 [00:56<?, ?it/s]"
      ]
     },
     "metadata": {},
     "output_type": "display_data"
    },
    {
     "name": "stdout",
     "output_type": "stream",
     "text": [
      "[Epoch 13]\n",
      "[Train] Cost: 0.497262 | Noise Loss: 0.135492 | Frechet Loss: 0.119394 | FDE Loss: 0.242376 LR: 0.000100\n",
      "[Validation] Val Loss: 0.337198 | Noise: 0.078871 | Frechet: 0.080388 | FDE: 0.177940\n"
     ]
    },
    {
     "data": {
      "application/vnd.jupyter.widget-view+json": {
       "model_id": "83c1c8abf02449598f3883c558650ef9",
       "version_major": 2,
       "version_minor": 0
      },
      "text/plain": [
       "Batch Training...:   0%|          | 0/132 [00:56<?, ?it/s]"
      ]
     },
     "metadata": {},
     "output_type": "display_data"
    },
    {
     "data": {
      "application/vnd.jupyter.widget-view+json": {
       "model_id": "e2831145c4164fb2874457702918ec34",
       "version_major": 2,
       "version_minor": 0
      },
      "text/plain": [
       "Validation:   0%|          | 0/39 [00:58<?, ?it/s]"
      ]
     },
     "metadata": {},
     "output_type": "display_data"
    },
    {
     "name": "stdout",
     "output_type": "stream",
     "text": [
      "[Epoch 14]\n",
      "[Train] Cost: 0.454127 | Noise Loss: 0.117191 | Frechet Loss: 0.110897 | FDE Loss: 0.226039 LR: 0.000100\n",
      "[Validation] Val Loss: 0.344275 | Noise: 0.073760 | Frechet: 0.081734 | FDE: 0.188781\n"
     ]
    },
    {
     "data": {
      "application/vnd.jupyter.widget-view+json": {
       "model_id": "65cd61765c7e402a9fb48c1ba52f0b4a",
       "version_major": 2,
       "version_minor": 0
      },
      "text/plain": [
       "Batch Training...:   0%|          | 0/132 [00:54<?, ?it/s]"
      ]
     },
     "metadata": {},
     "output_type": "display_data"
    },
    {
     "data": {
      "application/vnd.jupyter.widget-view+json": {
       "model_id": "3f242032868942619b9077d607c39b13",
       "version_major": 2,
       "version_minor": 0
      },
      "text/plain": [
       "Validation:   0%|          | 0/39 [00:55<?, ?it/s]"
      ]
     },
     "metadata": {},
     "output_type": "display_data"
    },
    {
     "name": "stdout",
     "output_type": "stream",
     "text": [
      "[Epoch 15]\n",
      "[Train] Cost: 0.463078 | Noise Loss: 0.123766 | Frechet Loss: 0.110858 | FDE Loss: 0.228454 LR: 0.000100\n",
      "[Validation] Val Loss: 0.353599 | Noise: 0.083301 | Frechet: 0.080279 | FDE: 0.190019\n"
     ]
    },
    {
     "data": {
      "application/vnd.jupyter.widget-view+json": {
       "model_id": "3387dbfbe1254835bc6f802882b0374f",
       "version_major": 2,
       "version_minor": 0
      },
      "text/plain": [
       "Batch Training...:   0%|          | 0/132 [00:54<?, ?it/s]"
      ]
     },
     "metadata": {},
     "output_type": "display_data"
    },
    {
     "data": {
      "application/vnd.jupyter.widget-view+json": {
       "model_id": "389b042032a54b1dafcf54cfca3ac9fb",
       "version_major": 2,
       "version_minor": 0
      },
      "text/plain": [
       "Validation:   0%|          | 0/39 [00:53<?, ?it/s]"
      ]
     },
     "metadata": {},
     "output_type": "display_data"
    },
    {
     "name": "stdout",
     "output_type": "stream",
     "text": [
      "[Epoch 16]\n",
      "[Train] Cost: 0.474607 | Noise Loss: 0.126610 | Frechet Loss: 0.114285 | FDE Loss: 0.233712 LR: 0.000100\n",
      "[Validation] Val Loss: 0.337606 | Noise: 0.069992 | Frechet: 0.082783 | FDE: 0.184831\n"
     ]
    },
    {
     "data": {
      "application/vnd.jupyter.widget-view+json": {
       "model_id": "14b0f4f0ac944e44ab8dd0ea931bddbd",
       "version_major": 2,
       "version_minor": 0
      },
      "text/plain": [
       "Batch Training...:   0%|          | 0/132 [00:56<?, ?it/s]"
      ]
     },
     "metadata": {},
     "output_type": "display_data"
    },
    {
     "data": {
      "application/vnd.jupyter.widget-view+json": {
       "model_id": "fd11c369ee0240b78eafda316701adbc",
       "version_major": 2,
       "version_minor": 0
      },
      "text/plain": [
       "Validation:   0%|          | 0/39 [01:06<?, ?it/s]"
      ]
     },
     "metadata": {},
     "output_type": "display_data"
    },
    {
     "name": "stdout",
     "output_type": "stream",
     "text": [
      "[Epoch 17]\n",
      "[Train] Cost: 0.424597 | Noise Loss: 0.101908 | Frechet Loss: 0.104413 | FDE Loss: 0.218276 LR: 0.000050\n",
      "[Validation] Val Loss: 0.302588 | Noise: 0.056316 | Frechet: 0.072764 | FDE: 0.173509\n"
     ]
    },
    {
     "data": {
      "application/vnd.jupyter.widget-view+json": {
       "model_id": "5da4558e98a24b46bf3dd45570cf3b68",
       "version_major": 2,
       "version_minor": 0
      },
      "text/plain": [
       "Batch Training...:   0%|          | 0/132 [00:57<?, ?it/s]"
      ]
     },
     "metadata": {},
     "output_type": "display_data"
    },
    {
     "data": {
      "application/vnd.jupyter.widget-view+json": {
       "model_id": "6c9f70f9e9de4d159bad06b967b60153",
       "version_major": 2,
       "version_minor": 0
      },
      "text/plain": [
       "Validation:   0%|          | 0/39 [00:55<?, ?it/s]"
      ]
     },
     "metadata": {},
     "output_type": "display_data"
    },
    {
     "name": "stdout",
     "output_type": "stream",
     "text": [
      "[Epoch 18]\n",
      "[Train] Cost: 0.427734 | Noise Loss: 0.106537 | Frechet Loss: 0.104680 | FDE Loss: 0.216517 LR: 0.000050\n",
      "[Validation] Val Loss: 0.308462 | Noise: 0.057886 | Frechet: 0.073541 | FDE: 0.177035\n"
     ]
    },
    {
     "data": {
      "application/vnd.jupyter.widget-view+json": {
       "model_id": "f0ff75d4bc234415a8b457da4e301f0e",
       "version_major": 2,
       "version_minor": 0
      },
      "text/plain": [
       "Batch Training...:   0%|          | 0/132 [00:55<?, ?it/s]"
      ]
     },
     "metadata": {},
     "output_type": "display_data"
    },
    {
     "data": {
      "application/vnd.jupyter.widget-view+json": {
       "model_id": "ca55438a172444cd98a312a54f79170f",
       "version_major": 2,
       "version_minor": 0
      },
      "text/plain": [
       "Validation:   0%|          | 0/39 [00:59<?, ?it/s]"
      ]
     },
     "metadata": {},
     "output_type": "display_data"
    },
    {
     "name": "stdout",
     "output_type": "stream",
     "text": [
      "[Epoch 19]\n",
      "[Train] Cost: 0.398788 | Noise Loss: 0.089584 | Frechet Loss: 0.099135 | FDE Loss: 0.210070 LR: 0.000050\n",
      "[Validation] Val Loss: 0.326249 | Noise: 0.061785 | Frechet: 0.074916 | FDE: 0.189549\n"
     ]
    },
    {
     "data": {
      "application/vnd.jupyter.widget-view+json": {
       "model_id": "6d60105902734ceb92913897b29097e6",
       "version_major": 2,
       "version_minor": 0
      },
      "text/plain": [
       "Batch Training...:   0%|          | 0/132 [00:55<?, ?it/s]"
      ]
     },
     "metadata": {},
     "output_type": "display_data"
    },
    {
     "data": {
      "application/vnd.jupyter.widget-view+json": {
       "model_id": "58a71a0b9738475d97e1b5c8088fa311",
       "version_major": 2,
       "version_minor": 0
      },
      "text/plain": [
       "Validation:   0%|          | 0/39 [00:59<?, ?it/s]"
      ]
     },
     "metadata": {},
     "output_type": "display_data"
    },
    {
     "name": "stdout",
     "output_type": "stream",
     "text": [
      "[Epoch 20]\n",
      "[Train] Cost: 0.395222 | Noise Loss: 0.091007 | Frechet Loss: 0.097812 | FDE Loss: 0.206402 LR: 0.000050\n",
      "[Validation] Val Loss: 0.293516 | Noise: 0.056790 | Frechet: 0.067858 | FDE: 0.168868\n"
     ]
    },
    {
     "data": {
      "application/vnd.jupyter.widget-view+json": {
       "model_id": "a75981b16c2f48aeaf2da0e0cf122287",
       "version_major": 2,
       "version_minor": 0
      },
      "text/plain": [
       "Batch Training...:   0%|          | 0/132 [00:55<?, ?it/s]"
      ]
     },
     "metadata": {},
     "output_type": "display_data"
    },
    {
     "data": {
      "application/vnd.jupyter.widget-view+json": {
       "model_id": "9a108964b5d8465597b736e7a78c61a0",
       "version_major": 2,
       "version_minor": 0
      },
      "text/plain": [
       "Validation:   0%|          | 0/39 [01:01<?, ?it/s]"
      ]
     },
     "metadata": {},
     "output_type": "display_data"
    },
    {
     "name": "stdout",
     "output_type": "stream",
     "text": [
      "[Epoch 21]\n",
      "[Train] Cost: 0.400597 | Noise Loss: 0.091752 | Frechet Loss: 0.098817 | FDE Loss: 0.210027 LR: 0.000050\n",
      "[Validation] Val Loss: 0.324709 | Noise: 0.070825 | Frechet: 0.072218 | FDE: 0.181666\n"
     ]
    },
    {
     "data": {
      "application/vnd.jupyter.widget-view+json": {
       "model_id": "49c315a20db943c5bf4edf7d2b3ef20a",
       "version_major": 2,
       "version_minor": 0
      },
      "text/plain": [
       "Batch Training...:   0%|          | 0/132 [00:57<?, ?it/s]"
      ]
     },
     "metadata": {},
     "output_type": "display_data"
    },
    {
     "data": {
      "application/vnd.jupyter.widget-view+json": {
       "model_id": "727a3ef1b0bf4681b8d60b8e35838d1f",
       "version_major": 2,
       "version_minor": 0
      },
      "text/plain": [
       "Validation:   0%|          | 0/39 [00:53<?, ?it/s]"
      ]
     },
     "metadata": {},
     "output_type": "display_data"
    },
    {
     "name": "stdout",
     "output_type": "stream",
     "text": [
      "[Epoch 22]\n",
      "[Train] Cost: 0.373774 | Noise Loss: 0.086635 | Frechet Loss: 0.091253 | FDE Loss: 0.195886 LR: 0.000050\n",
      "[Validation] Val Loss: 0.293535 | Noise: 0.051788 | Frechet: 0.069245 | FDE: 0.172502\n"
     ]
    },
    {
     "data": {
      "application/vnd.jupyter.widget-view+json": {
       "model_id": "1734aef8ed234b56883c4f2b54fc2962",
       "version_major": 2,
       "version_minor": 0
      },
      "text/plain": [
       "Batch Training...:   0%|          | 0/132 [00:55<?, ?it/s]"
      ]
     },
     "metadata": {},
     "output_type": "display_data"
    },
    {
     "data": {
      "application/vnd.jupyter.widget-view+json": {
       "model_id": "b0cae5ad54bc4bd7b8b93bc6f3aa596d",
       "version_major": 2,
       "version_minor": 0
      },
      "text/plain": [
       "Validation:   0%|          | 0/39 [00:57<?, ?it/s]"
      ]
     },
     "metadata": {},
     "output_type": "display_data"
    },
    {
     "name": "stdout",
     "output_type": "stream",
     "text": [
      "[Epoch 23]\n",
      "[Train] Cost: 0.401710 | Noise Loss: 0.095773 | Frechet Loss: 0.097990 | FDE Loss: 0.207947 LR: 0.000050\n",
      "[Validation] Val Loss: 0.292936 | Noise: 0.050014 | Frechet: 0.069665 | FDE: 0.173257\n"
     ]
    },
    {
     "data": {
      "application/vnd.jupyter.widget-view+json": {
       "model_id": "f6e112effa0543428acceb574e6a6e70",
       "version_major": 2,
       "version_minor": 0
      },
      "text/plain": [
       "Batch Training...:   0%|          | 0/132 [00:54<?, ?it/s]"
      ]
     },
     "metadata": {},
     "output_type": "display_data"
    },
    {
     "data": {
      "application/vnd.jupyter.widget-view+json": {
       "model_id": "5bee6c70531d458faec4ebc7c8e93493",
       "version_major": 2,
       "version_minor": 0
      },
      "text/plain": [
       "Validation:   0%|          | 0/39 [01:00<?, ?it/s]"
      ]
     },
     "metadata": {},
     "output_type": "display_data"
    },
    {
     "name": "stdout",
     "output_type": "stream",
     "text": [
      "[Epoch 24]\n",
      "[Train] Cost: 0.392897 | Noise Loss: 0.091644 | Frechet Loss: 0.097217 | FDE Loss: 0.204037 LR: 0.000050\n",
      "[Validation] Val Loss: 0.299115 | Noise: 0.053222 | Frechet: 0.070071 | FDE: 0.175822\n"
     ]
    },
    {
     "data": {
      "application/vnd.jupyter.widget-view+json": {
       "model_id": "40f5907b2b68456987b0f3c979104dbf",
       "version_major": 2,
       "version_minor": 0
      },
      "text/plain": [
       "Batch Training...:   0%|          | 0/132 [00:52<?, ?it/s]"
      ]
     },
     "metadata": {},
     "output_type": "display_data"
    },
    {
     "data": {
      "application/vnd.jupyter.widget-view+json": {
       "model_id": "7dbeb10028924ba78d4a5fb89442cd29",
       "version_major": 2,
       "version_minor": 0
      },
      "text/plain": [
       "Validation:   0%|          | 0/39 [00:56<?, ?it/s]"
      ]
     },
     "metadata": {},
     "output_type": "display_data"
    },
    {
     "name": "stdout",
     "output_type": "stream",
     "text": [
      "[Epoch 25]\n",
      "[Train] Cost: 0.376903 | Noise Loss: 0.085943 | Frechet Loss: 0.093447 | FDE Loss: 0.197513 LR: 0.000050\n",
      "[Validation] Val Loss: 0.293636 | Noise: 0.054077 | Frechet: 0.068325 | FDE: 0.171234\n"
     ]
    },
    {
     "data": {
      "application/vnd.jupyter.widget-view+json": {
       "model_id": "fff4bbca62594eab81c2a5f30e5276c4",
       "version_major": 2,
       "version_minor": 0
      },
      "text/plain": [
       "Batch Training...:   0%|          | 0/132 [00:58<?, ?it/s]"
      ]
     },
     "metadata": {},
     "output_type": "display_data"
    },
    {
     "data": {
      "application/vnd.jupyter.widget-view+json": {
       "model_id": "7c185eee4c034db1945544648a5973f3",
       "version_major": 2,
       "version_minor": 0
      },
      "text/plain": [
       "Validation:   0%|          | 0/39 [00:55<?, ?it/s]"
      ]
     },
     "metadata": {},
     "output_type": "display_data"
    },
    {
     "name": "stdout",
     "output_type": "stream",
     "text": [
      "[Epoch 26]\n",
      "[Train] Cost: 0.374793 | Noise Loss: 0.085399 | Frechet Loss: 0.092900 | FDE Loss: 0.196494 LR: 0.000050\n",
      "[Validation] Val Loss: 0.285257 | Noise: 0.053415 | Frechet: 0.065367 | FDE: 0.166475\n"
     ]
    },
    {
     "data": {
      "application/vnd.jupyter.widget-view+json": {
       "model_id": "55df6e076e384a988f18e7958cbed7e9",
       "version_major": 2,
       "version_minor": 0
      },
      "text/plain": [
       "Batch Training...:   0%|          | 0/132 [00:57<?, ?it/s]"
      ]
     },
     "metadata": {},
     "output_type": "display_data"
    },
    {
     "data": {
      "application/vnd.jupyter.widget-view+json": {
       "model_id": "448d1c6317ce42dcaa233c2a73087f0b",
       "version_major": 2,
       "version_minor": 0
      },
      "text/plain": [
       "Validation:   0%|          | 0/39 [00:58<?, ?it/s]"
      ]
     },
     "metadata": {},
     "output_type": "display_data"
    },
    {
     "name": "stdout",
     "output_type": "stream",
     "text": [
      "[Epoch 27]\n",
      "[Train] Cost: 0.368401 | Noise Loss: 0.085064 | Frechet Loss: 0.090628 | FDE Loss: 0.192709 LR: 0.000050\n",
      "[Validation] Val Loss: 0.289014 | Noise: 0.048945 | Frechet: 0.067369 | FDE: 0.172700\n"
     ]
    },
    {
     "data": {
      "application/vnd.jupyter.widget-view+json": {
       "model_id": "015f9e2223834ca08edf732c218cf221",
       "version_major": 2,
       "version_minor": 0
      },
      "text/plain": [
       "Batch Training...:   0%|          | 0/132 [00:55<?, ?it/s]"
      ]
     },
     "metadata": {},
     "output_type": "display_data"
    },
    {
     "data": {
      "application/vnd.jupyter.widget-view+json": {
       "model_id": "291fd365dd954985a8832b1c767faeeb",
       "version_major": 2,
       "version_minor": 0
      },
      "text/plain": [
       "Validation:   0%|          | 0/39 [00:57<?, ?it/s]"
      ]
     },
     "metadata": {},
     "output_type": "display_data"
    },
    {
     "name": "stdout",
     "output_type": "stream",
     "text": [
      "[Epoch 28]\n",
      "[Train] Cost: 0.372326 | Noise Loss: 0.087631 | Frechet Loss: 0.091392 | FDE Loss: 0.193304 LR: 0.000050\n",
      "[Validation] Val Loss: 0.295543 | Noise: 0.050037 | Frechet: 0.067556 | FDE: 0.177949\n"
     ]
    },
    {
     "data": {
      "application/vnd.jupyter.widget-view+json": {
       "model_id": "adfa30d932c44c9fba63f9c330c3e2ce",
       "version_major": 2,
       "version_minor": 0
      },
      "text/plain": [
       "Batch Training...:   0%|          | 0/132 [00:59<?, ?it/s]"
      ]
     },
     "metadata": {},
     "output_type": "display_data"
    },
    {
     "data": {
      "application/vnd.jupyter.widget-view+json": {
       "model_id": "046e243f25b24e9e86551a005aab85bd",
       "version_major": 2,
       "version_minor": 0
      },
      "text/plain": [
       "Validation:   0%|          | 0/39 [01:01<?, ?it/s]"
      ]
     },
     "metadata": {},
     "output_type": "display_data"
    },
    {
     "name": "stdout",
     "output_type": "stream",
     "text": [
      "[Epoch 29]\n",
      "[Train] Cost: 0.366325 | Noise Loss: 0.083086 | Frechet Loss: 0.090382 | FDE Loss: 0.192857 LR: 0.000050\n",
      "[Validation] Val Loss: 0.298311 | Noise: 0.054782 | Frechet: 0.067180 | FDE: 0.176350\n"
     ]
    },
    {
     "data": {
      "application/vnd.jupyter.widget-view+json": {
       "model_id": "10dcfba359ce40c8a90c0638504fba32",
       "version_major": 2,
       "version_minor": 0
      },
      "text/plain": [
       "Batch Training...:   0%|          | 0/132 [01:12<?, ?it/s]"
      ]
     },
     "metadata": {},
     "output_type": "display_data"
    },
    {
     "data": {
      "application/vnd.jupyter.widget-view+json": {
       "model_id": "4df5f3bd727f4f8eab0997343c8da754",
       "version_major": 2,
       "version_minor": 0
      },
      "text/plain": [
       "Validation:   0%|          | 0/39 [00:55<?, ?it/s]"
      ]
     },
     "metadata": {},
     "output_type": "display_data"
    },
    {
     "name": "stdout",
     "output_type": "stream",
     "text": [
      "[Epoch 30]\n",
      "[Train] Cost: 0.350868 | Noise Loss: 0.078415 | Frechet Loss: 0.088501 | FDE Loss: 0.183952 LR: 0.000025\n",
      "[Validation] Val Loss: 0.298994 | Noise: 0.050222 | Frechet: 0.066739 | FDE: 0.182032\n"
     ]
    },
    {
     "data": {
      "application/vnd.jupyter.widget-view+json": {
       "model_id": "a30a2696644345f88ee9422e5bcd2133",
       "version_major": 2,
       "version_minor": 0
      },
      "text/plain": [
       "Batch Training...:   0%|          | 0/132 [00:54<?, ?it/s]"
      ]
     },
     "metadata": {},
     "output_type": "display_data"
    },
    {
     "data": {
      "application/vnd.jupyter.widget-view+json": {
       "model_id": "8119caf2160549de8dc86893ed567597",
       "version_major": 2,
       "version_minor": 0
      },
      "text/plain": [
       "Validation:   0%|          | 0/39 [00:57<?, ?it/s]"
      ]
     },
     "metadata": {},
     "output_type": "display_data"
    },
    {
     "name": "stdout",
     "output_type": "stream",
     "text": [
      "[Epoch 31]\n",
      "[Train] Cost: 0.344485 | Noise Loss: 0.077248 | Frechet Loss: 0.085788 | FDE Loss: 0.181449 LR: 0.000025\n",
      "[Validation] Val Loss: 0.282242 | Noise: 0.046073 | Frechet: 0.064612 | FDE: 0.171557\n"
     ]
    },
    {
     "data": {
      "application/vnd.jupyter.widget-view+json": {
       "model_id": "cafb86ba2877402d91d28081e2de45c7",
       "version_major": 2,
       "version_minor": 0
      },
      "text/plain": [
       "Batch Training...:   0%|          | 0/132 [00:54<?, ?it/s]"
      ]
     },
     "metadata": {},
     "output_type": "display_data"
    },
    {
     "data": {
      "application/vnd.jupyter.widget-view+json": {
       "model_id": "79bbada071db46ef900b57243490f9ea",
       "version_major": 2,
       "version_minor": 0
      },
      "text/plain": [
       "Validation:   0%|          | 0/39 [00:56<?, ?it/s]"
      ]
     },
     "metadata": {},
     "output_type": "display_data"
    },
    {
     "name": "stdout",
     "output_type": "stream",
     "text": [
      "[Epoch 32]\n",
      "[Train] Cost: 0.358279 | Noise Loss: 0.077810 | Frechet Loss: 0.090096 | FDE Loss: 0.190374 LR: 0.000025\n",
      "[Validation] Val Loss: 0.289350 | Noise: 0.050917 | Frechet: 0.064396 | FDE: 0.174036\n"
     ]
    },
    {
     "data": {
      "application/vnd.jupyter.widget-view+json": {
       "model_id": "b888084e1b9e431fa18a1595ae697edb",
       "version_major": 2,
       "version_minor": 0
      },
      "text/plain": [
       "Batch Training...:   0%|          | 0/132 [00:54<?, ?it/s]"
      ]
     },
     "metadata": {},
     "output_type": "display_data"
    },
    {
     "data": {
      "application/vnd.jupyter.widget-view+json": {
       "model_id": "d4869d2ac86a47d8a18acf20b6e39119",
       "version_major": 2,
       "version_minor": 0
      },
      "text/plain": [
       "Validation:   0%|          | 0/39 [00:54<?, ?it/s]"
      ]
     },
     "metadata": {},
     "output_type": "display_data"
    },
    {
     "name": "stdout",
     "output_type": "stream",
     "text": [
      "[Epoch 33]\n",
      "[Train] Cost: 0.348535 | Noise Loss: 0.080099 | Frechet Loss: 0.086575 | FDE Loss: 0.181861 LR: 0.000025\n",
      "[Validation] Val Loss: 0.279882 | Noise: 0.044108 | Frechet: 0.064054 | FDE: 0.171720\n"
     ]
    },
    {
     "data": {
      "application/vnd.jupyter.widget-view+json": {
       "model_id": "bb9ea6b8fa4847fbaf32c4fc99eb593b",
       "version_major": 2,
       "version_minor": 0
      },
      "text/plain": [
       "Batch Training...:   0%|          | 0/132 [00:55<?, ?it/s]"
      ]
     },
     "metadata": {},
     "output_type": "display_data"
    },
    {
     "data": {
      "application/vnd.jupyter.widget-view+json": {
       "model_id": "d10b037ee3a84b429fff3a35dd5a0e9a",
       "version_major": 2,
       "version_minor": 0
      },
      "text/plain": [
       "Validation:   0%|          | 0/39 [00:54<?, ?it/s]"
      ]
     },
     "metadata": {},
     "output_type": "display_data"
    },
    {
     "name": "stdout",
     "output_type": "stream",
     "text": [
      "[Epoch 34]\n",
      "[Train] Cost: 0.356990 | Noise Loss: 0.084425 | Frechet Loss: 0.088255 | FDE Loss: 0.184310 LR: 0.000025\n",
      "[Validation] Val Loss: 0.278549 | Noise: 0.044991 | Frechet: 0.063073 | FDE: 0.170485\n"
     ]
    },
    {
     "data": {
      "application/vnd.jupyter.widget-view+json": {
       "model_id": "0f28dc8eb08f4ef8a0063bd43d3606fb",
       "version_major": 2,
       "version_minor": 0
      },
      "text/plain": [
       "Batch Training...:   0%|          | 0/132 [00:56<?, ?it/s]"
      ]
     },
     "metadata": {},
     "output_type": "display_data"
    },
    {
     "data": {
      "application/vnd.jupyter.widget-view+json": {
       "model_id": "b397a052e07841c0b76b6dac1b957194",
       "version_major": 2,
       "version_minor": 0
      },
      "text/plain": [
       "Validation:   0%|          | 0/39 [00:56<?, ?it/s]"
      ]
     },
     "metadata": {},
     "output_type": "display_data"
    },
    {
     "name": "stdout",
     "output_type": "stream",
     "text": [
      "[Epoch 35]\n",
      "[Train] Cost: 0.341525 | Noise Loss: 0.073404 | Frechet Loss: 0.086765 | FDE Loss: 0.181356 LR: 0.000025\n",
      "[Validation] Val Loss: 0.295480 | Noise: 0.053103 | Frechet: 0.064785 | FDE: 0.177592\n"
     ]
    },
    {
     "data": {
      "application/vnd.jupyter.widget-view+json": {
       "model_id": "7772551b28ce402c8667aecfa809849c",
       "version_major": 2,
       "version_minor": 0
      },
      "text/plain": [
       "Batch Training...:   0%|          | 0/132 [00:51<?, ?it/s]"
      ]
     },
     "metadata": {},
     "output_type": "display_data"
    },
    {
     "data": {
      "application/vnd.jupyter.widget-view+json": {
       "model_id": "710b5e94039b4488a4d62cd415ec4075",
       "version_major": 2,
       "version_minor": 0
      },
      "text/plain": [
       "Validation:   0%|          | 0/39 [00:54<?, ?it/s]"
      ]
     },
     "metadata": {},
     "output_type": "display_data"
    },
    {
     "name": "stdout",
     "output_type": "stream",
     "text": [
      "[Epoch 36]\n",
      "[Train] Cost: 0.333543 | Noise Loss: 0.071909 | Frechet Loss: 0.083495 | FDE Loss: 0.178140 LR: 0.000025\n",
      "[Validation] Val Loss: 0.286411 | Noise: 0.049191 | Frechet: 0.062171 | FDE: 0.175048\n"
     ]
    },
    {
     "data": {
      "application/vnd.jupyter.widget-view+json": {
       "model_id": "b3d0033fddb141ff83aaebd9a2cf75e6",
       "version_major": 2,
       "version_minor": 0
      },
      "text/plain": [
       "Batch Training...:   0%|          | 0/132 [00:58<?, ?it/s]"
      ]
     },
     "metadata": {},
     "output_type": "display_data"
    },
    {
     "data": {
      "application/vnd.jupyter.widget-view+json": {
       "model_id": "34348634fa3c4de4854108ac355c416f",
       "version_major": 2,
       "version_minor": 0
      },
      "text/plain": [
       "Validation:   0%|          | 0/39 [00:57<?, ?it/s]"
      ]
     },
     "metadata": {},
     "output_type": "display_data"
    },
    {
     "name": "stdout",
     "output_type": "stream",
     "text": [
      "[Epoch 37]\n",
      "[Train] Cost: 0.339528 | Noise Loss: 0.074553 | Frechet Loss: 0.085383 | FDE Loss: 0.179591 LR: 0.000025\n",
      "[Validation] Val Loss: 0.281265 | Noise: 0.042420 | Frechet: 0.063813 | FDE: 0.175031\n"
     ]
    },
    {
     "data": {
      "application/vnd.jupyter.widget-view+json": {
       "model_id": "7fd12d1b3ad8495f95190a1cf8813906",
       "version_major": 2,
       "version_minor": 0
      },
      "text/plain": [
       "Batch Training...:   0%|          | 0/132 [00:53<?, ?it/s]"
      ]
     },
     "metadata": {},
     "output_type": "display_data"
    },
    {
     "data": {
      "application/vnd.jupyter.widget-view+json": {
       "model_id": "ddf210e9f6b942ac8d27d9e2eecfaa59",
       "version_major": 2,
       "version_minor": 0
      },
      "text/plain": [
       "Validation:   0%|          | 0/39 [00:54<?, ?it/s]"
      ]
     },
     "metadata": {},
     "output_type": "display_data"
    },
    {
     "name": "stdout",
     "output_type": "stream",
     "text": [
      "[Epoch 38]\n",
      "[Train] Cost: 0.302674 | Noise Loss: 0.066977 | Frechet Loss: 0.075021 | FDE Loss: 0.160676 LR: 0.000013\n",
      "[Validation] Val Loss: 0.299373 | Noise: 0.049223 | Frechet: 0.066063 | FDE: 0.184087\n"
     ]
    },
    {
     "data": {
      "application/vnd.jupyter.widget-view+json": {
       "model_id": "3ea5bf82f93645a8819ec8807ba322d1",
       "version_major": 2,
       "version_minor": 0
      },
      "text/plain": [
       "Batch Training...:   0%|          | 0/132 [00:57<?, ?it/s]"
      ]
     },
     "metadata": {},
     "output_type": "display_data"
    },
    {
     "data": {
      "application/vnd.jupyter.widget-view+json": {
       "model_id": "3dedf296b12f437e9d79cb12e22f6f27",
       "version_major": 2,
       "version_minor": 0
      },
      "text/plain": [
       "Validation:   0%|          | 0/39 [00:56<?, ?it/s]"
      ]
     },
     "metadata": {},
     "output_type": "display_data"
    },
    {
     "name": "stdout",
     "output_type": "stream",
     "text": [
      "[Epoch 39]\n",
      "[Train] Cost: 0.308985 | Noise Loss: 0.065855 | Frechet Loss: 0.077751 | FDE Loss: 0.165379 LR: 0.000013\n",
      "[Validation] Val Loss: 0.285224 | Noise: 0.041295 | Frechet: 0.063880 | FDE: 0.180049\n"
     ]
    },
    {
     "data": {
      "application/vnd.jupyter.widget-view+json": {
       "model_id": "00de2bff551d40e3b85310532377c379",
       "version_major": 2,
       "version_minor": 0
      },
      "text/plain": [
       "Batch Training...:   0%|          | 0/132 [00:59<?, ?it/s]"
      ]
     },
     "metadata": {},
     "output_type": "display_data"
    },
    {
     "data": {
      "application/vnd.jupyter.widget-view+json": {
       "model_id": "44062b158d6c40489e8d9e2b340bb05e",
       "version_major": 2,
       "version_minor": 0
      },
      "text/plain": [
       "Validation:   0%|          | 0/39 [00:59<?, ?it/s]"
      ]
     },
     "metadata": {},
     "output_type": "display_data"
    },
    {
     "name": "stdout",
     "output_type": "stream",
     "text": [
      "[Epoch 40]\n",
      "[Train] Cost: 0.343555 | Noise Loss: 0.078563 | Frechet Loss: 0.086460 | FDE Loss: 0.178532 LR: 0.000013\n",
      "[Validation] Val Loss: 0.280773 | Noise: 0.037575 | Frechet: 0.063565 | FDE: 0.179633\n"
     ]
    },
    {
     "data": {
      "application/vnd.jupyter.widget-view+json": {
       "model_id": "3e75b22b081d415c85a038fc76835076",
       "version_major": 2,
       "version_minor": 0
      },
      "text/plain": [
       "Batch Training...:   0%|          | 0/132 [00:57<?, ?it/s]"
      ]
     },
     "metadata": {},
     "output_type": "display_data"
    },
    {
     "data": {
      "application/vnd.jupyter.widget-view+json": {
       "model_id": "a0b8a86c8e6b47519651982744302488",
       "version_major": 2,
       "version_minor": 0
      },
      "text/plain": [
       "Validation:   0%|          | 0/39 [00:57<?, ?it/s]"
      ]
     },
     "metadata": {},
     "output_type": "display_data"
    },
    {
     "name": "stdout",
     "output_type": "stream",
     "text": [
      "[Epoch 41]\n",
      "[Train] Cost: 0.321056 | Noise Loss: 0.071763 | Frechet Loss: 0.080148 | FDE Loss: 0.169145 LR: 0.000006\n",
      "[Validation] Val Loss: 0.280840 | Noise: 0.038816 | Frechet: 0.063066 | FDE: 0.178957\n"
     ]
    },
    {
     "data": {
      "application/vnd.jupyter.widget-view+json": {
       "model_id": "fd5dc4c364e94ac1adb079d87310b9f4",
       "version_major": 2,
       "version_minor": 0
      },
      "text/plain": [
       "Batch Training...:   0%|          | 0/132 [01:04<?, ?it/s]"
      ]
     },
     "metadata": {},
     "output_type": "display_data"
    },
    {
     "data": {
      "application/vnd.jupyter.widget-view+json": {
       "model_id": "693a6de6f358462e9e86029b740523e2",
       "version_major": 2,
       "version_minor": 0
      },
      "text/plain": [
       "Validation:   0%|          | 0/39 [00:58<?, ?it/s]"
      ]
     },
     "metadata": {},
     "output_type": "display_data"
    },
    {
     "name": "stdout",
     "output_type": "stream",
     "text": [
      "[Epoch 42]\n",
      "[Train] Cost: 0.317755 | Noise Loss: 0.068449 | Frechet Loss: 0.080434 | FDE Loss: 0.168872 LR: 0.000006\n",
      "[Validation] Val Loss: 0.279306 | Noise: 0.036934 | Frechet: 0.063081 | FDE: 0.179290\n"
     ]
    },
    {
     "data": {
      "application/vnd.jupyter.widget-view+json": {
       "model_id": "557f07229a314dca87c6a5c7edb2d03a",
       "version_major": 2,
       "version_minor": 0
      },
      "text/plain": [
       "Batch Training...:   0%|          | 0/132 [01:01<?, ?it/s]"
      ]
     },
     "metadata": {},
     "output_type": "display_data"
    },
    {
     "data": {
      "application/vnd.jupyter.widget-view+json": {
       "model_id": "5bdef6aef878431c93177c4b4525c59a",
       "version_major": 2,
       "version_minor": 0
      },
      "text/plain": [
       "Validation:   0%|          | 0/39 [00:56<?, ?it/s]"
      ]
     },
     "metadata": {},
     "output_type": "display_data"
    },
    {
     "name": "stdout",
     "output_type": "stream",
     "text": [
      "[Epoch 43]\n",
      "[Train] Cost: 0.296803 | Noise Loss: 0.061144 | Frechet Loss: 0.075014 | FDE Loss: 0.160646 LR: 0.000006\n",
      "[Validation] Val Loss: 0.278017 | Noise: 0.039403 | Frechet: 0.061372 | FDE: 0.177242\n"
     ]
    },
    {
     "data": {
      "application/vnd.jupyter.widget-view+json": {
       "model_id": "12adcc89e2174e089c7e8166144da319",
       "version_major": 2,
       "version_minor": 0
      },
      "text/plain": [
       "Batch Training...:   0%|          | 0/132 [01:02<?, ?it/s]"
      ]
     },
     "metadata": {},
     "output_type": "display_data"
    },
    {
     "data": {
      "application/vnd.jupyter.widget-view+json": {
       "model_id": "8b306e73d038454db89fef3da4874212",
       "version_major": 2,
       "version_minor": 0
      },
      "text/plain": [
       "Validation:   0%|          | 0/39 [00:58<?, ?it/s]"
      ]
     },
     "metadata": {},
     "output_type": "display_data"
    },
    {
     "name": "stdout",
     "output_type": "stream",
     "text": [
      "[Epoch 44]\n",
      "[Train] Cost: 0.327719 | Noise Loss: 0.069202 | Frechet Loss: 0.083185 | FDE Loss: 0.175332 LR: 0.000006\n",
      "[Validation] Val Loss: 0.281688 | Noise: 0.039548 | Frechet: 0.062467 | FDE: 0.179673\n"
     ]
    },
    {
     "data": {
      "application/vnd.jupyter.widget-view+json": {
       "model_id": "cdd42dba84144c9b8602cd2de1ec8bae",
       "version_major": 2,
       "version_minor": 0
      },
      "text/plain": [
       "Batch Training...:   0%|          | 0/132 [01:01<?, ?it/s]"
      ]
     },
     "metadata": {},
     "output_type": "display_data"
    },
    {
     "data": {
      "application/vnd.jupyter.widget-view+json": {
       "model_id": "6b52ea45ca2246939f59acd848954cc5",
       "version_major": 2,
       "version_minor": 0
      },
      "text/plain": [
       "Validation:   0%|          | 0/39 [00:57<?, ?it/s]"
      ]
     },
     "metadata": {},
     "output_type": "display_data"
    },
    {
     "name": "stdout",
     "output_type": "stream",
     "text": [
      "[Epoch 45]\n",
      "[Train] Cost: 0.315850 | Noise Loss: 0.069560 | Frechet Loss: 0.079761 | FDE Loss: 0.166529 LR: 0.000006\n",
      "[Validation] Val Loss: 0.285165 | Noise: 0.040776 | Frechet: 0.062540 | FDE: 0.181848\n"
     ]
    },
    {
     "data": {
      "application/vnd.jupyter.widget-view+json": {
       "model_id": "d40f4d3c689b4e6ebb1813174b1a69d5",
       "version_major": 2,
       "version_minor": 0
      },
      "text/plain": [
       "Batch Training...:   0%|          | 0/132 [00:59<?, ?it/s]"
      ]
     },
     "metadata": {},
     "output_type": "display_data"
    },
    {
     "data": {
      "application/vnd.jupyter.widget-view+json": {
       "model_id": "3490e9ba58b04c62b0e841d86ab9028e",
       "version_major": 2,
       "version_minor": 0
      },
      "text/plain": [
       "Validation:   0%|          | 0/39 [01:01<?, ?it/s]"
      ]
     },
     "metadata": {},
     "output_type": "display_data"
    },
    {
     "name": "stdout",
     "output_type": "stream",
     "text": [
      "[Epoch 46]\n",
      "[Train] Cost: 0.324945 | Noise Loss: 0.077774 | Frechet Loss: 0.079798 | FDE Loss: 0.167372 LR: 0.000006\n",
      "[Validation] Val Loss: 0.277867 | Noise: 0.041778 | Frechet: 0.061437 | FDE: 0.174652\n"
     ]
    },
    {
     "data": {
      "application/vnd.jupyter.widget-view+json": {
       "model_id": "e804d98e54bc43e99a156d9b42548830",
       "version_major": 2,
       "version_minor": 0
      },
      "text/plain": [
       "Batch Training...:   0%|          | 0/132 [01:03<?, ?it/s]"
      ]
     },
     "metadata": {},
     "output_type": "display_data"
    },
    {
     "data": {
      "application/vnd.jupyter.widget-view+json": {
       "model_id": "8ffe329fdc214ff5afce48427aed62e0",
       "version_major": 2,
       "version_minor": 0
      },
      "text/plain": [
       "Validation:   0%|          | 0/39 [01:01<?, ?it/s]"
      ]
     },
     "metadata": {},
     "output_type": "display_data"
    },
    {
     "name": "stdout",
     "output_type": "stream",
     "text": [
      "[Epoch 47]\n",
      "[Train] Cost: 0.321021 | Noise Loss: 0.072215 | Frechet Loss: 0.080308 | FDE Loss: 0.168498 LR: 0.000006\n",
      "[Validation] Val Loss: 0.278098 | Noise: 0.042148 | Frechet: 0.061650 | FDE: 0.174301\n"
     ]
    },
    {
     "data": {
      "application/vnd.jupyter.widget-view+json": {
       "model_id": "77de47ed697a4690b1b12d1b120913e4",
       "version_major": 2,
       "version_minor": 0
      },
      "text/plain": [
       "Batch Training...:   0%|          | 0/132 [01:09<?, ?it/s]"
      ]
     },
     "metadata": {},
     "output_type": "display_data"
    },
    {
     "data": {
      "application/vnd.jupyter.widget-view+json": {
       "model_id": "39ac942b293947efbfb6827e472a93f3",
       "version_major": 2,
       "version_minor": 0
      },
      "text/plain": [
       "Validation:   0%|          | 0/39 [00:55<?, ?it/s]"
      ]
     },
     "metadata": {},
     "output_type": "display_data"
    },
    {
     "name": "stdout",
     "output_type": "stream",
     "text": [
      "[Epoch 48]\n",
      "[Train] Cost: 0.319048 | Noise Loss: 0.063250 | Frechet Loss: 0.082947 | FDE Loss: 0.172851 LR: 0.000006\n",
      "[Validation] Val Loss: 0.277934 | Noise: 0.045471 | Frechet: 0.060300 | FDE: 0.172164\n"
     ]
    },
    {
     "data": {
      "application/vnd.jupyter.widget-view+json": {
       "model_id": "dc84df6b9700471a909a2202b1eb4bba",
       "version_major": 2,
       "version_minor": 0
      },
      "text/plain": [
       "Batch Training...:   0%|          | 0/132 [00:56<?, ?it/s]"
      ]
     },
     "metadata": {},
     "output_type": "display_data"
    },
    {
     "data": {
      "application/vnd.jupyter.widget-view+json": {
       "model_id": "a38a60ba20cd47d69306997e7249174f",
       "version_major": 2,
       "version_minor": 0
      },
      "text/plain": [
       "Validation:   0%|          | 0/39 [00:54<?, ?it/s]"
      ]
     },
     "metadata": {},
     "output_type": "display_data"
    },
    {
     "name": "stdout",
     "output_type": "stream",
     "text": [
      "[Epoch 49]\n",
      "[Train] Cost: 0.296969 | Noise Loss: 0.062556 | Frechet Loss: 0.074778 | FDE Loss: 0.159636 LR: 0.000006\n",
      "[Validation] Val Loss: 0.275642 | Noise: 0.034453 | Frechet: 0.061908 | FDE: 0.179281\n"
     ]
    },
    {
     "data": {
      "application/vnd.jupyter.widget-view+json": {
       "model_id": "d68cb4d475b44e41b8e6cc048b40205b",
       "version_major": 2,
       "version_minor": 0
      },
      "text/plain": [
       "Batch Training...:   0%|          | 0/132 [01:00<?, ?it/s]"
      ]
     },
     "metadata": {},
     "output_type": "display_data"
    },
    {
     "data": {
      "application/vnd.jupyter.widget-view+json": {
       "model_id": "15e3261752fa42408b138d2b263b355e",
       "version_major": 2,
       "version_minor": 0
      },
      "text/plain": [
       "Validation:   0%|          | 0/39 [00:59<?, ?it/s]"
      ]
     },
     "metadata": {},
     "output_type": "display_data"
    },
    {
     "name": "stdout",
     "output_type": "stream",
     "text": [
      "[Epoch 50]\n",
      "[Train] Cost: 0.315608 | Noise Loss: 0.069552 | Frechet Loss: 0.079299 | FDE Loss: 0.166757 LR: 0.000006\n",
      "[Validation] Val Loss: 0.282300 | Noise: 0.039095 | Frechet: 0.062033 | FDE: 0.181173\n"
     ]
    },
    {
     "data": {
      "image/png": "[encoded data removed]",
      "text/plain": [
       "<Figure size 800x600 with 1 Axes>"
      ]
     },
     "metadata": {},
     "output_type": "display_data"
    }
   ],
   "source": [
    "import os\n",
    "os.environ[\"CUBLAS_WORKSPACE_CONFIG\"] = \":4096:8\"\n",
    "# os.environ[\"CUDA_LAUNCH_BLOCKING\"] = \"1\"\n",
    "import logging\n",
    "import torch\n",
    "import numpy as np\n",
    "import matplotlib.pyplot as plt\n",
    "from tqdm.auto import tqdm\n",
    "\n",
    "from torch.utils.data import DataLoader, Subset\n",
    "from torch.optim.lr_scheduler import ReduceLROnPlateau\n",
    "from models.diff_modules import TrajectoryUNetDenoiser\n",
    "from models.diff_model import DiffusionTrajectoryModel\n",
    "from models.encoder import InteractionGraphEncoder, TargetTrajectoryEncoder\n",
    "from make_dataset import MultiMatchSoccerDataset, organize_and_process\n",
    "from utils.utils import set_evertyhing, worker_init_fn, generator, plot_trajectories_on_pitch, log_graph_stats\n",
    "from utils.data_utils import split_dataset_indices, custom_collate_fn\n",
    "from utils.graph_utils import build_graph_sequence_from_condition\n",
    "\n",
    "# SEED Fix\n",
    "SEED = 42\n",
    "set_evertyhing(SEED)\n",
    "\n",
    "\n",
    "# Save Log / Logger Setting\n",
    "model_save_path = './results/logs/'\n",
    "os.makedirs(model_save_path, exist_ok=True)\n",
    "logging.basicConfig(\n",
    "    level=logging.INFO,\n",
    "    format='%(asctime)s %(levelname)s %(message)s',\n",
    "    filename=os.path.join(model_save_path, 'train.log'),\n",
    "    filemode='w'\n",
    ")\n",
    "logger = logging.getLogger()\n",
    "\n",
    "# 1. Model Config & Hyperparameter Setting\n",
    "hyperparams = {\n",
    "    'raw_data_path': \"idsse-data\",\n",
    "    'data_save_path': \"match_data\",\n",
    "    'train_batch_size': 32,\n",
    "    'val_batch_size': 32,\n",
    "    'test_batch_size': 32,\n",
    "    'num_workers': 8,\n",
    "    \n",
    "    'epochs': 50,\n",
    "    'learning_rate': 1e-4,\n",
    "    'self_conditioning_ratio': 0.5,\n",
    "    \n",
    "    'num_steps': 500,\n",
    "    'ddim_steps': 50,\n",
    "    'eta': 0.0,\n",
    "    'embedding_dim': 128,\n",
    "    'base_channels': 128,\n",
    "    'depth': 4,\n",
    "    'heads': 4,\n",
    "    'feature_dim': 2,\n",
    "    \n",
    "    'num_samples': 10,\n",
    "    'device': 'cuda' if torch.cuda.is_available() else 'cpu',\n",
    "}\n",
    "\n",
    "raw_data_path = hyperparams['raw_data_path']\n",
    "data_save_path = hyperparams['data_save_path']\n",
    "\n",
    "train_batch_size = hyperparams['train_batch_size']\n",
    "val_batch_size = hyperparams['val_batch_size']\n",
    "test_batch_size = hyperparams['test_batch_size']\n",
    "num_workers = hyperparams['num_workers']\n",
    "\n",
    "epochs = hyperparams['epochs']\n",
    "learning_rate = hyperparams['learning_rate']\n",
    "self_conditioning_ratio = hyperparams['self_conditioning_ratio']\n",
    "\n",
    "num_steps = hyperparams['num_steps']\n",
    "ddim_steps = hyperparams['ddim_steps']\n",
    "eta = hyperparams['eta']\n",
    "\n",
    "embedding_dim = hyperparams['embedding_dim']\n",
    "base_channels = hyperparams['base_channels']\n",
    "depth = hyperparams['depth']\n",
    "heads = hyperparams['heads']\n",
    "feature_dim = hyperparams['feature_dim']\n",
    "\n",
    "num_samples = hyperparams['num_samples']\n",
    "device = hyperparams['device']\n",
    "\n",
    "logger.info(f\"Hyperparameters: {hyperparams}\")\n",
    "\n",
    "# 2. Data Loading\n",
    "print(\"---Data Loading---\")\n",
    "if not os.path.exists(data_save_path) or len(os.listdir(data_save_path)) == 0:\n",
    "    organize_and_process(raw_data_path, data_save_path)\n",
    "else:\n",
    "    print(\"Skip organize_and_process\")\n",
    "\n",
    "dataset = MultiMatchSoccerDataset(data_root=data_save_path)\n",
    "train_idx, val_idx, test_idx = split_dataset_indices(dataset, val_ratio=1/6, test_ratio=1/6, random_seed=SEED)\n",
    "\n",
    "train_dataloader = DataLoader(\n",
    "    Subset(dataset, train_idx),\n",
    "    batch_size=train_batch_size,\n",
    "    shuffle=True,\n",
    "    num_workers=num_workers,\n",
    "    pin_memory=True,\n",
    "    persistent_workers=False,\n",
    "    collate_fn=custom_collate_fn,\n",
    "    worker_init_fn=worker_init_fn,\n",
    "    generator=generator(SEED)\n",
    ")\n",
    "\n",
    "val_dataloader = DataLoader(\n",
    "    Subset(dataset, val_idx),\n",
    "    batch_size=val_batch_size,\n",
    "    shuffle=False,\n",
    "    num_workers=num_workers,\n",
    "    pin_memory=True,\n",
    "    persistent_workers=False,\n",
    "    collate_fn=custom_collate_fn,\n",
    "    worker_init_fn=worker_init_fn,\n",
    ")\n",
    "\n",
    "test_dataloader = DataLoader(\n",
    "    Subset(dataset, test_idx),\n",
    "    batch_size=test_batch_size,\n",
    "    shuffle=False,\n",
    "    num_workers=num_workers,\n",
    "    pin_memory=True,\n",
    "    persistent_workers=False,\n",
    "    collate_fn=custom_collate_fn,\n",
    "    worker_init_fn=worker_init_fn\n",
    ")\n",
    "\n",
    "print(\"---Data Load!---\")\n",
    "\n",
    "# 3. Model Define\n",
    "# Extract node feature dimension\n",
    "sample = dataset[0]\n",
    "_, T, N = sample[\"target\"].unsqueeze(0).shape\n",
    "graph = build_graph_sequence_from_condition({\n",
    "    \"condition\": sample[\"condition\"],\n",
    "    \"condition_columns\": sample[\"condition_columns\"],\n",
    "    \"pitch_scale\": sample[\"pitch_scale\"]\n",
    "}).to(device)\n",
    "\n",
    "after_padding_dim = ((T + 15) // 16) * 16\n",
    "\n",
    "log_graph_stats(graph, logger, prefix=\"InitGraphSample\")\n",
    "\n",
    "in_dim = graph['Node'].x.size(1)\n",
    "\n",
    "# Extract target's history trajectories from condition\n",
    "condition_columns = sample[\"condition_columns\"]\n",
    "target_columns = sample[\"target_columns\"]\n",
    "target_idx = [condition_columns.index(col) for col in target_columns if col in condition_columns]\n",
    "\n",
    "# graph_encoder = InteractionGraphEncoder(in_dim=in_dim, hidden_dim=128, out_dim=128, heads = 2).to(device)\n",
    "graph_encoder = InteractionGraphEncoder(in_dim=in_dim, hidden_dim=128, out_dim=128).to(device)\n",
    "history_encoder = TargetTrajectoryEncoder(num_layers=5).to(device)\n",
    "denoiser = TrajectoryUNetDenoiser(\n",
    "    num_steps = num_steps, num_players = N // 2, seq_len = after_padding_dim, embedding_dim = embedding_dim, feature_dim = feature_dim,\n",
    "    base_channels = base_channels, depth = depth, heads = heads\n",
    ").to(device)\n",
    "\n",
    "model = DiffusionTrajectoryModel(denoiser, num_steps=num_steps).to(device)\n",
    "optimizer = torch.optim.Adam(model.parameters(), lr=learning_rate)\n",
    "scheduler = ReduceLROnPlateau(optimizer, mode='min', factor = 0.5, patience = 2, threshold = 1e-4)\n",
    "\n",
    "logger.info(f\"Device: {device}\")\n",
    "logger.info(f\"GraphEncoder: {graph_encoder}\")\n",
    "logger.info(f\"HistoryEncoder: {history_encoder}\")\n",
    "logger.info(f\"Denoiser : {denoiser}\")\n",
    "logger.info(f\"DiffusionTrajectoryModel: {model}\")\n",
    "\n",
    "\n",
    "# 4. Train\n",
    "best_state_dict = None\n",
    "best_val_loss = float(\"inf\")\n",
    "\n",
    "train_losses = []\n",
    "val_losses   = []\n",
    "\n",
    "for epoch in tqdm(range(1, epochs + 1), desc=\"Training...\"):\n",
    "    model.train()\n",
    "    train_noise_loss = 0\n",
    "    # train_mse_loss = 0\n",
    "    train_frechet_loss = 0\n",
    "    train_fde_loss = 0\n",
    "    train_loss = 0\n",
    "\n",
    "    for batch in tqdm(train_dataloader, desc = \"Batch Training...\"):\n",
    "        cond = batch[\"condition\"].to(device)\n",
    "        B, T, _ = cond.shape\n",
    "        target = batch[\"target\"].to(device).view(-1, T, 11, 2)  # [B, T, 11, 2]\n",
    "        graph_batch = batch[\"graph\"].to(device)                              # HeteroData batch\n",
    "\n",
    "        # graph → graph_rep\n",
    "        graph_rep = graph_encoder(graph_batch)                                       # [B, 128]\n",
    "        \n",
    "        # Target's history trajectories\n",
    "        hist = cond[:, :, target_idx].to(device) \n",
    "        hist_rep = history_encoder(hist)  # [B, 128]\n",
    "        \n",
    "        cond_info = (graph_rep, hist_rep)\n",
    "        # Preparing Self-conditioning data\n",
    "        if torch.rand(1, device=device) < self_conditioning_ratio:\n",
    "            s = torch.zeros_like(target)\n",
    "        else:\n",
    "            with torch.no_grad():\n",
    "                t = torch.randint(0, model.num_steps, (target.size(0),), device=device)\n",
    "                x_t, noise = model.q_sample(target, t)\n",
    "                \n",
    "                eps_pred1 = model.model(x_t, t, cond_info)\n",
    "                \n",
    "                a_hat = model.alpha_hat.to(device)[t].view(-1, 1, 1, 1)\n",
    "                x0_hat = (x_t - (1 - a_hat).sqrt() * eps_pred1) / a_hat.sqrt()\n",
    "                \n",
    "            s = x0_hat\n",
    "        \n",
    "        # noise_loss, player_loss_mse, player_loss_frechet = model(target, cond_info=cond_info, self_cond=s)\n",
    "        # loss = noise_loss + player_loss_mse + player_loss_frechet * 0.2\n",
    "        \n",
    "        noise_loss, player_loss_frechet, player_loss_fde = model(target, cond_info=cond_info, self_cond=s)\n",
    "        loss = noise_loss + player_loss_frechet * 0.2 + player_loss_fde\n",
    "        \n",
    "        optimizer.zero_grad()\n",
    "        loss.backward()\n",
    "        optimizer.step()\n",
    "\n",
    "        train_noise_loss += (noise_loss).item()\n",
    "        # train_mse_loss += (player_loss_mse).item()\n",
    "        train_frechet_loss += (player_loss_frechet * 0.2).item()\n",
    "        train_fde_loss += player_loss_fde.item()\n",
    "        train_loss += loss.item()\n",
    "\n",
    "    num_batches = len(train_dataloader)\n",
    "    \n",
    "    avg_noise_loss = train_noise_loss / num_batches\n",
    "    # avg_mse_loss = train_mse_loss / num_batches\n",
    "    avg_frechet_loss = train_frechet_loss / num_batches\n",
    "    avg_fde_loss = train_fde_loss / num_batches\n",
    "    avg_train_loss = train_loss / num_batches\n",
    "\n",
    "\n",
    "    # --- Validation ---\n",
    "    model.eval()\n",
    "    val_noise_loss = 0\n",
    "    # val_mse_loss = 0\n",
    "    val_frechet_loss = 0\n",
    "    val_fde_loss = 0\n",
    "    val_total_loss = 0\n",
    "\n",
    "    with torch.no_grad():\n",
    "        for batch in tqdm(val_dataloader, desc=\"Validation\"):\n",
    "            cond = batch[\"condition\"].to(device)\n",
    "            B, T, _ = cond.shape\n",
    "            target = batch[\"target\"].to(device).view(-1, T, 11, 2)  # [B, T, 11, 2]\n",
    "            graph_batch = batch[\"graph\"].to(device)\n",
    "\n",
    "            graph_rep = graph_encoder(graph_batch)                                       # [B, 128]            \n",
    "\n",
    "            hist = cond[:, :, target_idx].to(device)  # [B,128,11,T]\n",
    "            hist_rep = history_encoder(hist)  # [B, 128]\n",
    "            \n",
    "            cond_info = (graph_rep, hist_rep)\n",
    "            \n",
    "            s = torch.zeros_like(target)\n",
    "            \n",
    "            # noise_loss, player_loss_mse, player_loss_frechet = model(target, cond_info=cond_info, self_cond=s)\n",
    "            # val_loss = noise_loss + player_loss_mse + player_loss_frechet * 0.2\n",
    "            noise_loss, player_loss_frechet, player_loss_fde = model(target, cond_info=cond_info, self_cond=s)\n",
    "            val_loss = noise_loss + player_loss_frechet * 0.2 + player_loss_fde\n",
    "            \n",
    "            val_noise_loss += (noise_loss).item()\n",
    "            # val_mse_loss += (player_loss_mse).item()\n",
    "            val_frechet_loss += (player_loss_frechet * 0.2).item()\n",
    "            val_fde_loss += player_loss_fde.item()\n",
    "            val_total_loss += val_loss.item()\n",
    "\n",
    "    avg_val_noise_loss = val_noise_loss / len(val_dataloader)\n",
    "    # avg_val_mse_loss = val_mse_loss / len(val_dataloader)\n",
    "    avg_val_frechet_loss = val_frechet_loss / len(val_dataloader)\n",
    "    avg_val_fde_loss = val_fde_loss / len(val_dataloader)\n",
    "    avg_val_loss = val_total_loss / len(val_dataloader)\n",
    "  \n",
    "    train_losses.append(avg_train_loss)\n",
    "    val_losses.append(avg_val_loss)\n",
    "    \n",
    "    current_lr = scheduler.get_last_lr()[0]\n",
    "    logger.info(f\"[Epoch {epoch}/{epochs}] Train Loss={avg_train_loss:.6f} (Noise={avg_noise_loss:.6f}, Frechet={avg_frechet_loss:.6f}) , FDE={avg_fde_loss:.6f})| Val Loss={avg_val_loss:.6f} | LR={current_lr:.6e}\")\n",
    "    \n",
    "    tqdm.write(f\"[Epoch {epoch}]\\n\"\n",
    "               f\"[Train] Cost: {avg_train_loss:.6f} | Noise Loss: {avg_noise_loss:.6f} | Frechet Loss: {avg_frechet_loss:.6f} | FDE Loss: {avg_fde_loss:.6f} LR: {current_lr:.6f}\\n\"\n",
    "               f\"[Validation] Val Loss: {avg_val_loss:.6f} | Noise: {avg_val_noise_loss:.6f} | Frechet: {avg_val_frechet_loss:.6f} | FDE: {avg_val_fde_loss:.6f}\")\n",
    "    \n",
    "    scheduler.step(avg_val_loss)\n",
    "    if avg_val_loss < best_val_loss:\n",
    "        best_val_loss = avg_val_loss\n",
    "        best_state_dict = model.state_dict()\n",
    "\n",
    "logger.info(f\"Training complete. Best val loss: {best_val_loss:.6f}\")\n",
    "        \n",
    "# 4-1. Plot learning_curve\n",
    "plt.figure(figsize=(8, 6))\n",
    "plt.plot(range(1, epochs+1), train_losses, label='Train Loss')\n",
    "plt.plot(range(1, epochs+1), val_losses, label='Val Loss')\n",
    "plt.xlabel('Epoch')\n",
    "plt.ylabel('Loss')\n",
    "plt.title(f\"Train & Validation Loss, {num_steps} steps, {base_channels} base channels, \"\n",
    "          f\"{embedding_dim} embedding dim, {depth} depth \"\n",
    "          f\"self-conditioning ratio: {self_conditioning_ratio}\")\n",
    "plt.legend()\n",
    "plt.tight_layout()\n",
    "\n",
    "plt.savefig('results/0501_diffusion_lr_curve.png')\n",
    "\n",
    "plt.show()"
   ]
  },
  {
   "cell_type": "code",
   "execution_count": 3,
   "metadata": {},
   "outputs": [
    {
     "data": {
      "application/vnd.jupyter.widget-view+json": {
       "model_id": "95c2e89d84ec4dfa93da6abef88d26b9",
       "version_major": 2,
       "version_minor": 0
      },
      "text/plain": [
       "Test Streaming Inference:   0%|          | 0/49 [00:54<?, ?it/s]"
      ]
     },
     "metadata": {},
     "output_type": "display_data"
    },
    {
     "name": "stdout",
     "output_type": "stream",
     "text": [
      "[Test Best-of-10] Average ADE: 18.8207 | Average FDE: 19.6450\n",
      "[Test Best-of-10] Best ADE overall: 12.6847 | Best FDE overall: 12.3058\n"
     ]
    }
   ],
   "source": [
    "\n",
    "# 5. Inference (Best-of-N Sampling) & Visualization\n",
    "model.eval()\n",
    "all_best_ades_test = []\n",
    "all_best_fdes_test = []\n",
    "visualize_samples = 5\n",
    "visualized = False\n",
    "\n",
    "with torch.no_grad():\n",
    "    for batch in tqdm(test_dataloader, desc=\"Test Streaming Inference\"):\n",
    "        cond = batch[\"condition\"].to(device)\n",
    "        B, T, _ = cond.shape\n",
    "        target = batch[\"target\"].to(device).view(B, T, 11, 2)\n",
    "\n",
    "        graph_batch  = batch[\"graph\"].to(device)\n",
    "        graph_rep = graph_encoder(graph_batch)\n",
    "        \n",
    "        hist = cond[:, :, target_idx].to(device)\n",
    "        hist_rep = history_encoder(hist)\n",
    "        \n",
    "        cond_info = (graph_rep, hist_rep)\n",
    "\n",
    "        best_ade_t = torch.full((B,), float(\"inf\"), device=device)\n",
    "        best_pred_t = torch.zeros_like(target)\n",
    "        best_fde_t = torch.full((B,), float(\"inf\"), device=device)\n",
    "                    \n",
    "        scales = torch.tensor(batch[\"pitch_scale\"], device=device, dtype=torch.float32)  \n",
    "        scales = scales.view(B, 1, 1, 2)\n",
    "        target_den = target * scales\n",
    "\n",
    "        preds = model.generate(target.shape, cond_info = cond_info, ddim_steps = ddim_steps, eta = eta, num_samples = num_samples)\n",
    "\n",
    "        for i in range(preds.shape[0]):\n",
    "            pred_i = preds[i]\n",
    "            pred_i_den = pred_i * scales\n",
    "            \n",
    "            ade_i = ((pred_i_den - target_den)**2).sum(-1).sqrt().mean((1,2))\n",
    "            fde_i = ((pred_i_den[:,-1] - target_den[:,-1])**2).sum(-1).sqrt().mean(1)\n",
    "            \n",
    "            better = ade_i < best_ade_t\n",
    "            \n",
    "            best_pred_t[better] = pred_i_den[better]\n",
    "            best_ade_t[better] = ade_i[better]\n",
    "            best_fde_t[better] = fde_i[better]\n",
    "\n",
    "        all_best_ades_test.extend(best_ade_t.cpu().tolist())\n",
    "        all_best_fdes_test.extend(best_fde_t.cpu().tolist())\n",
    "\n",
    "        # Visualization\n",
    "        if not visualized:\n",
    "            base_dir = \"results/test_trajs\"\n",
    "            os.makedirs(base_dir, exist_ok=True)\n",
    "            for i in range(min(B, visualize_samples)):\n",
    "                sample_dir = os.path.join(base_dir, f\"sample{i:02d}\")\n",
    "                os.makedirs(sample_dir, exist_ok=True)\n",
    "                \n",
    "                other_cols  = batch[\"other_columns\"][i]\n",
    "                target_cols = batch[\"target_columns\"][i]\n",
    "                defender_nums = [int(col.split('_')[1]) for col in target_cols[::2]]\n",
    "\n",
    "                others_seq = batch[\"other\"][i].view(T, 12, 2).cpu().numpy()\n",
    "                target_traj = target_den[i].cpu().numpy()\n",
    "                pred_traj = best_pred_t[i].cpu().numpy()\n",
    "\n",
    "                for idx, jersey in enumerate(defender_nums):\n",
    "                    save_path = os.path.join(sample_dir, f\"player_{jersey:02d}.png\")\n",
    "                    plot_trajectories_on_pitch(others_seq, target_traj, pred_traj,\n",
    "                                               other_columns=other_cols, target_columns=target_cols,\n",
    "                                               player_idx=idx, annotate=True, save_path=save_path)\n",
    "\n",
    "            visualized = True\n",
    "\n",
    "avg_test_ade = np.mean(all_best_ades_test)\n",
    "avg_test_fde = np.mean(all_best_fdes_test)\n",
    "print(f\"[Test Best-of-{num_samples}] Average ADE: {avg_test_ade:.4f} | Average FDE: {avg_test_fde:.4f}\")\n",
    "print(f\"[Test Best-of-{num_samples}] Best ADE overall: {min(all_best_ades_test):.4f} | Best FDE overall: {min(all_best_fdes_test):.4f}\")"
   ]
  }
 ],
 "metadata": {
  "kernelspec": {
   "display_name": "SoccerTraj",
   "language": "python",
   "name": "python3"
  },
  "language_info": {
   "codemirror_mode": {
    "name": "ipython",
    "version": 3
   },
   "file_extension": ".py",
   "mimetype": "text/x-python",
   "name": "python",
   "nbconvert_exporter": "python",
   "pygments_lexer": "ipython3",
   "version": "3.10.16"
  }
 },
 "nbformat": 4,
 "nbformat_minor": 2
}
