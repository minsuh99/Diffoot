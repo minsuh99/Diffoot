{
 "cells": [
  {
   "cell_type": "code",
   "execution_count": 1,
   "metadata": {},
   "outputs": [],
   "source": [
    "import multiprocessing as mp\n",
    "mp.set_start_method('spawn', force=True)"
   ]
  },
  {
   "cell_type": "code",
   "execution_count": 2,
   "metadata": {},
   "outputs": [
    {
     "name": "stdout",
     "output_type": "stream",
     "text": [
      "---Data Loading---\n",
      "Skip organize_and_process\n"
     ]
    },
    {
     "name": "stderr",
     "output_type": "stream",
     "text": [
      "Loading Matches: 100%|██████████| 6/6 [00:40<00:00,  6.70s/it]\n"
     ]
    },
    {
     "name": "stdout",
     "output_type": "stream",
     "text": [
      "---Data Load!---\n"
     ]
    }
   ],
   "source": [
    "import os\n",
    "os.environ[\"CUBLAS_WORKSPACE_CONFIG\"] = \":4096:8\"\n",
    "# os.environ[\"CUDA_LAUNCH_BLOCKING\"] = \"1\"\n",
    "import logging\n",
    "import torch\n",
    "import numpy as np\n",
    "import matplotlib.pyplot as plt\n",
    "from tqdm.auto import tqdm\n",
    "\n",
    "from torch.utils.data import DataLoader, Subset\n",
    "from torch.optim.lr_scheduler import ReduceLROnPlateau\n",
    "from torch.amp import autocast, GradScaler\n",
    "from models.diff_modules import diff_CSDI\n",
    "from models.diff_model import DiffusionTrajectoryModel\n",
    "from models.encoder import InteractionGraphEncoder, TargetTrajectoryEncoder\n",
    "from make_dataset import MultiMatchSoccerDataset, organize_and_process\n",
    "from utils.utils import set_evertyhing, worker_init_fn, generator, plot_trajectories_on_pitch, log_graph_stats\n",
    "from utils.data_utils import split_dataset_indices, custom_collate_fn\n",
    "from utils.graph_utils import build_graph_sequence_from_condition\n",
    "\n",
    "# SEED Fix\n",
    "SEED = 42\n",
    "set_evertyhing(SEED)\n",
    "\n",
    "\n",
    "# Save Log / Logger Setting\n",
    "model_save_path = './results/logs/'\n",
    "os.makedirs(model_save_path, exist_ok=True)\n",
    "logging.basicConfig(\n",
    "    level=logging.INFO,\n",
    "    format='%(asctime)s %(levelname)s %(message)s',\n",
    "    filename=os.path.join(model_save_path, 'train.log'),\n",
    "    filemode='w'\n",
    ")\n",
    "logger = logging.getLogger()\n",
    "\n",
    "# 1. Model Config & Hyperparameter Setting\n",
    "csdi_config = {\n",
    "    \"num_steps\": 1000,\n",
    "    \"channels\": 256,\n",
    "    \"diffusion_embedding_dim\": 256,\n",
    "    \"nheads\": 4,\n",
    "    \"layers\": 5,\n",
    "    # \"side_dim\": 128\n",
    "    \"side_dim\": 512\n",
    "}\n",
    "hyperparams = {\n",
    "    'raw_data_path': \"idsse-data\", # raw_data_path = \"Download raw file path\"\n",
    "    'data_save_path': \"match_data\",\n",
    "    'train_batch_size': 16,\n",
    "    'val_batch_size': 16,\n",
    "    'test_batch_size': 16,\n",
    "    'num_workers': 8,\n",
    "    'epochs': 50,\n",
    "    'learning_rate': 1e-4,\n",
    "    'self_conditioning_ratio': 0.5,\n",
    "    'num_samples': 10,\n",
    "    'device': 'cuda:1' if torch.cuda.is_available() else 'cpu',\n",
    "\n",
    "    'ddim_step': 200,\n",
    "    'eta': 0.1,\n",
    "    **csdi_config\n",
    "}\n",
    "raw_data_path = hyperparams['raw_data_path']\n",
    "data_save_path = hyperparams['data_save_path']\n",
    "train_batch_size = hyperparams['train_batch_size']\n",
    "val_batch_size = hyperparams['val_batch_size']\n",
    "test_batch_size = hyperparams['test_batch_size']\n",
    "num_workers = hyperparams['num_workers']\n",
    "epochs = hyperparams['epochs']\n",
    "learning_rate = hyperparams['learning_rate']\n",
    "self_conditioning_ratio = hyperparams['self_conditioning_ratio']\n",
    "num_samples = hyperparams['num_samples']\n",
    "device = hyperparams['device']\n",
    "ddim_step = hyperparams['ddim_step']\n",
    "eta = hyperparams['eta']\n",
    "side_dim = hyperparams['side_dim']\n",
    "\n",
    "logger.info(f\"Hyperparameters: {hyperparams}\")\n",
    "\n",
    "# 2. Data Loading\n",
    "print(\"---Data Loading---\")\n",
    "if not os.path.exists(data_save_path) or len(os.listdir(data_save_path)) == 0:\n",
    "    organize_and_process(raw_data_path, data_save_path)\n",
    "else:\n",
    "    print(\"Skip organize_and_process\")\n",
    "\n",
    "dataset = MultiMatchSoccerDataset(data_root=data_save_path)\n",
    "train_idx, val_idx, test_idx = split_dataset_indices(dataset, val_ratio=1/6, test_ratio=1/6, random_seed=SEED)\n",
    "\n",
    "train_dataloader = DataLoader(\n",
    "    Subset(dataset, train_idx),\n",
    "    batch_size=train_batch_size,\n",
    "    shuffle=True,\n",
    "    num_workers=num_workers,\n",
    "    pin_memory=True,\n",
    "    persistent_workers=False,\n",
    "    collate_fn=custom_collate_fn,\n",
    "    worker_init_fn=worker_init_fn,\n",
    "    generator=generator(SEED)\n",
    ")\n",
    "\n",
    "val_dataloader = DataLoader(\n",
    "    Subset(dataset, val_idx),\n",
    "    batch_size=val_batch_size,\n",
    "    shuffle=False,\n",
    "    num_workers=num_workers,\n",
    "    pin_memory=True,\n",
    "    persistent_workers=False,\n",
    "    collate_fn=custom_collate_fn,\n",
    "    worker_init_fn=worker_init_fn,\n",
    ")\n",
    "\n",
    "test_dataloader = DataLoader(\n",
    "    Subset(dataset, test_idx),\n",
    "    batch_size=test_batch_size,\n",
    "    shuffle=False,\n",
    "    num_workers=num_workers,\n",
    "    pin_memory=True,\n",
    "    persistent_workers=False,\n",
    "    collate_fn=custom_collate_fn,\n",
    "    worker_init_fn=worker_init_fn\n",
    ")\n",
    "\n",
    "print(\"---Data Load!---\")\n",
    "\n",
    "# 3. Model Define\n",
    "# Extract node feature dimension\n",
    "sample = dataset[0]\n",
    "graph = build_graph_sequence_from_condition({\n",
    "    \"condition\": sample[\"condition\"],\n",
    "    \"condition_columns\": sample[\"condition_columns\"],\n",
    "    \"pitch_scale\": sample[\"pitch_scale\"]\n",
    "}).to(device)\n",
    "\n",
    "log_graph_stats(graph, logger, prefix=\"InitGraphSample\")\n",
    "\n",
    "in_dim = graph['Node'].x.size(1)\n",
    "\n",
    "# Extract target's history trajectories from condition\n",
    "condition_columns = sample[\"condition_columns\"]\n",
    "target_columns = sample[\"target_columns\"]\n",
    "target_idx = [condition_columns.index(col) for col in target_columns if col in condition_columns]\n",
    "\n",
    "# graph_encoder = InteractionGraphEncoder(in_dim=in_dim, hidden_dim=128, out_dim=128, heads = 2).to(device)\n",
    "graph_encoder = InteractionGraphEncoder(in_dim=in_dim, hidden_dim=side_dim // 2, out_dim=side_dim // 2).to(device)\n",
    "history_encoder = TargetTrajectoryEncoder(num_layers=5, hidden_dim = side_dim // 4, bidirectional=True).to(device)\n",
    "denoiser = diff_CSDI(csdi_config)\n",
    "model = DiffusionTrajectoryModel(denoiser, num_steps=csdi_config[\"num_steps\"]).to(device)\n",
    "optimizer = torch.optim.Adam(model.parameters(), lr=learning_rate)\n",
    "scheduler = ReduceLROnPlateau(optimizer, mode='min', factor=0.5, patience=2, threshold=1e-4)\n",
    "scaler = GradScaler()\n",
    "\n",
    "logger.info(f\"Device: {device}\")\n",
    "logger.info(f\"GraphEncoder: {graph_encoder}\")\n",
    "logger.info(f\"HistoryEncoder: {history_encoder}\")\n",
    "logger.info(f\"Denoiser (diff_CSDI): {denoiser}\")\n",
    "logger.info(f\"DiffusionTrajectoryModel: {model}\")"
   ]
  },
  {
   "cell_type": "code",
   "execution_count": 3,
   "metadata": {},
   "outputs": [
    {
     "data": {
      "application/vnd.jupyter.widget-view+json": {
       "model_id": "74129d24e7154f56ae011ba92290abcc",
       "version_major": 2,
       "version_minor": 0
      },
      "text/plain": [
       "Training...:   0%|          | 0/50 [00:00<?, ?it/s]"
      ]
     },
     "metadata": {},
     "output_type": "display_data"
    },
    {
     "data": {
      "application/vnd.jupyter.widget-view+json": {
       "model_id": "a2b50a5d077a4eb3be6fabf4648d6749",
       "version_major": 2,
       "version_minor": 0
      },
      "text/plain": [
       "Batch Training...:   0%|          | 0/264 [00:55<?, ?it/s]"
      ]
     },
     "metadata": {},
     "output_type": "display_data"
    },
    {
     "data": {
      "application/vnd.jupyter.widget-view+json": {
       "model_id": "ac2f380485034d6e917e5fff2fe82fca",
       "version_major": 2,
       "version_minor": 0
      },
      "text/plain": [
       "Validation:   0%|          | 0/77 [00:57<?, ?it/s]"
      ]
     },
     "metadata": {},
     "output_type": "display_data"
    },
    {
     "name": "stdout",
     "output_type": "stream",
     "text": [
      "[Epoch 1]\n",
      "[Train] Cost: 1.078073 | Noise Loss: 0.405642 | NLL Loss: 0.004985 | Frechet: 0.667446 | LR: 0.000100\n",
      "[Validation] Val Loss: 0.539586 | Noise Loss: 0.280754 | NLL Loss: 0.004104 | Frechet: 0.254728 |\n"
     ]
    },
    {
     "data": {
      "application/vnd.jupyter.widget-view+json": {
       "model_id": "f8eb9730975643e29bfaedc615c8f63f",
       "version_major": 2,
       "version_minor": 0
      },
      "text/plain": [
       "Batch Training...:   0%|          | 0/264 [00:59<?, ?it/s]"
      ]
     },
     "metadata": {},
     "output_type": "display_data"
    },
    {
     "data": {
      "application/vnd.jupyter.widget-view+json": {
       "model_id": "a65bfa3b7455402e9b8097ac39c6dfe4",
       "version_major": 2,
       "version_minor": 0
      },
      "text/plain": [
       "Validation:   0%|          | 0/77 [00:57<?, ?it/s]"
      ]
     },
     "metadata": {},
     "output_type": "display_data"
    },
    {
     "name": "stdout",
     "output_type": "stream",
     "text": [
      "[Epoch 2]\n",
      "[Train] Cost: 0.516443 | Noise Loss: 0.233599 | NLL Loss: 0.003546 | Frechet: 0.279298 | LR: 0.000100\n",
      "[Validation] Val Loss: 0.425497 | Noise Loss: 0.235646 | NLL Loss: 0.003442 | Frechet: 0.186409 |\n"
     ]
    },
    {
     "data": {
      "application/vnd.jupyter.widget-view+json": {
       "model_id": "79c0498408f24ddf9fb6a182404f5368",
       "version_major": 2,
       "version_minor": 0
      },
      "text/plain": [
       "Batch Training...:   0%|          | 0/264 [00:57<?, ?it/s]"
      ]
     },
     "metadata": {},
     "output_type": "display_data"
    },
    {
     "data": {
      "application/vnd.jupyter.widget-view+json": {
       "model_id": "f6dc9c6cbb1e43d58f814dbee7e8dc02",
       "version_major": 2,
       "version_minor": 0
      },
      "text/plain": [
       "Validation:   0%|          | 0/77 [00:57<?, ?it/s]"
      ]
     },
     "metadata": {},
     "output_type": "display_data"
    },
    {
     "name": "stdout",
     "output_type": "stream",
     "text": [
      "[Epoch 3]\n",
      "[Train] Cost: 0.443321 | Noise Loss: 0.205905 | NLL Loss: 0.003062 | Frechet: 0.234353 | LR: 0.000100\n",
      "[Validation] Val Loss: 0.410368 | Noise Loss: 0.215527 | NLL Loss: 0.003031 | Frechet: 0.191811 |\n"
     ]
    },
    {
     "data": {
      "application/vnd.jupyter.widget-view+json": {
       "model_id": "e4ba0f5cdb8844f0ba9ec7244a2a29f4",
       "version_major": 2,
       "version_minor": 0
      },
      "text/plain": [
       "Batch Training...:   0%|          | 0/264 [00:57<?, ?it/s]"
      ]
     },
     "metadata": {},
     "output_type": "display_data"
    },
    {
     "data": {
      "application/vnd.jupyter.widget-view+json": {
       "model_id": "fa3255b0212c44ad93b07e56ff9a9c3c",
       "version_major": 2,
       "version_minor": 0
      },
      "text/plain": [
       "Validation:   0%|          | 0/77 [00:56<?, ?it/s]"
      ]
     },
     "metadata": {},
     "output_type": "display_data"
    },
    {
     "name": "stdout",
     "output_type": "stream",
     "text": [
      "[Epoch 4]\n",
      "[Train] Cost: 0.395765 | Noise Loss: 0.178842 | NLL Loss: 0.002571 | Frechet: 0.214352 | LR: 0.000100\n",
      "[Validation] Val Loss: 0.395543 | Noise Loss: 0.205859 | NLL Loss: 0.002830 | Frechet: 0.186854 |\n"
     ]
    },
    {
     "data": {
      "application/vnd.jupyter.widget-view+json": {
       "model_id": "5c6d807c6da94a8db271a31ceceaa60f",
       "version_major": 2,
       "version_minor": 0
      },
      "text/plain": [
       "Batch Training...:   0%|          | 0/264 [00:57<?, ?it/s]"
      ]
     },
     "metadata": {},
     "output_type": "display_data"
    },
    {
     "data": {
      "application/vnd.jupyter.widget-view+json": {
       "model_id": "54840ea879fe4f1d9159a5b39c50a5a3",
       "version_major": 2,
       "version_minor": 0
      },
      "text/plain": [
       "Validation:   0%|          | 0/77 [00:56<?, ?it/s]"
      ]
     },
     "metadata": {},
     "output_type": "display_data"
    },
    {
     "name": "stdout",
     "output_type": "stream",
     "text": [
      "[Epoch 5]\n",
      "[Train] Cost: 0.381127 | Noise Loss: 0.162186 | NLL Loss: 0.002173 | Frechet: 0.216768 | LR: 0.000100\n",
      "[Validation] Val Loss: 0.354379 | Noise Loss: 0.191469 | NLL Loss: 0.002436 | Frechet: 0.160475 |\n"
     ]
    },
    {
     "data": {
      "application/vnd.jupyter.widget-view+json": {
       "model_id": "d0d57f69390543b8b2fb2cc525c4909e",
       "version_major": 2,
       "version_minor": 0
      },
      "text/plain": [
       "Batch Training...:   0%|          | 0/264 [00:56<?, ?it/s]"
      ]
     },
     "metadata": {},
     "output_type": "display_data"
    },
    {
     "data": {
      "application/vnd.jupyter.widget-view+json": {
       "model_id": "3d565d0103ab451b88e083486e68409e",
       "version_major": 2,
       "version_minor": 0
      },
      "text/plain": [
       "Validation:   0%|          | 0/77 [00:58<?, ?it/s]"
      ]
     },
     "metadata": {},
     "output_type": "display_data"
    },
    {
     "name": "stdout",
     "output_type": "stream",
     "text": [
      "[Epoch 6]\n",
      "[Train] Cost: 0.329146 | Noise Loss: 0.143983 | NLL Loss: 0.001665 | Frechet: 0.183497 | LR: 0.000100\n",
      "[Validation] Val Loss: 0.333537 | Noise Loss: 0.176371 | NLL Loss: 0.002058 | Frechet: 0.155107 |\n"
     ]
    },
    {
     "data": {
      "application/vnd.jupyter.widget-view+json": {
       "model_id": "74fc0871995341a7aaab0e2e200d555b",
       "version_major": 2,
       "version_minor": 0
      },
      "text/plain": [
       "Batch Training...:   0%|          | 0/264 [01:05<?, ?it/s]"
      ]
     },
     "metadata": {},
     "output_type": "display_data"
    },
    {
     "data": {
      "application/vnd.jupyter.widget-view+json": {
       "model_id": "53c38826bb9e469284618ab1db3cca45",
       "version_major": 2,
       "version_minor": 0
      },
      "text/plain": [
       "Validation:   0%|          | 0/77 [00:55<?, ?it/s]"
      ]
     },
     "metadata": {},
     "output_type": "display_data"
    },
    {
     "name": "stdout",
     "output_type": "stream",
     "text": [
      "[Epoch 7]\n",
      "[Train] Cost: 0.305514 | Noise Loss: 0.128086 | NLL Loss: 0.001184 | Frechet: 0.176245 | LR: 0.000100\n",
      "[Validation] Val Loss: 0.329529 | Noise Loss: 0.179258 | NLL Loss: 0.001917 | Frechet: 0.148354 |\n"
     ]
    },
    {
     "data": {
      "application/vnd.jupyter.widget-view+json": {
       "model_id": "2229b285a5034f2ba79b99babf80b9b2",
       "version_major": 2,
       "version_minor": 0
      },
      "text/plain": [
       "Batch Training...:   0%|          | 0/264 [00:58<?, ?it/s]"
      ]
     },
     "metadata": {},
     "output_type": "display_data"
    },
    {
     "data": {
      "application/vnd.jupyter.widget-view+json": {
       "model_id": "b90a8bf984494c3d95cb7f8d640adc3e",
       "version_major": 2,
       "version_minor": 0
      },
      "text/plain": [
       "Validation:   0%|          | 0/77 [00:57<?, ?it/s]"
      ]
     },
     "metadata": {},
     "output_type": "display_data"
    },
    {
     "name": "stdout",
     "output_type": "stream",
     "text": [
      "[Epoch 8]\n",
      "[Train] Cost: 0.281806 | Noise Loss: 0.119992 | NLL Loss: 0.000815 | Frechet: 0.160999 | LR: 0.000100\n",
      "[Validation] Val Loss: 0.299379 | Noise Loss: 0.156116 | NLL Loss: 0.001302 | Frechet: 0.141962 |\n"
     ]
    },
    {
     "data": {
      "application/vnd.jupyter.widget-view+json": {
       "model_id": "776c70db769a4587aab757e6a5a2ff22",
       "version_major": 2,
       "version_minor": 0
      },
      "text/plain": [
       "Batch Training...:   0%|          | 0/264 [00:57<?, ?it/s]"
      ]
     },
     "metadata": {},
     "output_type": "display_data"
    },
    {
     "data": {
      "application/vnd.jupyter.widget-view+json": {
       "model_id": "d24584ac7eb24814ab5173bcb9eaa5c2",
       "version_major": 2,
       "version_minor": 0
      },
      "text/plain": [
       "Validation:   0%|          | 0/77 [00:57<?, ?it/s]"
      ]
     },
     "metadata": {},
     "output_type": "display_data"
    },
    {
     "name": "stdout",
     "output_type": "stream",
     "text": [
      "[Epoch 9]\n",
      "[Train] Cost: 0.270098 | Noise Loss: 0.115146 | NLL Loss: 0.000510 | Frechet: 0.154442 | LR: 0.000100\n",
      "[Validation] Val Loss: 0.306151 | Noise Loss: 0.149985 | NLL Loss: 0.001147 | Frechet: 0.155019 |\n"
     ]
    },
    {
     "data": {
      "application/vnd.jupyter.widget-view+json": {
       "model_id": "7a5eac418f8a4a0c9369710fa1853970",
       "version_major": 2,
       "version_minor": 0
      },
      "text/plain": [
       "Batch Training...:   0%|          | 0/264 [00:56<?, ?it/s]"
      ]
     },
     "metadata": {},
     "output_type": "display_data"
    },
    {
     "data": {
      "application/vnd.jupyter.widget-view+json": {
       "model_id": "76f27acf27194713ac5baf9e0a5263de",
       "version_major": 2,
       "version_minor": 0
      },
      "text/plain": [
       "Validation:   0%|          | 0/77 [00:57<?, ?it/s]"
      ]
     },
     "metadata": {},
     "output_type": "display_data"
    },
    {
     "name": "stdout",
     "output_type": "stream",
     "text": [
      "[Epoch 10]\n",
      "[Train] Cost: 0.268755 | Noise Loss: 0.114442 | NLL Loss: 0.000367 | Frechet: 0.153945 | LR: 0.000100\n",
      "[Validation] Val Loss: 0.310983 | Noise Loss: 0.161083 | NLL Loss: 0.001093 | Frechet: 0.148807 |\n"
     ]
    },
    {
     "data": {
      "application/vnd.jupyter.widget-view+json": {
       "model_id": "c0862dfd6c004d88b6e3e9bd3f6fc145",
       "version_major": 2,
       "version_minor": 0
      },
      "text/plain": [
       "Batch Training...:   0%|          | 0/264 [00:57<?, ?it/s]"
      ]
     },
     "metadata": {},
     "output_type": "display_data"
    },
    {
     "data": {
      "application/vnd.jupyter.widget-view+json": {
       "model_id": "b6feb50b4deb402bb48e33a9e3898d43",
       "version_major": 2,
       "version_minor": 0
      },
      "text/plain": [
       "Validation:   0%|          | 0/77 [00:57<?, ?it/s]"
      ]
     },
     "metadata": {},
     "output_type": "display_data"
    },
    {
     "name": "stdout",
     "output_type": "stream",
     "text": [
      "[Epoch 11]\n",
      "[Train] Cost: 0.244748 | Noise Loss: 0.104702 | NLL Loss: 0.000082 | Frechet: 0.139964 | LR: 0.000100\n",
      "[Validation] Val Loss: 0.268579 | Noise Loss: 0.148501 | NLL Loss: 0.000568 | Frechet: 0.119510 |\n"
     ]
    },
    {
     "data": {
      "application/vnd.jupyter.widget-view+json": {
       "model_id": "43d12bbb8038400992a510f0249e2db3",
       "version_major": 2,
       "version_minor": 0
      },
      "text/plain": [
       "Batch Training...:   0%|          | 0/264 [00:57<?, ?it/s]"
      ]
     },
     "metadata": {},
     "output_type": "display_data"
    },
    {
     "data": {
      "application/vnd.jupyter.widget-view+json": {
       "model_id": "ed4b4fe8d0264dc4b7b8fc90777b87d1",
       "version_major": 2,
       "version_minor": 0
      },
      "text/plain": [
       "Validation:   0%|          | 0/77 [01:00<?, ?it/s]"
      ]
     },
     "metadata": {},
     "output_type": "display_data"
    },
    {
     "name": "stdout",
     "output_type": "stream",
     "text": [
      "[Epoch 12]\n",
      "[Train] Cost: 0.240334 | Noise Loss: 0.102231 | NLL Loss: -0.000054 | Frechet: 0.138157 | LR: 0.000100\n",
      "[Validation] Val Loss: 0.254398 | Noise Loss: 0.132809 | NLL Loss: 0.000247 | Frechet: 0.121341 |\n"
     ]
    },
    {
     "data": {
      "application/vnd.jupyter.widget-view+json": {
       "model_id": "e7dcf77daa8f45bfbb3b25da36e90fe8",
       "version_major": 2,
       "version_minor": 0
      },
      "text/plain": [
       "Batch Training...:   0%|          | 0/264 [00:55<?, ?it/s]"
      ]
     },
     "metadata": {},
     "output_type": "display_data"
    },
    {
     "data": {
      "application/vnd.jupyter.widget-view+json": {
       "model_id": "83c052a6ee1348f7a2b29e4170dc8fab",
       "version_major": 2,
       "version_minor": 0
      },
      "text/plain": [
       "Validation:   0%|          | 0/77 [00:56<?, ?it/s]"
      ]
     },
     "metadata": {},
     "output_type": "display_data"
    },
    {
     "name": "stdout",
     "output_type": "stream",
     "text": [
      "[Epoch 13]\n",
      "[Train] Cost: 0.232464 | Noise Loss: 0.103560 | NLL Loss: -0.000147 | Frechet: 0.129051 | LR: 0.000100\n",
      "[Validation] Val Loss: 0.266589 | Noise Loss: 0.149585 | NLL Loss: 0.000425 | Frechet: 0.116579 |\n"
     ]
    },
    {
     "data": {
      "application/vnd.jupyter.widget-view+json": {
       "model_id": "d5a1988c44874f8f99e1e92e18f541a5",
       "version_major": 2,
       "version_minor": 0
      },
      "text/plain": [
       "Batch Training...:   0%|          | 0/264 [00:55<?, ?it/s]"
      ]
     },
     "metadata": {},
     "output_type": "display_data"
    },
    {
     "data": {
      "application/vnd.jupyter.widget-view+json": {
       "model_id": "bb54bed05ecc455ebf90c012778eb1b6",
       "version_major": 2,
       "version_minor": 0
      },
      "text/plain": [
       "Validation:   0%|          | 0/77 [00:56<?, ?it/s]"
      ]
     },
     "metadata": {},
     "output_type": "display_data"
    },
    {
     "name": "stdout",
     "output_type": "stream",
     "text": [
      "[Epoch 14]\n",
      "[Train] Cost: 0.232680 | Noise Loss: 0.102743 | NLL Loss: -0.000240 | Frechet: 0.130177 | LR: 0.000100\n",
      "[Validation] Val Loss: 0.249431 | Noise Loss: 0.140124 | NLL Loss: 0.000596 | Frechet: 0.108711 |\n"
     ]
    },
    {
     "data": {
      "application/vnd.jupyter.widget-view+json": {
       "model_id": "f68d1d1cccf249c999476dca42c0ac4e",
       "version_major": 2,
       "version_minor": 0
      },
      "text/plain": [
       "Batch Training...:   0%|          | 0/264 [00:58<?, ?it/s]"
      ]
     },
     "metadata": {},
     "output_type": "display_data"
    },
    {
     "data": {
      "application/vnd.jupyter.widget-view+json": {
       "model_id": "1f1b2465b0f24762a16864af77a001a2",
       "version_major": 2,
       "version_minor": 0
      },
      "text/plain": [
       "Validation:   0%|          | 0/77 [00:56<?, ?it/s]"
      ]
     },
     "metadata": {},
     "output_type": "display_data"
    },
    {
     "name": "stdout",
     "output_type": "stream",
     "text": [
      "[Epoch 15]\n",
      "[Train] Cost: 0.216935 | Noise Loss: 0.098763 | NLL Loss: -0.000420 | Frechet: 0.118593 | LR: 0.000100\n",
      "[Validation] Val Loss: 0.242594 | Noise Loss: 0.137673 | NLL Loss: 0.000171 | Frechet: 0.104751 |\n"
     ]
    },
    {
     "data": {
      "application/vnd.jupyter.widget-view+json": {
       "model_id": "9f3b1459ac8c423f8954bb217c553c11",
       "version_major": 2,
       "version_minor": 0
      },
      "text/plain": [
       "Batch Training...:   0%|          | 0/264 [00:58<?, ?it/s]"
      ]
     },
     "metadata": {},
     "output_type": "display_data"
    },
    {
     "data": {
      "application/vnd.jupyter.widget-view+json": {
       "model_id": "692f6f817e8948fd8faca16fc1466421",
       "version_major": 2,
       "version_minor": 0
      },
      "text/plain": [
       "Validation:   0%|          | 0/77 [00:58<?, ?it/s]"
      ]
     },
     "metadata": {},
     "output_type": "display_data"
    },
    {
     "name": "stdout",
     "output_type": "stream",
     "text": [
      "[Epoch 16]\n",
      "[Train] Cost: 0.213788 | Noise Loss: 0.096676 | NLL Loss: -0.000552 | Frechet: 0.117665 | LR: 0.000100\n",
      "[Validation] Val Loss: 0.236991 | Noise Loss: 0.131000 | NLL Loss: 0.000222 | Frechet: 0.105769 |\n"
     ]
    },
    {
     "data": {
      "application/vnd.jupyter.widget-view+json": {
       "model_id": "fbcd4c21e3eb44fc8fd77289f4630d99",
       "version_major": 2,
       "version_minor": 0
      },
      "text/plain": [
       "Batch Training...:   0%|          | 0/264 [01:01<?, ?it/s]"
      ]
     },
     "metadata": {},
     "output_type": "display_data"
    },
    {
     "data": {
      "application/vnd.jupyter.widget-view+json": {
       "model_id": "647497fe31374760968c78337b2e8d1c",
       "version_major": 2,
       "version_minor": 0
      },
      "text/plain": [
       "Validation:   0%|          | 0/77 [00:55<?, ?it/s]"
      ]
     },
     "metadata": {},
     "output_type": "display_data"
    },
    {
     "name": "stdout",
     "output_type": "stream",
     "text": [
      "[Epoch 17]\n",
      "[Train] Cost: 0.210470 | Noise Loss: 0.090958 | NLL Loss: -0.000680 | Frechet: 0.120192 | LR: 0.000100\n",
      "[Validation] Val Loss: 0.241345 | Noise Loss: 0.125907 | NLL Loss: -0.000226 | Frechet: 0.115664 |\n"
     ]
    },
    {
     "data": {
      "application/vnd.jupyter.widget-view+json": {
       "model_id": "c7985897bf484934ade5d0c80c2dbd44",
       "version_major": 2,
       "version_minor": 0
      },
      "text/plain": [
       "Batch Training...:   0%|          | 0/264 [00:58<?, ?it/s]"
      ]
     },
     "metadata": {},
     "output_type": "display_data"
    },
    {
     "data": {
      "application/vnd.jupyter.widget-view+json": {
       "model_id": "b04e0f221f6c463b93f3e88eeab65eb6",
       "version_major": 2,
       "version_minor": 0
      },
      "text/plain": [
       "Validation:   0%|          | 0/77 [00:57<?, ?it/s]"
      ]
     },
     "metadata": {},
     "output_type": "display_data"
    },
    {
     "name": "stdout",
     "output_type": "stream",
     "text": [
      "[Epoch 18]\n",
      "[Train] Cost: 0.205666 | Noise Loss: 0.088315 | NLL Loss: -0.000810 | Frechet: 0.118161 | LR: 0.000100\n",
      "[Validation] Val Loss: 0.242739 | Noise Loss: 0.135564 | NLL Loss: 0.000224 | Frechet: 0.106952 |\n"
     ]
    },
    {
     "data": {
      "application/vnd.jupyter.widget-view+json": {
       "model_id": "5ff3c4750be34b81b369e685ef7be0f3",
       "version_major": 2,
       "version_minor": 0
      },
      "text/plain": [
       "Batch Training...:   0%|          | 0/264 [00:59<?, ?it/s]"
      ]
     },
     "metadata": {},
     "output_type": "display_data"
    },
    {
     "data": {
      "application/vnd.jupyter.widget-view+json": {
       "model_id": "46291e86404e493bb91aba07ed7082c6",
       "version_major": 2,
       "version_minor": 0
      },
      "text/plain": [
       "Validation:   0%|          | 0/77 [00:57<?, ?it/s]"
      ]
     },
     "metadata": {},
     "output_type": "display_data"
    },
    {
     "name": "stdout",
     "output_type": "stream",
     "text": [
      "[Epoch 19]\n",
      "[Train] Cost: 0.197972 | Noise Loss: 0.088977 | NLL Loss: -0.000947 | Frechet: 0.109942 | LR: 0.000100\n",
      "[Validation] Val Loss: 0.234978 | Noise Loss: 0.138570 | NLL Loss: 0.000235 | Frechet: 0.096173 |\n"
     ]
    },
    {
     "data": {
      "application/vnd.jupyter.widget-view+json": {
       "model_id": "3fc9552de8fc4f52a5e8a8747601e22a",
       "version_major": 2,
       "version_minor": 0
      },
      "text/plain": [
       "Batch Training...:   0%|          | 0/264 [00:58<?, ?it/s]"
      ]
     },
     "metadata": {},
     "output_type": "display_data"
    },
    {
     "data": {
      "application/vnd.jupyter.widget-view+json": {
       "model_id": "099a8cba131e4f8381e8a4b960ffdb46",
       "version_major": 2,
       "version_minor": 0
      },
      "text/plain": [
       "Validation:   0%|          | 0/77 [00:56<?, ?it/s]"
      ]
     },
     "metadata": {},
     "output_type": "display_data"
    },
    {
     "name": "stdout",
     "output_type": "stream",
     "text": [
      "[Epoch 20]\n",
      "[Train] Cost: 0.196596 | Noise Loss: 0.086992 | NLL Loss: -0.001057 | Frechet: 0.110662 | LR: 0.000100\n",
      "[Validation] Val Loss: 0.227360 | Noise Loss: 0.130788 | NLL Loss: -0.000261 | Frechet: 0.096833 |\n"
     ]
    },
    {
     "data": {
      "application/vnd.jupyter.widget-view+json": {
       "model_id": "55c9ae75d55f4f04bc1c7133e240496a",
       "version_major": 2,
       "version_minor": 0
      },
      "text/plain": [
       "Batch Training...:   0%|          | 0/264 [00:58<?, ?it/s]"
      ]
     },
     "metadata": {},
     "output_type": "display_data"
    },
    {
     "data": {
      "application/vnd.jupyter.widget-view+json": {
       "model_id": "eba00f915a954ccf89ccf42794a2067d",
       "version_major": 2,
       "version_minor": 0
      },
      "text/plain": [
       "Validation:   0%|          | 0/77 [00:55<?, ?it/s]"
      ]
     },
     "metadata": {},
     "output_type": "display_data"
    },
    {
     "name": "stdout",
     "output_type": "stream",
     "text": [
      "[Epoch 21]\n",
      "[Train] Cost: 0.192956 | Noise Loss: 0.084194 | NLL Loss: -0.001177 | Frechet: 0.109939 | LR: 0.000100\n",
      "[Validation] Val Loss: 0.226014 | Noise Loss: 0.131825 | NLL Loss: -0.000509 | Frechet: 0.094697 |\n"
     ]
    },
    {
     "data": {
      "application/vnd.jupyter.widget-view+json": {
       "model_id": "4be6ec1bfb94449489b4066a0aabf32c",
       "version_major": 2,
       "version_minor": 0
      },
      "text/plain": [
       "Batch Training...:   0%|          | 0/264 [00:57<?, ?it/s]"
      ]
     },
     "metadata": {},
     "output_type": "display_data"
    },
    {
     "data": {
      "application/vnd.jupyter.widget-view+json": {
       "model_id": "65b83eb5b7954da8a81af0316c92360b",
       "version_major": 2,
       "version_minor": 0
      },
      "text/plain": [
       "Validation:   0%|          | 0/77 [00:57<?, ?it/s]"
      ]
     },
     "metadata": {},
     "output_type": "display_data"
    },
    {
     "name": "stdout",
     "output_type": "stream",
     "text": [
      "[Epoch 22]\n",
      "[Train] Cost: 0.185912 | Noise Loss: 0.083090 | NLL Loss: -0.001200 | Frechet: 0.104022 | LR: 0.000100\n",
      "[Validation] Val Loss: 0.229319 | Noise Loss: 0.128023 | NLL Loss: 0.000113 | Frechet: 0.101183 |\n"
     ]
    },
    {
     "data": {
      "application/vnd.jupyter.widget-view+json": {
       "model_id": "907baeb178124a6d85688d6a889121b9",
       "version_major": 2,
       "version_minor": 0
      },
      "text/plain": [
       "Batch Training...:   0%|          | 0/264 [00:56<?, ?it/s]"
      ]
     },
     "metadata": {},
     "output_type": "display_data"
    },
    {
     "data": {
      "application/vnd.jupyter.widget-view+json": {
       "model_id": "7302f6bc34eb45b8b8fb685c59082673",
       "version_major": 2,
       "version_minor": 0
      },
      "text/plain": [
       "Validation:   0%|          | 0/77 [00:57<?, ?it/s]"
      ]
     },
     "metadata": {},
     "output_type": "display_data"
    },
    {
     "name": "stdout",
     "output_type": "stream",
     "text": [
      "[Epoch 23]\n",
      "[Train] Cost: 0.184258 | Noise Loss: 0.084037 | NLL Loss: -0.001273 | Frechet: 0.101494 | LR: 0.000100\n",
      "[Validation] Val Loss: 0.248232 | Noise Loss: 0.130115 | NLL Loss: 0.000221 | Frechet: 0.117896 |\n"
     ]
    },
    {
     "data": {
      "application/vnd.jupyter.widget-view+json": {
       "model_id": "0542451c1044453cb6e335da972fad81",
       "version_major": 2,
       "version_minor": 0
      },
      "text/plain": [
       "Batch Training...:   0%|          | 0/264 [00:57<?, ?it/s]"
      ]
     },
     "metadata": {},
     "output_type": "display_data"
    },
    {
     "data": {
      "application/vnd.jupyter.widget-view+json": {
       "model_id": "0d44c84d6e7745368af9ad1b9365af46",
       "version_major": 2,
       "version_minor": 0
      },
      "text/plain": [
       "Validation:   0%|          | 0/77 [00:57<?, ?it/s]"
      ]
     },
     "metadata": {},
     "output_type": "display_data"
    },
    {
     "name": "stdout",
     "output_type": "stream",
     "text": [
      "[Epoch 24]\n",
      "[Train] Cost: 0.175631 | Noise Loss: 0.079358 | NLL Loss: -0.001374 | Frechet: 0.097647 | LR: 0.000100\n",
      "[Validation] Val Loss: 0.213056 | Noise Loss: 0.125389 | NLL Loss: -0.000428 | Frechet: 0.088095 |\n"
     ]
    },
    {
     "data": {
      "application/vnd.jupyter.widget-view+json": {
       "model_id": "8280503cae254618a9b086ca592ef6f4",
       "version_major": 2,
       "version_minor": 0
      },
      "text/plain": [
       "Batch Training...:   0%|          | 0/264 [00:56<?, ?it/s]"
      ]
     },
     "metadata": {},
     "output_type": "display_data"
    },
    {
     "data": {
      "application/vnd.jupyter.widget-view+json": {
       "model_id": "2a99ad14440341b9b5d08b929ec4d2b6",
       "version_major": 2,
       "version_minor": 0
      },
      "text/plain": [
       "Validation:   0%|          | 0/77 [00:54<?, ?it/s]"
      ]
     },
     "metadata": {},
     "output_type": "display_data"
    },
    {
     "name": "stdout",
     "output_type": "stream",
     "text": [
      "[Epoch 25]\n",
      "[Train] Cost: 0.175329 | Noise Loss: 0.082759 | NLL Loss: -0.001287 | Frechet: 0.093857 | LR: 0.000100\n",
      "[Validation] Val Loss: 0.221346 | Noise Loss: 0.132899 | NLL Loss: -0.000256 | Frechet: 0.088703 |\n"
     ]
    },
    {
     "data": {
      "application/vnd.jupyter.widget-view+json": {
       "model_id": "c5161171823c42deb40d51a29bc4ca39",
       "version_major": 2,
       "version_minor": 0
      },
      "text/plain": [
       "Batch Training...:   0%|          | 0/264 [00:57<?, ?it/s]"
      ]
     },
     "metadata": {},
     "output_type": "display_data"
    },
    {
     "data": {
      "application/vnd.jupyter.widget-view+json": {
       "model_id": "a420add2486b421bb9ba0cb4e426cb25",
       "version_major": 2,
       "version_minor": 0
      },
      "text/plain": [
       "Validation:   0%|          | 0/77 [00:57<?, ?it/s]"
      ]
     },
     "metadata": {},
     "output_type": "display_data"
    },
    {
     "name": "stdout",
     "output_type": "stream",
     "text": [
      "[Epoch 26]\n",
      "[Train] Cost: 0.170589 | Noise Loss: 0.078897 | NLL Loss: -0.001578 | Frechet: 0.093269 | LR: 0.000100\n",
      "[Validation] Val Loss: 0.215646 | Noise Loss: 0.127925 | NLL Loss: -0.000396 | Frechet: 0.088118 |\n"
     ]
    },
    {
     "data": {
      "application/vnd.jupyter.widget-view+json": {
       "model_id": "b0337ff7e98f48699bdfbb7a89aafed4",
       "version_major": 2,
       "version_minor": 0
      },
      "text/plain": [
       "Batch Training...:   0%|          | 0/264 [00:56<?, ?it/s]"
      ]
     },
     "metadata": {},
     "output_type": "display_data"
    },
    {
     "data": {
      "application/vnd.jupyter.widget-view+json": {
       "model_id": "94878a79b57e4583821f246891d25b85",
       "version_major": 2,
       "version_minor": 0
      },
      "text/plain": [
       "Validation:   0%|          | 0/77 [00:57<?, ?it/s]"
      ]
     },
     "metadata": {},
     "output_type": "display_data"
    },
    {
     "name": "stdout",
     "output_type": "stream",
     "text": [
      "[Epoch 27]\n",
      "[Train] Cost: 0.173550 | Noise Loss: 0.077973 | NLL Loss: -0.001503 | Frechet: 0.097080 | LR: 0.000100\n",
      "[Validation] Val Loss: 0.214404 | Noise Loss: 0.128374 | NLL Loss: -0.000576 | Frechet: 0.086606 |\n"
     ]
    },
    {
     "data": {
      "application/vnd.jupyter.widget-view+json": {
       "model_id": "fc30c765d42b4744b7df326d71d21a58",
       "version_major": 2,
       "version_minor": 0
      },
      "text/plain": [
       "Batch Training...:   0%|          | 0/264 [00:58<?, ?it/s]"
      ]
     },
     "metadata": {},
     "output_type": "display_data"
    },
    {
     "data": {
      "application/vnd.jupyter.widget-view+json": {
       "model_id": "5e757ddc01a34ba7ab5f56ee21e61c0d",
       "version_major": 2,
       "version_minor": 0
      },
      "text/plain": [
       "Validation:   0%|          | 0/77 [00:56<?, ?it/s]"
      ]
     },
     "metadata": {},
     "output_type": "display_data"
    },
    {
     "name": "stdout",
     "output_type": "stream",
     "text": [
      "[Epoch 28]\n",
      "[Train] Cost: 0.153590 | Noise Loss: 0.075034 | NLL Loss: -0.001823 | Frechet: 0.080378 | LR: 0.000050\n",
      "[Validation] Val Loss: 0.215244 | Noise Loss: 0.131516 | NLL Loss: -0.000544 | Frechet: 0.084271 |\n"
     ]
    },
    {
     "data": {
      "application/vnd.jupyter.widget-view+json": {
       "model_id": "dc4921972f044444b2642bbc7c8af190",
       "version_major": 2,
       "version_minor": 0
      },
      "text/plain": [
       "Batch Training...:   0%|          | 0/264 [00:57<?, ?it/s]"
      ]
     },
     "metadata": {},
     "output_type": "display_data"
    },
    {
     "data": {
      "application/vnd.jupyter.widget-view+json": {
       "model_id": "e81a388c406140fe8ecfd44c87fea8ad",
       "version_major": 2,
       "version_minor": 0
      },
      "text/plain": [
       "Validation:   0%|          | 0/77 [00:56<?, ?it/s]"
      ]
     },
     "metadata": {},
     "output_type": "display_data"
    },
    {
     "name": "stdout",
     "output_type": "stream",
     "text": [
      "[Epoch 29]\n",
      "[Train] Cost: 0.149751 | Noise Loss: 0.071022 | NLL Loss: -0.001990 | Frechet: 0.080719 | LR: 0.000050\n",
      "[Validation] Val Loss: 0.205114 | Noise Loss: 0.120787 | NLL Loss: -0.000559 | Frechet: 0.084886 |\n"
     ]
    },
    {
     "data": {
      "application/vnd.jupyter.widget-view+json": {
       "model_id": "5326a2a81c7845bc8659ae7db09bb805",
       "version_major": 2,
       "version_minor": 0
      },
      "text/plain": [
       "Batch Training...:   0%|          | 0/264 [00:55<?, ?it/s]"
      ]
     },
     "metadata": {},
     "output_type": "display_data"
    },
    {
     "data": {
      "application/vnd.jupyter.widget-view+json": {
       "model_id": "c94da74d5dc2478a88009c8fd09ce589",
       "version_major": 2,
       "version_minor": 0
      },
      "text/plain": [
       "Validation:   0%|          | 0/77 [00:57<?, ?it/s]"
      ]
     },
     "metadata": {},
     "output_type": "display_data"
    },
    {
     "name": "stdout",
     "output_type": "stream",
     "text": [
      "[Epoch 30]\n",
      "[Train] Cost: 0.145682 | Noise Loss: 0.070717 | NLL Loss: -0.002127 | Frechet: 0.077092 | LR: 0.000050\n",
      "[Validation] Val Loss: 0.208553 | Noise Loss: 0.130850 | NLL Loss: -0.000172 | Frechet: 0.077875 |\n"
     ]
    },
    {
     "data": {
      "application/vnd.jupyter.widget-view+json": {
       "model_id": "1fc7eef200ec42368d105956cf9cfa38",
       "version_major": 2,
       "version_minor": 0
      },
      "text/plain": [
       "Batch Training...:   0%|          | 0/264 [00:55<?, ?it/s]"
      ]
     },
     "metadata": {},
     "output_type": "display_data"
    },
    {
     "data": {
      "application/vnd.jupyter.widget-view+json": {
       "model_id": "56abd3d40ba0434996b5e57c020d8485",
       "version_major": 2,
       "version_minor": 0
      },
      "text/plain": [
       "Validation:   0%|          | 0/77 [00:57<?, ?it/s]"
      ]
     },
     "metadata": {},
     "output_type": "display_data"
    },
    {
     "name": "stdout",
     "output_type": "stream",
     "text": [
      "[Epoch 31]\n",
      "[Train] Cost: 0.148794 | Noise Loss: 0.071954 | NLL Loss: -0.002048 | Frechet: 0.078887 | LR: 0.000050\n",
      "[Validation] Val Loss: 0.211425 | Noise Loss: 0.129969 | NLL Loss: -0.000581 | Frechet: 0.082037 |\n"
     ]
    },
    {
     "data": {
      "application/vnd.jupyter.widget-view+json": {
       "model_id": "9dede5b59e8e426db49ebc92feb46aaa",
       "version_major": 2,
       "version_minor": 0
      },
      "text/plain": [
       "Batch Training...:   0%|          | 0/264 [00:55<?, ?it/s]"
      ]
     },
     "metadata": {},
     "output_type": "display_data"
    },
    {
     "data": {
      "application/vnd.jupyter.widget-view+json": {
       "model_id": "7bf55b2d19eb4d10ac9a2a51a15bcd82",
       "version_major": 2,
       "version_minor": 0
      },
      "text/plain": [
       "Validation:   0%|          | 0/77 [00:55<?, ?it/s]"
      ]
     },
     "metadata": {},
     "output_type": "display_data"
    },
    {
     "name": "stdout",
     "output_type": "stream",
     "text": [
      "[Epoch 32]\n",
      "[Train] Cost: 0.147298 | Noise Loss: 0.071758 | NLL Loss: -0.002127 | Frechet: 0.077668 | LR: 0.000050\n",
      "[Validation] Val Loss: 0.206250 | Noise Loss: 0.132004 | NLL Loss: -0.000544 | Frechet: 0.074791 |\n"
     ]
    },
    {
     "data": {
      "application/vnd.jupyter.widget-view+json": {
       "model_id": "45778582efef462fb709473a30a92483",
       "version_major": 2,
       "version_minor": 0
      },
      "text/plain": [
       "Batch Training...:   0%|          | 0/264 [00:56<?, ?it/s]"
      ]
     },
     "metadata": {},
     "output_type": "display_data"
    },
    {
     "data": {
      "application/vnd.jupyter.widget-view+json": {
       "model_id": "dcda93fabd80425fa7f56d6e444a16dd",
       "version_major": 2,
       "version_minor": 0
      },
      "text/plain": [
       "Validation:   0%|          | 0/77 [00:57<?, ?it/s]"
      ]
     },
     "metadata": {},
     "output_type": "display_data"
    },
    {
     "name": "stdout",
     "output_type": "stream",
     "text": [
      "[Epoch 33]\n",
      "[Train] Cost: 0.139020 | Noise Loss: 0.068314 | NLL Loss: -0.002330 | Frechet: 0.073036 | LR: 0.000025\n",
      "[Validation] Val Loss: 0.206913 | Noise Loss: 0.132524 | NLL Loss: -0.000589 | Frechet: 0.074978 |\n"
     ]
    },
    {
     "data": {
      "application/vnd.jupyter.widget-view+json": {
       "model_id": "48cddbd53fc3466b93695c6ea6f255a1",
       "version_major": 2,
       "version_minor": 0
      },
      "text/plain": [
       "Batch Training...:   0%|          | 0/264 [00:58<?, ?it/s]"
      ]
     },
     "metadata": {},
     "output_type": "display_data"
    },
    {
     "data": {
      "application/vnd.jupyter.widget-view+json": {
       "model_id": "a54c7d4b303a4a689f3181d063bb2d5e",
       "version_major": 2,
       "version_minor": 0
      },
      "text/plain": [
       "Validation:   0%|          | 0/77 [00:56<?, ?it/s]"
      ]
     },
     "metadata": {},
     "output_type": "display_data"
    },
    {
     "name": "stdout",
     "output_type": "stream",
     "text": [
      "[Epoch 34]\n",
      "[Train] Cost: 0.137659 | Noise Loss: 0.069953 | NLL Loss: -0.002247 | Frechet: 0.069953 | LR: 0.000025\n",
      "[Validation] Val Loss: 0.202951 | Noise Loss: 0.128229 | NLL Loss: -0.001053 | Frechet: 0.075775 |\n"
     ]
    },
    {
     "data": {
      "application/vnd.jupyter.widget-view+json": {
       "model_id": "16741f6ed25d4b1da65e043016298279",
       "version_major": 2,
       "version_minor": 0
      },
      "text/plain": [
       "Batch Training...:   0%|          | 0/264 [00:58<?, ?it/s]"
      ]
     },
     "metadata": {},
     "output_type": "display_data"
    },
    {
     "data": {
      "application/vnd.jupyter.widget-view+json": {
       "model_id": "6d4288ee0aeb46bd84cc25f6f456793c",
       "version_major": 2,
       "version_minor": 0
      },
      "text/plain": [
       "Validation:   0%|          | 0/77 [00:56<?, ?it/s]"
      ]
     },
     "metadata": {},
     "output_type": "display_data"
    },
    {
     "name": "stdout",
     "output_type": "stream",
     "text": [
      "[Epoch 35]\n",
      "[Train] Cost: 0.137013 | Noise Loss: 0.070198 | NLL Loss: -0.002304 | Frechet: 0.069119 | LR: 0.000025\n",
      "[Validation] Val Loss: 0.197643 | Noise Loss: 0.124388 | NLL Loss: -0.000657 | Frechet: 0.073912 |\n"
     ]
    },
    {
     "data": {
      "application/vnd.jupyter.widget-view+json": {
       "model_id": "59a38873f79f40529349a29d137ca491",
       "version_major": 2,
       "version_minor": 0
      },
      "text/plain": [
       "Batch Training...:   0%|          | 0/264 [00:57<?, ?it/s]"
      ]
     },
     "metadata": {},
     "output_type": "display_data"
    },
    {
     "data": {
      "application/vnd.jupyter.widget-view+json": {
       "model_id": "82e24d46b1ba429190293cb3876799a5",
       "version_major": 2,
       "version_minor": 0
      },
      "text/plain": [
       "Validation:   0%|          | 0/77 [00:58<?, ?it/s]"
      ]
     },
     "metadata": {},
     "output_type": "display_data"
    },
    {
     "name": "stdout",
     "output_type": "stream",
     "text": [
      "[Epoch 36]\n",
      "[Train] Cost: 0.134432 | Noise Loss: 0.068879 | NLL Loss: -0.002394 | Frechet: 0.067947 | LR: 0.000025\n",
      "[Validation] Val Loss: 0.195589 | Noise Loss: 0.124597 | NLL Loss: -0.000650 | Frechet: 0.071642 |\n"
     ]
    },
    {
     "data": {
      "application/vnd.jupyter.widget-view+json": {
       "model_id": "0abf51d51f8d4814a2ff94e26dfcd9d6",
       "version_major": 2,
       "version_minor": 0
      },
      "text/plain": [
       "Batch Training...:   0%|          | 0/264 [00:56<?, ?it/s]"
      ]
     },
     "metadata": {},
     "output_type": "display_data"
    },
    {
     "data": {
      "application/vnd.jupyter.widget-view+json": {
       "model_id": "a4548c81d55e4685b9b882c10d90d969",
       "version_major": 2,
       "version_minor": 0
      },
      "text/plain": [
       "Validation:   0%|          | 0/77 [00:56<?, ?it/s]"
      ]
     },
     "metadata": {},
     "output_type": "display_data"
    },
    {
     "name": "stdout",
     "output_type": "stream",
     "text": [
      "[Epoch 37]\n",
      "[Train] Cost: 0.135451 | Noise Loss: 0.069014 | NLL Loss: -0.002469 | Frechet: 0.068906 | LR: 0.000025\n",
      "[Validation] Val Loss: 0.187271 | Noise Loss: 0.112759 | NLL Loss: -0.001122 | Frechet: 0.075634 |\n"
     ]
    },
    {
     "data": {
      "application/vnd.jupyter.widget-view+json": {
       "model_id": "f83e43f5092c46ed8bffbe39fb3f4817",
       "version_major": 2,
       "version_minor": 0
      },
      "text/plain": [
       "Batch Training...:   0%|          | 0/264 [00:57<?, ?it/s]"
      ]
     },
     "metadata": {},
     "output_type": "display_data"
    },
    {
     "data": {
      "application/vnd.jupyter.widget-view+json": {
       "model_id": "c8ecce9add06498bba28c2ae6ffabc55",
       "version_major": 2,
       "version_minor": 0
      },
      "text/plain": [
       "Validation:   0%|          | 0/77 [00:56<?, ?it/s]"
      ]
     },
     "metadata": {},
     "output_type": "display_data"
    },
    {
     "name": "stdout",
     "output_type": "stream",
     "text": [
      "[Epoch 38]\n",
      "[Train] Cost: 0.132116 | Noise Loss: 0.067044 | NLL Loss: -0.002460 | Frechet: 0.067531 | LR: 0.000025\n",
      "[Validation] Val Loss: 0.196546 | Noise Loss: 0.124552 | NLL Loss: -0.000861 | Frechet: 0.072855 |\n"
     ]
    },
    {
     "data": {
      "application/vnd.jupyter.widget-view+json": {
       "model_id": "eafc0b3eb30b43ae91fdbb81760defb0",
       "version_major": 2,
       "version_minor": 0
      },
      "text/plain": [
       "Batch Training...:   0%|          | 0/264 [00:58<?, ?it/s]"
      ]
     },
     "metadata": {},
     "output_type": "display_data"
    },
    {
     "data": {
      "application/vnd.jupyter.widget-view+json": {
       "model_id": "109727acf6354f9a81630e081954c8fd",
       "version_major": 2,
       "version_minor": 0
      },
      "text/plain": [
       "Validation:   0%|          | 0/77 [00:56<?, ?it/s]"
      ]
     },
     "metadata": {},
     "output_type": "display_data"
    },
    {
     "name": "stdout",
     "output_type": "stream",
     "text": [
      "[Epoch 39]\n",
      "[Train] Cost: 0.130347 | Noise Loss: 0.067664 | NLL Loss: -0.002479 | Frechet: 0.065162 | LR: 0.000025\n",
      "[Validation] Val Loss: 0.195800 | Noise Loss: 0.123570 | NLL Loss: -0.000822 | Frechet: 0.073053 |\n"
     ]
    },
    {
     "data": {
      "application/vnd.jupyter.widget-view+json": {
       "model_id": "34a94e5a7448428e95a0216f67f903ed",
       "version_major": 2,
       "version_minor": 0
      },
      "text/plain": [
       "Batch Training...:   0%|          | 0/264 [00:56<?, ?it/s]"
      ]
     },
     "metadata": {},
     "output_type": "display_data"
    },
    {
     "data": {
      "application/vnd.jupyter.widget-view+json": {
       "model_id": "c033686dc0d944ad9770686f71f5d699",
       "version_major": 2,
       "version_minor": 0
      },
      "text/plain": [
       "Validation:   0%|          | 0/77 [00:57<?, ?it/s]"
      ]
     },
     "metadata": {},
     "output_type": "display_data"
    },
    {
     "name": "stdout",
     "output_type": "stream",
     "text": [
      "[Epoch 40]\n",
      "[Train] Cost: 0.130150 | Noise Loss: 0.066623 | NLL Loss: -0.002562 | Frechet: 0.066089 | LR: 0.000025\n",
      "[Validation] Val Loss: 0.208956 | Noise Loss: 0.140147 | NLL Loss: -0.000165 | Frechet: 0.068973 |\n"
     ]
    },
    {
     "data": {
      "application/vnd.jupyter.widget-view+json": {
       "model_id": "c8a670c42805427da1ac154e49b4bac2",
       "version_major": 2,
       "version_minor": 0
      },
      "text/plain": [
       "Batch Training...:   0%|          | 0/264 [00:57<?, ?it/s]"
      ]
     },
     "metadata": {},
     "output_type": "display_data"
    },
    {
     "data": {
      "application/vnd.jupyter.widget-view+json": {
       "model_id": "5121e694e42941488cff54d7816f50da",
       "version_major": 2,
       "version_minor": 0
      },
      "text/plain": [
       "Validation:   0%|          | 0/77 [00:56<?, ?it/s]"
      ]
     },
     "metadata": {},
     "output_type": "display_data"
    },
    {
     "name": "stdout",
     "output_type": "stream",
     "text": [
      "[Epoch 41]\n",
      "[Train] Cost: 0.127722 | Noise Loss: 0.066918 | NLL Loss: -0.002554 | Frechet: 0.063359 | LR: 0.000013\n",
      "[Validation] Val Loss: 0.199913 | Noise Loss: 0.131145 | NLL Loss: -0.000574 | Frechet: 0.069342 |\n"
     ]
    },
    {
     "data": {
      "application/vnd.jupyter.widget-view+json": {
       "model_id": "badef8d4c989497daec4ed2315493587",
       "version_major": 2,
       "version_minor": 0
      },
      "text/plain": [
       "Batch Training...:   0%|          | 0/264 [00:59<?, ?it/s]"
      ]
     },
     "metadata": {},
     "output_type": "display_data"
    },
    {
     "data": {
      "application/vnd.jupyter.widget-view+json": {
       "model_id": "b8638f3470b6454dba6b4ac1e61723a7",
       "version_major": 2,
       "version_minor": 0
      },
      "text/plain": [
       "Validation:   0%|          | 0/77 [00:56<?, ?it/s]"
      ]
     },
     "metadata": {},
     "output_type": "display_data"
    },
    {
     "name": "stdout",
     "output_type": "stream",
     "text": [
      "[Epoch 42]\n",
      "[Train] Cost: 0.127271 | Noise Loss: 0.066394 | NLL Loss: -0.002623 | Frechet: 0.063500 | LR: 0.000013\n",
      "[Validation] Val Loss: 0.212179 | Noise Loss: 0.144009 | NLL Loss: -0.000502 | Frechet: 0.068672 |\n"
     ]
    },
    {
     "data": {
      "application/vnd.jupyter.widget-view+json": {
       "model_id": "fa457cea63be4906a28ac1e32a1ca95f",
       "version_major": 2,
       "version_minor": 0
      },
      "text/plain": [
       "Batch Training...:   0%|          | 0/264 [00:56<?, ?it/s]"
      ]
     },
     "metadata": {},
     "output_type": "display_data"
    },
    {
     "data": {
      "application/vnd.jupyter.widget-view+json": {
       "model_id": "bac97be121dc48179fe32239189b4443",
       "version_major": 2,
       "version_minor": 0
      },
      "text/plain": [
       "Validation:   0%|          | 0/77 [00:57<?, ?it/s]"
      ]
     },
     "metadata": {},
     "output_type": "display_data"
    },
    {
     "name": "stdout",
     "output_type": "stream",
     "text": [
      "[Epoch 43]\n",
      "[Train] Cost: 0.127852 | Noise Loss: 0.067957 | NLL Loss: -0.002569 | Frechet: 0.062465 | LR: 0.000013\n",
      "[Validation] Val Loss: 0.208267 | Noise Loss: 0.140243 | NLL Loss: -0.000432 | Frechet: 0.068456 |\n"
     ]
    },
    {
     "data": {
      "application/vnd.jupyter.widget-view+json": {
       "model_id": "a73f8ea604394b0cb61e40522054d030",
       "version_major": 2,
       "version_minor": 0
      },
      "text/plain": [
       "Batch Training...:   0%|          | 0/264 [00:58<?, ?it/s]"
      ]
     },
     "metadata": {},
     "output_type": "display_data"
    },
    {
     "data": {
      "application/vnd.jupyter.widget-view+json": {
       "model_id": "52be4c6959944e5c84564257b36bb4ab",
       "version_major": 2,
       "version_minor": 0
      },
      "text/plain": [
       "Validation:   0%|          | 0/77 [00:57<?, ?it/s]"
      ]
     },
     "metadata": {},
     "output_type": "display_data"
    },
    {
     "name": "stdout",
     "output_type": "stream",
     "text": [
      "[Epoch 44]\n",
      "[Train] Cost: 0.123123 | Noise Loss: 0.063092 | NLL Loss: -0.002884 | Frechet: 0.062916 | LR: 0.000006\n",
      "[Validation] Val Loss: 0.186904 | Noise Loss: 0.121655 | NLL Loss: -0.000495 | Frechet: 0.065745 |\n"
     ]
    },
    {
     "data": {
      "application/vnd.jupyter.widget-view+json": {
       "model_id": "66e4989db7664e8b8419858e29c402aa",
       "version_major": 2,
       "version_minor": 0
      },
      "text/plain": [
       "Batch Training...:   0%|          | 0/264 [00:58<?, ?it/s]"
      ]
     },
     "metadata": {},
     "output_type": "display_data"
    },
    {
     "data": {
      "application/vnd.jupyter.widget-view+json": {
       "model_id": "63dd5a954d3d43999ddc682bed51368e",
       "version_major": 2,
       "version_minor": 0
      },
      "text/plain": [
       "Validation:   0%|          | 0/77 [00:58<?, ?it/s]"
      ]
     },
     "metadata": {},
     "output_type": "display_data"
    },
    {
     "name": "stdout",
     "output_type": "stream",
     "text": [
      "[Epoch 45]\n",
      "[Train] Cost: 0.125239 | Noise Loss: 0.066330 | NLL Loss: -0.002783 | Frechet: 0.061692 | LR: 0.000006\n",
      "[Validation] Val Loss: 0.188772 | Noise Loss: 0.120837 | NLL Loss: -0.000864 | Frechet: 0.068798 |\n"
     ]
    },
    {
     "data": {
      "application/vnd.jupyter.widget-view+json": {
       "model_id": "f34ce297035d48579ea6efa901867624",
       "version_major": 2,
       "version_minor": 0
      },
      "text/plain": [
       "Batch Training...:   0%|          | 0/264 [00:56<?, ?it/s]"
      ]
     },
     "metadata": {},
     "output_type": "display_data"
    },
    {
     "data": {
      "application/vnd.jupyter.widget-view+json": {
       "model_id": "7c4a454cfecd44b798a6e5246143d146",
       "version_major": 2,
       "version_minor": 0
      },
      "text/plain": [
       "Validation:   0%|          | 0/77 [00:58<?, ?it/s]"
      ]
     },
     "metadata": {},
     "output_type": "display_data"
    },
    {
     "name": "stdout",
     "output_type": "stream",
     "text": [
      "[Epoch 46]\n",
      "[Train] Cost: 0.120481 | Noise Loss: 0.061794 | NLL Loss: -0.002825 | Frechet: 0.061512 | LR: 0.000006\n",
      "[Validation] Val Loss: 0.195967 | Noise Loss: 0.130808 | NLL Loss: -0.000414 | Frechet: 0.065572 |\n"
     ]
    },
    {
     "data": {
      "application/vnd.jupyter.widget-view+json": {
       "model_id": "fd4fe4bbe7a94cdb89bd2a4270cf59ff",
       "version_major": 2,
       "version_minor": 0
      },
      "text/plain": [
       "Batch Training...:   0%|          | 0/264 [00:55<?, ?it/s]"
      ]
     },
     "metadata": {},
     "output_type": "display_data"
    },
    {
     "data": {
      "application/vnd.jupyter.widget-view+json": {
       "model_id": "b3b7318347404163ba3627084331f7f3",
       "version_major": 2,
       "version_minor": 0
      },
      "text/plain": [
       "Validation:   0%|          | 0/77 [00:57<?, ?it/s]"
      ]
     },
     "metadata": {},
     "output_type": "display_data"
    },
    {
     "name": "stdout",
     "output_type": "stream",
     "text": [
      "[Epoch 47]\n",
      "[Train] Cost: 0.122604 | Noise Loss: 0.065274 | NLL Loss: -0.002778 | Frechet: 0.060108 | LR: 0.000006\n",
      "[Validation] Val Loss: 0.196777 | Noise Loss: 0.129883 | NLL Loss: -0.000548 | Frechet: 0.067442 |\n"
     ]
    },
    {
     "data": {
      "application/vnd.jupyter.widget-view+json": {
       "model_id": "f1332ad04c5b4d24975b418b6ec6c5db",
       "version_major": 2,
       "version_minor": 0
      },
      "text/plain": [
       "Batch Training...:   0%|          | 0/264 [00:57<?, ?it/s]"
      ]
     },
     "metadata": {},
     "output_type": "display_data"
    },
    {
     "data": {
      "application/vnd.jupyter.widget-view+json": {
       "model_id": "7b10f49a551b4a0bac7ca03609afe145",
       "version_major": 2,
       "version_minor": 0
      },
      "text/plain": [
       "Validation:   0%|          | 0/77 [00:58<?, ?it/s]"
      ]
     },
     "metadata": {},
     "output_type": "display_data"
    },
    {
     "name": "stdout",
     "output_type": "stream",
     "text": [
      "[Epoch 48]\n",
      "[Train] Cost: 0.120916 | Noise Loss: 0.062902 | NLL Loss: -0.002859 | Frechet: 0.060873 | LR: 0.000003\n",
      "[Validation] Val Loss: 0.197729 | Noise Loss: 0.132660 | NLL Loss: -0.000538 | Frechet: 0.065607 |\n"
     ]
    },
    {
     "data": {
      "application/vnd.jupyter.widget-view+json": {
       "model_id": "002242367a5c443a827d4278595aacc0",
       "version_major": 2,
       "version_minor": 0
      },
      "text/plain": [
       "Batch Training...:   0%|          | 0/264 [00:58<?, ?it/s]"
      ]
     },
     "metadata": {},
     "output_type": "display_data"
    },
    {
     "data": {
      "application/vnd.jupyter.widget-view+json": {
       "model_id": "c95b87dce3bb410698f5036dda2719c2",
       "version_major": 2,
       "version_minor": 0
      },
      "text/plain": [
       "Validation:   0%|          | 0/77 [00:56<?, ?it/s]"
      ]
     },
     "metadata": {},
     "output_type": "display_data"
    },
    {
     "name": "stdout",
     "output_type": "stream",
     "text": [
      "[Epoch 49]\n",
      "[Train] Cost: 0.120694 | Noise Loss: 0.062911 | NLL Loss: -0.002869 | Frechet: 0.060652 | LR: 0.000003\n",
      "[Validation] Val Loss: 0.192809 | Noise Loss: 0.128050 | NLL Loss: -0.000618 | Frechet: 0.065377 |\n"
     ]
    },
    {
     "data": {
      "application/vnd.jupyter.widget-view+json": {
       "model_id": "03ce317df62747729383ff7c7e35b848",
       "version_major": 2,
       "version_minor": 0
      },
      "text/plain": [
       "Batch Training...:   0%|          | 0/264 [00:56<?, ?it/s]"
      ]
     },
     "metadata": {},
     "output_type": "display_data"
    },
    {
     "data": {
      "application/vnd.jupyter.widget-view+json": {
       "model_id": "e8820e99857e4253914d1f3ce898dfa3",
       "version_major": 2,
       "version_minor": 0
      },
      "text/plain": [
       "Validation:   0%|          | 0/77 [00:56<?, ?it/s]"
      ]
     },
     "metadata": {},
     "output_type": "display_data"
    },
    {
     "name": "stdout",
     "output_type": "stream",
     "text": [
      "[Epoch 50]\n",
      "[Train] Cost: 0.120721 | Noise Loss: 0.063894 | NLL Loss: -0.002895 | Frechet: 0.059722 | LR: 0.000003\n",
      "[Validation] Val Loss: 0.193554 | Noise Loss: 0.126455 | NLL Loss: -0.000905 | Frechet: 0.068004 |\n"
     ]
    },
    {
     "data": {
      "image/png": "[encoded data removed]",
      "text/plain": [
       "<Figure size 800x600 with 1 Axes>"
      ]
     },
     "metadata": {},
     "output_type": "display_data"
    }
   ],
   "source": [
    "\n",
    "# 4. Train\n",
    "best_state_dict = None\n",
    "best_val_loss = float(\"inf\")\n",
    "\n",
    "train_losses = []\n",
    "val_losses   = []\n",
    "\n",
    "for epoch in tqdm(range(1, epochs + 1), desc=\"Training...\"):\n",
    "    model.train()\n",
    "    train_noise_mse = 0\n",
    "    train_noise_nll = 0\n",
    "    train_frechet_loss = 0\n",
    "    # train_mse_loss = 0\n",
    "    # train_dtw_loss = 0\n",
    "    # train_fde_loss = 0\n",
    "    train_loss = 0\n",
    "\n",
    "    for batch in tqdm(train_dataloader, desc = \"Batch Training...\"):\n",
    "        cond = batch[\"condition\"].to(device)\n",
    "        B, T, _ = cond.shape\n",
    "        target = batch[\"target\"].to(device).view(-1, T, 11, 2)  # [B, T, 11, 2]\n",
    "        graph_batch = batch[\"graph\"].to(device)                              # HeteroData batch\n",
    "\n",
    "        # graph → H\n",
    "        H = graph_encoder(graph_batch)                                       # [B, 128]\n",
    "        cond_H = H.unsqueeze(-1).unsqueeze(-1).expand(-1, H.size(1), 11, T)\n",
    "        \n",
    "        # Target's history trajectories\n",
    "        hist = cond[:, :, target_idx].to(device) \n",
    "        hist_rep = history_encoder(hist)  # [B, 128]\n",
    "        cond_hist = hist_rep.unsqueeze(-1).unsqueeze(-1).expand(-1, H.size(1), 11, T)\n",
    "        \n",
    "        # Concat conditions\n",
    "        cond_info = torch.cat([cond_H, cond_hist], dim=1)\n",
    "        # Preparing Self-conditioning data\n",
    "        # timestep (consistency)\n",
    "        t = torch.randint(0, model.num_steps, (target.size(0),), device=device)\n",
    "        if torch.rand(1, device=device) < self_conditioning_ratio:\n",
    "            with torch.no_grad():\n",
    "                x_t, noise = model.q_sample(target, t)\n",
    "                x_t = x_t.permute(0,3,2,1)\n",
    "                \n",
    "                z1 = model.model(x_t, t, cond_info, self_cond=None)\n",
    "                \n",
    "                eps_pred1 = z1[:, :2, :, :]\n",
    "                a_hat = model.alpha_hat.to(device)[t].view(-1,1,1,1)\n",
    "                x0_hat = (x_t - (1 - a_hat).sqrt() * eps_pred1) / a_hat.sqrt()\n",
    "                x0_hat = x0_hat.permute(0,3,2,1)\n",
    "                                \n",
    "            s = x0_hat\n",
    "        else:\n",
    "            s = torch.zeros_like(target)\n",
    "\n",
    "        \n",
    "        # noise_loss, player_loss_mse, player_loss_frechet = model(target, cond_info=cond_info, self_cond=s)\n",
    "        # loss = noise_loss + player_loss_mse + player_loss_frechet * 0.2\n",
    "        noise_mse, noise_nll, player_frechet_loss = model(target, t=t, cond_info=cond_info, self_cond=s)\n",
    "        loss = noise_mse + noise_nll * 0.005 + player_frechet_loss * 0.1\n",
    "            \n",
    "        optimizer.zero_grad()\n",
    "        loss.backward()\n",
    "        optimizer.step()\n",
    "\n",
    "        # train_noise_loss += (noise_loss).item()\n",
    "        # train_mse_loss += (player_loss_mse).item()\n",
    "        # train_dtw_loss += (player_loss_dtw).item()\n",
    "        # train_fde_loss += (player_loss_fde).item()\n",
    "        train_noise_mse += (noise_mse).item()\n",
    "        train_noise_nll += (noise_nll * 0.005).item()\n",
    "        train_frechet_loss += (player_frechet_loss * 0.1).item()\n",
    "        train_loss += loss.item()\n",
    "\n",
    "    num_batches = len(train_dataloader)\n",
    "    \n",
    "    # avg_noise_loss = train_noise_loss / num_batches\n",
    "    # # avg_mse_loss = train_mse_loss / num_batches\n",
    "    # avg_dtw_loss = train_dtw_loss / num_batches\n",
    "    # avg_fde_loss = train_fde_loss / num_batches\n",
    "    avg_train_noise_mse = train_noise_mse / num_batches\n",
    "    avg_train_noise_nll = train_noise_nll / num_batches\n",
    "    avg_train_frechet_loss = train_frechet_loss / num_batches\n",
    "    avg_train_loss = train_loss / num_batches\n",
    "\n",
    "\n",
    "    # --- Validation ---\n",
    "    model.eval()\n",
    "    # val_noise_loss = 0\n",
    "    # val_mse_loss = 0\n",
    "    # val_dtw_loss = 0\n",
    "    # val_fde_loss = 0\n",
    "    val_noise_mse = 0\n",
    "    val_noise_nll = 0\n",
    "    val_frechet_loss = 0\n",
    "    val_total_loss = 0\n",
    "\n",
    "    with torch.no_grad():\n",
    "        for batch in tqdm(val_dataloader, desc=\"Validation\"):\n",
    "            cond = batch[\"condition\"].to(device)\n",
    "            B, T, _ = cond.shape\n",
    "            target = batch[\"target\"].to(device).view(-1, T, 11, 2)  # [B, T, 11, 2]\n",
    "            graph_batch = batch[\"graph\"].to(device)                              # HeteroData batch\n",
    "\n",
    "            # graph → H\n",
    "            H = graph_encoder(graph_batch)                                       # [B, 128]\n",
    "            cond_H = H.unsqueeze(-1).unsqueeze(-1).expand(-1, H.size(1), 11, T)\n",
    "            \n",
    "            # Target's history trajectories\n",
    "            hist = cond[:, :, target_idx].to(device)  # [B,128,11,T]\n",
    "            hist_rep = history_encoder(hist)  # [B, 128]\n",
    "            cond_hist = hist_rep.unsqueeze(-1).unsqueeze(-1).expand(-1, H.size(1), 11, T)\n",
    "            \n",
    "            # Concat conditions\n",
    "            cond_info = torch.cat([cond_H, cond_hist], dim=1)\n",
    "            \n",
    "            s = torch.zeros_like(target)\n",
    "            \n",
    "            # noise_loss, player_loss_mse, player_loss_frechet = model(target, cond_info=cond_info, self_cond=s)\n",
    "            # val_loss = noise_loss + player_loss_mse + player_loss_frechet * 0.2\n",
    "            noise_mse, noise_nll, player_frechet_loss = model(target, cond_info=cond_info, self_cond=s)\n",
    "            val_loss = noise_mse + noise_nll * 0.005 + player_frechet_loss * 0.1\n",
    "        \n",
    "            # val_noise_loss += (noise_loss).item()\n",
    "            # # val_mse_loss += (player_loss_mse).item()\n",
    "            # val_dtw_loss += (player_loss_dtw).item()\n",
    "            # val_fde_loss += (player_loss_fde).item()\n",
    "            val_noise_mse += (noise_mse).item()\n",
    "            val_noise_nll += (noise_nll * 0.005).item()\n",
    "            val_frechet_loss += (player_frechet_loss * 0.1).item()\n",
    "            val_total_loss += val_loss.item()\n",
    "\n",
    "    # avg_val_noise_loss = val_noise_loss / len(val_dataloader)\n",
    "    # # avg_val_mse_loss = val_mse_loss / len(val_dataloader)\n",
    "    # avg_val_dtw_loss = val_dtw_loss / len(val_dataloader)\n",
    "    # avg_val_fde_loss = val_fde_loss / len(val_dataloader)\n",
    "    # avg_val_loss = val_total_loss / len(val_dataloader)\n",
    "    \n",
    "    num_batches = len(val_dataloader)\n",
    "    \n",
    "    avg_val_noise_mse = val_noise_mse / num_batches\n",
    "    avg_val_noise_nll = val_noise_nll / num_batches\n",
    "    avg_val_frechet_loss = val_frechet_loss / num_batches\n",
    "    avg_val_loss = val_total_loss / num_batches\n",
    "  \n",
    "    train_losses.append(avg_train_loss)\n",
    "    val_losses.append(avg_val_loss)\n",
    "    \n",
    "    current_lr = scheduler.get_last_lr()[0]\n",
    "    logger.info(f\"[Epoch {epoch}/{epochs}] Train Loss={avg_train_loss:.6f} (Noise simple={avg_train_noise_mse:.6f}, Noise NLL={avg_train_noise_nll:.6f}, Frechet={avg_train_frechet_loss:.6f}) |\"\n",
    "                f\"Val Loss={avg_val_loss:.6f} | LR={current_lr:.6e}\")\n",
    "    \n",
    "    tqdm.write(f\"[Epoch {epoch}]\\n\"\n",
    "               f\"[Train] Cost: {avg_train_loss:.6f} | Noise Loss: {avg_train_noise_mse:.6f} | NLL Loss: {avg_train_noise_nll:.6f} | Frechet: {avg_train_frechet_loss:.6f} | LR: {current_lr:.6f}\\n\"\n",
    "               f\"[Validation] Val Loss: {avg_val_loss:.6f} | Noise Loss: {avg_val_noise_mse:.6f} | NLL Loss: {avg_val_noise_nll:.6f} | Frechet: {avg_val_frechet_loss:.6f} |\")\n",
    "    \n",
    "    scheduler.step(avg_val_loss)\n",
    "    if avg_val_loss < best_val_loss:\n",
    "        best_val_loss = avg_val_loss\n",
    "        best_state_dict = model.state_dict()\n",
    "\n",
    "logger.info(f\"Training complete. Best val loss: {best_val_loss:.6f}\")\n",
    "        \n",
    "# 4-1. Plot learning_curve\n",
    "plt.figure(figsize=(8, 6))\n",
    "plt.plot(range(1, epochs+1), train_losses, label='Train Loss')\n",
    "plt.plot(range(1, epochs+1), val_losses, label='Val Loss')\n",
    "plt.xlabel('Epoch')\n",
    "plt.ylabel('Loss')\n",
    "plt.title(f\"Train & Validation Loss, {csdi_config['num_steps']} steps, {csdi_config['channels']} channels,\\n\"\n",
    "          f\"{csdi_config['diffusion_embedding_dim']} embedding dim, {csdi_config['nheads']} heads, {csdi_config['layers']} layers \"\n",
    "          f\"self-conditioning ratio: {self_conditioning_ratio}\")\n",
    "plt.legend()\n",
    "plt.tight_layout()\n",
    "\n",
    "plt.savefig('results/0513_diffusion_lr_curve.png')\n",
    "\n",
    "plt.show()"
   ]
  },
  {
   "cell_type": "code",
   "execution_count": null,
   "metadata": {},
   "outputs": [
    {
     "data": {
      "application/vnd.jupyter.widget-view+json": {
       "model_id": "d8fb7d9dbc8147f486837d9b6990b6c0",
       "version_major": 2,
       "version_minor": 0
      },
      "text/plain": [
       "Test Streaming Inference:   0%|          | 0/98 [00:59<?, ?it/s]"
      ]
     },
     "metadata": {},
     "output_type": "display_data"
    },
    {
     "data": {
      "application/vnd.jupyter.widget-view+json": {
       "model_id": "c29f544d320d42f3bf134655a6fc6e1c",
       "version_major": 2,
       "version_minor": 0
      },
      "text/plain": [
       "Generating...:   0%|          | 0/10 [00:00<?, ?it/s]"
      ]
     },
     "metadata": {},
     "output_type": "display_data"
    },
    {
     "name": "stdout",
     "output_type": "stream",
     "text": [
      "[24.873382568359375, 24.616121292114258, 23.386613845825195, 22.866296768188477, 22.260896682739258, 22.32654571533203, 22.087318420410156, 22.249561309814453, 22.308937072753906, 21.93429183959961, 22.10972023010254, 21.883024215698242, 22.8346004486084, 22.577770233154297, 23.221086502075195, 23.252880096435547]\n",
      "[33.635799407958984, 32.116485595703125, 26.849105834960938, 29.92003631591797, 26.64061164855957, 25.863393783569336, 23.472917556762695, 25.187728881835938, 21.597471237182617, 23.903751373291016, 23.12775230407715, 22.218246459960938, 22.7592716217041, 24.770742416381836, 26.104049682617188, 25.063615798950195]\n"
     ]
    },
    {
     "data": {
      "application/vnd.jupyter.widget-view+json": {
       "model_id": "6f8317522dad4db19cffa59ad809ba82",
       "version_major": 2,
       "version_minor": 0
      },
      "text/plain": [
       "Generating...:   0%|          | 0/10 [00:00<?, ?it/s]"
      ]
     },
     "metadata": {},
     "output_type": "display_data"
    },
    {
     "data": {
      "application/vnd.jupyter.widget-view+json": {
       "model_id": "03b47f7dfa744dffb70af4c98804919b",
       "version_major": 2,
       "version_minor": 0
      },
      "text/plain": [
       "Generating...:   0%|          | 0/10 [00:00<?, ?it/s]"
      ]
     },
     "metadata": {},
     "output_type": "display_data"
    },
    {
     "data": {
      "application/vnd.jupyter.widget-view+json": {
       "model_id": "f3334a10851a4d3a91aa6caad708e9e7",
       "version_major": 2,
       "version_minor": 0
      },
      "text/plain": [
       "Generating...:   0%|          | 0/10 [00:00<?, ?it/s]"
      ]
     },
     "metadata": {},
     "output_type": "display_data"
    },
    {
     "data": {
      "application/vnd.jupyter.widget-view+json": {
       "model_id": "251f66693eb44d108db7add4921fa328",
       "version_major": 2,
       "version_minor": 0
      },
      "text/plain": [
       "Generating...:   0%|          | 0/10 [00:00<?, ?it/s]"
      ]
     },
     "metadata": {},
     "output_type": "display_data"
    },
    {
     "data": {
      "application/vnd.jupyter.widget-view+json": {
       "model_id": "d8cf13d6b69d4d8184537231ccd6f5e6",
       "version_major": 2,
       "version_minor": 0
      },
      "text/plain": [
       "Generating...:   0%|          | 0/10 [00:00<?, ?it/s]"
      ]
     },
     "metadata": {},
     "output_type": "display_data"
    },
    {
     "data": {
      "application/vnd.jupyter.widget-view+json": {
       "model_id": "5e056bd260f14519a2d880cf63d2db48",
       "version_major": 2,
       "version_minor": 0
      },
      "text/plain": [
       "Generating...:   0%|          | 0/10 [00:00<?, ?it/s]"
      ]
     },
     "metadata": {},
     "output_type": "display_data"
    },
    {
     "data": {
      "application/vnd.jupyter.widget-view+json": {
       "model_id": "d9075c79806b4a8eb25721f35dc31da3",
       "version_major": 2,
       "version_minor": 0
      },
      "text/plain": [
       "Generating...:   0%|          | 0/10 [00:00<?, ?it/s]"
      ]
     },
     "metadata": {},
     "output_type": "display_data"
    },
    {
     "data": {
      "application/vnd.jupyter.widget-view+json": {
       "model_id": "505e38d6f95d4324b704641e14c86a95",
       "version_major": 2,
       "version_minor": 0
      },
      "text/plain": [
       "Generating...:   0%|          | 0/10 [00:00<?, ?it/s]"
      ]
     },
     "metadata": {},
     "output_type": "display_data"
    },
    {
     "data": {
      "application/vnd.jupyter.widget-view+json": {
       "model_id": "b8add85b49644cc09b872ea04bb1a4c1",
       "version_major": 2,
       "version_minor": 0
      },
      "text/plain": [
       "Generating...:   0%|          | 0/10 [00:00<?, ?it/s]"
      ]
     },
     "metadata": {},
     "output_type": "display_data"
    },
    {
     "data": {
      "application/vnd.jupyter.widget-view+json": {
       "model_id": "33b3eef9954941be830be43ce71017de",
       "version_major": 2,
       "version_minor": 0
      },
      "text/plain": [
       "Generating...:   0%|          | 0/10 [00:00<?, ?it/s]"
      ]
     },
     "metadata": {},
     "output_type": "display_data"
    },
    {
     "data": {
      "application/vnd.jupyter.widget-view+json": {
       "model_id": "0e9741af7be84c30a605e32b87204a24",
       "version_major": 2,
       "version_minor": 0
      },
      "text/plain": [
       "Generating...:   0%|          | 0/10 [00:00<?, ?it/s]"
      ]
     },
     "metadata": {},
     "output_type": "display_data"
    },
    {
     "data": {
      "application/vnd.jupyter.widget-view+json": {
       "model_id": "7ad6e2ccb8314ec6895556b55791dcd6",
       "version_major": 2,
       "version_minor": 0
      },
      "text/plain": [
       "Generating...:   0%|          | 0/10 [00:00<?, ?it/s]"
      ]
     },
     "metadata": {},
     "output_type": "display_data"
    },
    {
     "data": {
      "application/vnd.jupyter.widget-view+json": {
       "model_id": "626f724087c64fa1ab954ec92b58f9e9",
       "version_major": 2,
       "version_minor": 0
      },
      "text/plain": [
       "Generating...:   0%|          | 0/10 [00:00<?, ?it/s]"
      ]
     },
     "metadata": {},
     "output_type": "display_data"
    },
    {
     "data": {
      "application/vnd.jupyter.widget-view+json": {
       "model_id": "6ce00b2a41234430987df197519b5fbb",
       "version_major": 2,
       "version_minor": 0
      },
      "text/plain": [
       "Generating...:   0%|          | 0/10 [00:00<?, ?it/s]"
      ]
     },
     "metadata": {},
     "output_type": "display_data"
    },
    {
     "data": {
      "application/vnd.jupyter.widget-view+json": {
       "model_id": "051cd52e661140b0a11bbe6477bb005e",
       "version_major": 2,
       "version_minor": 0
      },
      "text/plain": [
       "Generating...:   0%|          | 0/10 [00:00<?, ?it/s]"
      ]
     },
     "metadata": {},
     "output_type": "display_data"
    },
    {
     "data": {
      "application/vnd.jupyter.widget-view+json": {
       "model_id": "3630ad97b0194a3a8be8615af2ec56fc",
       "version_major": 2,
       "version_minor": 0
      },
      "text/plain": [
       "Generating...:   0%|          | 0/10 [00:00<?, ?it/s]"
      ]
     },
     "metadata": {},
     "output_type": "display_data"
    },
    {
     "data": {
      "application/vnd.jupyter.widget-view+json": {
       "model_id": "50df37deb06c48f68d41fa27b4fea1f5",
       "version_major": 2,
       "version_minor": 0
      },
      "text/plain": [
       "Generating...:   0%|          | 0/10 [00:00<?, ?it/s]"
      ]
     },
     "metadata": {},
     "output_type": "display_data"
    },
    {
     "data": {
      "application/vnd.jupyter.widget-view+json": {
       "model_id": "8d21df77f9db410a8c2ca95a0dc2acb3",
       "version_major": 2,
       "version_minor": 0
      },
      "text/plain": [
       "Generating...:   0%|          | 0/10 [00:00<?, ?it/s]"
      ]
     },
     "metadata": {},
     "output_type": "display_data"
    },
    {
     "data": {
      "application/vnd.jupyter.widget-view+json": {
       "model_id": "9a7d4189d812423eb70d7e9accb2c349",
       "version_major": 2,
       "version_minor": 0
      },
      "text/plain": [
       "Generating...:   0%|          | 0/10 [00:00<?, ?it/s]"
      ]
     },
     "metadata": {},
     "output_type": "display_data"
    },
    {
     "data": {
      "application/vnd.jupyter.widget-view+json": {
       "model_id": "d853e809dc104dc5a85898e9927e6257",
       "version_major": 2,
       "version_minor": 0
      },
      "text/plain": [
       "Generating...:   0%|          | 0/10 [00:00<?, ?it/s]"
      ]
     },
     "metadata": {},
     "output_type": "display_data"
    },
    {
     "data": {
      "application/vnd.jupyter.widget-view+json": {
       "model_id": "94553f333a244f33b2b3a8906d1831ce",
       "version_major": 2,
       "version_minor": 0
      },
      "text/plain": [
       "Generating...:   0%|          | 0/10 [00:00<?, ?it/s]"
      ]
     },
     "metadata": {},
     "output_type": "display_data"
    },
    {
     "data": {
      "application/vnd.jupyter.widget-view+json": {
       "model_id": "dbe1c2e07d7e46eeb3191e7b0ee57546",
       "version_major": 2,
       "version_minor": 0
      },
      "text/plain": [
       "Generating...:   0%|          | 0/10 [00:00<?, ?it/s]"
      ]
     },
     "metadata": {},
     "output_type": "display_data"
    },
    {
     "data": {
      "application/vnd.jupyter.widget-view+json": {
       "model_id": "ea9723d9fc8d4978b4f36a1a526665b4",
       "version_major": 2,
       "version_minor": 0
      },
      "text/plain": [
       "Generating...:   0%|          | 0/10 [00:00<?, ?it/s]"
      ]
     },
     "metadata": {},
     "output_type": "display_data"
    },
    {
     "data": {
      "application/vnd.jupyter.widget-view+json": {
       "model_id": "60b18b81ba0340728573b49c8bb3346e",
       "version_major": 2,
       "version_minor": 0
      },
      "text/plain": [
       "Generating...:   0%|          | 0/10 [00:00<?, ?it/s]"
      ]
     },
     "metadata": {},
     "output_type": "display_data"
    },
    {
     "data": {
      "application/vnd.jupyter.widget-view+json": {
       "model_id": "bdb0236b591a4bffb913b05b8757758f",
       "version_major": 2,
       "version_minor": 0
      },
      "text/plain": [
       "Generating...:   0%|          | 0/10 [00:00<?, ?it/s]"
      ]
     },
     "metadata": {},
     "output_type": "display_data"
    },
    {
     "data": {
      "application/vnd.jupyter.widget-view+json": {
       "model_id": "bd78a65f8647423c81344978e52aebee",
       "version_major": 2,
       "version_minor": 0
      },
      "text/plain": [
       "Generating...:   0%|          | 0/10 [00:00<?, ?it/s]"
      ]
     },
     "metadata": {},
     "output_type": "display_data"
    },
    {
     "data": {
      "application/vnd.jupyter.widget-view+json": {
       "model_id": "01f34b0d364c4d72ad5904d7847c9292",
       "version_major": 2,
       "version_minor": 0
      },
      "text/plain": [
       "Generating...:   0%|          | 0/10 [00:00<?, ?it/s]"
      ]
     },
     "metadata": {},
     "output_type": "display_data"
    },
    {
     "data": {
      "application/vnd.jupyter.widget-view+json": {
       "model_id": "28d23d7d3b794affb9aad36764e8745d",
       "version_major": 2,
       "version_minor": 0
      },
      "text/plain": [
       "Generating...:   0%|          | 0/10 [00:00<?, ?it/s]"
      ]
     },
     "metadata": {},
     "output_type": "display_data"
    },
    {
     "data": {
      "application/vnd.jupyter.widget-view+json": {
       "model_id": "8a190ccd11a64c9897262e51500377c8",
       "version_major": 2,
       "version_minor": 0
      },
      "text/plain": [
       "Generating...:   0%|          | 0/10 [00:00<?, ?it/s]"
      ]
     },
     "metadata": {},
     "output_type": "display_data"
    },
    {
     "data": {
      "application/vnd.jupyter.widget-view+json": {
       "model_id": "22b3f53358fa4fe1be1095818684f943",
       "version_major": 2,
       "version_minor": 0
      },
      "text/plain": [
       "Generating...:   0%|          | 0/10 [00:00<?, ?it/s]"
      ]
     },
     "metadata": {},
     "output_type": "display_data"
    },
    {
     "data": {
      "application/vnd.jupyter.widget-view+json": {
       "model_id": "d81ec5f0b286450d98844dfd9d1c7a12",
       "version_major": 2,
       "version_minor": 0
      },
      "text/plain": [
       "Generating...:   0%|          | 0/10 [00:00<?, ?it/s]"
      ]
     },
     "metadata": {},
     "output_type": "display_data"
    },
    {
     "data": {
      "application/vnd.jupyter.widget-view+json": {
       "model_id": "f6faa5c2b11f43b4bfc5264dfaf4d7a4",
       "version_major": 2,
       "version_minor": 0
      },
      "text/plain": [
       "Generating...:   0%|          | 0/10 [00:00<?, ?it/s]"
      ]
     },
     "metadata": {},
     "output_type": "display_data"
    },
    {
     "data": {
      "application/vnd.jupyter.widget-view+json": {
       "model_id": "7fb10dd0a0124f07a04053367b30cbf9",
       "version_major": 2,
       "version_minor": 0
      },
      "text/plain": [
       "Generating...:   0%|          | 0/10 [00:00<?, ?it/s]"
      ]
     },
     "metadata": {},
     "output_type": "display_data"
    },
    {
     "data": {
      "application/vnd.jupyter.widget-view+json": {
       "model_id": "1a115aad4f9b4a37befc299050ad5074",
       "version_major": 2,
       "version_minor": 0
      },
      "text/plain": [
       "Generating...:   0%|          | 0/10 [00:00<?, ?it/s]"
      ]
     },
     "metadata": {},
     "output_type": "display_data"
    },
    {
     "data": {
      "application/vnd.jupyter.widget-view+json": {
       "model_id": "501184cdc0d54e6e9a69896351583a63",
       "version_major": 2,
       "version_minor": 0
      },
      "text/plain": [
       "Generating...:   0%|          | 0/10 [00:00<?, ?it/s]"
      ]
     },
     "metadata": {},
     "output_type": "display_data"
    },
    {
     "data": {
      "application/vnd.jupyter.widget-view+json": {
       "model_id": "a489de6b10874e5eaf19976e89fc95d6",
       "version_major": 2,
       "version_minor": 0
      },
      "text/plain": [
       "Generating...:   0%|          | 0/10 [00:00<?, ?it/s]"
      ]
     },
     "metadata": {},
     "output_type": "display_data"
    },
    {
     "data": {
      "application/vnd.jupyter.widget-view+json": {
       "model_id": "664b4223ed4a47d6a79c899d376efec4",
       "version_major": 2,
       "version_minor": 0
      },
      "text/plain": [
       "Generating...:   0%|          | 0/10 [00:00<?, ?it/s]"
      ]
     },
     "metadata": {},
     "output_type": "display_data"
    },
    {
     "data": {
      "application/vnd.jupyter.widget-view+json": {
       "model_id": "7f8097b778d54a76997b6aa803d2676b",
       "version_major": 2,
       "version_minor": 0
      },
      "text/plain": [
       "Generating...:   0%|          | 0/10 [00:00<?, ?it/s]"
      ]
     },
     "metadata": {},
     "output_type": "display_data"
    },
    {
     "data": {
      "application/vnd.jupyter.widget-view+json": {
       "model_id": "9f3dbcbfd2fb49488c5529a9fc53ed15",
       "version_major": 2,
       "version_minor": 0
      },
      "text/plain": [
       "Generating...:   0%|          | 0/10 [00:00<?, ?it/s]"
      ]
     },
     "metadata": {},
     "output_type": "display_data"
    },
    {
     "data": {
      "application/vnd.jupyter.widget-view+json": {
       "model_id": "cf00e880a9bb49bebaf4551a98e69a0d",
       "version_major": 2,
       "version_minor": 0
      },
      "text/plain": [
       "Generating...:   0%|          | 0/10 [00:00<?, ?it/s]"
      ]
     },
     "metadata": {},
     "output_type": "display_data"
    },
    {
     "data": {
      "application/vnd.jupyter.widget-view+json": {
       "model_id": "e2c8645a2fe64cb3add73014e660ede6",
       "version_major": 2,
       "version_minor": 0
      },
      "text/plain": [
       "Generating...:   0%|          | 0/10 [00:00<?, ?it/s]"
      ]
     },
     "metadata": {},
     "output_type": "display_data"
    },
    {
     "data": {
      "application/vnd.jupyter.widget-view+json": {
       "model_id": "36d26d69664e4cd8bccf6b9258fa8b40",
       "version_major": 2,
       "version_minor": 0
      },
      "text/plain": [
       "Generating...:   0%|          | 0/10 [00:00<?, ?it/s]"
      ]
     },
     "metadata": {},
     "output_type": "display_data"
    },
    {
     "data": {
      "application/vnd.jupyter.widget-view+json": {
       "model_id": "d9f042804af54881a0c35902449dcbb7",
       "version_major": 2,
       "version_minor": 0
      },
      "text/plain": [
       "Generating...:   0%|          | 0/10 [00:00<?, ?it/s]"
      ]
     },
     "metadata": {},
     "output_type": "display_data"
    },
    {
     "data": {
      "application/vnd.jupyter.widget-view+json": {
       "model_id": "3e9ed1f2bae14d2fa3229a8c70fbf39f",
       "version_major": 2,
       "version_minor": 0
      },
      "text/plain": [
       "Generating...:   0%|          | 0/10 [00:00<?, ?it/s]"
      ]
     },
     "metadata": {},
     "output_type": "display_data"
    },
    {
     "data": {
      "application/vnd.jupyter.widget-view+json": {
       "model_id": "271813f1cee949598cd22e1a3bab3fea",
       "version_major": 2,
       "version_minor": 0
      },
      "text/plain": [
       "Generating...:   0%|          | 0/10 [00:00<?, ?it/s]"
      ]
     },
     "metadata": {},
     "output_type": "display_data"
    },
    {
     "data": {
      "application/vnd.jupyter.widget-view+json": {
       "model_id": "2fe154de5d5b48ee99c5559747d9e7d6",
       "version_major": 2,
       "version_minor": 0
      },
      "text/plain": [
       "Generating...:   0%|          | 0/10 [00:00<?, ?it/s]"
      ]
     },
     "metadata": {},
     "output_type": "display_data"
    },
    {
     "data": {
      "application/vnd.jupyter.widget-view+json": {
       "model_id": "d8c05e9006df44de8d4af893b0530eba",
       "version_major": 2,
       "version_minor": 0
      },
      "text/plain": [
       "Generating...:   0%|          | 0/10 [00:00<?, ?it/s]"
      ]
     },
     "metadata": {},
     "output_type": "display_data"
    },
    {
     "data": {
      "application/vnd.jupyter.widget-view+json": {
       "model_id": "b8fc9ace98774b5ba13fe39c560fb5d9",
       "version_major": 2,
       "version_minor": 0
      },
      "text/plain": [
       "Generating...:   0%|          | 0/10 [00:00<?, ?it/s]"
      ]
     },
     "metadata": {},
     "output_type": "display_data"
    },
    {
     "data": {
      "application/vnd.jupyter.widget-view+json": {
       "model_id": "ab5a47bab9fe479ea82fa4c61fd34317",
       "version_major": 2,
       "version_minor": 0
      },
      "text/plain": [
       "Generating...:   0%|          | 0/10 [00:00<?, ?it/s]"
      ]
     },
     "metadata": {},
     "output_type": "display_data"
    },
    {
     "data": {
      "application/vnd.jupyter.widget-view+json": {
       "model_id": "83fca39690d54cd79bee643ce8c6e208",
       "version_major": 2,
       "version_minor": 0
      },
      "text/plain": [
       "Generating...:   0%|          | 0/10 [00:00<?, ?it/s]"
      ]
     },
     "metadata": {},
     "output_type": "display_data"
    },
    {
     "data": {
      "application/vnd.jupyter.widget-view+json": {
       "model_id": "e192cec56a6b446aa68b3ba07d9776d3",
       "version_major": 2,
       "version_minor": 0
      },
      "text/plain": [
       "Generating...:   0%|          | 0/10 [00:00<?, ?it/s]"
      ]
     },
     "metadata": {},
     "output_type": "display_data"
    }
   ],
   "source": [
    "\n",
    "# 5. Inference (Best-of-N Sampling) & Visualization\n",
    "model.load_state_dict(best_state_dict)\n",
    "model.eval()\n",
    "all_best_ades_test = []\n",
    "all_best_fdes_test = []\n",
    "ddim_steps_list = [10, 20, 30, 40, 50, 100, 200, 500, 1000]\n",
    "visualize_samples = 5\n",
    "visualized = False\n",
    "\n",
    "with torch.no_grad():\n",
    "    for batch in tqdm(test_dataloader, desc=\"Test Streaming Inference\"):\n",
    "        cond = batch[\"condition\"].to(device)\n",
    "        B, T, _ = cond.shape\n",
    "        target = batch[\"target\"].to(device).view(B, T, 11, 2)\n",
    "\n",
    "        graph_batch  = batch[\"graph\"].to(device)\n",
    "        H = graph_encoder(graph_batch)\n",
    "        cond_H = H.unsqueeze(-1).unsqueeze(-1).expand(-1, H.size(1), 11, T)\n",
    "        \n",
    "        hist = cond[:, :, target_idx].to(device)\n",
    "        hist_rep = history_encoder(hist)\n",
    "        cond_hist = hist_rep.unsqueeze(-1).unsqueeze(-1).expand(-1, H.size(1), 11, T)\n",
    "        cond_info = torch.cat([cond_H, cond_hist], dim=1)\n",
    "\n",
    "        best_ade_t = torch.full((B,), float(\"inf\"), device=device)\n",
    "        best_pred_t = torch.zeros_like(target)\n",
    "        best_fde_t = torch.full((B,), float(\"inf\"), device=device)\n",
    "                    \n",
    "        scales = torch.tensor(batch[\"pitch_scale\"], device=device, dtype=torch.float32)  \n",
    "        scales = scales.view(B, 1, 1, 2)\n",
    "\n",
    "        for _ in tqdm(range(num_samples), desc=\"Generating...\"):\n",
    "            pred_i = model.generate(shape=target.shape, cond_info=cond_info, ddim_steps=ddim_step, eta=eta, num_samples=1)[0]\n",
    "\n",
    "            pred_i_den = pred_i * scales\n",
    "            target_den = target * scales\n",
    "            \n",
    "            ade_i = ((pred_i_den - target_den)**2).sum(-1).sqrt().mean((1,2))\n",
    "            fde_i = ((pred_i_den[:,-1] - target_den[:,-1])**2).sum(-1).sqrt().mean(1)\n",
    "            \n",
    "            better = ade_i < best_ade_t\n",
    "            \n",
    "            best_pred_t[better] = pred_i_den[better]\n",
    "            best_ade_t[better] = ade_i[better]\n",
    "            best_fde_t[better] = fde_i[better]\n",
    "\n",
    "        all_best_ades_test.extend(best_ade_t.cpu().tolist())\n",
    "        all_best_fdes_test.extend(best_fde_t.cpu().tolist())\n",
    "\n",
    "        # —— 여기부터 시각화 로직 확장 —— \n",
    "        if not visualized:\n",
    "            base_dir = \"results/test_trajs/\"\n",
    "            os.makedirs(base_dir, exist_ok=True)\n",
    "            \n",
    "            # batch 내에서 최대 visualize_samples 개 샘플만 처리\n",
    "            for i in range(min(B, visualize_samples)):\n",
    "                # 샘플별 폴더\n",
    "                sample_dir = os.path.join(base_dir, f\"sample{i:02d}\")\n",
    "                os.makedirs(sample_dir, exist_ok=True)\n",
    "\n",
    "                # 공·공격수 궤적, 실제 수비수 궤적\n",
    "                others_seq  = batch[\"other\"][i].view(T, 12, 2).cpu().numpy()\n",
    "                target_traj = (target[i] * scales[i]).cpu().numpy()\n",
    "\n",
    "                # 각 DDIM step 별 생성 궤적\n",
    "                for steps in ddim_steps_list:\n",
    "                    # 1) 한 번 샘플링\n",
    "                    pred_steps = model.generate(\n",
    "                        shape=target.shape,\n",
    "                        cond_info=cond_info[i:i+1],      # 이 배치의 i번째만\n",
    "                        ddim_steps=steps,\n",
    "                        eta=eta,\n",
    "                        num_samples=1\n",
    "                    )[0, 0]  # [T, 11, 2]\n",
    "                    pred_steps_den = (pred_steps * scales[i].cpu()).cpu().numpy()\n",
    "\n",
    "                    # 2) 선수별로 저장\n",
    "                    for p in range(pred_steps_den.shape[1]):\n",
    "                        jersey = int(batch[\"target_columns\"][i][2*p].split(\"_\")[1])\n",
    "                        save_path = os.path.join(\n",
    "                            sample_dir,\n",
    "                            f\"ddim_steps={steps}/player_{jersey:02d}_ddim{steps}.png\"\n",
    "                        )\n",
    "                        plot_trajectories_on_pitch(\n",
    "                            others_seq,\n",
    "                            target_traj,\n",
    "                            pred_steps_den,\n",
    "                            other_columns = batch[\"other_columns\"][i],\n",
    "                            target_columns = batch[\"target_columns\"][i],\n",
    "                            player_idx = p,\n",
    "                            annotate = True,\n",
    "                            save_path = save_path\n",
    "                        )\n",
    "\n",
    "            visualized = True\n",
    "            \n",
    "            print(all_best_ades_test)\n",
    "            print(all_best_fdes_test)\n",
    "avg_test_ade = np.mean(all_best_ades_test)\n",
    "avg_test_fde = np.mean(all_best_fdes_test)\n",
    "print(f\"[Test Best-of-{num_samples}] Average ADE: {avg_test_ade:.4f} | Average FDE: {avg_test_fde:.4f}\")\n",
    "print(f\"[Test Best-of-{num_samples}] Best ADE overall: {min(all_best_ades_test):.4f} | Best FDE overall: {min(all_best_fdes_test):.4f}\")\n",
    "print(f\"[Test Best-of-{num_samples}] Worst ADE overall: {max(all_best_ades_test):.4f} | Worst FDE overall: {max(all_best_fdes_test):.4f}\")\n",
    "print(f\"[Test Best-of-{num_samples}] STD of ADE overall: {np.std(all_best_ades_test):.4f} | STD FDE overall: {np.std(all_best_fdes_test):.4f}\")"
   ]
  },
  {
   "cell_type": "code",
   "execution_count": null,
   "metadata": {},
   "outputs": [],
   "source": []
  }
 ],
 "metadata": {
  "kernelspec": {
   "display_name": "SoccerTraj",
   "language": "python",
   "name": "python3"
  },
  "language_info": {
   "codemirror_mode": {
    "name": "ipython",
    "version": 3
   },
   "file_extension": ".py",
   "mimetype": "text/x-python",
   "name": "python",
   "nbconvert_exporter": "python",
   "pygments_lexer": "ipython3",
   "version": "3.10.16"
  }
 },
 "nbformat": 4,
 "nbformat_minor": 2
}
