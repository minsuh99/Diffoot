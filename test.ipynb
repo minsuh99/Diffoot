{
 "cells": [
  {
   "cell_type": "code",
   "execution_count": 1,
   "metadata": {},
   "outputs": [],
   "source": [
    "import multiprocessing as mp\n",
    "mp.set_start_method('spawn', force=True)"
   ]
  },
  {
   "cell_type": "code",
   "execution_count": 2,
   "metadata": {},
   "outputs": [
    {
     "ename": "ImportError",
     "evalue": "cannot import name 'per_player_frechet_loss' from 'utils.utils' (/home/park/workspace/SportsScience/Soccer-Trajectory-Prediction/utils/utils.py)",
     "output_type": "error",
     "traceback": [
      "\u001b[0;31m---------------------------------------------------------------------------\u001b[0m",
      "\u001b[0;31mImportError\u001b[0m                               Traceback (most recent call last)",
      "Cell \u001b[0;32mIn[2], line 14\u001b[0m\n\u001b[1;32m     12\u001b[0m \u001b[38;5;28;01mfrom\u001b[39;00m\u001b[38;5;250m \u001b[39m\u001b[38;5;21;01mtorch\u001b[39;00m\u001b[38;5;21;01m.\u001b[39;00m\u001b[38;5;21;01mamp\u001b[39;00m\u001b[38;5;250m \u001b[39m\u001b[38;5;28;01mimport\u001b[39;00m autocast, GradScaler\n\u001b[1;32m     13\u001b[0m \u001b[38;5;28;01mfrom\u001b[39;00m\u001b[38;5;250m \u001b[39m\u001b[38;5;21;01mmodels\u001b[39;00m\u001b[38;5;21;01m.\u001b[39;00m\u001b[38;5;21;01mdiff_modules\u001b[39;00m\u001b[38;5;250m \u001b[39m\u001b[38;5;28;01mimport\u001b[39;00m diff_CSDI\n\u001b[0;32m---> 14\u001b[0m \u001b[38;5;28;01mfrom\u001b[39;00m\u001b[38;5;250m \u001b[39m\u001b[38;5;21;01mmodels\u001b[39;00m\u001b[38;5;21;01m.\u001b[39;00m\u001b[38;5;21;01mdiff_model\u001b[39;00m\u001b[38;5;250m \u001b[39m\u001b[38;5;28;01mimport\u001b[39;00m DiffusionTrajectoryModel\n\u001b[1;32m     15\u001b[0m \u001b[38;5;28;01mfrom\u001b[39;00m\u001b[38;5;250m \u001b[39m\u001b[38;5;21;01mmodels\u001b[39;00m\u001b[38;5;21;01m.\u001b[39;00m\u001b[38;5;21;01mencoder\u001b[39;00m\u001b[38;5;250m \u001b[39m\u001b[38;5;28;01mimport\u001b[39;00m InteractionGraphEncoder, TargetTrajectoryEncoder\n\u001b[1;32m     16\u001b[0m \u001b[38;5;28;01mfrom\u001b[39;00m\u001b[38;5;250m \u001b[39m\u001b[38;5;21;01mmake_dataset\u001b[39;00m\u001b[38;5;250m \u001b[39m\u001b[38;5;28;01mimport\u001b[39;00m MultiMatchSoccerDataset, organize_and_process\n",
      "File \u001b[0;32m~/workspace/SportsScience/Soccer-Trajectory-Prediction/models/diff_model.py:5\u001b[0m\n\u001b[1;32m      3\u001b[0m \u001b[38;5;28;01mimport\u001b[39;00m\u001b[38;5;250m \u001b[39m\u001b[38;5;21;01mtorch\u001b[39;00m\u001b[38;5;21;01m.\u001b[39;00m\u001b[38;5;21;01mnn\u001b[39;00m\u001b[38;5;250m \u001b[39m\u001b[38;5;28;01mas\u001b[39;00m\u001b[38;5;250m \u001b[39m\u001b[38;5;21;01mnn\u001b[39;00m\n\u001b[1;32m      4\u001b[0m \u001b[38;5;28;01mimport\u001b[39;00m\u001b[38;5;250m \u001b[39m\u001b[38;5;21;01mtorch\u001b[39;00m\u001b[38;5;21;01m.\u001b[39;00m\u001b[38;5;21;01mnn\u001b[39;00m\u001b[38;5;21;01m.\u001b[39;00m\u001b[38;5;21;01mfunctional\u001b[39;00m\u001b[38;5;250m \u001b[39m\u001b[38;5;28;01mas\u001b[39;00m\u001b[38;5;250m \u001b[39m\u001b[38;5;21;01mF\u001b[39;00m\n\u001b[0;32m----> 5\u001b[0m \u001b[38;5;28;01mfrom\u001b[39;00m\u001b[38;5;250m \u001b[39m\u001b[38;5;21;01mutils\u001b[39;00m\u001b[38;5;21;01m.\u001b[39;00m\u001b[38;5;21;01mutils\u001b[39;00m\u001b[38;5;250m \u001b[39m\u001b[38;5;28;01mimport\u001b[39;00m per_player_frechet_loss, per_player_fde_loss\n\u001b[1;32m      7\u001b[0m \u001b[38;5;28;01mclass\u001b[39;00m\u001b[38;5;250m \u001b[39m\u001b[38;5;21;01mDiffusionTrajectoryModel\u001b[39;00m(nn\u001b[38;5;241m.\u001b[39mModule):\n\u001b[1;32m      8\u001b[0m     \u001b[38;5;28;01mdef\u001b[39;00m\u001b[38;5;250m \u001b[39m\u001b[38;5;21m__init__\u001b[39m(\u001b[38;5;28mself\u001b[39m, model, num_steps\u001b[38;5;241m=\u001b[39m\u001b[38;5;241m1000\u001b[39m, beta_start\u001b[38;5;241m=\u001b[39m\u001b[38;5;241m1e-4\u001b[39m, beta_end\u001b[38;5;241m=\u001b[39m\u001b[38;5;241m0.02\u001b[39m):\n",
      "\u001b[0;31mImportError\u001b[0m: cannot import name 'per_player_frechet_loss' from 'utils.utils' (/home/park/workspace/SportsScience/Soccer-Trajectory-Prediction/utils/utils.py)"
     ]
    }
   ],
   "source": [
    "import os\n",
    "os.environ[\"CUBLAS_WORKSPACE_CONFIG\"] = \":4096:8\"\n",
    "# os.environ[\"CUDA_LAUNCH_BLOCKING\"] = \"1\"\n",
    "import logging\n",
    "import torch\n",
    "import numpy as np\n",
    "import matplotlib.pyplot as plt\n",
    "from tqdm.auto import tqdm\n",
    "\n",
    "from torch.utils.data import DataLoader, Subset\n",
    "from torch.optim.lr_scheduler import ReduceLROnPlateau\n",
    "from torch.amp import autocast, GradScaler\n",
    "from models.diff_modules import diff_CSDI\n",
    "from models.diff_model import DiffusionTrajectoryModel\n",
    "from models.encoder import InteractionGraphEncoder, TargetTrajectoryEncoder\n",
    "from make_dataset import MultiMatchSoccerDataset, organize_and_process\n",
    "from utils.utils import set_evertyhing, worker_init_fn, generator, plot_trajectories_on_pitch, log_graph_stats\n",
    "from utils.data_utils import split_dataset_indices, custom_collate_fn\n",
    "from utils.graph_utils import build_graph_sequence_from_condition\n",
    "\n",
    "# SEED Fix\n",
    "SEED = 42\n",
    "set_evertyhing(SEED)\n",
    "\n",
    "\n",
    "# Save Log / Logger Setting\n",
    "model_save_path = './results/logs/'\n",
    "os.makedirs(model_save_path, exist_ok=True)\n",
    "logging.basicConfig(\n",
    "    level=logging.INFO,\n",
    "    format='%(asctime)s %(levelname)s %(message)s',\n",
    "    filename=os.path.join(model_save_path, 'train.log'),\n",
    "    filemode='w'\n",
    ")\n",
    "logger = logging.getLogger()\n",
    "\n",
    "# 1. Model Config & Hyperparameter Setting\n",
    "csdi_config = {\n",
    "    \"num_steps\": 1000,\n",
    "    \"channels\": 256,\n",
    "    \"diffusion_embedding_dim\": 256,\n",
    "    \"nheads\": 4,\n",
    "    \"layers\": 5,\n",
    "    # \"side_dim\": 128\n",
    "    \"side_dim\": 512\n",
    "}\n",
    "hyperparams = {\n",
    "    'raw_data_path': \"idsse-data\", # raw_data_path = \"Download raw file path\"\n",
    "    'data_save_path': \"match_data\",\n",
    "    'train_batch_size': 16,\n",
    "    'val_batch_size': 16,\n",
    "    'test_batch_size': 16,\n",
    "    'num_workers': 8,\n",
    "    'epochs': 50,\n",
    "    'learning_rate': 1e-4,\n",
    "    'self_conditioning_ratio': 0.5,\n",
    "    'num_samples': 10,\n",
    "    'device': 'cuda' if torch.cuda.is_available() else 'cpu',\n",
    "\n",
    "    'ddim_step': 200,\n",
    "    'eta': 0.1,\n",
    "    **csdi_config\n",
    "}\n",
    "raw_data_path = hyperparams['raw_data_path']\n",
    "data_save_path = hyperparams['data_save_path']\n",
    "train_batch_size = hyperparams['train_batch_size']\n",
    "val_batch_size = hyperparams['val_batch_size']\n",
    "test_batch_size = hyperparams['test_batch_size']\n",
    "num_workers = hyperparams['num_workers']\n",
    "epochs = hyperparams['epochs']\n",
    "learning_rate = hyperparams['learning_rate']\n",
    "self_conditioning_ratio = hyperparams['self_conditioning_ratio']\n",
    "num_samples = hyperparams['num_samples']\n",
    "device = hyperparams['device']\n",
    "ddim_step = hyperparams['ddim_step']\n",
    "eta = hyperparams['eta']\n",
    "side_dim = hyperparams['side_dim']\n",
    "\n",
    "logger.info(f\"Hyperparameters: {hyperparams}\")\n",
    "\n",
    "# 2. Data Loading\n",
    "print(\"---Data Loading---\")\n",
    "if not os.path.exists(data_save_path) or len(os.listdir(data_save_path)) == 0:\n",
    "    organize_and_process(raw_data_path, data_save_path)\n",
    "else:\n",
    "    print(\"Skip organize_and_process\")\n",
    "\n",
    "dataset = MultiMatchSoccerDataset(data_root=data_save_path)\n",
    "train_idx, val_idx, test_idx = split_dataset_indices(dataset, val_ratio=1/6, test_ratio=1/6, random_seed=SEED)\n",
    "\n",
    "train_dataloader = DataLoader(\n",
    "    Subset(dataset, train_idx),\n",
    "    batch_size=train_batch_size,\n",
    "    shuffle=True,\n",
    "    num_workers=num_workers,\n",
    "    pin_memory=True,\n",
    "    persistent_workers=False,\n",
    "    collate_fn=custom_collate_fn,\n",
    "    worker_init_fn=worker_init_fn,\n",
    "    generator=generator(SEED)\n",
    ")\n",
    "\n",
    "val_dataloader = DataLoader(\n",
    "    Subset(dataset, val_idx),\n",
    "    batch_size=val_batch_size,\n",
    "    shuffle=False,\n",
    "    num_workers=num_workers,\n",
    "    pin_memory=True,\n",
    "    persistent_workers=False,\n",
    "    collate_fn=custom_collate_fn,\n",
    "    worker_init_fn=worker_init_fn,\n",
    ")\n",
    "\n",
    "test_dataloader = DataLoader(\n",
    "    Subset(dataset, test_idx),\n",
    "    batch_size=test_batch_size,\n",
    "    shuffle=False,\n",
    "    num_workers=num_workers,\n",
    "    pin_memory=True,\n",
    "    persistent_workers=False,\n",
    "    collate_fn=custom_collate_fn,\n",
    "    worker_init_fn=worker_init_fn\n",
    ")\n",
    "\n",
    "print(\"---Data Load!---\")\n",
    "\n",
    "# 3. Model Define\n",
    "# Extract node feature dimension\n",
    "sample = dataset[0]\n",
    "graph = build_graph_sequence_from_condition({\n",
    "    \"condition\": sample[\"condition\"],\n",
    "    \"condition_columns\": sample[\"condition_columns\"],\n",
    "    \"pitch_scale\": sample[\"pitch_scale\"]\n",
    "}).to(device)\n",
    "\n",
    "log_graph_stats(graph, logger, prefix=\"InitGraphSample\")\n",
    "\n",
    "in_dim = graph['Node'].x.size(1)\n",
    "\n",
    "# Extract target's history trajectories from condition\n",
    "condition_columns = sample[\"condition_columns\"]\n",
    "target_columns = sample[\"target_columns\"]\n",
    "target_idx = [condition_columns.index(col) for col in target_columns if col in condition_columns]\n",
    "\n",
    "# graph_encoder = InteractionGraphEncoder(in_dim=in_dim, hidden_dim=128, out_dim=128, heads = 2).to(device)\n",
    "graph_encoder = InteractionGraphEncoder(in_dim=in_dim, hidden_dim=side_dim // 2, out_dim=side_dim // 2).to(device)\n",
    "history_encoder = TargetTrajectoryEncoder(num_layers=5, hidden_dim = side_dim // 4, bidirectional=True).to(device)\n",
    "denoiser = diff_CSDI(csdi_config)\n",
    "model = DiffusionTrajectoryModel(denoiser, num_steps=csdi_config[\"num_steps\"]).to(device)\n",
    "optimizer = torch.optim.Adam(model.parameters(), lr=learning_rate)\n",
    "scheduler = ReduceLROnPlateau(optimizer, mode='min', factor=0.5, patience=2, threshold=1e-4)\n",
    "scaler = GradScaler()\n",
    "\n",
    "logger.info(f\"Device: {device}\")\n",
    "logger.info(f\"GraphEncoder: {graph_encoder}\")\n",
    "logger.info(f\"HistoryEncoder: {history_encoder}\")\n",
    "logger.info(f\"Denoiser (diff_CSDI): {denoiser}\")\n",
    "logger.info(f\"DiffusionTrajectoryModel: {model}\")"
   ]
  },
  {
   "cell_type": "code",
   "execution_count": null,
   "metadata": {},
   "outputs": [
    {
     "data": {
      "application/vnd.jupyter.widget-view+json": {
       "model_id": "b7146e4b92ea4ba9bc53700769d4fce2",
       "version_major": 2,
       "version_minor": 0
      },
      "text/plain": [
       "Training...:   0%|          | 0/50 [00:00<?, ?it/s]"
      ]
     },
     "metadata": {},
     "output_type": "display_data"
    },
    {
     "data": {
      "application/vnd.jupyter.widget-view+json": {
       "model_id": "289612de05df4a52b5f279272ec2c53c",
       "version_major": 2,
       "version_minor": 0
      },
      "text/plain": [
       "Batch Training...:   0%|          | 0/264 [00:59<?, ?it/s]"
      ]
     },
     "metadata": {},
     "output_type": "display_data"
    },
    {
     "data": {
      "application/vnd.jupyter.widget-view+json": {
       "model_id": "ca57d97083a14e0a8a3137a3d053379b",
       "version_major": 2,
       "version_minor": 0
      },
      "text/plain": [
       "Validation:   0%|          | 0/77 [00:56<?, ?it/s]"
      ]
     },
     "metadata": {},
     "output_type": "display_data"
    },
    {
     "name": "stdout",
     "output_type": "stream",
     "text": [
      "[Epoch 1]\n",
      "[Train] Cost: 1.489763 | Noise Loss: 0.024561 | Frechet Loss: 1.146793 | FDE Loss: 0.318409 LR: 0.000100\n",
      "[Validation] Val Loss: 0.293558 | Noise: -0.225426 | Frechet: 0.394128 | FDE: 0.124856\n"
     ]
    },
    {
     "data": {
      "application/vnd.jupyter.widget-view+json": {
       "model_id": "73713a6d40614b86810a26e367904039",
       "version_major": 2,
       "version_minor": 0
      },
      "text/plain": [
       "Batch Training...:   0%|          | 0/264 [00:55<?, ?it/s]"
      ]
     },
     "metadata": {},
     "output_type": "display_data"
    },
    {
     "data": {
      "application/vnd.jupyter.widget-view+json": {
       "model_id": "5329aea556dd43feb7fcce738ee4d8a6",
       "version_major": 2,
       "version_minor": 0
      },
      "text/plain": [
       "Validation:   0%|          | 0/77 [00:56<?, ?it/s]"
      ]
     },
     "metadata": {},
     "output_type": "display_data"
    },
    {
     "name": "stdout",
     "output_type": "stream",
     "text": [
      "[Epoch 2]\n",
      "[Train] Cost: 0.136903 | Noise Loss: -0.391952 | Frechet Loss: 0.404770 | FDE Loss: 0.124085 LR: 0.000100\n",
      "[Validation] Val Loss: -0.192606 | Noise: -0.605984 | Frechet: 0.305869 | FDE: 0.107509\n"
     ]
    },
    {
     "data": {
      "application/vnd.jupyter.widget-view+json": {
       "model_id": "91d39f5f4aed4bb3839634695e8348e4",
       "version_major": 2,
       "version_minor": 0
      },
      "text/plain": [
       "Batch Training...:   0%|          | 0/264 [00:54<?, ?it/s]"
      ]
     },
     "metadata": {},
     "output_type": "display_data"
    },
    {
     "data": {
      "application/vnd.jupyter.widget-view+json": {
       "model_id": "865f2789995c42018f4cb2bf2593fc9e",
       "version_major": 2,
       "version_minor": 0
      },
      "text/plain": [
       "Validation:   0%|          | 0/77 [00:55<?, ?it/s]"
      ]
     },
     "metadata": {},
     "output_type": "display_data"
    },
    {
     "name": "stdout",
     "output_type": "stream",
     "text": [
      "[Epoch 3]\n",
      "[Train] Cost: -0.240140 | Noise Loss: -0.681969 | Frechet Loss: 0.332264 | FDE Loss: 0.109566 LR: 0.000100\n",
      "[Validation] Val Loss: -0.396890 | Noise: -0.786336 | Frechet: 0.286838 | FDE: 0.102607\n"
     ]
    },
    {
     "data": {
      "application/vnd.jupyter.widget-view+json": {
       "model_id": "3bd4d480a2ee43a2a0093bcf4c6642f2",
       "version_major": 2,
       "version_minor": 0
      },
      "text/plain": [
       "Batch Training...:   0%|          | 0/264 [00:55<?, ?it/s]"
      ]
     },
     "metadata": {},
     "output_type": "display_data"
    },
    {
     "data": {
      "application/vnd.jupyter.widget-view+json": {
       "model_id": "a5ccc635c90243a29215dad66c89a519",
       "version_major": 2,
       "version_minor": 0
      },
      "text/plain": [
       "Validation:   0%|          | 0/77 [00:55<?, ?it/s]"
      ]
     },
     "metadata": {},
     "output_type": "display_data"
    },
    {
     "name": "stdout",
     "output_type": "stream",
     "text": [
      "[Epoch 4]\n",
      "[Train] Cost: -0.413216 | Noise Loss: -0.799655 | Frechet Loss: 0.287078 | FDE Loss: 0.099360 LR: 0.000100\n",
      "[Validation] Val Loss: -0.424431 | Noise: -0.787874 | Frechet: 0.264821 | FDE: 0.098621\n"
     ]
    },
    {
     "data": {
      "application/vnd.jupyter.widget-view+json": {
       "model_id": "ff299b5283c84b1e9cf552099ed024a2",
       "version_major": 2,
       "version_minor": 0
      },
      "text/plain": [
       "Batch Training...:   0%|          | 0/264 [00:56<?, ?it/s]"
      ]
     },
     "metadata": {},
     "output_type": "display_data"
    },
    {
     "data": {
      "application/vnd.jupyter.widget-view+json": {
       "model_id": "e847c78d720447078d04065bd00693cb",
       "version_major": 2,
       "version_minor": 0
      },
      "text/plain": [
       "Validation:   0%|          | 0/77 [00:57<?, ?it/s]"
      ]
     },
     "metadata": {},
     "output_type": "display_data"
    },
    {
     "name": "stdout",
     "output_type": "stream",
     "text": [
      "[Epoch 5]\n",
      "[Train] Cost: -0.503475 | Noise Loss: -0.869097 | Frechet Loss: 0.270614 | FDE Loss: 0.095008 LR: 0.000100\n",
      "[Validation] Val Loss: -0.445057 | Noise: -0.775082 | Frechet: 0.236751 | FDE: 0.093274\n"
     ]
    },
    {
     "data": {
      "application/vnd.jupyter.widget-view+json": {
       "model_id": "caff5b0053094234bdb1a595c6602094",
       "version_major": 2,
       "version_minor": 0
      },
      "text/plain": [
       "Batch Training...:   0%|          | 0/264 [00:55<?, ?it/s]"
      ]
     },
     "metadata": {},
     "output_type": "display_data"
    },
    {
     "data": {
      "application/vnd.jupyter.widget-view+json": {
       "model_id": "c07a9bceca0c4fedbff05fa151a1380d",
       "version_major": 2,
       "version_minor": 0
      },
      "text/plain": [
       "Validation:   0%|          | 0/77 [00:57<?, ?it/s]"
      ]
     },
     "metadata": {},
     "output_type": "display_data"
    },
    {
     "name": "stdout",
     "output_type": "stream",
     "text": [
      "[Epoch 6]\n",
      "[Train] Cost: -0.589561 | Noise Loss: -0.947479 | Frechet Loss: 0.264994 | FDE Loss: 0.092925 LR: 0.000100\n",
      "[Validation] Val Loss: -0.453975 | Noise: -0.790138 | Frechet: 0.240558 | FDE: 0.095604\n"
     ]
    },
    {
     "data": {
      "application/vnd.jupyter.widget-view+json": {
       "model_id": "c04f4e7518a64b9ca7e1c31de0bef1b7",
       "version_major": 2,
       "version_minor": 0
      },
      "text/plain": [
       "Batch Training...:   0%|          | 0/264 [00:55<?, ?it/s]"
      ]
     },
     "metadata": {},
     "output_type": "display_data"
    },
    {
     "data": {
      "application/vnd.jupyter.widget-view+json": {
       "model_id": "9b92ae39043a491fa8f136d4731f5e92",
       "version_major": 2,
       "version_minor": 0
      },
      "text/plain": [
       "Validation:   0%|          | 0/77 [00:55<?, ?it/s]"
      ]
     },
     "metadata": {},
     "output_type": "display_data"
    },
    {
     "name": "stdout",
     "output_type": "stream",
     "text": [
      "[Epoch 7]\n",
      "[Train] Cost: -0.682408 | Noise Loss: -1.017955 | Frechet Loss: 0.248980 | FDE Loss: 0.086567 LR: 0.000100\n",
      "[Validation] Val Loss: -0.514655 | Noise: -0.834749 | Frechet: 0.230068 | FDE: 0.090026\n"
     ]
    },
    {
     "data": {
      "application/vnd.jupyter.widget-view+json": {
       "model_id": "979d51d6e8d845c99a56ea741fce8e79",
       "version_major": 2,
       "version_minor": 0
      },
      "text/plain": [
       "Batch Training...:   0%|          | 0/264 [00:55<?, ?it/s]"
      ]
     },
     "metadata": {},
     "output_type": "display_data"
    },
    {
     "data": {
      "application/vnd.jupyter.widget-view+json": {
       "model_id": "a55c6522245c4cb3a6ac067368bfcc3c",
       "version_major": 2,
       "version_minor": 0
      },
      "text/plain": [
       "Validation:   0%|          | 0/77 [00:54<?, ?it/s]"
      ]
     },
     "metadata": {},
     "output_type": "display_data"
    },
    {
     "name": "stdout",
     "output_type": "stream",
     "text": [
      "[Epoch 8]\n",
      "[Train] Cost: -0.739712 | Noise Loss: -1.063200 | Frechet Loss: 0.238397 | FDE Loss: 0.085092 LR: 0.000100\n",
      "[Validation] Val Loss: -0.452473 | Noise: -0.726155 | Frechet: 0.193101 | FDE: 0.080581\n"
     ]
    },
    {
     "data": {
      "application/vnd.jupyter.widget-view+json": {
       "model_id": "d73f8943c43a483880590b9730624393",
       "version_major": 2,
       "version_minor": 0
      },
      "text/plain": [
       "Batch Training...:   0%|          | 0/264 [00:55<?, ?it/s]"
      ]
     },
     "metadata": {},
     "output_type": "display_data"
    },
    {
     "data": {
      "application/vnd.jupyter.widget-view+json": {
       "model_id": "f89d1b03536342f5a1377b428041c177",
       "version_major": 2,
       "version_minor": 0
      },
      "text/plain": [
       "Validation:   0%|          | 0/77 [00:54<?, ?it/s]"
      ]
     },
     "metadata": {},
     "output_type": "display_data"
    },
    {
     "name": "stdout",
     "output_type": "stream",
     "text": [
      "[Epoch 9]\n",
      "[Train] Cost: -0.783322 | Noise Loss: -1.094228 | Frechet Loss: 0.229464 | FDE Loss: 0.081442 LR: 0.000100\n",
      "[Validation] Val Loss: -0.669831 | Noise: -0.952810 | Frechet: 0.199373 | FDE: 0.083605\n"
     ]
    },
    {
     "data": {
      "application/vnd.jupyter.widget-view+json": {
       "model_id": "a4c3a7d88495454286b964964f32d5e6",
       "version_major": 2,
       "version_minor": 0
      },
      "text/plain": [
       "Batch Training...:   0%|          | 0/264 [00:55<?, ?it/s]"
      ]
     },
     "metadata": {},
     "output_type": "display_data"
    },
    {
     "data": {
      "application/vnd.jupyter.widget-view+json": {
       "model_id": "a230a37c13fc4715beea4d85c0fd961e",
       "version_major": 2,
       "version_minor": 0
      },
      "text/plain": [
       "Validation:   0%|          | 0/77 [00:55<?, ?it/s]"
      ]
     },
     "metadata": {},
     "output_type": "display_data"
    },
    {
     "name": "stdout",
     "output_type": "stream",
     "text": [
      "[Epoch 10]\n",
      "[Train] Cost: -0.881608 | Noise Loss: -1.169299 | Frechet Loss: 0.210702 | FDE Loss: 0.076989 LR: 0.000100\n",
      "[Validation] Val Loss: -0.576599 | Noise: -0.867026 | Frechet: 0.207376 | FDE: 0.083051\n"
     ]
    },
    {
     "data": {
      "application/vnd.jupyter.widget-view+json": {
       "model_id": "163a7a8c19724991921f1498fe322a5b",
       "version_major": 2,
       "version_minor": 0
      },
      "text/plain": [
       "Batch Training...:   0%|          | 0/264 [00:55<?, ?it/s]"
      ]
     },
     "metadata": {},
     "output_type": "display_data"
    },
    {
     "data": {
      "application/vnd.jupyter.widget-view+json": {
       "model_id": "4743e01dad1e4d04affca4072fd8487f",
       "version_major": 2,
       "version_minor": 0
      },
      "text/plain": [
       "Validation:   0%|          | 0/77 [00:56<?, ?it/s]"
      ]
     },
     "metadata": {},
     "output_type": "display_data"
    },
    {
     "name": "stdout",
     "output_type": "stream",
     "text": [
      "[Epoch 11]\n",
      "[Train] Cost: -0.914725 | Noise Loss: -1.212314 | Frechet Loss: 0.218895 | FDE Loss: 0.078694 LR: 0.000100\n",
      "[Validation] Val Loss: -0.647067 | Noise: -0.930733 | Frechet: 0.201961 | FDE: 0.081706\n"
     ]
    },
    {
     "data": {
      "application/vnd.jupyter.widget-view+json": {
       "model_id": "86251cba82ed4fb48f10edb32468249f",
       "version_major": 2,
       "version_minor": 0
      },
      "text/plain": [
       "Batch Training...:   0%|          | 0/264 [00:55<?, ?it/s]"
      ]
     },
     "metadata": {},
     "output_type": "display_data"
    },
    {
     "data": {
      "application/vnd.jupyter.widget-view+json": {
       "model_id": "4611f28685c0488aadf72dda4697b552",
       "version_major": 2,
       "version_minor": 0
      },
      "text/plain": [
       "Validation:   0%|          | 0/77 [00:56<?, ?it/s]"
      ]
     },
     "metadata": {},
     "output_type": "display_data"
    },
    {
     "name": "stdout",
     "output_type": "stream",
     "text": [
      "[Epoch 12]\n",
      "[Train] Cost: -0.970932 | Noise Loss: -1.246008 | Frechet Loss: 0.201962 | FDE Loss: 0.073113 LR: 0.000100\n",
      "[Validation] Val Loss: -0.653716 | Noise: -0.936185 | Frechet: 0.197756 | FDE: 0.084714\n"
     ]
    },
    {
     "data": {
      "application/vnd.jupyter.widget-view+json": {
       "model_id": "c2ad2053950b4311841b54ed96c90700",
       "version_major": 2,
       "version_minor": 0
      },
      "text/plain": [
       "Batch Training...:   0%|          | 0/264 [00:54<?, ?it/s]"
      ]
     },
     "metadata": {},
     "output_type": "display_data"
    },
    {
     "data": {
      "application/vnd.jupyter.widget-view+json": {
       "model_id": "e58cb1df51a94ce0a198368cb9451958",
       "version_major": 2,
       "version_minor": 0
      },
      "text/plain": [
       "Validation:   0%|          | 0/77 [00:55<?, ?it/s]"
      ]
     },
     "metadata": {},
     "output_type": "display_data"
    },
    {
     "name": "stdout",
     "output_type": "stream",
     "text": [
      "[Epoch 13]\n",
      "[Train] Cost: -1.090868 | Noise Loss: -1.341759 | Frechet Loss: 0.183430 | FDE Loss: 0.067461 LR: 0.000050\n",
      "[Validation] Val Loss: -0.778439 | Noise: -1.040188 | Frechet: 0.183450 | FDE: 0.078299\n"
     ]
    },
    {
     "data": {
      "application/vnd.jupyter.widget-view+json": {
       "model_id": "fde12bc7467e44b5961cb93a923f40ce",
       "version_major": 2,
       "version_minor": 0
      },
      "text/plain": [
       "Batch Training...:   0%|          | 0/264 [00:53<?, ?it/s]"
      ]
     },
     "metadata": {},
     "output_type": "display_data"
    },
    {
     "data": {
      "application/vnd.jupyter.widget-view+json": {
       "model_id": "3757f548df26475981647339bfed90d6",
       "version_major": 2,
       "version_minor": 0
      },
      "text/plain": [
       "Validation:   0%|          | 0/77 [00:55<?, ?it/s]"
      ]
     },
     "metadata": {},
     "output_type": "display_data"
    },
    {
     "name": "stdout",
     "output_type": "stream",
     "text": [
      "[Epoch 14]\n",
      "[Train] Cost: -1.131490 | Noise Loss: -1.366414 | Frechet Loss: 0.170349 | FDE Loss: 0.064574 LR: 0.000050\n",
      "[Validation] Val Loss: -0.733234 | Noise: -0.979740 | Frechet: 0.171186 | FDE: 0.075320\n"
     ]
    },
    {
     "data": {
      "application/vnd.jupyter.widget-view+json": {
       "model_id": "98d153b1f0af4bb4bee7bbf25096902e",
       "version_major": 2,
       "version_minor": 0
      },
      "text/plain": [
       "Batch Training...:   0%|          | 0/264 [00:55<?, ?it/s]"
      ]
     },
     "metadata": {},
     "output_type": "display_data"
    },
    {
     "data": {
      "application/vnd.jupyter.widget-view+json": {
       "model_id": "63f3451a45294e5b9455e74d193d05cd",
       "version_major": 2,
       "version_minor": 0
      },
      "text/plain": [
       "Validation:   0%|          | 0/77 [00:56<?, ?it/s]"
      ]
     },
     "metadata": {},
     "output_type": "display_data"
    },
    {
     "name": "stdout",
     "output_type": "stream",
     "text": [
      "[Epoch 15]\n",
      "[Train] Cost: -1.132873 | Noise Loss: -1.354740 | Frechet Loss: 0.159891 | FDE Loss: 0.061976 LR: 0.000050\n",
      "[Validation] Val Loss: -0.793460 | Noise: -1.042108 | Frechet: 0.172696 | FDE: 0.075951\n"
     ]
    },
    {
     "data": {
      "application/vnd.jupyter.widget-view+json": {
       "model_id": "3723657832a449519a005d91ac352c81",
       "version_major": 2,
       "version_minor": 0
      },
      "text/plain": [
       "Batch Training...:   0%|          | 0/264 [00:55<?, ?it/s]"
      ]
     },
     "metadata": {},
     "output_type": "display_data"
    },
    {
     "data": {
      "application/vnd.jupyter.widget-view+json": {
       "model_id": "919b92fdd5184a29bab5e16bd628d4b3",
       "version_major": 2,
       "version_minor": 0
      },
      "text/plain": [
       "Validation:   0%|          | 0/77 [00:55<?, ?it/s]"
      ]
     },
     "metadata": {},
     "output_type": "display_data"
    },
    {
     "name": "stdout",
     "output_type": "stream",
     "text": [
      "[Epoch 16]\n",
      "[Train] Cost: -1.197687 | Noise Loss: -1.425194 | Frechet Loss: 0.165121 | FDE Loss: 0.062386 LR: 0.000050\n",
      "[Validation] Val Loss: -0.682655 | Noise: -0.922373 | Frechet: 0.163522 | FDE: 0.076196\n"
     ]
    },
    {
     "data": {
      "application/vnd.jupyter.widget-view+json": {
       "model_id": "9140435ff9724e29a850ef131616ed0a",
       "version_major": 2,
       "version_minor": 0
      },
      "text/plain": [
       "Batch Training...:   0%|          | 0/264 [00:56<?, ?it/s]"
      ]
     },
     "metadata": {},
     "output_type": "display_data"
    },
    {
     "data": {
      "application/vnd.jupyter.widget-view+json": {
       "model_id": "c8ca91a3886e41b39e5b62854b833488",
       "version_major": 2,
       "version_minor": 0
      },
      "text/plain": [
       "Validation:   0%|          | 0/77 [01:07<?, ?it/s]"
      ]
     },
     "metadata": {},
     "output_type": "display_data"
    },
    {
     "name": "stdout",
     "output_type": "stream",
     "text": [
      "[Epoch 17]\n",
      "[Train] Cost: -1.223641 | Noise Loss: -1.444113 | Frechet Loss: 0.159680 | FDE Loss: 0.060792 LR: 0.000050\n",
      "[Validation] Val Loss: -0.635851 | Noise: -0.885681 | Frechet: 0.172206 | FDE: 0.077625\n"
     ]
    },
    {
     "data": {
      "application/vnd.jupyter.widget-view+json": {
       "model_id": "24a7e0151de04468b55b1f3492bdef3d",
       "version_major": 2,
       "version_minor": 0
      },
      "text/plain": [
       "Batch Training...:   0%|          | 0/264 [00:58<?, ?it/s]"
      ]
     },
     "metadata": {},
     "output_type": "display_data"
    },
    {
     "data": {
      "application/vnd.jupyter.widget-view+json": {
       "model_id": "2c2f47f7a715432daeeeb39f19d2e93e",
       "version_major": 2,
       "version_minor": 0
      },
      "text/plain": [
       "Validation:   0%|          | 0/77 [01:06<?, ?it/s]"
      ]
     },
     "metadata": {},
     "output_type": "display_data"
    },
    {
     "name": "stdout",
     "output_type": "stream",
     "text": [
      "[Epoch 18]\n",
      "[Train] Cost: -1.253018 | Noise Loss: -1.468145 | Frechet Loss: 0.155535 | FDE Loss: 0.059592 LR: 0.000050\n",
      "[Validation] Val Loss: -0.740066 | Noise: -0.971657 | Frechet: 0.158380 | FDE: 0.073211\n"
     ]
    },
    {
     "data": {
      "application/vnd.jupyter.widget-view+json": {
       "model_id": "54b0641f0b2848d78683a610cf1118e7",
       "version_major": 2,
       "version_minor": 0
      },
      "text/plain": [
       "Batch Training...:   0%|          | 0/264 [00:56<?, ?it/s]"
      ]
     },
     "metadata": {},
     "output_type": "display_data"
    },
    {
     "data": {
      "application/vnd.jupyter.widget-view+json": {
       "model_id": "c9b517473fe64f91ba4fe28b12fe3c6c",
       "version_major": 2,
       "version_minor": 0
      },
      "text/plain": [
       "Validation:   0%|          | 0/77 [01:05<?, ?it/s]"
      ]
     },
     "metadata": {},
     "output_type": "display_data"
    },
    {
     "name": "stdout",
     "output_type": "stream",
     "text": [
      "[Epoch 19]\n",
      "[Train] Cost: -1.283412 | Noise Loss: -1.478120 | Frechet Loss: 0.139613 | FDE Loss: 0.055096 LR: 0.000025\n",
      "[Validation] Val Loss: -0.800288 | Noise: -1.018375 | Frechet: 0.148335 | FDE: 0.069752\n"
     ]
    },
    {
     "data": {
      "application/vnd.jupyter.widget-view+json": {
       "model_id": "331ace17f11f4a17ae31aeea24c7a8f2",
       "version_major": 2,
       "version_minor": 0
      },
      "text/plain": [
       "Batch Training...:   0%|          | 0/264 [00:56<?, ?it/s]"
      ]
     },
     "metadata": {},
     "output_type": "display_data"
    },
    {
     "data": {
      "application/vnd.jupyter.widget-view+json": {
       "model_id": "b0c9ca5d848e48cdbde0dffadca0657b",
       "version_major": 2,
       "version_minor": 0
      },
      "text/plain": [
       "Validation:   0%|          | 0/77 [01:05<?, ?it/s]"
      ]
     },
     "metadata": {},
     "output_type": "display_data"
    },
    {
     "name": "stdout",
     "output_type": "stream",
     "text": [
      "[Epoch 20]\n",
      "[Train] Cost: -1.351177 | Noise Loss: -1.550036 | Frechet Loss: 0.143372 | FDE Loss: 0.055487 LR: 0.000025\n",
      "[Validation] Val Loss: -0.861436 | Noise: -1.082674 | Frechet: 0.151693 | FDE: 0.069545\n"
     ]
    },
    {
     "data": {
      "application/vnd.jupyter.widget-view+json": {
       "model_id": "fe5b7eb9b2fd459b907611b679abf7a3",
       "version_major": 2,
       "version_minor": 0
      },
      "text/plain": [
       "Batch Training...:   0%|          | 0/264 [00:57<?, ?it/s]"
      ]
     },
     "metadata": {},
     "output_type": "display_data"
    },
    {
     "data": {
      "application/vnd.jupyter.widget-view+json": {
       "model_id": "d19b3ca5b12a4381934a4af2703c205b",
       "version_major": 2,
       "version_minor": 0
      },
      "text/plain": [
       "Validation:   0%|          | 0/77 [01:08<?, ?it/s]"
      ]
     },
     "metadata": {},
     "output_type": "display_data"
    },
    {
     "name": "stdout",
     "output_type": "stream",
     "text": [
      "[Epoch 21]\n",
      "[Train] Cost: -1.340233 | Noise Loss: -1.533155 | Frechet Loss: 0.138078 | FDE Loss: 0.054844 LR: 0.000025\n",
      "[Validation] Val Loss: -0.715444 | Noise: -0.927987 | Frechet: 0.144192 | FDE: 0.068351\n"
     ]
    },
    {
     "data": {
      "application/vnd.jupyter.widget-view+json": {
       "model_id": "51b8d5513c9c4d0a87978c3a3b30639b",
       "version_major": 2,
       "version_minor": 0
      },
      "text/plain": [
       "Batch Training...:   0%|          | 0/264 [00:57<?, ?it/s]"
      ]
     },
     "metadata": {},
     "output_type": "display_data"
    },
    {
     "data": {
      "application/vnd.jupyter.widget-view+json": {
       "model_id": "c13cd042b2134043bb0c21a4079b9d4f",
       "version_major": 2,
       "version_minor": 0
      },
      "text/plain": [
       "Validation:   0%|          | 0/77 [01:06<?, ?it/s]"
      ]
     },
     "metadata": {},
     "output_type": "display_data"
    },
    {
     "name": "stdout",
     "output_type": "stream",
     "text": [
      "[Epoch 22]\n",
      "[Train] Cost: -1.352620 | Noise Loss: -1.542745 | Frechet Loss: 0.136154 | FDE Loss: 0.053972 LR: 0.000025\n",
      "[Validation] Val Loss: -0.701862 | Noise: -0.914496 | Frechet: 0.144756 | FDE: 0.067878\n"
     ]
    },
    {
     "data": {
      "application/vnd.jupyter.widget-view+json": {
       "model_id": "6df8d01501b04ea0af1d981c505b7131",
       "version_major": 2,
       "version_minor": 0
      },
      "text/plain": [
       "Batch Training...:   0%|          | 0/264 [01:39<?, ?it/s]"
      ]
     },
     "metadata": {},
     "output_type": "display_data"
    },
    {
     "data": {
      "application/vnd.jupyter.widget-view+json": {
       "model_id": "30f876064a2846b09ff2f6eb0c875b67",
       "version_major": 2,
       "version_minor": 0
      },
      "text/plain": [
       "Validation:   0%|          | 0/77 [01:03<?, ?it/s]"
      ]
     },
     "metadata": {},
     "output_type": "display_data"
    },
    {
     "name": "stdout",
     "output_type": "stream",
     "text": [
      "[Epoch 23]\n",
      "[Train] Cost: -1.375837 | Noise Loss: -1.564741 | Frechet Loss: 0.135593 | FDE Loss: 0.053311 LR: 0.000025\n",
      "[Validation] Val Loss: -0.854327 | Noise: -1.074483 | Frechet: 0.149116 | FDE: 0.071040\n"
     ]
    },
    {
     "data": {
      "application/vnd.jupyter.widget-view+json": {
       "model_id": "d7b0412f62b24edd8987edd684f37455",
       "version_major": 2,
       "version_minor": 0
      },
      "text/plain": [
       "Batch Training...:   0%|          | 0/264 [00:56<?, ?it/s]"
      ]
     },
     "metadata": {},
     "output_type": "display_data"
    },
    {
     "data": {
      "application/vnd.jupyter.widget-view+json": {
       "model_id": "e54d9f91039c400aa0f2a1c426018441",
       "version_major": 2,
       "version_minor": 0
      },
      "text/plain": [
       "Validation:   0%|          | 0/77 [01:06<?, ?it/s]"
      ]
     },
     "metadata": {},
     "output_type": "display_data"
    },
    {
     "name": "stdout",
     "output_type": "stream",
     "text": [
      "[Epoch 24]\n",
      "[Train] Cost: -1.412803 | Noise Loss: -1.596755 | Frechet Loss: 0.131590 | FDE Loss: 0.052362 LR: 0.000013\n",
      "[Validation] Val Loss: -0.780437 | Noise: -0.989660 | Frechet: 0.141471 | FDE: 0.067752\n"
     ]
    },
    {
     "data": {
      "application/vnd.jupyter.widget-view+json": {
       "model_id": "b8d0da91379341b9b17b23f201836f01",
       "version_major": 2,
       "version_minor": 0
      },
      "text/plain": [
       "Batch Training...:   0%|          | 0/264 [00:58<?, ?it/s]"
      ]
     },
     "metadata": {},
     "output_type": "display_data"
    },
    {
     "data": {
      "application/vnd.jupyter.widget-view+json": {
       "model_id": "2ecb227e263649b2bb9e072962c948a3",
       "version_major": 2,
       "version_minor": 0
      },
      "text/plain": [
       "Validation:   0%|          | 0/77 [01:05<?, ?it/s]"
      ]
     },
     "metadata": {},
     "output_type": "display_data"
    },
    {
     "name": "stdout",
     "output_type": "stream",
     "text": [
      "[Epoch 25]\n",
      "[Train] Cost: -1.419854 | Noise Loss: -1.601308 | Frechet Loss: 0.129716 | FDE Loss: 0.051738 LR: 0.000013\n",
      "[Validation] Val Loss: -0.807755 | Noise: -1.014826 | Frechet: 0.139961 | FDE: 0.067110\n"
     ]
    },
    {
     "data": {
      "application/vnd.jupyter.widget-view+json": {
       "model_id": "08beb1ec685d4d0197d2268d7d5163ff",
       "version_major": 2,
       "version_minor": 0
      },
      "text/plain": [
       "Batch Training...:   0%|          | 0/264 [01:00<?, ?it/s]"
      ]
     },
     "metadata": {},
     "output_type": "display_data"
    },
    {
     "data": {
      "application/vnd.jupyter.widget-view+json": {
       "model_id": "06b5146574f94add916b0f143b7bfe37",
       "version_major": 2,
       "version_minor": 0
      },
      "text/plain": [
       "Validation:   0%|          | 0/77 [01:04<?, ?it/s]"
      ]
     },
     "metadata": {},
     "output_type": "display_data"
    },
    {
     "name": "stdout",
     "output_type": "stream",
     "text": [
      "[Epoch 26]\n",
      "[Train] Cost: -1.438757 | Noise Loss: -1.620317 | Frechet Loss: 0.130092 | FDE Loss: 0.051467 LR: 0.000013\n",
      "[Validation] Val Loss: -0.796569 | Noise: -1.005769 | Frechet: 0.140883 | FDE: 0.068316\n"
     ]
    },
    {
     "data": {
      "application/vnd.jupyter.widget-view+json": {
       "model_id": "dfaf756592f445698c97f79d6b6a16c2",
       "version_major": 2,
       "version_minor": 0
      },
      "text/plain": [
       "Batch Training...:   0%|          | 0/264 [00:58<?, ?it/s]"
      ]
     },
     "metadata": {},
     "output_type": "display_data"
    },
    {
     "data": {
      "application/vnd.jupyter.widget-view+json": {
       "model_id": "00ad87788a044342b9393c398e9360b1",
       "version_major": 2,
       "version_minor": 0
      },
      "text/plain": [
       "Validation:   0%|          | 0/77 [01:05<?, ?it/s]"
      ]
     },
     "metadata": {},
     "output_type": "display_data"
    },
    {
     "name": "stdout",
     "output_type": "stream",
     "text": [
      "[Epoch 27]\n",
      "[Train] Cost: -1.458523 | Noise Loss: -1.640488 | Frechet Loss: 0.130643 | FDE Loss: 0.051321 LR: 0.000006\n",
      "[Validation] Val Loss: -0.795852 | Noise: -1.002080 | Frechet: 0.139006 | FDE: 0.067222\n"
     ]
    },
    {
     "data": {
      "application/vnd.jupyter.widget-view+json": {
       "model_id": "907f3f855ea441879e53cd0148773c28",
       "version_major": 2,
       "version_minor": 0
      },
      "text/plain": [
       "Batch Training...:   0%|          | 0/264 [00:59<?, ?it/s]"
      ]
     },
     "metadata": {},
     "output_type": "display_data"
    },
    {
     "data": {
      "application/vnd.jupyter.widget-view+json": {
       "model_id": "591bae2a5af344b2bd921ae9b22d7aed",
       "version_major": 2,
       "version_minor": 0
      },
      "text/plain": [
       "Validation:   0%|          | 0/77 [01:04<?, ?it/s]"
      ]
     },
     "metadata": {},
     "output_type": "display_data"
    },
    {
     "name": "stdout",
     "output_type": "stream",
     "text": [
      "[Epoch 28]\n",
      "[Train] Cost: -1.458501 | Noise Loss: -1.634942 | Frechet Loss: 0.125499 | FDE Loss: 0.050942 LR: 0.000006\n",
      "[Validation] Val Loss: -0.811538 | Noise: -1.020256 | Frechet: 0.141456 | FDE: 0.067263\n"
     ]
    },
    {
     "data": {
      "application/vnd.jupyter.widget-view+json": {
       "model_id": "273cd440e1344743b29512af82e67f0a",
       "version_major": 2,
       "version_minor": 0
      },
      "text/plain": [
       "Batch Training...:   0%|          | 0/264 [00:59<?, ?it/s]"
      ]
     },
     "metadata": {},
     "output_type": "display_data"
    },
    {
     "data": {
      "application/vnd.jupyter.widget-view+json": {
       "model_id": "c3251560b0bd4b609c8806cc06702f86",
       "version_major": 2,
       "version_minor": 0
      },
      "text/plain": [
       "Validation:   0%|          | 0/77 [01:04<?, ?it/s]"
      ]
     },
     "metadata": {},
     "output_type": "display_data"
    },
    {
     "name": "stdout",
     "output_type": "stream",
     "text": [
      "[Epoch 29]\n",
      "[Train] Cost: -1.473226 | Noise Loss: -1.650689 | Frechet Loss: 0.126846 | FDE Loss: 0.050618 LR: 0.000006\n",
      "[Validation] Val Loss: -0.804130 | Noise: -1.011212 | Frechet: 0.139451 | FDE: 0.067631\n"
     ]
    },
    {
     "data": {
      "application/vnd.jupyter.widget-view+json": {
       "model_id": "de4379ef79ec4e199b3a4cca222f2d78",
       "version_major": 2,
       "version_minor": 0
      },
      "text/plain": [
       "Batch Training...:   0%|          | 0/264 [00:59<?, ?it/s]"
      ]
     },
     "metadata": {},
     "output_type": "display_data"
    },
    {
     "data": {
      "application/vnd.jupyter.widget-view+json": {
       "model_id": "465121a0cac74d7c8faddf82436153f9",
       "version_major": 2,
       "version_minor": 0
      },
      "text/plain": [
       "Validation:   0%|          | 0/77 [01:04<?, ?it/s]"
      ]
     },
     "metadata": {},
     "output_type": "display_data"
    },
    {
     "name": "stdout",
     "output_type": "stream",
     "text": [
      "[Epoch 30]\n",
      "[Train] Cost: -1.466183 | Noise Loss: -1.642020 | Frechet Loss: 0.125457 | FDE Loss: 0.050380 LR: 0.000003\n",
      "[Validation] Val Loss: -0.746084 | Noise: -0.944767 | Frechet: 0.132690 | FDE: 0.065992\n"
     ]
    },
    {
     "data": {
      "application/vnd.jupyter.widget-view+json": {
       "model_id": "782dc36facf94966897ad43bfae4c023",
       "version_major": 2,
       "version_minor": 0
      },
      "text/plain": [
       "Batch Training...:   0%|          | 0/264 [01:00<?, ?it/s]"
      ]
     },
     "metadata": {},
     "output_type": "display_data"
    },
    {
     "data": {
      "application/vnd.jupyter.widget-view+json": {
       "model_id": "77e70a31dec7400a989dfdeaba27f970",
       "version_major": 2,
       "version_minor": 0
      },
      "text/plain": [
       "Validation:   0%|          | 0/77 [01:06<?, ?it/s]"
      ]
     },
     "metadata": {},
     "output_type": "display_data"
    },
    {
     "name": "stdout",
     "output_type": "stream",
     "text": [
      "[Epoch 31]\n",
      "[Train] Cost: -1.469402 | Noise Loss: -1.642827 | Frechet Loss: 0.123342 | FDE Loss: 0.050083 LR: 0.000003\n",
      "[Validation] Val Loss: -0.812675 | Noise: -1.019072 | Frechet: 0.139281 | FDE: 0.067116\n"
     ]
    },
    {
     "data": {
      "application/vnd.jupyter.widget-view+json": {
       "model_id": "2128b0bca437490ba87a9e990e64cbe3",
       "version_major": 2,
       "version_minor": 0
      },
      "text/plain": [
       "Batch Training...:   0%|          | 0/264 [01:03<?, ?it/s]"
      ]
     },
     "metadata": {},
     "output_type": "display_data"
    },
    {
     "data": {
      "application/vnd.jupyter.widget-view+json": {
       "model_id": "bfe279c767ab491c8ba1a1aaf88109df",
       "version_major": 2,
       "version_minor": 0
      },
      "text/plain": [
       "Validation:   0%|          | 0/77 [01:05<?, ?it/s]"
      ]
     },
     "metadata": {},
     "output_type": "display_data"
    },
    {
     "name": "stdout",
     "output_type": "stream",
     "text": [
      "[Epoch 32]\n",
      "[Train] Cost: -1.439210 | Noise Loss: -1.610396 | Frechet Loss: 0.121720 | FDE Loss: 0.049466 LR: 0.000003\n",
      "[Validation] Val Loss: -0.778187 | Noise: -0.982257 | Frechet: 0.137938 | FDE: 0.066131\n"
     ]
    },
    {
     "data": {
      "application/vnd.jupyter.widget-view+json": {
       "model_id": "457599b7e4d14b668a40faf9ab7c1ff6",
       "version_major": 2,
       "version_minor": 0
      },
      "text/plain": [
       "Batch Training...:   0%|          | 0/264 [01:02<?, ?it/s]"
      ]
     },
     "metadata": {},
     "output_type": "display_data"
    },
    {
     "data": {
      "application/vnd.jupyter.widget-view+json": {
       "model_id": "f8d16602484e4e30adb059edf911da50",
       "version_major": 2,
       "version_minor": 0
      },
      "text/plain": [
       "Validation:   0%|          | 0/77 [01:04<?, ?it/s]"
      ]
     },
     "metadata": {},
     "output_type": "display_data"
    },
    {
     "name": "stdout",
     "output_type": "stream",
     "text": [
      "[Epoch 33]\n",
      "[Train] Cost: -1.467563 | Noise Loss: -1.637561 | Frechet Loss: 0.120619 | FDE Loss: 0.049380 LR: 0.000002\n",
      "[Validation] Val Loss: -0.780895 | Noise: -0.981992 | Frechet: 0.134629 | FDE: 0.066468\n"
     ]
    },
    {
     "data": {
      "application/vnd.jupyter.widget-view+json": {
       "model_id": "60d195efccf04bc194dda40d621f7f78",
       "version_major": 2,
       "version_minor": 0
      },
      "text/plain": [
       "Batch Training...:   0%|          | 0/264 [01:01<?, ?it/s]"
      ]
     },
     "metadata": {},
     "output_type": "display_data"
    },
    {
     "data": {
      "application/vnd.jupyter.widget-view+json": {
       "model_id": "26b2ffa0793143308bba1616214ff0e0",
       "version_major": 2,
       "version_minor": 0
      },
      "text/plain": [
       "Validation:   0%|          | 0/77 [01:05<?, ?it/s]"
      ]
     },
     "metadata": {},
     "output_type": "display_data"
    },
    {
     "name": "stdout",
     "output_type": "stream",
     "text": [
      "[Epoch 34]\n",
      "[Train] Cost: -1.482609 | Noise Loss: -1.657224 | Frechet Loss: 0.124433 | FDE Loss: 0.050182 LR: 0.000002\n",
      "[Validation] Val Loss: -0.751550 | Noise: -0.950098 | Frechet: 0.132721 | FDE: 0.065827\n"
     ]
    },
    {
     "data": {
      "application/vnd.jupyter.widget-view+json": {
       "model_id": "208f5a5651a84aeb9d8901c2969fb333",
       "version_major": 2,
       "version_minor": 0
      },
      "text/plain": [
       "Batch Training...:   0%|          | 0/264 [01:00<?, ?it/s]"
      ]
     },
     "metadata": {},
     "output_type": "display_data"
    },
    {
     "data": {
      "application/vnd.jupyter.widget-view+json": {
       "model_id": "563ae4279ab8459885b12fd12ea786b7",
       "version_major": 2,
       "version_minor": 0
      },
      "text/plain": [
       "Validation:   0%|          | 0/77 [01:04<?, ?it/s]"
      ]
     },
     "metadata": {},
     "output_type": "display_data"
    },
    {
     "name": "stdout",
     "output_type": "stream",
     "text": [
      "[Epoch 35]\n",
      "[Train] Cost: -1.455259 | Noise Loss: -1.625655 | Frechet Loss: 0.121127 | FDE Loss: 0.049269 LR: 0.000002\n",
      "[Validation] Val Loss: -0.781013 | Noise: -0.979596 | Frechet: 0.132843 | FDE: 0.065739\n"
     ]
    },
    {
     "data": {
      "application/vnd.jupyter.widget-view+json": {
       "model_id": "15c10296791142558ecfa0745de922f9",
       "version_major": 2,
       "version_minor": 0
      },
      "text/plain": [
       "Batch Training...:   0%|          | 0/264 [01:01<?, ?it/s]"
      ]
     },
     "metadata": {},
     "output_type": "display_data"
    },
    {
     "data": {
      "application/vnd.jupyter.widget-view+json": {
       "model_id": "c7282c338e024591871377b13034dfbc",
       "version_major": 2,
       "version_minor": 0
      },
      "text/plain": [
       "Validation:   0%|          | 0/77 [01:05<?, ?it/s]"
      ]
     },
     "metadata": {},
     "output_type": "display_data"
    },
    {
     "name": "stdout",
     "output_type": "stream",
     "text": [
      "[Epoch 36]\n",
      "[Train] Cost: -1.457479 | Noise Loss: -1.629250 | Frechet Loss: 0.122112 | FDE Loss: 0.049660 LR: 0.000001\n",
      "[Validation] Val Loss: -0.692590 | Noise: -0.890858 | Frechet: 0.133468 | FDE: 0.064800\n"
     ]
    },
    {
     "data": {
      "application/vnd.jupyter.widget-view+json": {
       "model_id": "b7b06d8440434ab7ae95a6a03db47fec",
       "version_major": 2,
       "version_minor": 0
      },
      "text/plain": [
       "Batch Training...:   0%|          | 0/264 [01:04<?, ?it/s]"
      ]
     },
     "metadata": {},
     "output_type": "display_data"
    },
    {
     "data": {
      "application/vnd.jupyter.widget-view+json": {
       "model_id": "fd5dc81e33384acd9ed4c3261c726eef",
       "version_major": 2,
       "version_minor": 0
      },
      "text/plain": [
       "Validation:   0%|          | 0/77 [01:06<?, ?it/s]"
      ]
     },
     "metadata": {},
     "output_type": "display_data"
    },
    {
     "name": "stdout",
     "output_type": "stream",
     "text": [
      "[Epoch 37]\n",
      "[Train] Cost: -1.486829 | Noise Loss: -1.661080 | Frechet Loss: 0.124494 | FDE Loss: 0.049757 LR: 0.000001\n",
      "[Validation] Val Loss: -0.718185 | Noise: -0.915579 | Frechet: 0.132202 | FDE: 0.065192\n"
     ]
    },
    {
     "data": {
      "application/vnd.jupyter.widget-view+json": {
       "model_id": "6bc38ab46b164439936d89e58c6cd850",
       "version_major": 2,
       "version_minor": 0
      },
      "text/plain": [
       "Batch Training...:   0%|          | 0/264 [01:02<?, ?it/s]"
      ]
     },
     "metadata": {},
     "output_type": "display_data"
    },
    {
     "data": {
      "application/vnd.jupyter.widget-view+json": {
       "model_id": "70f932c1c7994c10a46e2e3c5103ab8d",
       "version_major": 2,
       "version_minor": 0
      },
      "text/plain": [
       "Validation:   0%|          | 0/77 [00:59<?, ?it/s]"
      ]
     },
     "metadata": {},
     "output_type": "display_data"
    },
    {
     "name": "stdout",
     "output_type": "stream",
     "text": [
      "[Epoch 38]\n",
      "[Train] Cost: -1.457526 | Noise Loss: -1.630214 | Frechet Loss: 0.123446 | FDE Loss: 0.049242 LR: 0.000001\n",
      "[Validation] Val Loss: -0.771113 | Noise: -0.973734 | Frechet: 0.136336 | FDE: 0.066285\n"
     ]
    },
    {
     "data": {
      "application/vnd.jupyter.widget-view+json": {
       "model_id": "fa92527bed814f2884c930a2daf398d6",
       "version_major": 2,
       "version_minor": 0
      },
      "text/plain": [
       "Batch Training...:   0%|          | 0/264 [01:04<?, ?it/s]"
      ]
     },
     "metadata": {},
     "output_type": "display_data"
    },
    {
     "name": "stderr",
     "output_type": "stream",
     "text": [
      "Traceback (most recent call last):\n",
      "  File \"<string>\", line 1, in <module>\n",
      "  File \"/home/park/anaconda3/envs/SoccerTraj/lib/python3.10/multiprocessing/spawn.py\", line 116, in spawn_main\n",
      "    exitcode = _main(fd, parent_sentinel)\n",
      "  File \"/home/park/anaconda3/envs/SoccerTraj/lib/python3.10/multiprocessing/spawn.py\", line 126, in _main\n",
      "    self = reduction.pickle.load(from_parent)\n",
      "  File \"/home/park/workspace/SportsScience/Soccer-Trajectory-Prediction/make_dataset.py\", line 15, in <module>\n",
      "    from utils.utils import calc_velocites, correct_all_player_jumps_adjacent\n",
      "  File \"/home/park/workspace/SportsScience/Soccer-Trajectory-Prediction/utils/utils.py\", line 232, in <module>\n",
      "    from soft_dtw import SoftDTW\n",
      "ModuleNotFoundError: No module named 'soft_dtw'\n"
     ]
    }
   ],
   "source": [
    "\n",
    "# 4. Train\n",
    "best_state_dict = None\n",
    "best_val_loss = float(\"inf\")\n",
    "\n",
    "train_losses = []\n",
    "val_losses   = []\n",
    "\n",
    "for epoch in tqdm(range(1, epochs + 1), desc=\"Training...\"):\n",
    "    model.train()\n",
    "    train_noise_loss = 0\n",
    "    # train_mse_loss = 0\n",
    "    train_dtw_loss = 0\n",
    "    train_fde_loss = 0\n",
    "    train_loss = 0\n",
    "\n",
    "    for batch in tqdm(train_dataloader, desc = \"Batch Training...\"):\n",
    "        optimizer.zero_grad()\n",
    "        cond = batch[\"condition\"].to(device)\n",
    "        B, T, _ = cond.shape\n",
    "        target = batch[\"target\"].to(device).view(-1, T, 11, 2)  # [B, T, 11, 2]\n",
    "        graph_batch = batch[\"graph\"].to(device)                              # HeteroData batch\n",
    "\n",
    "        # graph → H\n",
    "        H = graph_encoder(graph_batch)                                       # [B, 128]\n",
    "        cond_H = H.unsqueeze(-1).unsqueeze(-1).expand(-1, H.size(1), 11, T)\n",
    "        \n",
    "        # Target's history trajectories\n",
    "        hist = cond[:, :, target_idx].to(device) \n",
    "        hist_rep = history_encoder(hist)  # [B, 128]\n",
    "        cond_hist = hist_rep.unsqueeze(-1).unsqueeze(-1).expand(-1, H.size(1), 11, T)\n",
    "        \n",
    "        # Concat conditions\n",
    "        cond_info = torch.cat([cond_H, cond_hist], dim=1)\n",
    "        # Preparing Self-conditioning data\n",
    "        if torch.rand(1, device=device) < self_conditioning_ratio:\n",
    "            s = torch.zeros_like(target)\n",
    "        else:\n",
    "            with torch.no_grad():\n",
    "                t = torch.randint(0, model.num_steps, (target.size(0),), device=device)\n",
    "                x_t, noise = model.q_sample(target, t)\n",
    "                x_t = x_t.permute(0,3,2,1)\n",
    "                \n",
    "                z1 = model.model(x_t, t, cond_info, self_cond=None)\n",
    "                \n",
    "                eps_pred1 = z1[:, :2, :, :]\n",
    "                a_hat = model.alpha_hat.to(device)[t].view(-1,1,1,1)\n",
    "                x0_hat = (x_t - (1 - a_hat).sqrt() * eps_pred1) / a_hat.sqrt()\n",
    "                x0_hat = x0_hat.permute(0,3,2,1)\n",
    "                \n",
    "            s = x0_hat\n",
    "        \n",
    "        # noise_loss, player_loss_mse, player_loss_frechet = model(target, cond_info=cond_info, self_cond=s)\n",
    "        # loss = noise_loss + player_loss_mse + player_loss_frechet * 0.2\n",
    "        noise_loss, player_loss_dtw, player_loss_fde = model(target, cond_info=cond_info, self_cond=s)\n",
    "        loss = noise_loss + player_loss_dtw + player_loss_fde\n",
    "            \n",
    "        optimizer.zero_grad()\n",
    "        loss.backward()\n",
    "        optimizer.step()\n",
    "\n",
    "        train_noise_loss += (noise_loss).item()\n",
    "        # train_mse_loss += (player_loss_mse).item()\n",
    "        train_dtw_loss += (player_loss_dtw).item()\n",
    "        train_fde_loss += (player_loss_fde).item()\n",
    "        train_loss += loss.item()\n",
    "\n",
    "    num_batches = len(train_dataloader)\n",
    "    \n",
    "    avg_noise_loss = train_noise_loss / num_batches\n",
    "    # avg_mse_loss = train_mse_loss / num_batches\n",
    "    avg_dtw_loss = train_dtw_loss / num_batches\n",
    "    avg_fde_loss = train_fde_loss / num_batches\n",
    "    avg_train_loss = train_loss / num_batches\n",
    "\n",
    "\n",
    "    # --- Validation ---\n",
    "    model.eval()\n",
    "    val_noise_loss = 0\n",
    "    # val_mse_loss = 0\n",
    "    val_dtw_loss = 0\n",
    "    val_fde_loss = 0\n",
    "    val_total_loss = 0\n",
    "\n",
    "    with torch.no_grad():\n",
    "        for batch in tqdm(val_dataloader, desc=\"Validation\"):\n",
    "            cond = batch[\"condition\"].to(device)\n",
    "            B, T, _ = cond.shape\n",
    "            target = batch[\"target\"].to(device).view(-1, T, 11, 2)  # [B, T, 11, 2]\n",
    "            graph_batch = batch[\"graph\"].to(device)                              # HeteroData batch\n",
    "\n",
    "            # graph → H\n",
    "            H = graph_encoder(graph_batch)                                       # [B, 128]\n",
    "            cond_H = H.unsqueeze(-1).unsqueeze(-1).expand(-1, H.size(1), 11, T)\n",
    "            \n",
    "            # Target's history trajectories\n",
    "            hist = cond[:, :, target_idx].to(device)  # [B,128,11,T]\n",
    "            hist_rep = history_encoder(hist)  # [B, 128]\n",
    "            cond_hist = hist_rep.unsqueeze(-1).unsqueeze(-1).expand(-1, H.size(1), 11, T)\n",
    "            \n",
    "            # Concat conditions\n",
    "            cond_info = torch.cat([cond_H, cond_hist], dim=1)\n",
    "            \n",
    "            s = torch.zeros_like(target)\n",
    "            \n",
    "            # noise_loss, player_loss_mse, player_loss_frechet = model(target, cond_info=cond_info, self_cond=s)\n",
    "            # val_loss = noise_loss + player_loss_mse + player_loss_frechet * 0.2\n",
    "            noise_loss, player_loss_dtw, player_loss_fde = model(target, cond_info=cond_info, self_cond=s)\n",
    "            val_loss = noise_loss + player_loss_dtw + player_loss_fde\n",
    "        \n",
    "            val_noise_loss += (noise_loss).item()\n",
    "            # val_mse_loss += (player_loss_mse).item()\n",
    "            val_dtw_loss += (player_loss_dtw).item()\n",
    "            val_fde_loss += (player_loss_fde).item()\n",
    "            val_total_loss += val_loss.item()\n",
    "\n",
    "    avg_val_noise_loss = val_noise_loss / len(val_dataloader)\n",
    "    # avg_val_mse_loss = val_mse_loss / len(val_dataloader)\n",
    "    avg_val_dtw_loss = val_dtw_loss / len(val_dataloader)\n",
    "    avg_val_fde_loss = val_fde_loss / len(val_dataloader)\n",
    "    avg_val_loss = val_total_loss / len(val_dataloader)\n",
    "  \n",
    "    train_losses.append(avg_train_loss)\n",
    "    val_losses.append(avg_val_loss)\n",
    "    \n",
    "    current_lr = scheduler.get_last_lr()[0]\n",
    "    logger.info(f\"[Epoch {epoch}/{epochs}] Train Loss={avg_train_loss:.6f} (Noise={avg_noise_loss:.6f}, DTW={avg_dtw_loss:.6f}, FDE={avg_fde_loss:.6f}) | Val Loss={avg_val_loss:.6f} | LR={current_lr:.6e}\")\n",
    "    \n",
    "    tqdm.write(f\"[Epoch {epoch}]\\n\"\n",
    "               f\"[Train] Cost: {avg_train_loss:.6f} | Noise Loss: {avg_noise_loss:.6f} | DTW Loss: {avg_dtw_loss:.6f} | FDE Loss: {avg_fde_loss:.6f} LR: {current_lr:.6f}\\n\"\n",
    "               f\"[Validation] Val Loss: {avg_val_loss:.6f} | Noise: {avg_val_noise_loss:.6f} | DTW: {avg_val_dtw_loss:.6f} | FDE: {avg_val_fde_loss:.6f}\")\n",
    "    \n",
    "    scheduler.step(avg_val_loss)\n",
    "    if avg_val_loss < best_val_loss:\n",
    "        best_val_loss = avg_val_loss\n",
    "        best_state_dict = model.state_dict()\n",
    "\n",
    "logger.info(f\"Training complete. Best val loss: {best_val_loss:.6f}\")\n",
    "        \n",
    "# 4-1. Plot learning_curve\n",
    "plt.figure(figsize=(8, 6))\n",
    "plt.plot(range(1, epochs+1), train_losses, label='Train Loss')\n",
    "plt.plot(range(1, epochs+1), val_losses, label='Val Loss')\n",
    "plt.xlabel('Epoch')\n",
    "plt.ylabel('Loss')\n",
    "plt.title(f\"Train & Validation Loss, {csdi_config['num_steps']} steps, {csdi_config['channels']} channels, \"\n",
    "          f\"{csdi_config['diffusion_embedding_dim']} embedding dim, {csdi_config['nheads']} heads, {csdi_config['layers']} layers \"\n",
    "          f\"self-conditioning ratio: {self_conditioning_ratio}\")\n",
    "plt.legend()\n",
    "plt.tight_layout()\n",
    "\n",
    "plt.savefig('results/0512_diffusion_lr_curve.png')\n",
    "\n",
    "plt.show()\n"
   ]
  },
  {
   "cell_type": "code",
   "execution_count": null,
   "metadata": {},
   "outputs": [
    {
     "data": {
      "application/vnd.jupyter.widget-view+json": {
       "model_id": "eb1301f3c8674d54bce5bd77972b4caf",
       "version_major": 2,
       "version_minor": 0
      },
      "text/plain": [
       "Test Streaming Inference:   0%|          | 0/98 [00:56<?, ?it/s]"
      ]
     },
     "metadata": {},
     "output_type": "display_data"
    },
    {
     "data": {
      "application/vnd.jupyter.widget-view+json": {
       "model_id": "2936de2e1fdb42a6a30b6e998c2cad61",
       "version_major": 2,
       "version_minor": 0
      },
      "text/plain": [
       "Generating...:   0%|          | 0/10 [00:00<?, ?it/s]"
      ]
     },
     "metadata": {},
     "output_type": "display_data"
    },
    {
     "name": "stdout",
     "output_type": "stream",
     "text": [
      "[47.12474060058594, 48.35272216796875, 47.058170318603516, 48.267372131347656, 48.18181610107422, 48.32517623901367, 47.882080078125, 47.73262405395508, 48.303955078125, 47.62089538574219, 47.876163482666016, 48.19601058959961, 48.23334503173828, 48.0052490234375, 48.99375915527344, 48.5924072265625]\n",
      "[52.43627166748047, 53.271663665771484, 57.27537536621094, 49.59867858886719, 48.58372116088867, 47.1732292175293, 51.14168167114258, 62.31167984008789, 62.052852630615234, 38.381710052490234, 51.8764762878418, 47.30390167236328, 44.88669967651367, 42.53123092651367, 47.781394958496094, 59.682098388671875]\n"
     ]
    },
    {
     "data": {
      "application/vnd.jupyter.widget-view+json": {
       "model_id": "f2b61d216bfd40a186ff1ba8ba302cde",
       "version_major": 2,
       "version_minor": 0
      },
      "text/plain": [
       "Generating...:   0%|          | 0/10 [00:00<?, ?it/s]"
      ]
     },
     "metadata": {},
     "output_type": "display_data"
    },
    {
     "data": {
      "application/vnd.jupyter.widget-view+json": {
       "model_id": "c1c7a941aae74ae2b616328302b696e1",
       "version_major": 2,
       "version_minor": 0
      },
      "text/plain": [
       "Generating...:   0%|          | 0/10 [00:00<?, ?it/s]"
      ]
     },
     "metadata": {},
     "output_type": "display_data"
    },
    {
     "data": {
      "application/vnd.jupyter.widget-view+json": {
       "model_id": "0f98622c32ef44d985a74fecc13e0c31",
       "version_major": 2,
       "version_minor": 0
      },
      "text/plain": [
       "Generating...:   0%|          | 0/10 [00:00<?, ?it/s]"
      ]
     },
     "metadata": {},
     "output_type": "display_data"
    },
    {
     "data": {
      "application/vnd.jupyter.widget-view+json": {
       "model_id": "6d851b94bd3e4f07bb9634257b5bb6a2",
       "version_major": 2,
       "version_minor": 0
      },
      "text/plain": [
       "Generating...:   0%|          | 0/10 [00:00<?, ?it/s]"
      ]
     },
     "metadata": {},
     "output_type": "display_data"
    },
    {
     "data": {
      "application/vnd.jupyter.widget-view+json": {
       "model_id": "c21720cb4cf240d991dabc8d27c5a8c1",
       "version_major": 2,
       "version_minor": 0
      },
      "text/plain": [
       "Generating...:   0%|          | 0/10 [00:00<?, ?it/s]"
      ]
     },
     "metadata": {},
     "output_type": "display_data"
    },
    {
     "data": {
      "application/vnd.jupyter.widget-view+json": {
       "model_id": "9198b7bd98b4404881b0ffbd1af2c6ab",
       "version_major": 2,
       "version_minor": 0
      },
      "text/plain": [
       "Generating...:   0%|          | 0/10 [00:00<?, ?it/s]"
      ]
     },
     "metadata": {},
     "output_type": "display_data"
    },
    {
     "data": {
      "application/vnd.jupyter.widget-view+json": {
       "model_id": "8a1e69b1f45b431a9f3e3e3d86d57282",
       "version_major": 2,
       "version_minor": 0
      },
      "text/plain": [
       "Generating...:   0%|          | 0/10 [00:00<?, ?it/s]"
      ]
     },
     "metadata": {},
     "output_type": "display_data"
    },
    {
     "data": {
      "application/vnd.jupyter.widget-view+json": {
       "model_id": "abdae63b383c4ac6b55a65f883796141",
       "version_major": 2,
       "version_minor": 0
      },
      "text/plain": [
       "Generating...:   0%|          | 0/10 [00:00<?, ?it/s]"
      ]
     },
     "metadata": {},
     "output_type": "display_data"
    },
    {
     "data": {
      "application/vnd.jupyter.widget-view+json": {
       "model_id": "cd1f2b4e34e34abbb00f3d4cb0da8b18",
       "version_major": 2,
       "version_minor": 0
      },
      "text/plain": [
       "Generating...:   0%|          | 0/10 [00:00<?, ?it/s]"
      ]
     },
     "metadata": {},
     "output_type": "display_data"
    },
    {
     "data": {
      "application/vnd.jupyter.widget-view+json": {
       "model_id": "8098a26caf754fbca629a222f98382fc",
       "version_major": 2,
       "version_minor": 0
      },
      "text/plain": [
       "Generating...:   0%|          | 0/10 [00:00<?, ?it/s]"
      ]
     },
     "metadata": {},
     "output_type": "display_data"
    },
    {
     "data": {
      "application/vnd.jupyter.widget-view+json": {
       "model_id": "8945990db1f54c8cb4f73b7725f70a0a",
       "version_major": 2,
       "version_minor": 0
      },
      "text/plain": [
       "Generating...:   0%|          | 0/10 [00:00<?, ?it/s]"
      ]
     },
     "metadata": {},
     "output_type": "display_data"
    },
    {
     "data": {
      "application/vnd.jupyter.widget-view+json": {
       "model_id": "e1a101527b08452592a9e9008d630af3",
       "version_major": 2,
       "version_minor": 0
      },
      "text/plain": [
       "Generating...:   0%|          | 0/10 [00:00<?, ?it/s]"
      ]
     },
     "metadata": {},
     "output_type": "display_data"
    },
    {
     "data": {
      "application/vnd.jupyter.widget-view+json": {
       "model_id": "118d972a6ce44f05a09fb3a3a2b16b72",
       "version_major": 2,
       "version_minor": 0
      },
      "text/plain": [
       "Generating...:   0%|          | 0/10 [00:00<?, ?it/s]"
      ]
     },
     "metadata": {},
     "output_type": "display_data"
    },
    {
     "data": {
      "application/vnd.jupyter.widget-view+json": {
       "model_id": "a0c00ec1843e4245aac666716b595c67",
       "version_major": 2,
       "version_minor": 0
      },
      "text/plain": [
       "Generating...:   0%|          | 0/10 [00:00<?, ?it/s]"
      ]
     },
     "metadata": {},
     "output_type": "display_data"
    },
    {
     "data": {
      "application/vnd.jupyter.widget-view+json": {
       "model_id": "d59ccddfc075413699e0b9d01f95168a",
       "version_major": 2,
       "version_minor": 0
      },
      "text/plain": [
       "Generating...:   0%|          | 0/10 [00:00<?, ?it/s]"
      ]
     },
     "metadata": {},
     "output_type": "display_data"
    },
    {
     "data": {
      "application/vnd.jupyter.widget-view+json": {
       "model_id": "290348b57b764c8f976750c5e3bcd2c7",
       "version_major": 2,
       "version_minor": 0
      },
      "text/plain": [
       "Generating...:   0%|          | 0/10 [00:00<?, ?it/s]"
      ]
     },
     "metadata": {},
     "output_type": "display_data"
    },
    {
     "data": {
      "application/vnd.jupyter.widget-view+json": {
       "model_id": "f3e191b5faf84a0185a9f74f4dff6f38",
       "version_major": 2,
       "version_minor": 0
      },
      "text/plain": [
       "Generating...:   0%|          | 0/10 [00:00<?, ?it/s]"
      ]
     },
     "metadata": {},
     "output_type": "display_data"
    },
    {
     "data": {
      "application/vnd.jupyter.widget-view+json": {
       "model_id": "d016399f239d462fbecaffde9dc0818f",
       "version_major": 2,
       "version_minor": 0
      },
      "text/plain": [
       "Generating...:   0%|          | 0/10 [00:00<?, ?it/s]"
      ]
     },
     "metadata": {},
     "output_type": "display_data"
    },
    {
     "data": {
      "application/vnd.jupyter.widget-view+json": {
       "model_id": "50d82360013a4eacb2a62931278120f7",
       "version_major": 2,
       "version_minor": 0
      },
      "text/plain": [
       "Generating...:   0%|          | 0/10 [00:00<?, ?it/s]"
      ]
     },
     "metadata": {},
     "output_type": "display_data"
    },
    {
     "data": {
      "application/vnd.jupyter.widget-view+json": {
       "model_id": "5a76828e5d004e84a5fc68f2c888417c",
       "version_major": 2,
       "version_minor": 0
      },
      "text/plain": [
       "Generating...:   0%|          | 0/10 [00:00<?, ?it/s]"
      ]
     },
     "metadata": {},
     "output_type": "display_data"
    },
    {
     "data": {
      "application/vnd.jupyter.widget-view+json": {
       "model_id": "c722ca6e99e2441e8f62aeb9f7c8c44c",
       "version_major": 2,
       "version_minor": 0
      },
      "text/plain": [
       "Generating...:   0%|          | 0/10 [00:00<?, ?it/s]"
      ]
     },
     "metadata": {},
     "output_type": "display_data"
    },
    {
     "data": {
      "application/vnd.jupyter.widget-view+json": {
       "model_id": "5820bdb3af1c4790ad83e0b99b845b50",
       "version_major": 2,
       "version_minor": 0
      },
      "text/plain": [
       "Generating...:   0%|          | 0/10 [00:00<?, ?it/s]"
      ]
     },
     "metadata": {},
     "output_type": "display_data"
    },
    {
     "data": {
      "application/vnd.jupyter.widget-view+json": {
       "model_id": "01431fce7e2e4419a9be3727b32f4785",
       "version_major": 2,
       "version_minor": 0
      },
      "text/plain": [
       "Generating...:   0%|          | 0/10 [00:00<?, ?it/s]"
      ]
     },
     "metadata": {},
     "output_type": "display_data"
    },
    {
     "data": {
      "application/vnd.jupyter.widget-view+json": {
       "model_id": "52b9129121be4c259fd18ebbf5ad2b33",
       "version_major": 2,
       "version_minor": 0
      },
      "text/plain": [
       "Generating...:   0%|          | 0/10 [00:00<?, ?it/s]"
      ]
     },
     "metadata": {},
     "output_type": "display_data"
    },
    {
     "data": {
      "application/vnd.jupyter.widget-view+json": {
       "model_id": "ff9e383c1ae34d9fb3ba0d2e15aea876",
       "version_major": 2,
       "version_minor": 0
      },
      "text/plain": [
       "Generating...:   0%|          | 0/10 [00:00<?, ?it/s]"
      ]
     },
     "metadata": {},
     "output_type": "display_data"
    },
    {
     "data": {
      "application/vnd.jupyter.widget-view+json": {
       "model_id": "8c486d53e8ac40a6aa0a062232c3743d",
       "version_major": 2,
       "version_minor": 0
      },
      "text/plain": [
       "Generating...:   0%|          | 0/10 [00:00<?, ?it/s]"
      ]
     },
     "metadata": {},
     "output_type": "display_data"
    },
    {
     "data": {
      "application/vnd.jupyter.widget-view+json": {
       "model_id": "b9c5297741e74d429cbb6ef6f2edc198",
       "version_major": 2,
       "version_minor": 0
      },
      "text/plain": [
       "Generating...:   0%|          | 0/10 [00:00<?, ?it/s]"
      ]
     },
     "metadata": {},
     "output_type": "display_data"
    },
    {
     "data": {
      "application/vnd.jupyter.widget-view+json": {
       "model_id": "621e58e4b5e84f7b84c1cb59a467293d",
       "version_major": 2,
       "version_minor": 0
      },
      "text/plain": [
       "Generating...:   0%|          | 0/10 [00:00<?, ?it/s]"
      ]
     },
     "metadata": {},
     "output_type": "display_data"
    },
    {
     "data": {
      "application/vnd.jupyter.widget-view+json": {
       "model_id": "e41dcc8db16f44a1ab05dab08ad5b868",
       "version_major": 2,
       "version_minor": 0
      },
      "text/plain": [
       "Generating...:   0%|          | 0/10 [00:00<?, ?it/s]"
      ]
     },
     "metadata": {},
     "output_type": "display_data"
    },
    {
     "data": {
      "application/vnd.jupyter.widget-view+json": {
       "model_id": "5111e72abc36474199ddddcbe48cbff7",
       "version_major": 2,
       "version_minor": 0
      },
      "text/plain": [
       "Generating...:   0%|          | 0/10 [00:00<?, ?it/s]"
      ]
     },
     "metadata": {},
     "output_type": "display_data"
    },
    {
     "data": {
      "application/vnd.jupyter.widget-view+json": {
       "model_id": "56f4d87e4d73460493a627ecd5b77e1a",
       "version_major": 2,
       "version_minor": 0
      },
      "text/plain": [
       "Generating...:   0%|          | 0/10 [00:00<?, ?it/s]"
      ]
     },
     "metadata": {},
     "output_type": "display_data"
    },
    {
     "data": {
      "application/vnd.jupyter.widget-view+json": {
       "model_id": "5d6a1dedfb3441c884910501409b56b0",
       "version_major": 2,
       "version_minor": 0
      },
      "text/plain": [
       "Generating...:   0%|          | 0/10 [00:00<?, ?it/s]"
      ]
     },
     "metadata": {},
     "output_type": "display_data"
    },
    {
     "data": {
      "application/vnd.jupyter.widget-view+json": {
       "model_id": "5483c5efcf0f44a78af43f9c260cf3ad",
       "version_major": 2,
       "version_minor": 0
      },
      "text/plain": [
       "Generating...:   0%|          | 0/10 [00:00<?, ?it/s]"
      ]
     },
     "metadata": {},
     "output_type": "display_data"
    },
    {
     "data": {
      "application/vnd.jupyter.widget-view+json": {
       "model_id": "88bbca21259a4f138fde6aeec2af45d7",
       "version_major": 2,
       "version_minor": 0
      },
      "text/plain": [
       "Generating...:   0%|          | 0/10 [00:00<?, ?it/s]"
      ]
     },
     "metadata": {},
     "output_type": "display_data"
    },
    {
     "data": {
      "application/vnd.jupyter.widget-view+json": {
       "model_id": "7419c014224340eea7b7c38de6153520",
       "version_major": 2,
       "version_minor": 0
      },
      "text/plain": [
       "Generating...:   0%|          | 0/10 [00:00<?, ?it/s]"
      ]
     },
     "metadata": {},
     "output_type": "display_data"
    },
    {
     "data": {
      "application/vnd.jupyter.widget-view+json": {
       "model_id": "32ad40520f0a4d0098923dd37f998431",
       "version_major": 2,
       "version_minor": 0
      },
      "text/plain": [
       "Generating...:   0%|          | 0/10 [00:00<?, ?it/s]"
      ]
     },
     "metadata": {},
     "output_type": "display_data"
    },
    {
     "data": {
      "application/vnd.jupyter.widget-view+json": {
       "model_id": "500c4b81cef54f139944c86b16bc0f8d",
       "version_major": 2,
       "version_minor": 0
      },
      "text/plain": [
       "Generating...:   0%|          | 0/10 [00:00<?, ?it/s]"
      ]
     },
     "metadata": {},
     "output_type": "display_data"
    },
    {
     "data": {
      "application/vnd.jupyter.widget-view+json": {
       "model_id": "1197f599e6db46a790cedae6da88f210",
       "version_major": 2,
       "version_minor": 0
      },
      "text/plain": [
       "Generating...:   0%|          | 0/10 [00:00<?, ?it/s]"
      ]
     },
     "metadata": {},
     "output_type": "display_data"
    },
    {
     "data": {
      "application/vnd.jupyter.widget-view+json": {
       "model_id": "03b91cf9914843e7872436cc9134ec63",
       "version_major": 2,
       "version_minor": 0
      },
      "text/plain": [
       "Generating...:   0%|          | 0/10 [00:00<?, ?it/s]"
      ]
     },
     "metadata": {},
     "output_type": "display_data"
    },
    {
     "data": {
      "application/vnd.jupyter.widget-view+json": {
       "model_id": "9f1f304fc6ec46e097b103c4c443e46a",
       "version_major": 2,
       "version_minor": 0
      },
      "text/plain": [
       "Generating...:   0%|          | 0/10 [00:00<?, ?it/s]"
      ]
     },
     "metadata": {},
     "output_type": "display_data"
    },
    {
     "data": {
      "application/vnd.jupyter.widget-view+json": {
       "model_id": "f0530b7b510b438897e68a4139d61ed3",
       "version_major": 2,
       "version_minor": 0
      },
      "text/plain": [
       "Generating...:   0%|          | 0/10 [00:00<?, ?it/s]"
      ]
     },
     "metadata": {},
     "output_type": "display_data"
    },
    {
     "data": {
      "application/vnd.jupyter.widget-view+json": {
       "model_id": "9bb8d12257504b1f91dd8c6bcb5b3e6b",
       "version_major": 2,
       "version_minor": 0
      },
      "text/plain": [
       "Generating...:   0%|          | 0/10 [00:00<?, ?it/s]"
      ]
     },
     "metadata": {},
     "output_type": "display_data"
    },
    {
     "data": {
      "application/vnd.jupyter.widget-view+json": {
       "model_id": "77e0254fc6584400a81ed0f1a9cf3af4",
       "version_major": 2,
       "version_minor": 0
      },
      "text/plain": [
       "Generating...:   0%|          | 0/10 [00:00<?, ?it/s]"
      ]
     },
     "metadata": {},
     "output_type": "display_data"
    },
    {
     "data": {
      "application/vnd.jupyter.widget-view+json": {
       "model_id": "25df9002f2124e4a8f06ff7a556e3ab9",
       "version_major": 2,
       "version_minor": 0
      },
      "text/plain": [
       "Generating...:   0%|          | 0/10 [00:00<?, ?it/s]"
      ]
     },
     "metadata": {},
     "output_type": "display_data"
    },
    {
     "data": {
      "application/vnd.jupyter.widget-view+json": {
       "model_id": "e3c4b1fdf3ae462481c558200fadcd1c",
       "version_major": 2,
       "version_minor": 0
      },
      "text/plain": [
       "Generating...:   0%|          | 0/10 [00:00<?, ?it/s]"
      ]
     },
     "metadata": {},
     "output_type": "display_data"
    },
    {
     "data": {
      "application/vnd.jupyter.widget-view+json": {
       "model_id": "cf9170ab65b04b87bce74e8a40c9b96a",
       "version_major": 2,
       "version_minor": 0
      },
      "text/plain": [
       "Generating...:   0%|          | 0/10 [00:00<?, ?it/s]"
      ]
     },
     "metadata": {},
     "output_type": "display_data"
    },
    {
     "data": {
      "application/vnd.jupyter.widget-view+json": {
       "model_id": "822c7c55444346b2ae86ec3d248fc610",
       "version_major": 2,
       "version_minor": 0
      },
      "text/plain": [
       "Generating...:   0%|          | 0/10 [00:00<?, ?it/s]"
      ]
     },
     "metadata": {},
     "output_type": "display_data"
    },
    {
     "data": {
      "application/vnd.jupyter.widget-view+json": {
       "model_id": "583048e7f2bc420b9b8a13ceaebe05d1",
       "version_major": 2,
       "version_minor": 0
      },
      "text/plain": [
       "Generating...:   0%|          | 0/10 [00:00<?, ?it/s]"
      ]
     },
     "metadata": {},
     "output_type": "display_data"
    },
    {
     "data": {
      "application/vnd.jupyter.widget-view+json": {
       "model_id": "2e03a82837a543a0bb4c9e633618f783",
       "version_major": 2,
       "version_minor": 0
      },
      "text/plain": [
       "Generating...:   0%|          | 0/10 [00:00<?, ?it/s]"
      ]
     },
     "metadata": {},
     "output_type": "display_data"
    },
    {
     "data": {
      "application/vnd.jupyter.widget-view+json": {
       "model_id": "d962c0786caf458ca75fff6283e56f78",
       "version_major": 2,
       "version_minor": 0
      },
      "text/plain": [
       "Generating...:   0%|          | 0/10 [00:00<?, ?it/s]"
      ]
     },
     "metadata": {},
     "output_type": "display_data"
    },
    {
     "data": {
      "application/vnd.jupyter.widget-view+json": {
       "model_id": "eca5d87b39f74d1890dc72f462264d6e",
       "version_major": 2,
       "version_minor": 0
      },
      "text/plain": [
       "Generating...:   0%|          | 0/10 [00:00<?, ?it/s]"
      ]
     },
     "metadata": {},
     "output_type": "display_data"
    },
    {
     "data": {
      "application/vnd.jupyter.widget-view+json": {
       "model_id": "13a985e0b9d645e9b5db597de0ef7be4",
       "version_major": 2,
       "version_minor": 0
      },
      "text/plain": [
       "Generating...:   0%|          | 0/10 [00:00<?, ?it/s]"
      ]
     },
     "metadata": {},
     "output_type": "display_data"
    },
    {
     "data": {
      "application/vnd.jupyter.widget-view+json": {
       "model_id": "7b71b72946f74297a94a70865c527cac",
       "version_major": 2,
       "version_minor": 0
      },
      "text/plain": [
       "Generating...:   0%|          | 0/10 [00:00<?, ?it/s]"
      ]
     },
     "metadata": {},
     "output_type": "display_data"
    },
    {
     "data": {
      "application/vnd.jupyter.widget-view+json": {
       "model_id": "e479c334fa9f4ff1aaff6ee852f9239b",
       "version_major": 2,
       "version_minor": 0
      },
      "text/plain": [
       "Generating...:   0%|          | 0/10 [00:00<?, ?it/s]"
      ]
     },
     "metadata": {},
     "output_type": "display_data"
    },
    {
     "data": {
      "application/vnd.jupyter.widget-view+json": {
       "model_id": "a45ed505abd649f8a8aeb63c16cc2781",
       "version_major": 2,
       "version_minor": 0
      },
      "text/plain": [
       "Generating...:   0%|          | 0/10 [00:00<?, ?it/s]"
      ]
     },
     "metadata": {},
     "output_type": "display_data"
    },
    {
     "data": {
      "application/vnd.jupyter.widget-view+json": {
       "model_id": "5db08fcfc46a4b3e85480507e28243d9",
       "version_major": 2,
       "version_minor": 0
      },
      "text/plain": [
       "Generating...:   0%|          | 0/10 [00:00<?, ?it/s]"
      ]
     },
     "metadata": {},
     "output_type": "display_data"
    },
    {
     "data": {
      "application/vnd.jupyter.widget-view+json": {
       "model_id": "40e75667751b47b999001081031293be",
       "version_major": 2,
       "version_minor": 0
      },
      "text/plain": [
       "Generating...:   0%|          | 0/10 [00:00<?, ?it/s]"
      ]
     },
     "metadata": {},
     "output_type": "display_data"
    },
    {
     "data": {
      "application/vnd.jupyter.widget-view+json": {
       "model_id": "1f88787604b048dcbd20ce0231bda1f5",
       "version_major": 2,
       "version_minor": 0
      },
      "text/plain": [
       "Generating...:   0%|          | 0/10 [00:00<?, ?it/s]"
      ]
     },
     "metadata": {},
     "output_type": "display_data"
    },
    {
     "data": {
      "application/vnd.jupyter.widget-view+json": {
       "model_id": "c9b9a1c48cc248bcb628549dbc4684cd",
       "version_major": 2,
       "version_minor": 0
      },
      "text/plain": [
       "Generating...:   0%|          | 0/10 [00:00<?, ?it/s]"
      ]
     },
     "metadata": {},
     "output_type": "display_data"
    },
    {
     "data": {
      "application/vnd.jupyter.widget-view+json": {
       "model_id": "058f33cf18ec4a1d85fe9c5f69482a42",
       "version_major": 2,
       "version_minor": 0
      },
      "text/plain": [
       "Generating...:   0%|          | 0/10 [00:00<?, ?it/s]"
      ]
     },
     "metadata": {},
     "output_type": "display_data"
    },
    {
     "data": {
      "application/vnd.jupyter.widget-view+json": {
       "model_id": "5f6b75046f3341be8cad65b7d7a53c6a",
       "version_major": 2,
       "version_minor": 0
      },
      "text/plain": [
       "Generating...:   0%|          | 0/10 [00:00<?, ?it/s]"
      ]
     },
     "metadata": {},
     "output_type": "display_data"
    },
    {
     "data": {
      "application/vnd.jupyter.widget-view+json": {
       "model_id": "0819f45129f04633bec1549e1426d805",
       "version_major": 2,
       "version_minor": 0
      },
      "text/plain": [
       "Generating...:   0%|          | 0/10 [00:00<?, ?it/s]"
      ]
     },
     "metadata": {},
     "output_type": "display_data"
    },
    {
     "data": {
      "application/vnd.jupyter.widget-view+json": {
       "model_id": "ed47f2294d0f4ddf8564c3b0812988c2",
       "version_major": 2,
       "version_minor": 0
      },
      "text/plain": [
       "Generating...:   0%|          | 0/10 [00:00<?, ?it/s]"
      ]
     },
     "metadata": {},
     "output_type": "display_data"
    },
    {
     "data": {
      "application/vnd.jupyter.widget-view+json": {
       "model_id": "3c28f82be0e6476e882953009149175b",
       "version_major": 2,
       "version_minor": 0
      },
      "text/plain": [
       "Generating...:   0%|          | 0/10 [00:00<?, ?it/s]"
      ]
     },
     "metadata": {},
     "output_type": "display_data"
    },
    {
     "data": {
      "application/vnd.jupyter.widget-view+json": {
       "model_id": "e6cad669dfa34931afad5bead256a941",
       "version_major": 2,
       "version_minor": 0
      },
      "text/plain": [
       "Generating...:   0%|          | 0/10 [00:00<?, ?it/s]"
      ]
     },
     "metadata": {},
     "output_type": "display_data"
    },
    {
     "data": {
      "application/vnd.jupyter.widget-view+json": {
       "model_id": "f48c0cdde07b468bae8aed43c7dbecf7",
       "version_major": 2,
       "version_minor": 0
      },
      "text/plain": [
       "Generating...:   0%|          | 0/10 [00:00<?, ?it/s]"
      ]
     },
     "metadata": {},
     "output_type": "display_data"
    },
    {
     "data": {
      "application/vnd.jupyter.widget-view+json": {
       "model_id": "a2ef07c59e114e4fb6277933ad50f5a1",
       "version_major": 2,
       "version_minor": 0
      },
      "text/plain": [
       "Generating...:   0%|          | 0/10 [00:00<?, ?it/s]"
      ]
     },
     "metadata": {},
     "output_type": "display_data"
    },
    {
     "data": {
      "application/vnd.jupyter.widget-view+json": {
       "model_id": "bf833d105b034da68cd29984766cb70b",
       "version_major": 2,
       "version_minor": 0
      },
      "text/plain": [
       "Generating...:   0%|          | 0/10 [00:00<?, ?it/s]"
      ]
     },
     "metadata": {},
     "output_type": "display_data"
    },
    {
     "data": {
      "application/vnd.jupyter.widget-view+json": {
       "model_id": "f666d65e0d5247688d69b089e849607a",
       "version_major": 2,
       "version_minor": 0
      },
      "text/plain": [
       "Generating...:   0%|          | 0/10 [00:00<?, ?it/s]"
      ]
     },
     "metadata": {},
     "output_type": "display_data"
    },
    {
     "data": {
      "application/vnd.jupyter.widget-view+json": {
       "model_id": "e69f256ebd004582a01e8a966603866b",
       "version_major": 2,
       "version_minor": 0
      },
      "text/plain": [
       "Generating...:   0%|          | 0/10 [00:00<?, ?it/s]"
      ]
     },
     "metadata": {},
     "output_type": "display_data"
    },
    {
     "data": {
      "application/vnd.jupyter.widget-view+json": {
       "model_id": "76b99e8c20f94bb8b9c526a484b418fa",
       "version_major": 2,
       "version_minor": 0
      },
      "text/plain": [
       "Generating...:   0%|          | 0/10 [00:00<?, ?it/s]"
      ]
     },
     "metadata": {},
     "output_type": "display_data"
    },
    {
     "data": {
      "application/vnd.jupyter.widget-view+json": {
       "model_id": "487376431346402791cc8d4e5a916e2c",
       "version_major": 2,
       "version_minor": 0
      },
      "text/plain": [
       "Generating...:   0%|          | 0/10 [00:00<?, ?it/s]"
      ]
     },
     "metadata": {},
     "output_type": "display_data"
    },
    {
     "data": {
      "application/vnd.jupyter.widget-view+json": {
       "model_id": "4bf0409f3964469d8702ded661d485f8",
       "version_major": 2,
       "version_minor": 0
      },
      "text/plain": [
       "Generating...:   0%|          | 0/10 [00:00<?, ?it/s]"
      ]
     },
     "metadata": {},
     "output_type": "display_data"
    },
    {
     "data": {
      "application/vnd.jupyter.widget-view+json": {
       "model_id": "fe45ea05ac3945cc8a8d0726d284402c",
       "version_major": 2,
       "version_minor": 0
      },
      "text/plain": [
       "Generating...:   0%|          | 0/10 [00:00<?, ?it/s]"
      ]
     },
     "metadata": {},
     "output_type": "display_data"
    },
    {
     "data": {
      "application/vnd.jupyter.widget-view+json": {
       "model_id": "22b6d65004c04bca8d3cc059c10cdb3b",
       "version_major": 2,
       "version_minor": 0
      },
      "text/plain": [
       "Generating...:   0%|          | 0/10 [00:00<?, ?it/s]"
      ]
     },
     "metadata": {},
     "output_type": "display_data"
    },
    {
     "data": {
      "application/vnd.jupyter.widget-view+json": {
       "model_id": "690062c829fa488e9845cc1cd8f6a126",
       "version_major": 2,
       "version_minor": 0
      },
      "text/plain": [
       "Generating...:   0%|          | 0/10 [00:00<?, ?it/s]"
      ]
     },
     "metadata": {},
     "output_type": "display_data"
    },
    {
     "data": {
      "application/vnd.jupyter.widget-view+json": {
       "model_id": "eda0aec180ed4e28bfb66a87c6d966db",
       "version_major": 2,
       "version_minor": 0
      },
      "text/plain": [
       "Generating...:   0%|          | 0/10 [00:00<?, ?it/s]"
      ]
     },
     "metadata": {},
     "output_type": "display_data"
    },
    {
     "data": {
      "application/vnd.jupyter.widget-view+json": {
       "model_id": "63d07f2ded72473aa5b0d40eb2e5b2e1",
       "version_major": 2,
       "version_minor": 0
      },
      "text/plain": [
       "Generating...:   0%|          | 0/10 [00:00<?, ?it/s]"
      ]
     },
     "metadata": {},
     "output_type": "display_data"
    },
    {
     "data": {
      "application/vnd.jupyter.widget-view+json": {
       "model_id": "baf4ab00d6904ef7b5ecba8a7e713b76",
       "version_major": 2,
       "version_minor": 0
      },
      "text/plain": [
       "Generating...:   0%|          | 0/10 [00:00<?, ?it/s]"
      ]
     },
     "metadata": {},
     "output_type": "display_data"
    },
    {
     "data": {
      "application/vnd.jupyter.widget-view+json": {
       "model_id": "69472b3ceac54886b364a1fce844763c",
       "version_major": 2,
       "version_minor": 0
      },
      "text/plain": [
       "Generating...:   0%|          | 0/10 [00:00<?, ?it/s]"
      ]
     },
     "metadata": {},
     "output_type": "display_data"
    },
    {
     "data": {
      "application/vnd.jupyter.widget-view+json": {
       "model_id": "86d187eaf1614a798dfbe995be9590be",
       "version_major": 2,
       "version_minor": 0
      },
      "text/plain": [
       "Generating...:   0%|          | 0/10 [00:00<?, ?it/s]"
      ]
     },
     "metadata": {},
     "output_type": "display_data"
    },
    {
     "data": {
      "application/vnd.jupyter.widget-view+json": {
       "model_id": "8ef69b03f95145a9b227f917f8d1f66f",
       "version_major": 2,
       "version_minor": 0
      },
      "text/plain": [
       "Generating...:   0%|          | 0/10 [00:00<?, ?it/s]"
      ]
     },
     "metadata": {},
     "output_type": "display_data"
    },
    {
     "data": {
      "application/vnd.jupyter.widget-view+json": {
       "model_id": "d8d9dc2d6a9343f3af29669ad69ba184",
       "version_major": 2,
       "version_minor": 0
      },
      "text/plain": [
       "Generating...:   0%|          | 0/10 [00:00<?, ?it/s]"
      ]
     },
     "metadata": {},
     "output_type": "display_data"
    },
    {
     "data": {
      "application/vnd.jupyter.widget-view+json": {
       "model_id": "6486ac3caba845c9be6675d2167782f3",
       "version_major": 2,
       "version_minor": 0
      },
      "text/plain": [
       "Generating...:   0%|          | 0/10 [00:00<?, ?it/s]"
      ]
     },
     "metadata": {},
     "output_type": "display_data"
    },
    {
     "data": {
      "application/vnd.jupyter.widget-view+json": {
       "model_id": "3fddefc1aeda403188385fe3dfe1ba4b",
       "version_major": 2,
       "version_minor": 0
      },
      "text/plain": [
       "Generating...:   0%|          | 0/10 [00:00<?, ?it/s]"
      ]
     },
     "metadata": {},
     "output_type": "display_data"
    },
    {
     "data": {
      "application/vnd.jupyter.widget-view+json": {
       "model_id": "eee056a1e90d413fa672e1e458319cd3",
       "version_major": 2,
       "version_minor": 0
      },
      "text/plain": [
       "Generating...:   0%|          | 0/10 [00:00<?, ?it/s]"
      ]
     },
     "metadata": {},
     "output_type": "display_data"
    },
    {
     "data": {
      "application/vnd.jupyter.widget-view+json": {
       "model_id": "024198900167493dbb0ad1a2ca4a6c86",
       "version_major": 2,
       "version_minor": 0
      },
      "text/plain": [
       "Generating...:   0%|          | 0/10 [00:00<?, ?it/s]"
      ]
     },
     "metadata": {},
     "output_type": "display_data"
    },
    {
     "data": {
      "application/vnd.jupyter.widget-view+json": {
       "model_id": "70e96fe64b7d4cbd96f20aa66228dfcf",
       "version_major": 2,
       "version_minor": 0
      },
      "text/plain": [
       "Generating...:   0%|          | 0/10 [00:00<?, ?it/s]"
      ]
     },
     "metadata": {},
     "output_type": "display_data"
    },
    {
     "data": {
      "application/vnd.jupyter.widget-view+json": {
       "model_id": "72a848bee414415085d9961b071fcb0a",
       "version_major": 2,
       "version_minor": 0
      },
      "text/plain": [
       "Generating...:   0%|          | 0/10 [00:00<?, ?it/s]"
      ]
     },
     "metadata": {},
     "output_type": "display_data"
    },
    {
     "data": {
      "application/vnd.jupyter.widget-view+json": {
       "model_id": "8aa56060f16f4567bb84a230c1ac3708",
       "version_major": 2,
       "version_minor": 0
      },
      "text/plain": [
       "Generating...:   0%|          | 0/10 [00:00<?, ?it/s]"
      ]
     },
     "metadata": {},
     "output_type": "display_data"
    },
    {
     "data": {
      "application/vnd.jupyter.widget-view+json": {
       "model_id": "6406b5c8fec347eeb4bfa39a1382c6d6",
       "version_major": 2,
       "version_minor": 0
      },
      "text/plain": [
       "Generating...:   0%|          | 0/10 [00:00<?, ?it/s]"
      ]
     },
     "metadata": {},
     "output_type": "display_data"
    },
    {
     "data": {
      "application/vnd.jupyter.widget-view+json": {
       "model_id": "39bd88e693274de39104fc5661652098",
       "version_major": 2,
       "version_minor": 0
      },
      "text/plain": [
       "Generating...:   0%|          | 0/10 [00:00<?, ?it/s]"
      ]
     },
     "metadata": {},
     "output_type": "display_data"
    },
    {
     "data": {
      "application/vnd.jupyter.widget-view+json": {
       "model_id": "dfa834dc93a249329e22ce104779a3bc",
       "version_major": 2,
       "version_minor": 0
      },
      "text/plain": [
       "Generating...:   0%|          | 0/10 [00:00<?, ?it/s]"
      ]
     },
     "metadata": {},
     "output_type": "display_data"
    },
    {
     "data": {
      "application/vnd.jupyter.widget-view+json": {
       "model_id": "981dcd57699d4232b585c76cb2020b5d",
       "version_major": 2,
       "version_minor": 0
      },
      "text/plain": [
       "Generating...:   0%|          | 0/10 [00:00<?, ?it/s]"
      ]
     },
     "metadata": {},
     "output_type": "display_data"
    },
    {
     "data": {
      "application/vnd.jupyter.widget-view+json": {
       "model_id": "99107058e5ab469e8b240693b6e8b7b2",
       "version_major": 2,
       "version_minor": 0
      },
      "text/plain": [
       "Generating...:   0%|          | 0/10 [00:00<?, ?it/s]"
      ]
     },
     "metadata": {},
     "output_type": "display_data"
    },
    {
     "data": {
      "application/vnd.jupyter.widget-view+json": {
       "model_id": "0ae213b01e34456a8e1fae8a4d251f96",
       "version_major": 2,
       "version_minor": 0
      },
      "text/plain": [
       "Generating...:   0%|          | 0/10 [00:00<?, ?it/s]"
      ]
     },
     "metadata": {},
     "output_type": "display_data"
    },
    {
     "data": {
      "application/vnd.jupyter.widget-view+json": {
       "model_id": "1880dbb93eb0407fb1e3381dfa6e79a8",
       "version_major": 2,
       "version_minor": 0
      },
      "text/plain": [
       "Generating...:   0%|          | 0/10 [00:00<?, ?it/s]"
      ]
     },
     "metadata": {},
     "output_type": "display_data"
    },
    {
     "name": "stdout",
     "output_type": "stream",
     "text": [
      "[Test Best-of-10] Average ADE: 46.9732 | Average FDE: 47.3212\n",
      "[Test Best-of-10] Best ADE overall: 42.4612 | Best FDE overall: 22.6125\n"
     ]
    }
   ],
   "source": [
    "\n",
    "# 5. Inference (Best-of-N Sampling) & Visualization\n",
    "model.load_state_dict(best_state_dict)\n",
    "model.eval()\n",
    "all_best_ades_test = []\n",
    "all_best_fdes_test = []\n",
    "visualize_samples = 5\n",
    "visualized = False\n",
    "\n",
    "with torch.no_grad():\n",
    "    for batch in tqdm(test_dataloader, desc=\"Test Streaming Inference\"):\n",
    "        cond = batch[\"condition\"].to(device)\n",
    "        B, T, _ = cond.shape\n",
    "        target = batch[\"target\"].to(device).view(B, T, 11, 2)\n",
    "\n",
    "        graph_batch  = batch[\"graph\"].to(device)\n",
    "        H = graph_encoder(graph_batch)\n",
    "        cond_H = H.unsqueeze(-1).unsqueeze(-1).expand(-1, H.size(1), 11, T)\n",
    "        \n",
    "        hist = cond[:, :, target_idx].to(device)\n",
    "        hist_rep = history_encoder(hist)\n",
    "        cond_hist = hist_rep.unsqueeze(-1).unsqueeze(-1).expand(-1, H.size(1), 11, T)\n",
    "        cond_info = torch.cat([cond_H, cond_hist], dim=1)\n",
    "\n",
    "        best_ade_t = torch.full((B,), float(\"inf\"), device=device)\n",
    "        best_pred_t = torch.zeros_like(target)\n",
    "        best_fde_t = torch.full((B,), float(\"inf\"), device=device)\n",
    "                    \n",
    "        scales = torch.tensor(batch[\"pitch_scale\"], device=device, dtype=torch.float32)  \n",
    "        scales = scales.view(B, 1, 1, 2)\n",
    "\n",
    "        for _ in tqdm(range(num_samples), desc=\"Generating...\"):\n",
    "            pred_i = model.generate(shape=target.shape, cond_info=cond_info, ddim_steps=ddim_step, eta=eta, num_samples=1)[0]\n",
    "\n",
    "            pred_i_den = pred_i * scales\n",
    "            target_den = target * scales\n",
    "            \n",
    "            ade_i = ((pred_i_den - target_den)**2).sum(-1).sqrt().mean((1,2))\n",
    "            fde_i = ((pred_i_den[:,-1] - target_den[:,-1])**2).sum(-1).sqrt().mean(1)\n",
    "            \n",
    "            better = ade_i < best_ade_t\n",
    "            \n",
    "            best_pred_t[better] = pred_i_den[better]\n",
    "            best_ade_t[better] = ade_i[better]\n",
    "            best_fde_t[better] = fde_i[better]\n",
    "\n",
    "        all_best_ades_test.extend(best_ade_t.cpu().tolist())\n",
    "        all_best_fdes_test.extend(best_fde_t.cpu().tolist())\n",
    "\n",
    "        # Visualization\n",
    "        if not visualized:\n",
    "            base_dir = \"results/test_trajs\"\n",
    "            os.makedirs(base_dir, exist_ok=True)\n",
    "            for i in range(min(B, visualize_samples)):\n",
    "                sample_dir = os.path.join(base_dir, f\"sample{i:02d}\")\n",
    "                os.makedirs(sample_dir, exist_ok=True)\n",
    "                \n",
    "                other_cols  = batch[\"other_columns\"][i]\n",
    "                target_cols = batch[\"target_columns\"][i]\n",
    "                defender_nums = [int(col.split('_')[1]) for col in target_cols[::2]]\n",
    "\n",
    "                others_seq = batch[\"other\"][i].view(T, 12, 2).cpu().numpy()\n",
    "                target_traj = target_den[i].cpu().numpy()\n",
    "                pred_traj = best_pred_t[i].cpu().numpy()\n",
    "\n",
    "                for idx, jersey in enumerate(defender_nums):\n",
    "                    save_path = os.path.join(sample_dir, f\"player_{jersey:02d}.png\")\n",
    "                    plot_trajectories_on_pitch(others_seq, target_traj, pred_traj,\n",
    "                                               other_columns=other_cols, target_columns=target_cols,\n",
    "                                               player_idx=idx, annotate=True, save_path=save_path)\n",
    "\n",
    "            visualized = True\n",
    "\n",
    "avg_test_ade = np.mean(all_best_ades_test)\n",
    "avg_test_fde = np.mean(all_best_fdes_test)\n",
    "print(f\"[Test Best-of-{num_samples}] Average ADE: {avg_test_ade:.4f} | Average FDE: {avg_test_fde:.4f}\")\n",
    "print(f\"[Test Best-of-{num_samples}] Best ADE overall: {min(all_best_ades_test):.4f} | Best FDE overall: {min(all_best_fdes_test):.4f}\")\n"
   ]
  },
  {
   "cell_type": "code",
   "execution_count": null,
   "metadata": {},
   "outputs": [],
   "source": []
  }
 ],
 "metadata": {
  "kernelspec": {
   "display_name": "SoccerTraj",
   "language": "python",
   "name": "python3"
  },
  "language_info": {
   "codemirror_mode": {
    "name": "ipython",
    "version": 3
   },
   "file_extension": ".py",
   "mimetype": "text/x-python",
   "name": "python",
   "nbconvert_exporter": "python",
   "pygments_lexer": "ipython3",
   "version": "3.10.16"
  }
 },
 "nbformat": 4,
 "nbformat_minor": 2
}
